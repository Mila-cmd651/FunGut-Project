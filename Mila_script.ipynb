{
 "cells": [
  {
   "cell_type": "markdown",
   "id": "466bdd71-27ac-496b-925b-f6e185e61da0",
   "metadata": {},
   "source": [
    "# 0 Setup"
   ]
  },
  {
   "cell_type": "code",
   "execution_count": 36,
   "id": "978853b0-02fc-4a97-b07a-bbf9dd06aab8",
   "metadata": {
    "tags": []
   },
   "outputs": [],
   "source": [
    "# importing all required packages at the start of the notebook\n",
    "import IPython\n",
    "import os\n",
    "import pandas as pd\n",
    "from qiime2 import Visualization\n",
    "import matplotlib.pyplot as plt\n",
    "import numpy as np\n",
    "\n",
    "%matplotlib inline"
   ]
  },
  {
   "cell_type": "code",
   "execution_count": 2,
   "id": "6a5c69b1-c8d3-482a-af7d-04ee265507c2",
   "metadata": {
    "tags": []
   },
   "outputs": [
    {
     "data": {
      "text/plain": [
       "'/home/jovyan/assignments/FunGut-Project'"
      ]
     },
     "execution_count": 2,
     "metadata": {},
     "output_type": "execute_result"
    }
   ],
   "source": [
    "os.getcwd() #Get the working directory"
   ]
  },
  {
   "cell_type": "code",
   "execution_count": 3,
   "id": "7df0410c-3e05-4014-ad63-08a4170907a7",
   "metadata": {
    "tags": []
   },
   "outputs": [],
   "source": [
    "data_dir = \"/home/jovyan/assignments/FunGut-Project\" #Store the folder's path"
   ]
  },
  {
   "cell_type": "markdown",
   "id": "dab1c9af-03e1-4fe7-b97d-49d3a0322c14",
   "metadata": {},
   "source": [
    "# 1 Importing the data"
   ]
  },
  {
   "cell_type": "code",
   "execution_count": 4,
   "id": "3505b07c-e706-48ab-b392-3c7bd6060de1",
   "metadata": {
    "tags": []
   },
   "outputs": [
    {
     "name": "stdout",
     "output_type": "stream",
     "text": [
      "--2025-10-06 15:23:31--  https://polybox.ethz.ch/index.php/s/uV06vmm96ZzB5eM/download/fungut_forward_reads.qza\n",
      "Resolving polybox.ethz.ch (polybox.ethz.ch)... 129.132.71.243\n",
      "Connecting to polybox.ethz.ch (polybox.ethz.ch)|129.132.71.243|:443... connected.\n",
      "HTTP request sent, awaiting response... 200 OK\n",
      "Length: 712595535 (680M) [application/octet-stream]\n",
      "Saving to: ‘fungut_forward_reads.qza’\n",
      "\n",
      "fungut_forward_read 100%[===================>] 679.58M   277MB/s    in 2.5s    \n",
      "\n",
      "2025-10-06 15:23:34 (277 MB/s) - ‘fungut_forward_reads.qza’ saved [712595535/712595535]\n",
      "\n",
      "--2025-10-06 15:23:35--  https://polybox.ethz.ch/index.php/s/CA76kKFC9FApqpR/download/fungut_metadata.tsv\n",
      "Resolving polybox.ethz.ch (polybox.ethz.ch)... 129.132.71.243\n",
      "Connecting to polybox.ethz.ch (polybox.ethz.ch)|129.132.71.243|:443... connected.\n",
      "HTTP request sent, awaiting response... 200 OK\n",
      "Length: 18798 (18K) [application/octet-stream]\n",
      "Saving to: ‘fungut_sample_metadata.tsv’\n",
      "\n",
      "fungut_sample_metad 100%[===================>]  18.36K  --.-KB/s    in 0.009s  \n",
      "\n",
      "2025-10-06 15:23:35 (2.00 MB/s) - ‘fungut_sample_metadata.tsv’ saved [18798/18798]\n",
      "\n"
     ]
    }
   ],
   "source": [
    "# Getting our data from the polybox:\n",
    "!wget -O fungut_forward_reads.qza \"https://polybox.ethz.ch/index.php/s/uV06vmm96ZzB5eM/download/fungut_forward_reads.qza\"\n",
    "!wget -O fungut_sample_metadata.tsv \"https://polybox.ethz.ch/index.php/s/CA76kKFC9FApqpR/download/fungut_metadata.tsv\""
   ]
  },
  {
   "cell_type": "code",
   "execution_count": 5,
   "id": "736be89f-0d51-4aef-be4e-4629b1c41509",
   "metadata": {
    "tags": []
   },
   "outputs": [
    {
     "name": "stdout",
     "output_type": "stream",
     "text": [
      "File exists? True True\n"
     ]
    }
   ],
   "source": [
    "# To check that our files are in the right place:\n",
    "qza_file = f\"{data_dir}/fungut_forward_reads.qza\" #Store the sequences file\n",
    "tsv_file = f\"{data_dir}/fungut_sample_metadata.tsv\" #Store the sample metadata file\n",
    "print(\"File exists?\", os.path.exists(qza_file), os.path.exists(tsv_file))"
   ]
  },
  {
   "cell_type": "markdown",
   "id": "313893d4-1b64-4e17-a4fe-1504efe06465",
   "metadata": {},
   "source": [
    "# 3 Feature table construction"
   ]
  },
  {
   "cell_type": "markdown",
   "id": "663f601a-811f-44de-9189-1e3d6ec05591",
   "metadata": {},
   "source": [
    "## 3.1 First overview of our sample and quality score assessment "
   ]
  },
  {
   "cell_type": "code",
   "execution_count": 6,
   "id": "048edf79-8a4d-456d-93db-4eb7ba3a93fd",
   "metadata": {
    "tags": []
   },
   "outputs": [
    {
     "name": "stdout",
     "output_type": "stream",
     "text": [
      "/opt/conda/lib/python3.10/site-packages/unifrac/__init__.py:9: UserWarning: pkg_resources is deprecated as an API. See https://setuptools.pypa.io/en/latest/pkg_resources.html. The pkg_resources package is slated for removal as early as 2025-11-30. Refrain from using this package or pin to Setuptools<81.\n",
      "  import pkg_resources\n",
      "\u001b[32mSaved Visualization to: demux-summary.qzv\u001b[0m\n",
      "\u001b[0m\u001b[?25h"
     ]
    }
   ],
   "source": [
    "!qiime demux summarize \\\n",
    "  --i-data fungut_forward_reads.qza \\\n",
    "  --o-visualization demux-summary.qzv"
   ]
  },
  {
   "cell_type": "code",
   "execution_count": 7,
   "id": "2d0e5dc3-bc0a-467c-b9ed-a115891766ac",
   "metadata": {
    "tags": []
   },
   "outputs": [
    {
     "data": {
      "text/html": [
       "<div><img onload=\"(function(div, url){\n",
       "if (typeof require !== 'undefined') {\n",
       "    var baseURL = require.toUrl('').split('/').slice(0, -2).join('/');\n",
       "} else {\n",
       "    var baseURL = JSON.parse(\n",
       "        document.getElementById('jupyter-config-data').innerHTML\n",
       "    ).baseUrl.slice(0, -1);\n",
       "}\n",
       "url = baseURL + url;\n",
       "fetch(url).then(function(res) {\n",
       "    if (res.status === 404) {\n",
       "        div.innerHTML = 'Install QIIME 2 Jupyter extension with:<br />' +\n",
       "                        '<code>jupyter server extension enable --py qiime2' +\n",
       "                        ' --sys-prefix</code><br />then restart your server.' +\n",
       "                        '<br /><br />(Interactive output not available on ' +\n",
       "                        'static notebook viewer services like nbviewer.)';\n",
       "    } else if (res.status === 409) {\n",
       "        div.innerHTML = 'Visualization no longer in scope. Re-run this cell' +\n",
       "                        ' to see the visualization.';\n",
       "    } else if (res.ok) {\n",
       "        url = res.url;\n",
       "        div.innerHTML = '<iframe src=\\'' + url + '\\' style=\\'' +\n",
       "                        'width: 100%; height: 700px; border: 0;\\'>' +\n",
       "                        '</iframe><hr />Open in a: <a href=\\'' + url + '\\'' +\n",
       "                        ' target=\\'_blank\\'>new window</a>'\n",
       "    } else {\n",
       "        div.innerHTML = 'Something has gone wrong. Check notebook server for' +\n",
       "                        ' errors.';\n",
       "    }\n",
       "});\n",
       "})(this.parentElement, '/qiime2/redirect?location=/tmp/qiime2/jovyan/data/45dfd4ba-98b9-44a3-9dc3-44135fcdc1d3')\" src=\"data:image/gif;base64,R0lGODlhAQABAIAAAP///wAAACH5BAEAAAAALAAAAAABAAEAAAICRAEAOw==\" /></div>"
      ],
      "text/plain": [
       "<visualization: Visualization uuid: 45dfd4ba-98b9-44a3-9dc3-44135fcdc1d3>"
      ]
     },
     "execution_count": 7,
     "metadata": {},
     "output_type": "execute_result"
    }
   ],
   "source": [
    "Visualization.load(f\"{data_dir}/demux-summary.qzv\")"
   ]
  },
  {
   "cell_type": "markdown",
   "id": "f5570e08-5126-4084-8a53-b265b1e3d1c9",
   "metadata": {},
   "source": [
    "The mean length of our reads is 151 nts. We can see that the quality of our reads stays quite high, even at the end of the sequences (mean quality score ~38 at the position 151)."
   ]
  },
  {
   "cell_type": "markdown",
   "id": "d8edada2-fe3d-4c17-b742-6133feef582b",
   "metadata": {},
   "source": [
    "## 3.2 Denoizing and creation of ASVs"
   ]
  },
  {
   "cell_type": "code",
   "execution_count": 8,
   "id": "69086c4e-fcc8-478a-8023-fbe2b12c67a9",
   "metadata": {
    "tags": []
   },
   "outputs": [
    {
     "name": "stdout",
     "output_type": "stream",
     "text": [
      "/opt/conda/lib/python3.10/site-packages/unifrac/__init__.py:9: UserWarning: pkg_resources is deprecated as an API. See https://setuptools.pypa.io/en/latest/pkg_resources.html. The pkg_resources package is slated for removal as early as 2025-11-30. Refrain from using this package or pin to Setuptools<81.\n",
      "  import pkg_resources\n",
      "^C\n"
     ]
    }
   ],
   "source": [
    "! qiime dada2 denoise-single \\\n",
    "    --i-demultiplexed-seqs $data_dir/fungut_forward_reads.qza \\\n",
    "    --p-trunc-len 0 \\\n",
    "    --p-n-threads 3 \\\n",
    "    --o-table $data_dir/dada2_table_no_trunc.qza \\\n",
    "    --o-representative-sequences $data_dir/dada2_rep_set_no_trunc.qza \\\n",
    "    --o-denoising-stats $data_dir/dada2_stats_no_trunc.qza"
   ]
  },
  {
   "cell_type": "markdown",
   "id": "531467c3-47c6-4dba-95cd-9532d1498ad5",
   "metadata": {},
   "source": [
    "First I tried to put 150 nts as trunc-len, but this disgarded too much sequences. I don't want to put the truncating lenght lower, because we will loose a lot of information on the sequences. As ITS have usually very different length, and that the mean quality of our reads was good, I want to keep all of them. However, after denoizing I want to do a step in order to remove the sequences that are too rare and the ones that come up in too few samples, in order to avoid too much noise in further downstream analysis:"
   ]
  },
  {
   "cell_type": "code",
   "execution_count": 9,
   "id": "7498f3d4-1ed2-4eab-a137-0180ef8115aa",
   "metadata": {
    "tags": []
   },
   "outputs": [
    {
     "name": "stdout",
     "output_type": "stream",
     "text": [
      "/opt/conda/lib/python3.10/site-packages/unifrac/__init__.py:9: UserWarning: pkg_resources is deprecated as an API. See https://setuptools.pypa.io/en/latest/pkg_resources.html. The pkg_resources package is slated for removal as early as 2025-11-30. Refrain from using this package or pin to Setuptools<81.\n",
      "  import pkg_resources\n",
      "^C\n",
      "R[write to console]: \n",
      "\n",
      "Traceback (most recent call last):\n",
      "  File \"/opt/conda/lib/python3.10/site-packages/q2cli/util.py\", line 275, in get_plugin_manager\n",
      "    return qiime2.sdk.PluginManager.reuse_existing()\n",
      "  File \"/opt/conda/lib/python3.10/site-packages/qiime2/sdk/plugin_manager.py\", line 58, in reuse_existing\n",
      "    raise UninitializedPluginManagerError\n",
      "qiime2.sdk.plugin_manager.UninitializedPluginManagerError\n",
      "\n",
      "During handling of the above exception, another exception occurred:\n",
      "\n",
      "Traceback (most recent call last):\n",
      "  File \"/opt/conda/lib/python3.10/site-packages/q2cli/click/type.py\", line 117, in _convert_input\n",
      "    result, error = q2cli.util._load_input(value)\n",
      "  File \"/opt/conda/lib/python3.10/site-packages/q2cli/util.py\", line 355, in _load_input\n",
      "    _ = get_plugin_manager()\n",
      "  File \"/opt/conda/lib/python3.10/site-packages/q2cli/util.py\", line 287, in get_plugin_manager\n",
      "    return qiime2.sdk.PluginManager()\n",
      "  File \"/opt/conda/lib/python3.10/site-packages/qiime2/sdk/plugin_manager.py\", line 67, in __new__\n",
      "    self._init(add_plugins=add_plugins)\n",
      "  File \"/opt/conda/lib/python3.10/site-packages/qiime2/sdk/plugin_manager.py\", line 105, in _init\n",
      "    plugin = entry_point.load()\n",
      "  File \"/opt/conda/lib/python3.10/importlib/metadata/__init__.py\", line 171, in load\n",
      "    module = import_module(match.group('module'))\n",
      "  File \"/opt/conda/lib/python3.10/importlib/__init__.py\", line 126, in import_module\n",
      "    return _bootstrap._gcd_import(name[level:], package, level)\n",
      "  File \"<frozen importlib._bootstrap>\", line 1050, in _gcd_import\n",
      "  File \"<frozen importlib._bootstrap>\", line 1027, in _find_and_load\n",
      "  File \"<frozen importlib._bootstrap>\", line 992, in _find_and_load_unlocked\n",
      "  File \"<frozen importlib._bootstrap>\", line 241, in _call_with_frames_removed\n",
      "  File \"<frozen importlib._bootstrap>\", line 1050, in _gcd_import\n",
      "  File \"<frozen importlib._bootstrap>\", line 1027, in _find_and_load\n",
      "  File \"<frozen importlib._bootstrap>\", line 1006, in _find_and_load_unlocked\n",
      "  File \"<frozen importlib._bootstrap>\", line 688, in _load_unlocked\n",
      "  File \"<frozen importlib._bootstrap_external>\", line 883, in exec_module\n",
      "  File \"<frozen importlib._bootstrap>\", line 241, in _call_with_frames_removed\n",
      "  File \"/opt/conda/lib/python3.10/site-packages/q2_composition/__init__.py\", line 18, in <module>\n",
      "    from ._ancombc2 import ancombc2, ancombc2_visualizer\n",
      "  File \"/opt/conda/lib/python3.10/site-packages/q2_composition/_ancombc2.py\", line 32, in <module>\n",
      "    r_base = importr('base')\n",
      "  File \"/opt/conda/lib/python3.10/site-packages/rpy2/robjects/packages.py\", line 471, in importr\n",
      "    if not isinstalled(name, lib_loc=lib_loc):\n",
      "  File \"/opt/conda/lib/python3.10/site-packages/rpy2/robjects/packages.py\", line 427, in isinstalled\n",
      "    instapack = InstalledPackages(lib_loc)\n",
      "  File \"/opt/conda/lib/python3.10/site-packages/rpy2/robjects/packages.py\", line 386, in __init__\n",
      "    libraryiqr = _library(**{'lib.loc': lib_loc})\n",
      "  File \"/opt/conda/lib/python3.10/site-packages/rpy2/rinterface_lib/conversion.py\", line 45, in _\n",
      "    cdata = function(*args, **kwargs)\n",
      "  File \"/opt/conda/lib/python3.10/site-packages/rpy2/rinterface.py\", line 817, in __call__\n",
      "    raise embedded.RRuntimeError(_rinterface._geterrmessage())\n",
      "rpy2.rinterface_lib.embedded.RRuntimeError\n",
      "\n",
      "\u001b[31m\u001b[1mThere was a problem loading '/home/jovyan/assignments/FunGut-Project/dada2_table_no_trunc.qza' as an artifact:\n",
      "\n",
      "\n",
      "\n",
      "See above for debug info.\u001b[0m\n"
     ]
    }
   ],
   "source": [
    "! qiime feature-table filter-features \\\n",
    "  --i-table $data_dir/dada2_table_no_trunc.qza \\\n",
    "  --p-min-frequency 10 \\\n",
    "  --p-min-samples 2 \\\n",
    "  --o-filtered-table $data_dir/dada2_table.qza"
   ]
  },
  {
   "cell_type": "markdown",
   "id": "a776a152-5011-4a04-b70c-ff4a08de612b",
   "metadata": {},
   "source": [
    "Now we have filtered all features that have a frequencies smaller than 10% across all samples, as well as features present in only one sample. Now that it's done, I will update the list of sequences so they match."
   ]
  },
  {
   "cell_type": "code",
   "execution_count": 10,
   "id": "b8816cfd-f88b-48e1-a681-a22cdd4077e7",
   "metadata": {
    "tags": []
   },
   "outputs": [
    {
     "name": "stdout",
     "output_type": "stream",
     "text": [
      "^C\n",
      "\n",
      "Aborted!\n"
     ]
    }
   ],
   "source": [
    "! qiime feature-table filter-seqs \\\n",
    "  --i-data $data_dir/dada2_rep_set_no_trunc.qza \\\n",
    "  --i-table $data_dir/dada2_table.qza \\\n",
    "  --o-filtered-data $data_dir/dada2_rep_set.qza"
   ]
  },
  {
   "cell_type": "markdown",
   "id": "63e4ee8c-9ac7-491f-a6c6-3e0028a8483a",
   "metadata": {},
   "source": [
    "Now that our denoizing and filtering is done, we can look at what the result it. Let's start with the denoizing statistics (so here nothing is filtered yet):"
   ]
  },
  {
   "cell_type": "code",
   "execution_count": 11,
   "id": "acf6535b-c332-4909-8832-69dc412249bb",
   "metadata": {
    "tags": []
   },
   "outputs": [
    {
     "name": "stdout",
     "output_type": "stream",
     "text": [
      "^C\n",
      "\n",
      "Aborted!\n"
     ]
    }
   ],
   "source": [
    "! qiime metadata tabulate \\\n",
    "    --m-input-file $data_dir/dada2_stats_no_trunc.qza \\\n",
    "    --o-visualization $data_dir/dada2_stats_no_trunc.qzv"
   ]
  },
  {
   "cell_type": "code",
   "execution_count": 12,
   "id": "bf866fd0-6f62-45b5-9448-19b5e2c241d5",
   "metadata": {
    "tags": []
   },
   "outputs": [
    {
     "data": {
      "text/html": [
       "<div><img onload=\"(function(div, url){\n",
       "if (typeof require !== 'undefined') {\n",
       "    var baseURL = require.toUrl('').split('/').slice(0, -2).join('/');\n",
       "} else {\n",
       "    var baseURL = JSON.parse(\n",
       "        document.getElementById('jupyter-config-data').innerHTML\n",
       "    ).baseUrl.slice(0, -1);\n",
       "}\n",
       "url = baseURL + url;\n",
       "fetch(url).then(function(res) {\n",
       "    if (res.status === 404) {\n",
       "        div.innerHTML = 'Install QIIME 2 Jupyter extension with:<br />' +\n",
       "                        '<code>jupyter server extension enable --py qiime2' +\n",
       "                        ' --sys-prefix</code><br />then restart your server.' +\n",
       "                        '<br /><br />(Interactive output not available on ' +\n",
       "                        'static notebook viewer services like nbviewer.)';\n",
       "    } else if (res.status === 409) {\n",
       "        div.innerHTML = 'Visualization no longer in scope. Re-run this cell' +\n",
       "                        ' to see the visualization.';\n",
       "    } else if (res.ok) {\n",
       "        url = res.url;\n",
       "        div.innerHTML = '<iframe src=\\'' + url + '\\' style=\\'' +\n",
       "                        'width: 100%; height: 700px; border: 0;\\'>' +\n",
       "                        '</iframe><hr />Open in a: <a href=\\'' + url + '\\'' +\n",
       "                        ' target=\\'_blank\\'>new window</a>'\n",
       "    } else {\n",
       "        div.innerHTML = 'Something has gone wrong. Check notebook server for' +\n",
       "                        ' errors.';\n",
       "    }\n",
       "});\n",
       "})(this.parentElement, '/qiime2/redirect?location=/tmp/qiime2/jovyan/data/5e210916-78b0-4341-b097-8a76430e936a')\" src=\"data:image/gif;base64,R0lGODlhAQABAIAAAP///wAAACH5BAEAAAAALAAAAAABAAEAAAICRAEAOw==\" /></div>"
      ],
      "text/plain": [
       "<visualization: Visualization uuid: 5e210916-78b0-4341-b097-8a76430e936a>"
      ]
     },
     "execution_count": 12,
     "metadata": {},
     "output_type": "execute_result"
    }
   ],
   "source": [
    "Visualization.load(f\"{data_dir}/dada2_stats_no_trunc.qzv\")"
   ]
  },
  {
   "cell_type": "markdown",
   "id": "38e408c2-cea9-4aae-a8e4-60a80d4a2cd3",
   "metadata": {},
   "source": [
    "Eyeballing it the statistics look good, we don't loose to many sequences.\n",
    "\n",
    "Now we are going to visualize the sequences:"
   ]
  },
  {
   "cell_type": "code",
   "execution_count": 13,
   "id": "dd29c438-54d4-451e-93da-841e47bbea94",
   "metadata": {
    "tags": []
   },
   "outputs": [
    {
     "name": "stdout",
     "output_type": "stream",
     "text": [
      "^C\n",
      "\n",
      "Aborted!\n"
     ]
    }
   ],
   "source": [
    "! qiime feature-table tabulate-seqs \\\n",
    "    --i-data $data_dir/dada2_rep_set.qza \\\n",
    "    --o-visualization $data_dir/dada2_rep_set.qzv"
   ]
  },
  {
   "cell_type": "code",
   "execution_count": 14,
   "id": "35e0192c-3e33-480b-8456-d4b28eb0c32a",
   "metadata": {
    "tags": []
   },
   "outputs": [
    {
     "data": {
      "text/html": [
       "<div><img onload=\"(function(div, url){\n",
       "if (typeof require !== 'undefined') {\n",
       "    var baseURL = require.toUrl('').split('/').slice(0, -2).join('/');\n",
       "} else {\n",
       "    var baseURL = JSON.parse(\n",
       "        document.getElementById('jupyter-config-data').innerHTML\n",
       "    ).baseUrl.slice(0, -1);\n",
       "}\n",
       "url = baseURL + url;\n",
       "fetch(url).then(function(res) {\n",
       "    if (res.status === 404) {\n",
       "        div.innerHTML = 'Install QIIME 2 Jupyter extension with:<br />' +\n",
       "                        '<code>jupyter server extension enable --py qiime2' +\n",
       "                        ' --sys-prefix</code><br />then restart your server.' +\n",
       "                        '<br /><br />(Interactive output not available on ' +\n",
       "                        'static notebook viewer services like nbviewer.)';\n",
       "    } else if (res.status === 409) {\n",
       "        div.innerHTML = 'Visualization no longer in scope. Re-run this cell' +\n",
       "                        ' to see the visualization.';\n",
       "    } else if (res.ok) {\n",
       "        url = res.url;\n",
       "        div.innerHTML = '<iframe src=\\'' + url + '\\' style=\\'' +\n",
       "                        'width: 100%; height: 700px; border: 0;\\'>' +\n",
       "                        '</iframe><hr />Open in a: <a href=\\'' + url + '\\'' +\n",
       "                        ' target=\\'_blank\\'>new window</a>'\n",
       "    } else {\n",
       "        div.innerHTML = 'Something has gone wrong. Check notebook server for' +\n",
       "                        ' errors.';\n",
       "    }\n",
       "});\n",
       "})(this.parentElement, '/qiime2/redirect?location=/tmp/qiime2/jovyan/data/32ff7640-801a-4dd5-bc1b-e17d6a81b1aa')\" src=\"data:image/gif;base64,R0lGODlhAQABAIAAAP///wAAACH5BAEAAAAALAAAAAABAAEAAAICRAEAOw==\" /></div>"
      ],
      "text/plain": [
       "<visualization: Visualization uuid: 32ff7640-801a-4dd5-bc1b-e17d6a81b1aa>"
      ]
     },
     "execution_count": 14,
     "metadata": {},
     "output_type": "execute_result"
    }
   ],
   "source": [
    "Visualization.load(f\"{data_dir}/dada2_rep_set.qzv\")"
   ]
  },
  {
   "cell_type": "markdown",
   "id": "3ef63ac6-95d4-46da-9730-c4a3495699b0",
   "metadata": {
    "tags": []
   },
   "source": [
    "We can see that we have 145 unique features (=ASVs) after filtering.\n",
    "\n",
    "Finally, we are going to create a feature table with the information of our sequences and the sample metadata:"
   ]
  },
  {
   "cell_type": "code",
   "execution_count": 15,
   "id": "2a7f5677-ae93-438c-b7a8-1866d3865228",
   "metadata": {
    "tags": []
   },
   "outputs": [
    {
     "name": "stdout",
     "output_type": "stream",
     "text": [
      "/opt/conda/lib/python3.10/site-packages/unifrac/__init__.py:9: UserWarning: pkg_resources is deprecated as an API. See https://setuptools.pypa.io/en/latest/pkg_resources.html. The pkg_resources package is slated for removal as early as 2025-11-30. Refrain from using this package or pin to Setuptools<81.\n",
      "  import pkg_resources\n",
      "^C\n",
      "\n",
      "Aborted!\n"
     ]
    }
   ],
   "source": [
    "! qiime feature-table summarize \\\n",
    "    --i-table $data_dir/dada2_table.qza \\\n",
    "    --m-sample-metadata-file $data_dir/fungut_sample_metadata.tsv \\\n",
    "    --o-visualization $data_dir/dada2_table.qzv"
   ]
  },
  {
   "cell_type": "code",
   "execution_count": 16,
   "id": "d3adae65-0ffc-4da3-aee5-04f84f0dbe88",
   "metadata": {
    "tags": []
   },
   "outputs": [
    {
     "data": {
      "text/html": [
       "<div><img onload=\"(function(div, url){\n",
       "if (typeof require !== 'undefined') {\n",
       "    var baseURL = require.toUrl('').split('/').slice(0, -2).join('/');\n",
       "} else {\n",
       "    var baseURL = JSON.parse(\n",
       "        document.getElementById('jupyter-config-data').innerHTML\n",
       "    ).baseUrl.slice(0, -1);\n",
       "}\n",
       "url = baseURL + url;\n",
       "fetch(url).then(function(res) {\n",
       "    if (res.status === 404) {\n",
       "        div.innerHTML = 'Install QIIME 2 Jupyter extension with:<br />' +\n",
       "                        '<code>jupyter server extension enable --py qiime2' +\n",
       "                        ' --sys-prefix</code><br />then restart your server.' +\n",
       "                        '<br /><br />(Interactive output not available on ' +\n",
       "                        'static notebook viewer services like nbviewer.)';\n",
       "    } else if (res.status === 409) {\n",
       "        div.innerHTML = 'Visualization no longer in scope. Re-run this cell' +\n",
       "                        ' to see the visualization.';\n",
       "    } else if (res.ok) {\n",
       "        url = res.url;\n",
       "        div.innerHTML = '<iframe src=\\'' + url + '\\' style=\\'' +\n",
       "                        'width: 100%; height: 700px; border: 0;\\'>' +\n",
       "                        '</iframe><hr />Open in a: <a href=\\'' + url + '\\'' +\n",
       "                        ' target=\\'_blank\\'>new window</a>'\n",
       "    } else {\n",
       "        div.innerHTML = 'Something has gone wrong. Check notebook server for' +\n",
       "                        ' errors.';\n",
       "    }\n",
       "});\n",
       "})(this.parentElement, '/qiime2/redirect?location=/tmp/qiime2/jovyan/data/f07aed9f-0a03-4d1d-84d7-abb553e535dd')\" src=\"data:image/gif;base64,R0lGODlhAQABAIAAAP///wAAACH5BAEAAAAALAAAAAABAAEAAAICRAEAOw==\" /></div>"
      ],
      "text/plain": [
       "<visualization: Visualization uuid: f07aed9f-0a03-4d1d-84d7-abb553e535dd>"
      ]
     },
     "execution_count": 16,
     "metadata": {},
     "output_type": "execute_result"
    }
   ],
   "source": [
    "Visualization.load(f\"{data_dir}/dada2_table.qzv\")"
   ]
  },
  {
   "cell_type": "markdown",
   "id": "59d634a6-bc87-4525-94bf-643be434aa24",
   "metadata": {},
   "source": [
    "Bonus: We can compare this table that we just made that contains the information of the filtered features (with >=10% of frequency and presence in >= 2 samples) with a table created with all the sequences prior to filtering:"
   ]
  },
  {
   "cell_type": "code",
   "execution_count": 17,
   "id": "8675e781-08a9-4566-b2ec-93506a813954",
   "metadata": {
    "tags": []
   },
   "outputs": [
    {
     "name": "stdout",
     "output_type": "stream",
     "text": [
      "/opt/conda/lib/python3.10/site-packages/unifrac/__init__.py:9: UserWarning: pkg_resources is deprecated as an API. See https://setuptools.pypa.io/en/latest/pkg_resources.html. The pkg_resources package is slated for removal as early as 2025-11-30. Refrain from using this package or pin to Setuptools<81.\n",
      "  import pkg_resources\n",
      "^C\n",
      "\n",
      "Aborted!\n"
     ]
    }
   ],
   "source": [
    "! qiime feature-table summarize \\\n",
    "    --i-table $data_dir/dada2_table_no_trunc.qza \\\n",
    "    --m-sample-metadata-file $data_dir/fungut_sample_metadata.tsv \\\n",
    "    --o-visualization $data_dir/dada2_table_no_trunc.qzv"
   ]
  },
  {
   "cell_type": "code",
   "execution_count": 18,
   "id": "2d2744a8-11bf-48ca-a91c-010a72629b1a",
   "metadata": {
    "tags": []
   },
   "outputs": [
    {
     "data": {
      "text/html": [
       "<div><img onload=\"(function(div, url){\n",
       "if (typeof require !== 'undefined') {\n",
       "    var baseURL = require.toUrl('').split('/').slice(0, -2).join('/');\n",
       "} else {\n",
       "    var baseURL = JSON.parse(\n",
       "        document.getElementById('jupyter-config-data').innerHTML\n",
       "    ).baseUrl.slice(0, -1);\n",
       "}\n",
       "url = baseURL + url;\n",
       "fetch(url).then(function(res) {\n",
       "    if (res.status === 404) {\n",
       "        div.innerHTML = 'Install QIIME 2 Jupyter extension with:<br />' +\n",
       "                        '<code>jupyter server extension enable --py qiime2' +\n",
       "                        ' --sys-prefix</code><br />then restart your server.' +\n",
       "                        '<br /><br />(Interactive output not available on ' +\n",
       "                        'static notebook viewer services like nbviewer.)';\n",
       "    } else if (res.status === 409) {\n",
       "        div.innerHTML = 'Visualization no longer in scope. Re-run this cell' +\n",
       "                        ' to see the visualization.';\n",
       "    } else if (res.ok) {\n",
       "        url = res.url;\n",
       "        div.innerHTML = '<iframe src=\\'' + url + '\\' style=\\'' +\n",
       "                        'width: 100%; height: 700px; border: 0;\\'>' +\n",
       "                        '</iframe><hr />Open in a: <a href=\\'' + url + '\\'' +\n",
       "                        ' target=\\'_blank\\'>new window</a>'\n",
       "    } else {\n",
       "        div.innerHTML = 'Something has gone wrong. Check notebook server for' +\n",
       "                        ' errors.';\n",
       "    }\n",
       "});\n",
       "})(this.parentElement, '/qiime2/redirect?location=/tmp/qiime2/jovyan/data/c01db64b-b707-43ff-9e3d-8ef30c80ffff')\" src=\"data:image/gif;base64,R0lGODlhAQABAIAAAP///wAAACH5BAEAAAAALAAAAAABAAEAAAICRAEAOw==\" /></div>"
      ],
      "text/plain": [
       "<visualization: Visualization uuid: c01db64b-b707-43ff-9e3d-8ef30c80ffff>"
      ]
     },
     "execution_count": 18,
     "metadata": {},
     "output_type": "execute_result"
    }
   ],
   "source": [
    "Visualization.load(f\"{data_dir}/dada2_table_no_trunc.qzv\")"
   ]
  },
  {
   "cell_type": "markdown",
   "id": "e9b646f4-3e43-4495-9321-18e66ccec6e1",
   "metadata": {},
   "source": [
    "Thing is that with my filter I did remove a lot of special features that seemed either to appear in only one sample, or to be at a less than 10% frequency. I don't know how to decide if that's good or not."
   ]
  },
  {
   "cell_type": "markdown",
   "id": "78dd7c75-20fe-4bb7-b645-305daaf8d31a",
   "metadata": {},
   "source": [
    "# Analysis of the sample metadata"
   ]
  },
  {
   "cell_type": "code",
   "execution_count": 46,
   "id": "61b78e77-9273-4865-842b-d915debfb891",
   "metadata": {
    "tags": []
   },
   "outputs": [
    {
     "data": {
      "text/html": [
       "<div>\n",
       "<style scoped>\n",
       "    .dataframe tbody tr th:only-of-type {\n",
       "        vertical-align: middle;\n",
       "    }\n",
       "\n",
       "    .dataframe tbody tr th {\n",
       "        vertical-align: top;\n",
       "    }\n",
       "\n",
       "    .dataframe thead th {\n",
       "        text-align: right;\n",
       "    }\n",
       "</style>\n",
       "<table border=\"1\" class=\"dataframe\">\n",
       "  <thead>\n",
       "    <tr style=\"text-align: right;\">\n",
       "      <th></th>\n",
       "      <th>ID</th>\n",
       "      <th>country_sample</th>\n",
       "      <th>state_sample</th>\n",
       "      <th>latitude_sample</th>\n",
       "      <th>longitude_sample</th>\n",
       "      <th>sex_sample</th>\n",
       "      <th>age_years_sample</th>\n",
       "      <th>height_cm_sample</th>\n",
       "      <th>weight_kg_sample</th>\n",
       "      <th>bmi_sample</th>\n",
       "      <th>diet_type_sample</th>\n",
       "      <th>ibd_sample</th>\n",
       "      <th>gluten_sample</th>\n",
       "    </tr>\n",
       "  </thead>\n",
       "  <tbody>\n",
       "    <tr>\n",
       "      <th>0</th>\n",
       "      <td>ERR5327198</td>\n",
       "      <td>USA</td>\n",
       "      <td>TN</td>\n",
       "      <td>36.1</td>\n",
       "      <td>-86.8</td>\n",
       "      <td>female</td>\n",
       "      <td>67.0</td>\n",
       "      <td>152.0</td>\n",
       "      <td>41.0</td>\n",
       "      <td>17.75</td>\n",
       "      <td>Omnivore</td>\n",
       "      <td>I do not have this condition</td>\n",
       "      <td>No</td>\n",
       "    </tr>\n",
       "    <tr>\n",
       "      <th>1</th>\n",
       "      <td>ERR5327199</td>\n",
       "      <td>USA</td>\n",
       "      <td>DC</td>\n",
       "      <td>38.9</td>\n",
       "      <td>-77.1</td>\n",
       "      <td>male</td>\n",
       "      <td>55.0</td>\n",
       "      <td>182.0</td>\n",
       "      <td>79.0</td>\n",
       "      <td>23.73</td>\n",
       "      <td>Omnivore</td>\n",
       "      <td>I do not have this condition</td>\n",
       "      <td>I was diagnosed with gluten allergy (anti-glut...</td>\n",
       "    </tr>\n",
       "    <tr>\n",
       "      <th>2</th>\n",
       "      <td>ERR5327266</td>\n",
       "      <td>USA</td>\n",
       "      <td>VA</td>\n",
       "      <td>38.9</td>\n",
       "      <td>-77.1</td>\n",
       "      <td>female</td>\n",
       "      <td>28.0</td>\n",
       "      <td>175.0</td>\n",
       "      <td>61.0</td>\n",
       "      <td>19.94</td>\n",
       "      <td>Omnivore</td>\n",
       "      <td>I do not have this condition</td>\n",
       "      <td>I do not eat gluten because it makes me feel bad</td>\n",
       "    </tr>\n",
       "    <tr>\n",
       "      <th>3</th>\n",
       "      <td>ERR5327282</td>\n",
       "      <td>United Kingdom</td>\n",
       "      <td>NaN</td>\n",
       "      <td>51.6</td>\n",
       "      <td>-0.2</td>\n",
       "      <td>female</td>\n",
       "      <td>26.0</td>\n",
       "      <td>166.0</td>\n",
       "      <td>60.0</td>\n",
       "      <td>21.77</td>\n",
       "      <td>Omnivore</td>\n",
       "      <td>I do not have this condition</td>\n",
       "      <td>No</td>\n",
       "    </tr>\n",
       "    <tr>\n",
       "      <th>4</th>\n",
       "      <td>ERR5327284</td>\n",
       "      <td>United Kingdom</td>\n",
       "      <td>NaN</td>\n",
       "      <td>51.5</td>\n",
       "      <td>-0.2</td>\n",
       "      <td>female</td>\n",
       "      <td>25.0</td>\n",
       "      <td>173.0</td>\n",
       "      <td>59.0</td>\n",
       "      <td>20.01</td>\n",
       "      <td>Vegetarian but eat seafood</td>\n",
       "      <td>I do not have this condition</td>\n",
       "      <td>No</td>\n",
       "    </tr>\n",
       "  </tbody>\n",
       "</table>\n",
       "</div>"
      ],
      "text/plain": [
       "           ID  country_sample state_sample  latitude_sample  longitude_sample  \\\n",
       "0  ERR5327198             USA           TN             36.1             -86.8   \n",
       "1  ERR5327199             USA           DC             38.9             -77.1   \n",
       "2  ERR5327266             USA           VA             38.9             -77.1   \n",
       "3  ERR5327282  United Kingdom          NaN             51.6              -0.2   \n",
       "4  ERR5327284  United Kingdom          NaN             51.5              -0.2   \n",
       "\n",
       "  sex_sample  age_years_sample  height_cm_sample  weight_kg_sample  \\\n",
       "0     female              67.0             152.0              41.0   \n",
       "1       male              55.0             182.0              79.0   \n",
       "2     female              28.0             175.0              61.0   \n",
       "3     female              26.0             166.0              60.0   \n",
       "4     female              25.0             173.0              59.0   \n",
       "\n",
       "   bmi_sample            diet_type_sample                    ibd_sample  \\\n",
       "0       17.75                    Omnivore  I do not have this condition   \n",
       "1       23.73                    Omnivore  I do not have this condition   \n",
       "2       19.94                    Omnivore  I do not have this condition   \n",
       "3       21.77                    Omnivore  I do not have this condition   \n",
       "4       20.01  Vegetarian but eat seafood  I do not have this condition   \n",
       "\n",
       "                                       gluten_sample  \n",
       "0                                                 No  \n",
       "1  I was diagnosed with gluten allergy (anti-glut...  \n",
       "2   I do not eat gluten because it makes me feel bad  \n",
       "3                                                 No  \n",
       "4                                                 No  "
      ]
     },
     "execution_count": 46,
     "metadata": {},
     "output_type": "execute_result"
    }
   ],
   "source": [
    "sample_metadata = pd.read_csv(\"fungut_sample_metadata.tsv\", sep=\"\\t\", na_values=[\"Not provided\"])\n",
    "sample_metadata.head()"
   ]
  },
  {
   "cell_type": "markdown",
   "id": "9dac691a-0bfb-4191-b9b9-7803c1d7d386",
   "metadata": {},
   "source": [
    "## Specific questions from our FunGut guidelines"
   ]
  },
  {
   "cell_type": "markdown",
   "id": "5e643008-4a5f-454b-90d6-8b236b0127fa",
   "metadata": {},
   "source": [
    "### Sex ratio"
   ]
  },
  {
   "cell_type": "code",
   "execution_count": 47,
   "id": "42462e06-9625-4acf-a095-2a8ddfdea56b",
   "metadata": {
    "tags": []
   },
   "outputs": [
    {
     "data": {
      "text/plain": [
       "Text(0.5, 0.98, 'Sex ratio')"
      ]
     },
     "execution_count": 47,
     "metadata": {},
     "output_type": "execute_result"
    },
    {
     "data": {
      "image/png": "[encoded data removed]",
      "text/plain": [
       "<Figure size 640x480 with 1 Axes>"
      ]
     },
     "metadata": {},
     "output_type": "display_data"
    }
   ],
   "source": [
    "sample_metadata[\"sex_sample\"].value_counts().plot(kind=\"bar\")\n",
    "plt.xlabel(\"Sex\")\n",
    "plt.ylabel(\"Frequency\")\n",
    "plt.suptitle(\"Sex ratio\")"
   ]
  },
  {
   "cell_type": "markdown",
   "id": "b8ac5206-06dc-4d8a-a2d1-7da95d80a483",
   "metadata": {},
   "source": [
    "### Distribution of age, height and weight"
   ]
  },
  {
   "cell_type": "code",
   "execution_count": 69,
   "id": "8aae2205-4d16-49b7-9b6b-f73de9c29660",
   "metadata": {
    "tags": []
   },
   "outputs": [
    {
     "data": {
      "text/plain": [
       "Text(0.5, 0.98, 'Age distribution')"
      ]
     },
     "execution_count": 69,
     "metadata": {},
     "output_type": "execute_result"
    },
    {
     "data": {
      "image/png": "[encoded data removed]",
      "text/plain": [
       "<Figure size 640x480 with 1 Axes>"
      ]
     },
     "metadata": {},
     "output_type": "display_data"
    }
   ],
   "source": [
    "sample_metadata[\"age_years_sample\"].plot.hist(bins=20, edgecolor=\"black\", color=\"brown\")\n",
    "plt.xlabel(\"Age\")\n",
    "plt.ylabel(\"Frequency\")\n",
    "plt.suptitle(\"Age distribution\")"
   ]
  },
  {
   "cell_type": "markdown",
   "id": "7d4b2969-8af8-4e1c-b1fa-0ec6d1342658",
   "metadata": {},
   "source": [
    "We might want to make age groups for the rest of our analysis. However I don't know how we should divid it, as the microbiome changes with age, so just dividing it might not be a good idea. Doing this we would have to check that our groups have not too different numbers of samples I guess."
   ]
  },
  {
   "cell_type": "code",
   "execution_count": 71,
   "id": "0b74d791-9146-406c-92c2-0c88d2dd0208",
   "metadata": {
    "tags": []
   },
   "outputs": [
    {
     "data": {
      "text/plain": [
       "Text(0.5, 0.98, 'Height distribution')"
      ]
     },
     "execution_count": 71,
     "metadata": {},
     "output_type": "execute_result"
    },
    {
     "data": {
      "image/png": "[encoded data removed]",
      "text/plain": [
       "<Figure size 640x480 with 1 Axes>"
      ]
     },
     "metadata": {},
     "output_type": "display_data"
    }
   ],
   "source": [
    "sample_metadata[\"height_cm_sample\"].plot.hist(bins=20, edgecolor=\"black\", color=\"brown\")\n",
    "plt.xlabel(\"Height\")\n",
    "plt.ylabel(\"Frequency\")\n",
    "plt.suptitle(\"Height distribution\")"
   ]
  },
  {
   "cell_type": "markdown",
   "id": "eeb611f2-fcb3-46e3-8bfb-d0a295ca9956",
   "metadata": {},
   "source": [
    "The tiny ones are probably also the young ones"
   ]
  },
  {
   "cell_type": "code",
   "execution_count": 72,
   "id": "bcdbe188-69a2-4ca3-848a-0e6e0f953c8d",
   "metadata": {
    "tags": []
   },
   "outputs": [
    {
     "data": {
      "text/plain": [
       "Text(0.5, 0.98, 'Weight distribution')"
      ]
     },
     "execution_count": 72,
     "metadata": {},
     "output_type": "execute_result"
    },
    {
     "data": {
      "image/png": "[encoded data removed]",
      "text/plain": [
       "<Figure size 640x480 with 1 Axes>"
      ]
     },
     "metadata": {},
     "output_type": "display_data"
    }
   ],
   "source": [
    "sample_metadata[\"weight_kg_sample\"].plot.hist(bins=20, edgecolor=\"black\", color=\"brown\")\n",
    "plt.xlabel(\"Weight\")\n",
    "plt.ylabel(\"Frequency\")\n",
    "plt.suptitle(\"Weight distribution\")"
   ]
  },
  {
   "cell_type": "markdown",
   "id": "24c41c07-7d29-40b8-9e94-810b014be488",
   "metadata": {},
   "source": [
    "Probably most of them have a link with age/sex. BMI is a good indicator"
   ]
  },
  {
   "cell_type": "markdown",
   "id": "8a934360-bd1c-4bb6-bb9a-ca7f70d9ab8e",
   "metadata": {},
   "source": [
    "### Types of diet"
   ]
  },
  {
   "cell_type": "code",
   "execution_count": 81,
   "id": "5a518447-54eb-4bff-ae39-28c8c8eb6985",
   "metadata": {
    "tags": []
   },
   "outputs": [
    {
     "data": {
      "text/plain": [
       "Text(0.5, 0.98, 'Types of diet')"
      ]
     },
     "execution_count": 81,
     "metadata": {},
     "output_type": "execute_result"
    },
    {
     "data": {
      "image/png": "[encoded data removed]",
      "text/plain": [
       "<Figure size 640x480 with 1 Axes>"
      ]
     },
     "metadata": {},
     "output_type": "display_data"
    }
   ],
   "source": [
    "sample_metadata[\"diet_type_sample\"].value_counts().plot(kind=\"bar\", edgecolor=\"black\", color=\"brown\")\n",
    "plt.ylabel(\"Frequency\")\n",
    "plt.suptitle(\"Types of diet\")"
   ]
  },
  {
   "cell_type": "markdown",
   "id": "b039d585-9ebf-4866-9648-2ddc889e161e",
   "metadata": {},
   "source": [
    "### Diseases\n",
    "\n",
    "Information about inflammatory bowel disease (IBD) and celiac disease (CD) were collected in the sample metadata."
   ]
  },
  {
   "cell_type": "code",
   "execution_count": 89,
   "id": "43db18d9-37c2-4220-b94d-24e8c542a04d",
   "metadata": {
    "tags": []
   },
   "outputs": [
    {
     "data": {
      "text/plain": [
       "Text(0.5, 0.98, 'IBD prevalence')"
      ]
     },
     "execution_count": 89,
     "metadata": {},
     "output_type": "execute_result"
    },
    {
     "data": {
      "image/png": "[encoded data removed]",
      "text/plain": [
       "<Figure size 640x480 with 1 Axes>"
      ]
     },
     "metadata": {},
     "output_type": "display_data"
    }
   ],
   "source": [
    "sample_metadata.replace({\"ibd_sample\":\"I do not have this condition\"}, \"No IBD\", inplace=True)\n",
    "sample_metadata.replace({\"ibd_sample\":\"Diagnosed by a medical professional (doctor, physician assistant)\"}, \"IBD\", inplace=True)\n",
    "sample_metadata[\"ibd_sample\"].value_counts().plot(kind=\"bar\", edgecolor=\"black\", color=\"brown\")\n",
    "plt.ylabel(\"Frequency\")\n",
    "plt.suptitle(\"IBD prevalence\")"
   ]
  },
  {
   "cell_type": "code",
   "execution_count": 84,
   "id": "081daa05-6727-4847-a96a-0b78eb4a0691",
   "metadata": {
    "tags": []
   },
   "outputs": [
    {
     "data": {
      "text/plain": [
       "Text(0.5, 0.98, 'CD prevalence')"
      ]
     },
     "execution_count": 84,
     "metadata": {},
     "output_type": "execute_result"
    },
    {
     "data": {
      "image/png": "[encoded data removed]",
      "text/plain": [
       "<Figure size 640x480 with 1 Axes>"
      ]
     },
     "metadata": {},
     "output_type": "display_data"
    }
   ],
   "source": [
    "sample_metadata[\"gluten_sample\"].value_counts().plot(kind=\"bar\", edgecolor=\"black\", color=\"brown\")\n",
    "plt.ylabel(\"Frequency\")\n",
    "plt.suptitle(\"CD prevalence\")"
   ]
  },
  {
   "cell_type": "markdown",
   "id": "bd60f191-0af4-4c92-a189-eee7fc835ae9",
   "metadata": {},
   "source": [
    "### Origin - Country / industrialisation index"
   ]
  },
  {
   "cell_type": "code",
   "execution_count": null,
   "id": "90a288ba-dca0-42f5-996d-fb9de5aacf10",
   "metadata": {},
   "outputs": [],
   "source": []
  }
 ],
 "metadata": {
  "kernelspec": {
   "display_name": "QIIME 2",
   "language": "python",
   "name": "python3"
  },
  "language_info": {
   "codemirror_mode": {
    "name": "ipython",
    "version": 3
   },
   "file_extension": ".py",
   "mimetype": "text/x-python",
   "name": "python",
   "nbconvert_exporter": "python",
   "pygments_lexer": "ipython3",
   "version": "3.10.14"
  }
 },
 "nbformat": 4,
 "nbformat_minor": 5
}
