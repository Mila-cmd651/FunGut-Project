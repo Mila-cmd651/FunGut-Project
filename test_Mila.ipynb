{
 "cells": [
  {
   "cell_type": "markdown",
   "id": "466bdd71-27ac-496b-925b-f6e185e61da0",
   "metadata": {},
   "source": [
    "# Data Set Up"
   ]
  },
  {
   "cell_type": "code",
   "execution_count": null,
   "id": "978853b0-02fc-4a97-b07a-bbf9dd06aab8",
   "metadata": {},
   "outputs": [],
   "source": [
    "# importing all required packages at the start of the notebook\n",
    "import IPython\n",
    "import os\n",
    "import pandas as pd\n",
    "from qiime2 import Visualization\n",
    "import matplotlib.pyplot as plt\n",
    "\n",
    "%matplotlib inline"
   ]
  },
  {
   "cell_type": "code",
   "execution_count": null,
   "id": "6a5c69b1-c8d3-482a-af7d-04ee265507c2",
   "metadata": {},
   "outputs": [],
   "source": [
    "os.getcwd() #Get the working directory"
   ]
  },
  {
   "cell_type": "code",
   "execution_count": null,
   "id": "7df0410c-3e05-4014-ad63-08a4170907a7",
   "metadata": {},
   "outputs": [],
   "source": [
    "data_dir = \"/home/jovyan/assignments/FunGut-Project\" #Store the folder's path"
   ]
  },
  {
   "cell_type": "markdown",
   "id": "dab1c9af-03e1-4fe7-b97d-49d3a0322c14",
   "metadata": {},
   "source": [
    "# Importing the data"
   ]
  },
  {
   "cell_type": "code",
   "execution_count": null,
   "id": "3505b07c-e706-48ab-b392-3c7bd6060de1",
   "metadata": {},
   "outputs": [],
   "source": [
    "# Getting our data from the polybox:\n",
    "!wget -O fungut_forward_reads.qza \"https://polybox.ethz.ch/index.php/s/uV06vmm96ZzB5eM/download/fungut_forward_reads.qza\"\n",
    "!wget -O fungut_sample_metadata.tsv \"https://polybox.ethz.ch/index.php/s/CA76kKFC9FApqpR/download/fungut_metadata.tsv\""
   ]
  },
  {
   "cell_type": "code",
   "execution_count": null,
   "id": "736be89f-0d51-4aef-be4e-4629b1c41509",
   "metadata": {},
   "outputs": [],
   "source": [
    "# To check that our files are in the right place:\n",
    "qza_file = f\"{data_dir}/fungut_forward_reads.qza\" #Store the sequences file\n",
    "tsv_file = f\"{data_dir}/fungut_sample_metadata.tsv\" #Store the sample metadata file\n",
    "print(\"File exists?\", os.path.exists(qza_file), os.path.exists(tsv_file))"
   ]
  },
  {
   "cell_type": "markdown",
   "id": "313893d4-1b64-4e17-a4fe-1504efe06465",
   "metadata": {},
   "source": [
    "# Feature table construction"
   ]
  },
  {
   "cell_type": "code",
   "execution_count": null,
   "id": "048edf79-8a4d-456d-93db-4eb7ba3a93fd",
   "metadata": {},
   "outputs": [],
   "source": [
    "!qiime demux summarize \\\n",
    "  --i-data fungut_forward_reads.qza \\\n",
    "  --o-visualization demux-summary.qzv"
   ]
  },
  {
   "cell_type": "code",
   "execution_count": null,
   "id": "2d0e5dc3-bc0a-467c-b9ed-a115891766ac",
   "metadata": {},
   "outputs": [],
   "source": [
    "Visualization.load(f\"{data_dir}/demux-summary.qzv\")"
   ]
  },
  {
   "cell_type": "markdown",
   "id": "78dd7c75-20fe-4bb7-b645-305daaf8d31a",
   "metadata": {},
   "source": [
    "# Analysis of the sample metadata"
   ]
  },
  {
   "cell_type": "code",
   "execution_count": null,
   "id": "61b78e77-9273-4865-842b-d915debfb891",
   "metadata": {},
   "outputs": [],
   "source": [
    "sample_metadata = pd.read_csv(\"fungut_sample_metadata.tsv\", sep=\"\\t\")\n",
    "sample_metadata.head()"
   ]
  }
 ],
 "metadata": {
  "kernelspec": {
   "display_name": "QIIME 2",
   "language": "python",
   "name": "python3"
  },
  "language_info": {
   "codemirror_mode": {
    "name": "ipython",
    "version": 3
   },
   "file_extension": ".py",
   "mimetype": "text/x-python",
   "name": "python",
   "nbconvert_exporter": "python",
   "pygments_lexer": "ipython3",
   "version": "3.10.14"
  }
 },
 "nbformat": 4,
 "nbformat_minor": 5
}
