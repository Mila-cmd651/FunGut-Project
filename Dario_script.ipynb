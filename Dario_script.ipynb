{
 "cells": [
  {
   "cell_type": "markdown",
   "id": "acea4220-50d2-4c3a-a105-021cc8d4a903",
   "metadata": {},
   "source": [
    "# FunGuts"
   ]
  },
  {
   "cell_type": "markdown",
   "id": "f78e3ca8-85bb-4570-80fc-357070355099",
   "metadata": {},
   "source": [
    "## Importing packages"
   ]
  },
  {
   "cell_type": "code",
   "execution_count": 1,
   "id": "b2f9f23c-5f73-4a6b-b1bc-63ed2760f595",
   "metadata": {
    "execution": {
     "iopub.execute_input": "2025-10-20T20:23:38.772473Z",
     "iopub.status.busy": "2025-10-20T20:23:38.772179Z",
     "iopub.status.idle": "2025-10-20T20:23:40.252330Z",
     "shell.execute_reply": "2025-10-20T20:23:40.251704Z",
     "shell.execute_reply.started": "2025-10-20T20:23:38.772452Z"
    },
    "tags": []
   },
   "outputs": [],
   "source": [
    "# Importing all required packages at the start of the notebook\n",
    "import IPython\n",
    "\n",
    "from qiime2 import Visualization\n",
    "\n",
    "import qiime2 as q2\n",
    "import pandas as pd\n",
    "import matplotlib.pyplot as plt\n",
    "\n",
    "%matplotlib inline"
   ]
  },
  {
   "cell_type": "markdown",
   "id": "ca9ef5a5-c088-4a4f-8aa4-5229ea7eadce",
   "metadata": {},
   "source": [
    "## Download the data"
   ]
  },
  {
   "cell_type": "code",
   "execution_count": 2,
   "id": "636d6645-8a15-4ac6-8cc1-d89f4093f852",
   "metadata": {
    "execution": {
     "iopub.execute_input": "2025-10-20T20:23:40.255241Z",
     "iopub.status.busy": "2025-10-20T20:23:40.253411Z",
     "iopub.status.idle": "2025-10-20T20:23:40.259108Z",
     "shell.execute_reply": "2025-10-20T20:23:40.258133Z",
     "shell.execute_reply.started": "2025-10-20T20:23:40.255213Z"
    },
    "tags": []
   },
   "outputs": [],
   "source": [
    "# Location of the projects data\n",
    "data_dir = 'projectData'"
   ]
  },
  {
   "cell_type": "code",
   "execution_count": 8,
   "id": "17894814-4f00-45eb-8d6e-0f77e9097e4d",
   "metadata": {
    "execution": {
     "iopub.execute_input": "2025-10-20T14:22:28.072092Z",
     "iopub.status.busy": "2025-10-20T14:22:28.071811Z",
     "iopub.status.idle": "2025-10-20T14:22:28.162905Z",
     "shell.execute_reply": "2025-10-20T14:22:28.161942Z",
     "shell.execute_reply.started": "2025-10-20T14:22:28.072062Z"
    },
    "tags": []
   },
   "outputs": [
    {
     "name": "stderr",
     "output_type": "stream",
     "text": [
      "File ‘projectData/fungut_forward_reads.qza’ already there; not retrieving.\n",
      "\n",
      "File ‘projectData/fungut_metadata.tsv’ already there; not retrieving.\n",
      "\n"
     ]
    }
   ],
   "source": [
    "%%bash -s $data_dir\n",
    "mkdir -p \"$1\"\n",
    "\n",
    "wget -nc --progress=dot:giga -P \"$1\" https://polybox.ethz.ch/index.php/s/uV06vmm96ZzB5eM/download/fungut_forward_reads.qza\n",
    "wget -nc --progress=dot:giga -P \"$1\" https://polybox.ethz.ch/index.php/s/CA76kKFC9FApqpR/download/fungut_metadata.tsv\n",
    "\n",
    "chmod -R +rxw \"$1\""
   ]
  },
  {
   "cell_type": "markdown",
   "id": "74edb075-c83b-4462-bb13-ac22997859ea",
   "metadata": {},
   "source": [
    "## Overview of the meta data"
   ]
  },
  {
   "cell_type": "code",
   "execution_count": 9,
   "id": "e49d44f7-134f-4553-bfe3-34d05b3e1697",
   "metadata": {
    "execution": {
     "iopub.execute_input": "2025-10-20T14:22:28.164184Z",
     "iopub.status.busy": "2025-10-20T14:22:28.163892Z",
     "iopub.status.idle": "2025-10-20T14:22:28.184365Z",
     "shell.execute_reply": "2025-10-20T14:22:28.183572Z",
     "shell.execute_reply.started": "2025-10-20T14:22:28.164149Z"
    },
    "tags": []
   },
   "outputs": [
    {
     "data": {
      "text/html": [
       "<div>\n",
       "<style scoped>\n",
       "    .dataframe tbody tr th:only-of-type {\n",
       "        vertical-align: middle;\n",
       "    }\n",
       "\n",
       "    .dataframe tbody tr th {\n",
       "        vertical-align: top;\n",
       "    }\n",
       "\n",
       "    .dataframe thead th {\n",
       "        text-align: right;\n",
       "    }\n",
       "</style>\n",
       "<table border=\"1\" class=\"dataframe\">\n",
       "  <thead>\n",
       "    <tr style=\"text-align: right;\">\n",
       "      <th></th>\n",
       "      <th>ID</th>\n",
       "      <th>country_sample</th>\n",
       "      <th>state_sample</th>\n",
       "      <th>latitude_sample</th>\n",
       "      <th>longitude_sample</th>\n",
       "      <th>sex_sample</th>\n",
       "      <th>age_years_sample</th>\n",
       "      <th>height_cm_sample</th>\n",
       "      <th>weight_kg_sample</th>\n",
       "      <th>bmi_sample</th>\n",
       "      <th>diet_type_sample</th>\n",
       "      <th>ibd_sample</th>\n",
       "      <th>gluten_sample</th>\n",
       "    </tr>\n",
       "  </thead>\n",
       "  <tbody>\n",
       "    <tr>\n",
       "      <th>0</th>\n",
       "      <td>ERR5327198</td>\n",
       "      <td>USA</td>\n",
       "      <td>TN</td>\n",
       "      <td>36.1</td>\n",
       "      <td>-86.8</td>\n",
       "      <td>female</td>\n",
       "      <td>67</td>\n",
       "      <td>152</td>\n",
       "      <td>41</td>\n",
       "      <td>17.75</td>\n",
       "      <td>Omnivore</td>\n",
       "      <td>I do not have this condition</td>\n",
       "      <td>No</td>\n",
       "    </tr>\n",
       "    <tr>\n",
       "      <th>1</th>\n",
       "      <td>ERR5327199</td>\n",
       "      <td>USA</td>\n",
       "      <td>DC</td>\n",
       "      <td>38.9</td>\n",
       "      <td>-77.1</td>\n",
       "      <td>male</td>\n",
       "      <td>55.0</td>\n",
       "      <td>182.0</td>\n",
       "      <td>79.0</td>\n",
       "      <td>23.73</td>\n",
       "      <td>Omnivore</td>\n",
       "      <td>I do not have this condition</td>\n",
       "      <td>I was diagnosed with gluten allergy (anti-glut...</td>\n",
       "    </tr>\n",
       "    <tr>\n",
       "      <th>2</th>\n",
       "      <td>ERR5327266</td>\n",
       "      <td>USA</td>\n",
       "      <td>VA</td>\n",
       "      <td>38.9</td>\n",
       "      <td>-77.1</td>\n",
       "      <td>female</td>\n",
       "      <td>28.0</td>\n",
       "      <td>175.0</td>\n",
       "      <td>61.0</td>\n",
       "      <td>19.94</td>\n",
       "      <td>Omnivore</td>\n",
       "      <td>I do not have this condition</td>\n",
       "      <td>I do not eat gluten because it makes me feel bad</td>\n",
       "    </tr>\n",
       "    <tr>\n",
       "      <th>3</th>\n",
       "      <td>ERR5327282</td>\n",
       "      <td>United Kingdom</td>\n",
       "      <td>Not provided</td>\n",
       "      <td>51.6</td>\n",
       "      <td>-0.2</td>\n",
       "      <td>female</td>\n",
       "      <td>26.0</td>\n",
       "      <td>166.0</td>\n",
       "      <td>60.0</td>\n",
       "      <td>21.77</td>\n",
       "      <td>Omnivore</td>\n",
       "      <td>I do not have this condition</td>\n",
       "      <td>No</td>\n",
       "    </tr>\n",
       "    <tr>\n",
       "      <th>4</th>\n",
       "      <td>ERR5327284</td>\n",
       "      <td>United Kingdom</td>\n",
       "      <td>Not provided</td>\n",
       "      <td>51.5</td>\n",
       "      <td>-0.2</td>\n",
       "      <td>female</td>\n",
       "      <td>25.0</td>\n",
       "      <td>173.0</td>\n",
       "      <td>59.0</td>\n",
       "      <td>20.01</td>\n",
       "      <td>Vegetarian but eat seafood</td>\n",
       "      <td>I do not have this condition</td>\n",
       "      <td>No</td>\n",
       "    </tr>\n",
       "    <tr>\n",
       "      <th>...</th>\n",
       "      <td>...</td>\n",
       "      <td>...</td>\n",
       "      <td>...</td>\n",
       "      <td>...</td>\n",
       "      <td>...</td>\n",
       "      <td>...</td>\n",
       "      <td>...</td>\n",
       "      <td>...</td>\n",
       "      <td>...</td>\n",
       "      <td>...</td>\n",
       "      <td>...</td>\n",
       "      <td>...</td>\n",
       "      <td>...</td>\n",
       "    </tr>\n",
       "    <tr>\n",
       "      <th>145</th>\n",
       "      <td>ERR5327599</td>\n",
       "      <td>Isle of Man</td>\n",
       "      <td>Not provided</td>\n",
       "      <td>54.2</td>\n",
       "      <td>-4.7</td>\n",
       "      <td>female</td>\n",
       "      <td>58.0</td>\n",
       "      <td>172.0</td>\n",
       "      <td>65.0</td>\n",
       "      <td>21.97</td>\n",
       "      <td>Omnivore</td>\n",
       "      <td>I do not have this condition</td>\n",
       "      <td>No</td>\n",
       "    </tr>\n",
       "    <tr>\n",
       "      <th>146</th>\n",
       "      <td>ERR5327604</td>\n",
       "      <td>United Kingdom</td>\n",
       "      <td>Not provided</td>\n",
       "      <td>51.4</td>\n",
       "      <td>-0.4</td>\n",
       "      <td>female</td>\n",
       "      <td>64.0</td>\n",
       "      <td>157.0</td>\n",
       "      <td>60.0</td>\n",
       "      <td>24.19</td>\n",
       "      <td>Omnivore but do not eat red meat</td>\n",
       "      <td>I do not have this condition</td>\n",
       "      <td>No</td>\n",
       "    </tr>\n",
       "    <tr>\n",
       "      <th>147</th>\n",
       "      <td>ERR5327605</td>\n",
       "      <td>United Kingdom</td>\n",
       "      <td>Not provided</td>\n",
       "      <td>52.8</td>\n",
       "      <td>-1.3</td>\n",
       "      <td>male</td>\n",
       "      <td>80.0</td>\n",
       "      <td>175.0</td>\n",
       "      <td>73.0</td>\n",
       "      <td>23.77</td>\n",
       "      <td>Vegetarian</td>\n",
       "      <td>I do not have this condition</td>\n",
       "      <td>No</td>\n",
       "    </tr>\n",
       "    <tr>\n",
       "      <th>148</th>\n",
       "      <td>ERR5327615</td>\n",
       "      <td>United Kingdom</td>\n",
       "      <td>Not provided</td>\n",
       "      <td>51.8</td>\n",
       "      <td>-1.3</td>\n",
       "      <td>female</td>\n",
       "      <td>53.0</td>\n",
       "      <td>176.0</td>\n",
       "      <td>64.0</td>\n",
       "      <td>20.66</td>\n",
       "      <td>Omnivore</td>\n",
       "      <td>I do not have this condition</td>\n",
       "      <td>No</td>\n",
       "    </tr>\n",
       "    <tr>\n",
       "      <th>149</th>\n",
       "      <td>ERR5327620</td>\n",
       "      <td>United Kingdom</td>\n",
       "      <td>Not provided</td>\n",
       "      <td>51.1</td>\n",
       "      <td>-1.3</td>\n",
       "      <td>female</td>\n",
       "      <td>63.0</td>\n",
       "      <td>165.0</td>\n",
       "      <td>74.0</td>\n",
       "      <td>27.18</td>\n",
       "      <td>Vegetarian</td>\n",
       "      <td>I do not have this condition</td>\n",
       "      <td>No</td>\n",
       "    </tr>\n",
       "  </tbody>\n",
       "</table>\n",
       "<p>150 rows × 13 columns</p>\n",
       "</div>"
      ],
      "text/plain": [
       "             ID  country_sample  state_sample latitude_sample  \\\n",
       "0    ERR5327198             USA            TN            36.1   \n",
       "1    ERR5327199             USA            DC            38.9   \n",
       "2    ERR5327266             USA            VA            38.9   \n",
       "3    ERR5327282  United Kingdom  Not provided            51.6   \n",
       "4    ERR5327284  United Kingdom  Not provided            51.5   \n",
       "..          ...             ...           ...             ...   \n",
       "145  ERR5327599     Isle of Man  Not provided            54.2   \n",
       "146  ERR5327604  United Kingdom  Not provided            51.4   \n",
       "147  ERR5327605  United Kingdom  Not provided            52.8   \n",
       "148  ERR5327615  United Kingdom  Not provided            51.8   \n",
       "149  ERR5327620  United Kingdom  Not provided            51.1   \n",
       "\n",
       "    longitude_sample sex_sample age_years_sample height_cm_sample  \\\n",
       "0              -86.8     female               67              152   \n",
       "1              -77.1       male             55.0            182.0   \n",
       "2              -77.1     female             28.0            175.0   \n",
       "3               -0.2     female             26.0            166.0   \n",
       "4               -0.2     female             25.0            173.0   \n",
       "..               ...        ...              ...              ...   \n",
       "145             -4.7     female             58.0            172.0   \n",
       "146             -0.4     female             64.0            157.0   \n",
       "147             -1.3       male             80.0            175.0   \n",
       "148             -1.3     female             53.0            176.0   \n",
       "149             -1.3     female             63.0            165.0   \n",
       "\n",
       "    weight_kg_sample bmi_sample                  diet_type_sample  \\\n",
       "0                 41      17.75                          Omnivore   \n",
       "1               79.0      23.73                          Omnivore   \n",
       "2               61.0      19.94                          Omnivore   \n",
       "3               60.0      21.77                          Omnivore   \n",
       "4               59.0      20.01        Vegetarian but eat seafood   \n",
       "..               ...        ...                               ...   \n",
       "145             65.0      21.97                          Omnivore   \n",
       "146             60.0      24.19  Omnivore but do not eat red meat   \n",
       "147             73.0      23.77                        Vegetarian   \n",
       "148             64.0      20.66                          Omnivore   \n",
       "149             74.0      27.18                        Vegetarian   \n",
       "\n",
       "                       ibd_sample  \\\n",
       "0    I do not have this condition   \n",
       "1    I do not have this condition   \n",
       "2    I do not have this condition   \n",
       "3    I do not have this condition   \n",
       "4    I do not have this condition   \n",
       "..                            ...   \n",
       "145  I do not have this condition   \n",
       "146  I do not have this condition   \n",
       "147  I do not have this condition   \n",
       "148  I do not have this condition   \n",
       "149  I do not have this condition   \n",
       "\n",
       "                                         gluten_sample  \n",
       "0                                                   No  \n",
       "1    I was diagnosed with gluten allergy (anti-glut...  \n",
       "2     I do not eat gluten because it makes me feel bad  \n",
       "3                                                   No  \n",
       "4                                                   No  \n",
       "..                                                 ...  \n",
       "145                                                 No  \n",
       "146                                                 No  \n",
       "147                                                 No  \n",
       "148                                                 No  \n",
       "149                                                 No  \n",
       "\n",
       "[150 rows x 13 columns]"
      ]
     },
     "execution_count": 9,
     "metadata": {},
     "output_type": "execute_result"
    }
   ],
   "source": [
    "# Read data\n",
    "df_meta = pd.read_csv('projectData/fungut_metadata.tsv', sep='\\t')\n",
    "df_meta"
   ]
  },
  {
   "cell_type": "code",
   "execution_count": 10,
   "id": "0eff8a55-4fce-412b-a59a-c0883b9e9f43",
   "metadata": {
    "execution": {
     "iopub.execute_input": "2025-10-20T14:22:28.186528Z",
     "iopub.status.busy": "2025-10-20T14:22:28.186225Z",
     "iopub.status.idle": "2025-10-20T14:22:28.406349Z",
     "shell.execute_reply": "2025-10-20T14:22:28.405750Z",
     "shell.execute_reply.started": "2025-10-20T14:22:28.186507Z"
    },
    "tags": []
   },
   "outputs": [
    {
     "data": {
      "image/png": "[encoded data removed]",
      "text/plain": [
       "<Figure size 640x480 with 1 Axes>"
      ]
     },
     "metadata": {},
     "output_type": "display_data"
    }
   ],
   "source": [
    "# Plotting some meta data\n",
    "df_countrySex = df_meta[['country_sample', 'sex_sample']].value_counts().reset_index(name='count')\n",
    "df_countrySexPivot = df_countrySex.pivot(index='country_sample', columns='sex_sample', values='count').fillna(0)\n",
    "\n",
    "df_countrySexPivot.plot(kind='bar', stacked=True)\n",
    "plt.title('Samples by Country and Sex')\n",
    "plt.xlabel('Country')\n",
    "plt.ylabel('Count')\n",
    "plt.legend(title='Sex')\n",
    "plt.show()"
   ]
  },
  {
   "cell_type": "markdown",
   "id": "e415a6de-6e11-4928-a046-cdfea2a24c68",
   "metadata": {},
   "source": [
    "## Sequence import"
   ]
  },
  {
   "cell_type": "code",
   "execution_count": 11,
   "id": "077da67f-1049-4697-837b-c2d851894ad9",
   "metadata": {
    "execution": {
     "iopub.execute_input": "2025-10-20T14:22:28.407636Z",
     "iopub.status.busy": "2025-10-20T14:22:28.407415Z",
     "iopub.status.idle": "2025-10-20T14:22:30.258492Z",
     "shell.execute_reply": "2025-10-20T14:22:30.257510Z",
     "shell.execute_reply.started": "2025-10-20T14:22:28.407618Z"
    },
    "tags": []
   },
   "outputs": [
    {
     "name": "stdout",
     "output_type": "stream",
     "text": [
      "\u001b[32mUUID\u001b[0m:        3638611d-1767-413b-9390-70ee3d78e4ff\n",
      "\u001b[32mType\u001b[0m:        SampleData[SequencesWithQuality]\n",
      "\u001b[32mData format\u001b[0m: SingleLanePerSampleSingleEndFastqDirFmt\n"
     ]
    }
   ],
   "source": [
    "# Examine at data\n",
    "! qiime tools peek $data_dir/fungut_forward_reads.qza"
   ]
  },
  {
   "cell_type": "code",
   "execution_count": 12,
   "id": "9eb2c94e-02dc-4371-851d-302c7a855a16",
   "metadata": {
    "execution": {
     "iopub.execute_input": "2025-10-20T14:22:30.262570Z",
     "iopub.status.busy": "2025-10-20T14:22:30.262230Z",
     "iopub.status.idle": "2025-10-20T14:23:59.457669Z",
     "shell.execute_reply": "2025-10-20T14:23:59.456965Z",
     "shell.execute_reply.started": "2025-10-20T14:22:30.262543Z"
    },
    "tags": []
   },
   "outputs": [
    {
     "name": "stdout",
     "output_type": "stream",
     "text": [
      "/opt/conda/lib/python3.10/site-packages/unifrac/__init__.py:9: UserWarning: pkg_resources is deprecated as an API. See https://setuptools.pypa.io/en/latest/pkg_resources.html. The pkg_resources package is slated for removal as early as 2025-11-30. Refrain from using this package or pin to Setuptools<81.\n",
      "  import pkg_resources\n",
      "\u001b[32mSaved Visualization to: projectData/fungut_forward_reads_demux_seqs.qzv\u001b[0m\n",
      "\u001b[0m\u001b[?25h"
     ]
    }
   ],
   "source": [
    "# Visual summary of the data\n",
    "! qiime demux summarize \\\n",
    "    --i-data $data_dir/fungut_forward_reads.qza \\\n",
    "    --o-visualization $data_dir/fungut_forward_reads_demux_seqs.qzv"
   ]
  },
  {
   "cell_type": "code",
   "execution_count": 13,
   "id": "4cb4fa59-bd44-442f-97ef-b74cf7d54bd8",
   "metadata": {
    "execution": {
     "iopub.execute_input": "2025-10-20T14:23:59.458636Z",
     "iopub.status.busy": "2025-10-20T14:23:59.458417Z",
     "iopub.status.idle": "2025-10-20T14:23:59.490937Z",
     "shell.execute_reply": "2025-10-20T14:23:59.490461Z",
     "shell.execute_reply.started": "2025-10-20T14:23:59.458617Z"
    },
    "tags": []
   },
   "outputs": [
    {
     "data": {
      "text/html": [
       "<div><img onload=\"(function(div, url){\n",
       "if (typeof require !== 'undefined') {\n",
       "    var baseURL = require.toUrl('').split('/').slice(0, -2).join('/');\n",
       "} else {\n",
       "    var baseURL = JSON.parse(\n",
       "        document.getElementById('jupyter-config-data').innerHTML\n",
       "    ).baseUrl.slice(0, -1);\n",
       "}\n",
       "url = baseURL + url;\n",
       "fetch(url).then(function(res) {\n",
       "    if (res.status === 404) {\n",
       "        div.innerHTML = 'Install QIIME 2 Jupyter extension with:<br />' +\n",
       "                        '<code>jupyter server extension enable --py qiime2' +\n",
       "                        ' --sys-prefix</code><br />then restart your server.' +\n",
       "                        '<br /><br />(Interactive output not available on ' +\n",
       "                        'static notebook viewer services like nbviewer.)';\n",
       "    } else if (res.status === 409) {\n",
       "        div.innerHTML = 'Visualization no longer in scope. Re-run this cell' +\n",
       "                        ' to see the visualization.';\n",
       "    } else if (res.ok) {\n",
       "        url = res.url;\n",
       "        div.innerHTML = '<iframe src=\\'' + url + '\\' style=\\'' +\n",
       "                        'width: 100%; height: 700px; border: 0;\\'>' +\n",
       "                        '</iframe><hr />Open in a: <a href=\\'' + url + '\\'' +\n",
       "                        ' target=\\'_blank\\'>new window</a>'\n",
       "    } else {\n",
       "        div.innerHTML = 'Something has gone wrong. Check notebook server for' +\n",
       "                        ' errors.';\n",
       "    }\n",
       "});\n",
       "})(this.parentElement, '/qiime2/redirect?location=/tmp/qiime2/jovyan/data/62965f5d-e444-4c50-81e6-c54fa0555b6f')\" src=\"data:image/gif;base64,R0lGODlhAQABAIAAAP///wAAACH5BAEAAAAALAAAAAABAAEAAAICRAEAOw==\" /></div>"
      ],
      "text/plain": [
       "<visualization: Visualization uuid: 62965f5d-e444-4c50-81e6-c54fa0555b6f>"
      ]
     },
     "execution_count": 13,
     "metadata": {},
     "output_type": "execute_result"
    }
   ],
   "source": [
    "Visualization.load(f\"{data_dir}/fungut_forward_reads_demux_seqs.qzv\")"
   ]
  },
  {
   "cell_type": "markdown",
   "id": "189b686f-addc-406a-b800-28b77febc715",
   "metadata": {},
   "source": [
    "Notes from visualization:\n",
    "- Really good quality, no trimming needed? -> Last three position a median quality score of 151:38, 150:38, 149:37"
   ]
  },
  {
   "cell_type": "markdown",
   "id": "c95e1164-2374-433f-94cd-9ed0072a8a79",
   "metadata": {},
   "source": [
    "## Denoising - Amplicon Sequence Variants"
   ]
  },
  {
   "cell_type": "code",
   "execution_count": 14,
   "id": "f21247bd-ae3d-4616-b7ad-e7ca7bb911a8",
   "metadata": {
    "execution": {
     "iopub.execute_input": "2025-10-20T14:23:59.492237Z",
     "iopub.status.busy": "2025-10-20T14:23:59.491609Z",
     "iopub.status.idle": "2025-10-20T14:31:47.525820Z",
     "shell.execute_reply": "2025-10-20T14:31:47.525063Z",
     "shell.execute_reply.started": "2025-10-20T14:23:59.492214Z"
    },
    "tags": []
   },
   "outputs": [
    {
     "name": "stdout",
     "output_type": "stream",
     "text": [
      "/opt/conda/lib/python3.10/site-packages/unifrac/__init__.py:9: UserWarning: pkg_resources is deprecated as an API. See https://setuptools.pypa.io/en/latest/pkg_resources.html. The pkg_resources package is slated for removal as early as 2025-11-30. Refrain from using this package or pin to Setuptools<81.\n",
      "  import pkg_resources\n",
      "\u001b[32mSaved FeatureTable[Frequency] to: projectData/dada2_table.qza\u001b[0m\n",
      "\u001b[32mSaved FeatureData[Sequence] to: projectData/dada2_rep_set.qza\u001b[0m\n",
      "\u001b[32mSaved SampleData[DADA2Stats] to: projectData/dada2_stats.qza\u001b[0m\n",
      "\u001b[0m\u001b[?25h"
     ]
    }
   ],
   "source": [
    "! qiime dada2 denoise-single \\\n",
    "    --i-demultiplexed-seqs $data_dir/fungut_forward_reads.qza \\\n",
    "    --p-trunc-len 140 \\\n",
    "    --p-n-threads 3 \\\n",
    "    --p-max-ee 4 \\\n",
    "    --p-min-fold-parent-over-abundance 4 \\\n",
    "    --o-table $data_dir/dada2_table.qza \\\n",
    "    --o-representative-sequences $data_dir/dada2_rep_set.qza \\\n",
    "    --o-denoising-stats $data_dir/dada2_stats.qza"
   ]
  },
  {
   "cell_type": "code",
   "execution_count": 15,
   "id": "75e3c4a5-879d-4522-bb57-28f599c96c2a",
   "metadata": {
    "execution": {
     "iopub.execute_input": "2025-10-20T14:31:47.526903Z",
     "iopub.status.busy": "2025-10-20T14:31:47.526661Z",
     "iopub.status.idle": "2025-10-20T14:32:19.289061Z",
     "shell.execute_reply": "2025-10-20T14:32:19.288366Z",
     "shell.execute_reply.started": "2025-10-20T14:31:47.526880Z"
    },
    "tags": []
   },
   "outputs": [
    {
     "name": "stdout",
     "output_type": "stream",
     "text": [
      "/opt/conda/lib/python3.10/site-packages/unifrac/__init__.py:9: UserWarning: pkg_resources is deprecated as an API. See https://setuptools.pypa.io/en/latest/pkg_resources.html. The pkg_resources package is slated for removal as early as 2025-11-30. Refrain from using this package or pin to Setuptools<81.\n",
      "  import pkg_resources\n",
      "\u001b[32mSaved Visualization to: projectData/dada2_stats.qzv\u001b[0m\n",
      "\u001b[0m\u001b[?25h"
     ]
    }
   ],
   "source": [
    "# Inspect the denoising stats\n",
    "! qiime metadata tabulate \\\n",
    "    --m-input-file $data_dir/dada2_stats.qza \\\n",
    "    --o-visualization $data_dir/dada2_stats.qzv"
   ]
  },
  {
   "cell_type": "code",
   "execution_count": 16,
   "id": "be08d925-bb2d-4027-8be8-fbf4ddda6fde",
   "metadata": {
    "execution": {
     "iopub.execute_input": "2025-10-20T14:32:19.290063Z",
     "iopub.status.busy": "2025-10-20T14:32:19.289861Z",
     "iopub.status.idle": "2025-10-20T14:32:19.328446Z",
     "shell.execute_reply": "2025-10-20T14:32:19.327833Z",
     "shell.execute_reply.started": "2025-10-20T14:32:19.290043Z"
    },
    "tags": []
   },
   "outputs": [
    {
     "data": {
      "text/html": [
       "<div><img onload=\"(function(div, url){\n",
       "if (typeof require !== 'undefined') {\n",
       "    var baseURL = require.toUrl('').split('/').slice(0, -2).join('/');\n",
       "} else {\n",
       "    var baseURL = JSON.parse(\n",
       "        document.getElementById('jupyter-config-data').innerHTML\n",
       "    ).baseUrl.slice(0, -1);\n",
       "}\n",
       "url = baseURL + url;\n",
       "fetch(url).then(function(res) {\n",
       "    if (res.status === 404) {\n",
       "        div.innerHTML = 'Install QIIME 2 Jupyter extension with:<br />' +\n",
       "                        '<code>jupyter server extension enable --py qiime2' +\n",
       "                        ' --sys-prefix</code><br />then restart your server.' +\n",
       "                        '<br /><br />(Interactive output not available on ' +\n",
       "                        'static notebook viewer services like nbviewer.)';\n",
       "    } else if (res.status === 409) {\n",
       "        div.innerHTML = 'Visualization no longer in scope. Re-run this cell' +\n",
       "                        ' to see the visualization.';\n",
       "    } else if (res.ok) {\n",
       "        url = res.url;\n",
       "        div.innerHTML = '<iframe src=\\'' + url + '\\' style=\\'' +\n",
       "                        'width: 100%; height: 700px; border: 0;\\'>' +\n",
       "                        '</iframe><hr />Open in a: <a href=\\'' + url + '\\'' +\n",
       "                        ' target=\\'_blank\\'>new window</a>'\n",
       "    } else {\n",
       "        div.innerHTML = 'Something has gone wrong. Check notebook server for' +\n",
       "                        ' errors.';\n",
       "    }\n",
       "});\n",
       "})(this.parentElement, '/qiime2/redirect?location=/tmp/qiime2/jovyan/data/1d5a1cda-cd68-443a-a9f3-0b03b50ac57f')\" src=\"data:image/gif;base64,R0lGODlhAQABAIAAAP///wAAACH5BAEAAAAALAAAAAABAAEAAAICRAEAOw==\" /></div>"
      ],
      "text/plain": [
       "<visualization: Visualization uuid: 1d5a1cda-cd68-443a-a9f3-0b03b50ac57f>"
      ]
     },
     "execution_count": 16,
     "metadata": {},
     "output_type": "execute_result"
    }
   ],
   "source": [
    "Visualization.load(f\"{data_dir}/dada2_stats.qzv\")"
   ]
  },
  {
   "cell_type": "code",
   "execution_count": 17,
   "id": "1f197a92-e07e-4137-9636-0b7a82607cfd",
   "metadata": {
    "execution": {
     "iopub.execute_input": "2025-10-20T14:32:19.329867Z",
     "iopub.status.busy": "2025-10-20T14:32:19.329191Z",
     "iopub.status.idle": "2025-10-20T14:32:51.368781Z",
     "shell.execute_reply": "2025-10-20T14:32:51.367806Z",
     "shell.execute_reply.started": "2025-10-20T14:32:19.329846Z"
    },
    "tags": []
   },
   "outputs": [
    {
     "name": "stdout",
     "output_type": "stream",
     "text": [
      "/opt/conda/lib/python3.10/site-packages/unifrac/__init__.py:9: UserWarning: pkg_resources is deprecated as an API. See https://setuptools.pypa.io/en/latest/pkg_resources.html. The pkg_resources package is slated for removal as early as 2025-11-30. Refrain from using this package or pin to Setuptools<81.\n",
      "  import pkg_resources\n",
      "\u001b[32mSaved Visualization to: projectData/dada2_rep_set.qzv\u001b[0m\n",
      "\u001b[0m\u001b[?25h"
     ]
    }
   ],
   "source": [
    "# Create a feature table\n",
    "! qiime feature-table tabulate-seqs \\\n",
    "    --i-data $data_dir/dada2_rep_set.qza \\\n",
    "    --o-visualization $data_dir/dada2_rep_set.qzv"
   ]
  },
  {
   "cell_type": "code",
   "execution_count": 18,
   "id": "0b7efca4-c14e-4f1c-8041-237863ccaa39",
   "metadata": {
    "execution": {
     "iopub.execute_input": "2025-10-20T14:32:51.372268Z",
     "iopub.status.busy": "2025-10-20T14:32:51.371974Z",
     "iopub.status.idle": "2025-10-20T14:32:51.401211Z",
     "shell.execute_reply": "2025-10-20T14:32:51.400445Z",
     "shell.execute_reply.started": "2025-10-20T14:32:51.372245Z"
    },
    "tags": []
   },
   "outputs": [
    {
     "data": {
      "text/html": [
       "<div><img onload=\"(function(div, url){\n",
       "if (typeof require !== 'undefined') {\n",
       "    var baseURL = require.toUrl('').split('/').slice(0, -2).join('/');\n",
       "} else {\n",
       "    var baseURL = JSON.parse(\n",
       "        document.getElementById('jupyter-config-data').innerHTML\n",
       "    ).baseUrl.slice(0, -1);\n",
       "}\n",
       "url = baseURL + url;\n",
       "fetch(url).then(function(res) {\n",
       "    if (res.status === 404) {\n",
       "        div.innerHTML = 'Install QIIME 2 Jupyter extension with:<br />' +\n",
       "                        '<code>jupyter server extension enable --py qiime2' +\n",
       "                        ' --sys-prefix</code><br />then restart your server.' +\n",
       "                        '<br /><br />(Interactive output not available on ' +\n",
       "                        'static notebook viewer services like nbviewer.)';\n",
       "    } else if (res.status === 409) {\n",
       "        div.innerHTML = 'Visualization no longer in scope. Re-run this cell' +\n",
       "                        ' to see the visualization.';\n",
       "    } else if (res.ok) {\n",
       "        url = res.url;\n",
       "        div.innerHTML = '<iframe src=\\'' + url + '\\' style=\\'' +\n",
       "                        'width: 100%; height: 700px; border: 0;\\'>' +\n",
       "                        '</iframe><hr />Open in a: <a href=\\'' + url + '\\'' +\n",
       "                        ' target=\\'_blank\\'>new window</a>'\n",
       "    } else {\n",
       "        div.innerHTML = 'Something has gone wrong. Check notebook server for' +\n",
       "                        ' errors.';\n",
       "    }\n",
       "});\n",
       "})(this.parentElement, '/qiime2/redirect?location=/tmp/qiime2/jovyan/data/a498ec4d-1ccf-447a-8033-e56ba7e49d41')\" src=\"data:image/gif;base64,R0lGODlhAQABAIAAAP///wAAACH5BAEAAAAALAAAAAABAAEAAAICRAEAOw==\" /></div>"
      ],
      "text/plain": [
       "<visualization: Visualization uuid: a498ec4d-1ccf-447a-8033-e56ba7e49d41>"
      ]
     },
     "execution_count": 18,
     "metadata": {},
     "output_type": "execute_result"
    }
   ],
   "source": [
    "Visualization.load(f\"{data_dir}/dada2_rep_set.qzv\")"
   ]
  },
  {
   "cell_type": "code",
   "execution_count": 76,
   "id": "e2600198-8c6c-4f82-8c39-f3904c4f0ff8",
   "metadata": {
    "execution": {
     "iopub.execute_input": "2025-10-20T16:28:16.698937Z",
     "iopub.status.busy": "2025-10-20T16:28:16.698309Z",
     "iopub.status.idle": "2025-10-20T16:28:49.547946Z",
     "shell.execute_reply": "2025-10-20T16:28:49.547224Z",
     "shell.execute_reply.started": "2025-10-20T16:28:16.698908Z"
    },
    "tags": []
   },
   "outputs": [
    {
     "name": "stdout",
     "output_type": "stream",
     "text": [
      "/opt/conda/lib/python3.10/site-packages/unifrac/__init__.py:9: UserWarning: pkg_resources is deprecated as an API. See https://setuptools.pypa.io/en/latest/pkg_resources.html. The pkg_resources package is slated for removal as early as 2025-11-30. Refrain from using this package or pin to Setuptools<81.\n",
      "  import pkg_resources\n",
      "\u001b[32mSaved ImmutableMetadata to: projectData/asv-frequencies.qza\u001b[0m\n",
      "\u001b[32mSaved ImmutableMetadata to: projectData/sample-frequencies.qza\u001b[0m\n",
      "\u001b[32mSaved Visualization to: projectData/dada2_table.qzv\u001b[0m\n",
      "\u001b[0m\u001b[?25h"
     ]
    }
   ],
   "source": [
    "! qiime feature-table summarize-plus \\\n",
    "    --i-table $data_dir/dada2_table.qza \\\n",
    "    --m-metadata-file $data_dir/fungut_metadata.tsv \\\n",
    "    --o-summary $data_dir/dada2_table.qzv \\\n",
    "    --o-sample-frequencies $data_dir/sample-frequencies.qza \\\n",
    "    --o-feature-frequencies $data_dir/asv-frequencies.qza"
   ]
  },
  {
   "cell_type": "code",
   "execution_count": 77,
   "id": "54a65c01-2142-496d-ac27-929449210f03",
   "metadata": {
    "execution": {
     "iopub.execute_input": "2025-10-20T16:28:49.549629Z",
     "iopub.status.busy": "2025-10-20T16:28:49.549153Z",
     "iopub.status.idle": "2025-10-20T16:28:49.580780Z",
     "shell.execute_reply": "2025-10-20T16:28:49.580194Z",
     "shell.execute_reply.started": "2025-10-20T16:28:49.549605Z"
    },
    "tags": []
   },
   "outputs": [
    {
     "data": {
      "text/html": [
       "<div><img onload=\"(function(div, url){\n",
       "if (typeof require !== 'undefined') {\n",
       "    var baseURL = require.toUrl('').split('/').slice(0, -2).join('/');\n",
       "} else {\n",
       "    var baseURL = JSON.parse(\n",
       "        document.getElementById('jupyter-config-data').innerHTML\n",
       "    ).baseUrl.slice(0, -1);\n",
       "}\n",
       "url = baseURL + url;\n",
       "fetch(url).then(function(res) {\n",
       "    if (res.status === 404) {\n",
       "        div.innerHTML = 'Install QIIME 2 Jupyter extension with:<br />' +\n",
       "                        '<code>jupyter server extension enable --py qiime2' +\n",
       "                        ' --sys-prefix</code><br />then restart your server.' +\n",
       "                        '<br /><br />(Interactive output not available on ' +\n",
       "                        'static notebook viewer services like nbviewer.)';\n",
       "    } else if (res.status === 409) {\n",
       "        div.innerHTML = 'Visualization no longer in scope. Re-run this cell' +\n",
       "                        ' to see the visualization.';\n",
       "    } else if (res.ok) {\n",
       "        url = res.url;\n",
       "        div.innerHTML = '<iframe src=\\'' + url + '\\' style=\\'' +\n",
       "                        'width: 100%; height: 700px; border: 0;\\'>' +\n",
       "                        '</iframe><hr />Open in a: <a href=\\'' + url + '\\'' +\n",
       "                        ' target=\\'_blank\\'>new window</a>'\n",
       "    } else {\n",
       "        div.innerHTML = 'Something has gone wrong. Check notebook server for' +\n",
       "                        ' errors.';\n",
       "    }\n",
       "});\n",
       "})(this.parentElement, '/qiime2/redirect?location=/tmp/qiime2/jovyan/data/8782d67a-490d-4904-aa12-1dc13eaf085e')\" src=\"data:image/gif;base64,R0lGODlhAQABAIAAAP///wAAACH5BAEAAAAALAAAAAABAAEAAAICRAEAOw==\" /></div>"
      ],
      "text/plain": [
       "<visualization: Visualization uuid: 8782d67a-490d-4904-aa12-1dc13eaf085e>"
      ]
     },
     "execution_count": 77,
     "metadata": {},
     "output_type": "execute_result"
    }
   ],
   "source": [
    "Visualization.load(f\"{data_dir}/dada2_table.qzv\")"
   ]
  },
  {
   "cell_type": "markdown",
   "id": "bbdf2426-64e4-4022-8d4e-db976b264b8c",
   "metadata": {},
   "source": [
    "## Taxonomy assignment"
   ]
  },
  {
   "cell_type": "markdown",
   "id": "5d52a866-622e-41c9-b4ab-bfde6cd120d9",
   "metadata": {},
   "source": [
    "### Reference database construction  \n",
    "Using the tutorial from W5 ([link](https://forum.qiime2.org/t/how-to-train-a-unite-classifier-using-rescript/28285?u=nicholas_bokulich)) for ITS regions  \n",
    "\n",
    "Download and prepare the UNITE data"
   ]
  },
  {
   "cell_type": "code",
   "execution_count": 21,
   "id": "6f69eff6-a99d-466b-8fea-ac58d8fbc5b3",
   "metadata": {
    "execution": {
     "iopub.execute_input": "2025-10-20T14:33:24.447309Z",
     "iopub.status.busy": "2025-10-20T14:33:24.446730Z",
     "iopub.status.idle": "2025-10-20T14:33:24.687825Z",
     "shell.execute_reply": "2025-10-20T14:33:24.686779Z",
     "shell.execute_reply.started": "2025-10-20T14:33:24.447285Z"
    },
    "tags": []
   },
   "outputs": [],
   "source": [
    "! [ -d \"{data_dir}/uniteDB\" ] || qiime rescript get-unite-data \\\n",
    "  --p-version '2025-02-19' \\\n",
    "  --p-taxon-group eukaryotes \\\n",
    "  --p-cluster-id dynamic \\\n",
    "  --p-no-singletons \\\n",
    "  --verbose \\\n",
    "  --output-dir \"{data_dir}/uniteDB\""
   ]
  },
  {
   "cell_type": "markdown",
   "id": "8b9d2adc-e1fa-404b-a7dc-0b8e9804118c",
   "metadata": {},
   "source": [
    "Filter out unwanted placeholder taxa"
   ]
  },
  {
   "cell_type": "code",
   "execution_count": 22,
   "id": "491e2b44-9d41-4e77-ad58-3facbcf533f3",
   "metadata": {
    "execution": {
     "iopub.execute_input": "2025-10-20T14:33:24.690004Z",
     "iopub.status.busy": "2025-10-20T14:33:24.689197Z",
     "iopub.status.idle": "2025-10-20T14:34:12.405344Z",
     "shell.execute_reply": "2025-10-20T14:34:12.404288Z",
     "shell.execute_reply.started": "2025-10-20T14:33:24.689969Z"
    },
    "tags": []
   },
   "outputs": [
    {
     "name": "stdout",
     "output_type": "stream",
     "text": [
      "/opt/conda/lib/python3.10/site-packages/unifrac/__init__.py:9: UserWarning: pkg_resources is deprecated as an API. See https://setuptools.pypa.io/en/latest/pkg_resources.html. The pkg_resources package is slated for removal as early as 2025-11-30. Refrain from using this package or pin to Setuptools<81.\n",
      "  import pkg_resources\n",
      "\u001b[32mSaved FeatureData[Sequence] to: projectData/uniteDB/sequences-filtered.qza\u001b[0m\n",
      "\u001b[32mSaved FeatureData[Sequence] to: projectData/uniteDB/sequences-discarded.qza\u001b[0m\n",
      "\u001b[0m\u001b[?25h"
     ]
    }
   ],
   "source": [
    "! qiime rescript filter-seqs-length \\\n",
    "    --i-sequences $data_dir/uniteDB/sequences.qza \\\n",
    "    --p-global-min 100 \\\n",
    "    --o-filtered-seqs $data_dir/uniteDB/sequences-filtered.qza \\\n",
    "    --o-discarded-seqs $data_dir/uniteDB/sequences-discarded.qza"
   ]
  },
  {
   "cell_type": "markdown",
   "id": "2ea2f947-e778-4bce-affc-5312b08bae20",
   "metadata": {},
   "source": [
    "Edit taxonomy to remove SH codes"
   ]
  },
  {
   "cell_type": "code",
   "execution_count": 23,
   "id": "4bb4ead9-8133-4229-acfb-ef7925ca1184",
   "metadata": {
    "execution": {
     "iopub.execute_input": "2025-10-20T14:34:12.407475Z",
     "iopub.status.busy": "2025-10-20T14:34:12.407002Z",
     "iopub.status.idle": "2025-10-20T14:34:46.077061Z",
     "shell.execute_reply": "2025-10-20T14:34:46.076372Z",
     "shell.execute_reply.started": "2025-10-20T14:34:12.407445Z"
    },
    "tags": []
   },
   "outputs": [
    {
     "name": "stdout",
     "output_type": "stream",
     "text": [
      "/opt/conda/lib/python3.10/site-packages/unifrac/__init__.py:9: UserWarning: pkg_resources is deprecated as an API. See https://setuptools.pypa.io/en/latest/pkg_resources.html. The pkg_resources package is slated for removal as early as 2025-11-30. Refrain from using this package or pin to Setuptools<81.\n",
      "  import pkg_resources\n",
      "\u001b[32mSaved FeatureData[Taxonomy] to: projectData/uniteDB/taxonomy-no-SH.qza\u001b[0m\n",
      "\u001b[0m\u001b[?25h"
     ]
    }
   ],
   "source": [
    "! qiime rescript edit-taxonomy \\\n",
    "    --i-taxonomy $data_dir/uniteDB/taxonomy.qza \\\n",
    "    --o-edited-taxonomy $data_dir/uniteDB/taxonomy-no-SH.qza \\\n",
    "    --p-search-strings ';sh__.*' \\\n",
    "    --p-replacement-strings '' \\\n",
    "    --p-use-regex"
   ]
  },
  {
   "cell_type": "markdown",
   "id": "c1f1a4da-e8de-4cc7-aeb6-a7b4faae6e30",
   "metadata": {},
   "source": [
    "Extract ITS1 region form the UNITE reference sequences.  \n",
    "Primers used: f-primer ITS1F (CTTGGTCATTTAGAGGAAGTAA), r-primer ITS2 (GCTGCGTTCTTCATCGATGC)"
   ]
  },
  {
   "cell_type": "code",
   "execution_count": 24,
   "id": "46e526a2-583f-4fc9-9847-e29f896f3b8e",
   "metadata": {
    "execution": {
     "iopub.execute_input": "2025-10-20T14:34:46.078571Z",
     "iopub.status.busy": "2025-10-20T14:34:46.078247Z",
     "iopub.status.idle": "2025-10-20T14:42:19.624307Z",
     "shell.execute_reply": "2025-10-20T14:42:19.623626Z",
     "shell.execute_reply.started": "2025-10-20T14:34:46.078542Z"
    },
    "tags": []
   },
   "outputs": [
    {
     "name": "stdout",
     "output_type": "stream",
     "text": [
      "/opt/conda/lib/python3.10/site-packages/unifrac/__init__.py:9: UserWarning: pkg_resources is deprecated as an API. See https://setuptools.pypa.io/en/latest/pkg_resources.html. The pkg_resources package is slated for removal as early as 2025-11-30. Refrain from using this package or pin to Setuptools<81.\n",
      "  import pkg_resources\n",
      "\u001b[32mSaved FeatureData[Sequence] to: projectData/uniteDB/sequences-eukaryote-ITS1.qza\u001b[0m\n",
      "\u001b[0m\u001b[?25h"
     ]
    }
   ],
   "source": [
    "! qiime feature-classifier extract-reads \\\n",
    "  --i-sequences $data_dir/uniteDB/sequences-filtered.qza \\\n",
    "  --p-f-primer 'CTTGGTCATTTAGAGGAAGTAA' \\\n",
    "  --p-r-primer 'GCTGCGTTCTTCATCGATGC' \\\n",
    "  --p-trunc-len 140 \\\n",
    "  --o-reads $data_dir/uniteDB/sequences-eukaryote-ITS1.qza"
   ]
  },
  {
   "cell_type": "markdown",
   "id": "109caa57-e335-4ec2-b916-4979f29c7ab8",
   "metadata": {
    "tags": []
   },
   "source": [
    "Dereplicate / collapse identical sequences"
   ]
  },
  {
   "cell_type": "code",
   "execution_count": 25,
   "id": "231ac5e7-eb70-4d60-8c0d-6bba829030b7",
   "metadata": {
    "execution": {
     "iopub.execute_input": "2025-10-20T14:42:19.625283Z",
     "iopub.status.busy": "2025-10-20T14:42:19.625061Z",
     "iopub.status.idle": "2025-10-20T14:42:55.815822Z",
     "shell.execute_reply": "2025-10-20T14:42:55.815215Z",
     "shell.execute_reply.started": "2025-10-20T14:42:19.625263Z"
    },
    "tags": []
   },
   "outputs": [
    {
     "name": "stdout",
     "output_type": "stream",
     "text": [
      "/opt/conda/lib/python3.10/site-packages/unifrac/__init__.py:9: UserWarning: pkg_resources is deprecated as an API. See https://setuptools.pypa.io/en/latest/pkg_resources.html. The pkg_resources package is slated for removal as early as 2025-11-30. Refrain from using this package or pin to Setuptools<81.\n",
      "  import pkg_resources\n",
      "\u001b[32mSaved FeatureData[Sequence] to: projectData/uniteDB/derep-seqs-ITS1.qza\u001b[0m\n",
      "\u001b[32mSaved FeatureData[Taxonomy] to: projectData/uniteDB/derep-tax-ITS1.qza\u001b[0m\n",
      "\u001b[0m\u001b[?25h"
     ]
    }
   ],
   "source": [
    "! qiime rescript dereplicate \\\n",
    "  --i-sequences $data_dir/uniteDB/sequences-eukaryote-ITS1.qza \\\n",
    "  --i-taxa $data_dir/uniteDB/taxonomy-no-SH.qza \\\n",
    "  --o-dereplicated-sequences $data_dir/uniteDB/derep-seqs-ITS1.qza \\\n",
    "  --o-dereplicated-taxa $data_dir/uniteDB/derep-tax-ITS1.qza"
   ]
  },
  {
   "cell_type": "code",
   "execution_count": 26,
   "id": "95b6c34b-2198-4af2-baf1-692fc7d8bf0e",
   "metadata": {
    "execution": {
     "iopub.execute_input": "2025-10-20T14:42:55.816835Z",
     "iopub.status.busy": "2025-10-20T14:42:55.816616Z",
     "iopub.status.idle": "2025-10-20T14:43:22.283600Z",
     "shell.execute_reply": "2025-10-20T14:43:22.282977Z",
     "shell.execute_reply.started": "2025-10-20T14:42:55.816815Z"
    },
    "tags": []
   },
   "outputs": [
    {
     "name": "stderr",
     "output_type": "stream",
     "text": [
      "/opt/conda/lib/python3.10/site-packages/unifrac/__init__.py:9: UserWarning: pkg_resources is deprecated as an API. See https://setuptools.pypa.io/en/latest/pkg_resources.html. The pkg_resources package is slated for removal as early as 2025-11-30. Refrain from using this package or pin to Setuptools<81.\n",
      "  import pkg_resources\n"
     ]
    },
    {
     "name": "stdout",
     "output_type": "stream",
     "text": [
      "Before dereplication: 13832\n",
      "After dereplication: 13541\n"
     ]
    }
   ],
   "source": [
    "# Check if the dereplication step did anything since its already done with UNITE data\n",
    "seqs_before = q2.Artifact.load(f'{data_dir}/uniteDB/sequences-eukaryote-ITS1.qza').view(pd.Series)\n",
    "seqs_after = q2.Artifact.load(f'{data_dir}/uniteDB/derep-seqs-ITS1.qza').view(pd.Series)\n",
    "\n",
    "print(\"Before dereplication:\", len(seqs_before))\n",
    "print(\"After dereplication:\", len(seqs_after))"
   ]
  },
  {
   "cell_type": "markdown",
   "id": "07bcaa94-2b27-4612-b117-fda960a2387a",
   "metadata": {},
   "source": [
    "Train ITS classifier"
   ]
  },
  {
   "cell_type": "code",
   "execution_count": 27,
   "id": "4f57a91e-464a-4b02-8c1e-9a161e415089",
   "metadata": {
    "execution": {
     "iopub.execute_input": "2025-10-20T14:43:22.284955Z",
     "iopub.status.busy": "2025-10-20T14:43:22.284504Z",
     "iopub.status.idle": "2025-10-20T14:44:27.309365Z",
     "shell.execute_reply": "2025-10-20T14:44:27.308725Z",
     "shell.execute_reply.started": "2025-10-20T14:43:22.284933Z"
    },
    "tags": []
   },
   "outputs": [
    {
     "name": "stdout",
     "output_type": "stream",
     "text": [
      "/opt/conda/lib/python3.10/site-packages/unifrac/__init__.py:9: UserWarning: pkg_resources is deprecated as an API. See https://setuptools.pypa.io/en/latest/pkg_resources.html. The pkg_resources package is slated for removal as early as 2025-11-30. Refrain from using this package or pin to Setuptools<81.\n",
      "  import pkg_resources\n",
      "\u001b[32mSaved TaxonomicClassifier to: projectData/uniteDB/classifier-ITS1-eukaryote.qza\u001b[0m\n",
      "\u001b[0m\u001b[?25h"
     ]
    }
   ],
   "source": [
    "! qiime feature-classifier fit-classifier-naive-bayes \\\n",
    "  --i-reference-reads $data_dir/uniteDB/derep-seqs-ITS1.qza \\\n",
    "  --i-reference-taxonomy $data_dir/uniteDB/derep-tax-ITS1.qza \\\n",
    "  --o-classifier $data_dir/uniteDB/classifier-ITS1-eukaryote.qza"
   ]
  },
  {
   "cell_type": "markdown",
   "id": "2a4688ea-1545-4ccf-bfd6-8b19c57d21a7",
   "metadata": {},
   "source": [
    "Check if the training was successfull"
   ]
  },
  {
   "cell_type": "code",
   "execution_count": 28,
   "id": "53f4d5be-0e9a-4ea3-b3e0-134c36711da8",
   "metadata": {
    "execution": {
     "iopub.execute_input": "2025-10-20T14:44:27.310374Z",
     "iopub.status.busy": "2025-10-20T14:44:27.310143Z",
     "iopub.status.idle": "2025-10-20T14:44:29.127211Z",
     "shell.execute_reply": "2025-10-20T14:44:29.126581Z",
     "shell.execute_reply.started": "2025-10-20T14:44:27.310352Z"
    },
    "tags": []
   },
   "outputs": [
    {
     "name": "stdout",
     "output_type": "stream",
     "text": [
      "\u001b[32mUUID\u001b[0m:        ba1325c7-f4df-48c3-ab18-68f9981b54c1\n",
      "\u001b[32mType\u001b[0m:        TaxonomicClassifier\n",
      "\u001b[32mData format\u001b[0m: TaxonomicClassiferTemporaryPickleDirFmt\n"
     ]
    }
   ],
   "source": [
    "!qiime tools peek projectData/uniteDB/classifier-ITS1-eukaryote.qza"
   ]
  },
  {
   "cell_type": "markdown",
   "id": "b254fe68-5cb9-4bd5-a845-ec39996e23ff",
   "metadata": {},
   "source": [
    "Evaluate the classifier"
   ]
  },
  {
   "cell_type": "code",
   "execution_count": 29,
   "id": "b3335f4f-0c27-4838-97ea-badb2b1f648c",
   "metadata": {
    "execution": {
     "iopub.execute_input": "2025-10-20T14:44:29.129431Z",
     "iopub.status.busy": "2025-10-20T14:44:29.129170Z",
     "iopub.status.idle": "2025-10-20T14:45:45.635902Z",
     "shell.execute_reply": "2025-10-20T14:45:45.635310Z",
     "shell.execute_reply.started": "2025-10-20T14:44:29.129406Z"
    },
    "tags": []
   },
   "outputs": [
    {
     "name": "stdout",
     "output_type": "stream",
     "text": [
      "/opt/conda/lib/python3.10/site-packages/unifrac/__init__.py:9: UserWarning: pkg_resources is deprecated as an API. See https://setuptools.pypa.io/en/latest/pkg_resources.html. The pkg_resources package is slated for removal as early as 2025-11-30. Refrain from using this package or pin to Setuptools<81.\n",
      "  import pkg_resources\n"
     ]
    }
   ],
   "source": [
    "! qiime rescript evaluate-fit-classifier \\\n",
    "    --i-sequences $data_dir/uniteDB/derep-seqs-ITS1.qza \\\n",
    "    --i-taxonomy $data_dir/uniteDB/derep-tax-ITS1.qza \\\n",
    "    --o-classifier $data_dir/uniteDB/classifier-ITS1-evaluation-classifier.qza \\\n",
    "    --o-evaluation $data_dir/uniteDB/classifier-ITS1-evaluation.qzv \\\n",
    "    --o-observed-taxonomy $data_dir/uniteDB/classifier-ITS1-predicted-taxonomy.qza"
   ]
  },
  {
   "cell_type": "markdown",
   "id": "f4b946bc-de12-4756-89c1-1b5ea94477f6",
   "metadata": {},
   "source": [
    "Compare predicted vs. reference taxonomy"
   ]
  },
  {
   "cell_type": "code",
   "execution_count": 30,
   "id": "f5635830-9688-4b3e-a489-c3e52da0c7f0",
   "metadata": {
    "execution": {
     "iopub.execute_input": "2025-10-20T14:45:45.636883Z",
     "iopub.status.busy": "2025-10-20T14:45:45.636654Z",
     "iopub.status.idle": "2025-10-20T14:46:17.688989Z",
     "shell.execute_reply": "2025-10-20T14:46:17.688082Z",
     "shell.execute_reply.started": "2025-10-20T14:45:45.636857Z"
    },
    "tags": []
   },
   "outputs": [
    {
     "name": "stdout",
     "output_type": "stream",
     "text": [
      "/opt/conda/lib/python3.10/site-packages/unifrac/__init__.py:9: UserWarning: pkg_resources is deprecated as an API. See https://setuptools.pypa.io/en/latest/pkg_resources.html. The pkg_resources package is slated for removal as early as 2025-11-30. Refrain from using this package or pin to Setuptools<81.\n",
      "  import pkg_resources\n",
      "\u001b[32mSaved Visualization to: projectData/uniteDB/classifier-ITS1-taxonomy-evaluation.qzv\u001b[0m\n",
      "\u001b[0m\u001b[?25h"
     ]
    }
   ],
   "source": [
    "! qiime rescript evaluate-taxonomy \\\n",
    "    --i-taxonomies $data_dir/uniteDB/derep-tax-ITS1.qza \\\n",
    "                     $data_dir/uniteDB/classifier-ITS1-predicted-taxonomy.qza \\\n",
    "    --p-labels ref-taxonomy predicted-taxonomy \\\n",
    "    --o-taxonomy-stats $data_dir/uniteDB/classifier-ITS1-taxonomy-evaluation.qzv"
   ]
  },
  {
   "cell_type": "markdown",
   "id": "88c4dd70-318b-4ccd-a45e-b5b157a642aa",
   "metadata": {},
   "source": [
    "Check how the classifier performed"
   ]
  },
  {
   "cell_type": "code",
   "execution_count": 3,
   "id": "2a3e4786-4c7d-47b2-bf04-e94dc94ddd4f",
   "metadata": {
    "execution": {
     "iopub.execute_input": "2025-10-20T20:24:08.946445Z",
     "iopub.status.busy": "2025-10-20T20:24:08.945435Z",
     "iopub.status.idle": "2025-10-20T20:24:09.019694Z",
     "shell.execute_reply": "2025-10-20T20:24:09.019021Z",
     "shell.execute_reply.started": "2025-10-20T20:24:08.946407Z"
    },
    "tags": []
   },
   "outputs": [
    {
     "data": {
      "text/html": [
       "<div><img onload=\"(function(div, url){\n",
       "if (typeof require !== 'undefined') {\n",
       "    var baseURL = require.toUrl('').split('/').slice(0, -2).join('/');\n",
       "} else {\n",
       "    var baseURL = JSON.parse(\n",
       "        document.getElementById('jupyter-config-data').innerHTML\n",
       "    ).baseUrl.slice(0, -1);\n",
       "}\n",
       "url = baseURL + url;\n",
       "fetch(url).then(function(res) {\n",
       "    if (res.status === 404) {\n",
       "        div.innerHTML = 'Install QIIME 2 Jupyter extension with:<br />' +\n",
       "                        '<code>jupyter server extension enable --py qiime2' +\n",
       "                        ' --sys-prefix</code><br />then restart your server.' +\n",
       "                        '<br /><br />(Interactive output not available on ' +\n",
       "                        'static notebook viewer services like nbviewer.)';\n",
       "    } else if (res.status === 409) {\n",
       "        div.innerHTML = 'Visualization no longer in scope. Re-run this cell' +\n",
       "                        ' to see the visualization.';\n",
       "    } else if (res.ok) {\n",
       "        url = res.url;\n",
       "        div.innerHTML = '<iframe src=\\'' + url + '\\' style=\\'' +\n",
       "                        'width: 100%; height: 700px; border: 0;\\'>' +\n",
       "                        '</iframe><hr />Open in a: <a href=\\'' + url + '\\'' +\n",
       "                        ' target=\\'_blank\\'>new window</a>'\n",
       "    } else {\n",
       "        div.innerHTML = 'Something has gone wrong. Check notebook server for' +\n",
       "                        ' errors.';\n",
       "    }\n",
       "});\n",
       "})(this.parentElement, '/qiime2/redirect?location=/tmp/qiime2/jovyan/data/e795a9b1-490b-483d-8432-7c1e5a15d7e5')\" src=\"data:image/gif;base64,R0lGODlhAQABAIAAAP///wAAACH5BAEAAAAALAAAAAABAAEAAAICRAEAOw==\" /></div>"
      ],
      "text/plain": [
       "<visualization: Visualization uuid: e795a9b1-490b-483d-8432-7c1e5a15d7e5>"
      ]
     },
     "execution_count": 3,
     "metadata": {},
     "output_type": "execute_result"
    }
   ],
   "source": [
    "Visualization.load(f\"{data_dir}/uniteDB/classifier-ITS1-taxonomy-evaluation.qzv\")"
   ]
  },
  {
   "cell_type": "code",
   "execution_count": 32,
   "id": "51a4bc0b-fefa-4836-9660-94bb7ae818b7",
   "metadata": {
    "execution": {
     "iopub.execute_input": "2025-10-20T14:46:17.723530Z",
     "iopub.status.busy": "2025-10-20T14:46:17.723329Z",
     "iopub.status.idle": "2025-10-20T14:46:18.023636Z",
     "shell.execute_reply": "2025-10-20T14:46:18.022720Z",
     "shell.execute_reply.started": "2025-10-20T14:46:17.723513Z"
    },
    "tags": []
   },
   "outputs": [
    {
     "name": "stdout",
     "output_type": "stream",
     "text": [
      "[11408046.091209] [  pid  ]   uid  tgid total_vm      rss pgtables_bytes swapents oom_score_adj name\n",
      "[11408046.091211] [2416427]  1000 2416427   657392    53786   663552        0           915 jupyterhub-sing\n",
      "[11408046.091213] [2416527]  1000 2416527     1183      933    53248        0           915 sh\n",
      "[11408046.091214] [2416770]  1000 2416770  1044992   385936  3588096        0           915 python\n",
      "[11408046.091215] [2426488]  1000 2426488     1183      955    45056        0           915 sh\n",
      "[11408046.091217] [2438299]  1000 2438299   169223    15406   258048        0           915 python\n",
      "[11408046.091218] [2440239]  1000 2440239  1063612   372006  3473408        0           915 python\n",
      "[11408046.091219] [2449086]  1000 2449086  1895972  1385120 11558912        0           915 qiime\n",
      "[11408046.091220] oom-kill:constraint=CONSTRAINT_MEMCG,nodemask=(null),cpuset=cri-containerd-447ae4416fdcc2020832116d48b5e06c5b92262f88bad85c1f489537d85e5b4f.scope,mems_allowed=0,oom_memcg=/kubepods.slice/kubepods-burstable.slice/kubepods-burstable-pode58f8add_7775_42a6_8b63_2d723974792f.slice/cri-containerd-447ae4416fdcc2020832116d48b5e06c5b92262f88bad85c1f489537d85e5b4f.scope,task_memcg=/kubepods.slice/kubepods-burstable.slice/kubepods-burstable-pode58f8add_7775_42a6_8b63_2d723974792f.slice/cri-containerd-447ae4416fdcc2020832116d48b5e06c5b92262f88bad85c1f489537d85e5b4f.scope,task=qiime,pid=2449086,uid=1000\n",
      "[11408046.091280] Memory cgroup out of memory: Killed process 2449086 (qiime) total-vm:7583888kB, anon-rss:5370456kB, file-rss:170024kB, shmem-rss:0kB, UID:1000 pgtables:11288kB oom_score_adj:915\n"
     ]
    }
   ],
   "source": [
    "! dmesg | tail -n 10"
   ]
  },
  {
   "cell_type": "markdown",
   "id": "8bd6aba4-81a8-40cb-946f-303ca425dfba",
   "metadata": {},
   "source": [
    "### Apply the trained classifier on the data"
   ]
  },
  {
   "cell_type": "code",
   "execution_count": 33,
   "id": "8e746a52-aae5-4bde-a6cd-92166148199e",
   "metadata": {
    "execution": {
     "iopub.execute_input": "2025-10-20T14:46:43.046038Z",
     "iopub.status.busy": "2025-10-20T14:46:43.045065Z",
     "iopub.status.idle": "2025-10-20T14:47:23.339062Z",
     "shell.execute_reply": "2025-10-20T14:47:23.338484Z",
     "shell.execute_reply.started": "2025-10-20T14:46:43.045999Z"
    },
    "tags": []
   },
   "outputs": [
    {
     "name": "stdout",
     "output_type": "stream",
     "text": [
      "/opt/conda/lib/python3.10/site-packages/unifrac/__init__.py:9: UserWarning: pkg_resources is deprecated as an API. See https://setuptools.pypa.io/en/latest/pkg_resources.html. The pkg_resources package is slated for removal as early as 2025-11-30. Refrain from using this package or pin to Setuptools<81.\n",
      "  import pkg_resources\n",
      "\u001b[32mSaved FeatureData[Taxonomy] to: projectData/taxonomy.qza\u001b[0m\n",
      "\u001b[0m\u001b[?25h"
     ]
    }
   ],
   "source": [
    "! qiime feature-classifier classify-sklearn \\\n",
    "    --i-classifier $data_dir/uniteDB/classifier-ITS1-eukaryote.qza \\\n",
    "    --i-reads $data_dir/dada2_rep_set.qza \\\n",
    "    --o-classification $data_dir/taxonomy.qza"
   ]
  },
  {
   "cell_type": "code",
   "execution_count": 34,
   "id": "ee006114-f282-4cdd-a01a-8f8dd0834bb7",
   "metadata": {
    "execution": {
     "iopub.execute_input": "2025-10-20T14:47:23.340353Z",
     "iopub.status.busy": "2025-10-20T14:47:23.340100Z",
     "iopub.status.idle": "2025-10-20T14:47:25.057109Z",
     "shell.execute_reply": "2025-10-20T14:47:25.056290Z",
     "shell.execute_reply.started": "2025-10-20T14:47:23.340331Z"
    },
    "tags": []
   },
   "outputs": [
    {
     "name": "stdout",
     "output_type": "stream",
     "text": [
      "\u001b[32mUUID\u001b[0m:        8eddfc06-8d19-4e60-aba4-ad11768550b0\n",
      "\u001b[32mType\u001b[0m:        FeatureData[Taxonomy]\n",
      "\u001b[32mData format\u001b[0m: TSVTaxonomyDirectoryFormat\n"
     ]
    }
   ],
   "source": [
    "! qiime tools peek $data_dir/taxonomy.qza"
   ]
  },
  {
   "cell_type": "markdown",
   "id": "5b5062a2-0575-4583-8751-5afefee71de3",
   "metadata": {},
   "source": [
    "Taxonomy table"
   ]
  },
  {
   "cell_type": "code",
   "execution_count": 35,
   "id": "2375609e-6af4-47e3-abc5-e5a8514734c0",
   "metadata": {
    "execution": {
     "iopub.execute_input": "2025-10-20T14:47:25.058339Z",
     "iopub.status.busy": "2025-10-20T14:47:25.058076Z",
     "iopub.status.idle": "2025-10-20T14:47:56.664965Z",
     "shell.execute_reply": "2025-10-20T14:47:56.664310Z",
     "shell.execute_reply.started": "2025-10-20T14:47:25.058315Z"
    },
    "tags": []
   },
   "outputs": [
    {
     "name": "stdout",
     "output_type": "stream",
     "text": [
      "/opt/conda/lib/python3.10/site-packages/unifrac/__init__.py:9: UserWarning: pkg_resources is deprecated as an API. See https://setuptools.pypa.io/en/latest/pkg_resources.html. The pkg_resources package is slated for removal as early as 2025-11-30. Refrain from using this package or pin to Setuptools<81.\n",
      "  import pkg_resources\n",
      "\u001b[32mSaved Visualization to: projectData/taxonomy.qzv\u001b[0m\n",
      "\u001b[0m\u001b[?25h"
     ]
    }
   ],
   "source": [
    "! qiime metadata tabulate \\\n",
    "    --m-input-file $data_dir/taxonomy.qza \\\n",
    "    --o-visualization $data_dir/taxonomy.qzv"
   ]
  },
  {
   "cell_type": "code",
   "execution_count": 36,
   "id": "1649451b-62a3-4206-affa-8b8e95dc509f",
   "metadata": {
    "execution": {
     "iopub.execute_input": "2025-10-20T14:47:56.666576Z",
     "iopub.status.busy": "2025-10-20T14:47:56.666332Z",
     "iopub.status.idle": "2025-10-20T14:47:56.711811Z",
     "shell.execute_reply": "2025-10-20T14:47:56.711265Z",
     "shell.execute_reply.started": "2025-10-20T14:47:56.666549Z"
    },
    "tags": []
   },
   "outputs": [
    {
     "data": {
      "text/html": [
       "<div><img onload=\"(function(div, url){\n",
       "if (typeof require !== 'undefined') {\n",
       "    var baseURL = require.toUrl('').split('/').slice(0, -2).join('/');\n",
       "} else {\n",
       "    var baseURL = JSON.parse(\n",
       "        document.getElementById('jupyter-config-data').innerHTML\n",
       "    ).baseUrl.slice(0, -1);\n",
       "}\n",
       "url = baseURL + url;\n",
       "fetch(url).then(function(res) {\n",
       "    if (res.status === 404) {\n",
       "        div.innerHTML = 'Install QIIME 2 Jupyter extension with:<br />' +\n",
       "                        '<code>jupyter server extension enable --py qiime2' +\n",
       "                        ' --sys-prefix</code><br />then restart your server.' +\n",
       "                        '<br /><br />(Interactive output not available on ' +\n",
       "                        'static notebook viewer services like nbviewer.)';\n",
       "    } else if (res.status === 409) {\n",
       "        div.innerHTML = 'Visualization no longer in scope. Re-run this cell' +\n",
       "                        ' to see the visualization.';\n",
       "    } else if (res.ok) {\n",
       "        url = res.url;\n",
       "        div.innerHTML = '<iframe src=\\'' + url + '\\' style=\\'' +\n",
       "                        'width: 100%; height: 700px; border: 0;\\'>' +\n",
       "                        '</iframe><hr />Open in a: <a href=\\'' + url + '\\'' +\n",
       "                        ' target=\\'_blank\\'>new window</a>'\n",
       "    } else {\n",
       "        div.innerHTML = 'Something has gone wrong. Check notebook server for' +\n",
       "                        ' errors.';\n",
       "    }\n",
       "});\n",
       "})(this.parentElement, '/qiime2/redirect?location=/tmp/qiime2/jovyan/data/063f7d34-32ce-40a2-9f30-74e8f5598f98')\" src=\"data:image/gif;base64,R0lGODlhAQABAIAAAP///wAAACH5BAEAAAAALAAAAAABAAEAAAICRAEAOw==\" /></div>"
      ],
      "text/plain": [
       "<visualization: Visualization uuid: 063f7d34-32ce-40a2-9f30-74e8f5598f98>"
      ]
     },
     "execution_count": 36,
     "metadata": {},
     "output_type": "execute_result"
    }
   ],
   "source": [
    "Visualization.load(f\"{data_dir}/taxonomy.qzv\")"
   ]
  },
  {
   "cell_type": "markdown",
   "id": "f971b3b0-2562-49b3-9224-eadc3c1a8668",
   "metadata": {},
   "source": [
    "Create barplot for visualisation"
   ]
  },
  {
   "cell_type": "code",
   "execution_count": 47,
   "id": "360f73ce-58ba-4600-bec0-766e28c11352",
   "metadata": {
    "execution": {
     "iopub.execute_input": "2025-10-20T15:17:23.991377Z",
     "iopub.status.busy": "2025-10-20T15:17:23.990684Z",
     "iopub.status.idle": "2025-10-20T15:17:55.979657Z",
     "shell.execute_reply": "2025-10-20T15:17:55.978809Z",
     "shell.execute_reply.started": "2025-10-20T15:17:23.991353Z"
    },
    "tags": []
   },
   "outputs": [
    {
     "name": "stdout",
     "output_type": "stream",
     "text": [
      "/opt/conda/lib/python3.10/site-packages/unifrac/__init__.py:9: UserWarning: pkg_resources is deprecated as an API. See https://setuptools.pypa.io/en/latest/pkg_resources.html. The pkg_resources package is slated for removal as early as 2025-11-30. Refrain from using this package or pin to Setuptools<81.\n",
      "  import pkg_resources\n",
      "\u001b[32mSaved Visualization to: projectData/taxa-bar-plots.qzv\u001b[0m\n",
      "\u001b[0m\u001b[?25h"
     ]
    }
   ],
   "source": [
    "! qiime taxa barplot \\\n",
    "    --i-table $data_dir/dada2_table.qza \\\n",
    "    --i-taxonomy $data_dir/taxonomy.qza \\\n",
    "    --m-metadata-file $data_dir/fungut_metadata.tsv \\\n",
    "    --o-visualization $data_dir/taxa-bar-plots.qzv"
   ]
  },
  {
   "cell_type": "code",
   "execution_count": 48,
   "id": "37d20860-2806-49f2-8458-ee28d4b250cb",
   "metadata": {
    "execution": {
     "iopub.execute_input": "2025-10-20T15:17:55.982022Z",
     "iopub.status.busy": "2025-10-20T15:17:55.981502Z",
     "iopub.status.idle": "2025-10-20T15:17:56.034148Z",
     "shell.execute_reply": "2025-10-20T15:17:56.033470Z",
     "shell.execute_reply.started": "2025-10-20T15:17:55.981998Z"
    },
    "tags": []
   },
   "outputs": [
    {
     "data": {
      "text/html": [
       "<div><img onload=\"(function(div, url){\n",
       "if (typeof require !== 'undefined') {\n",
       "    var baseURL = require.toUrl('').split('/').slice(0, -2).join('/');\n",
       "} else {\n",
       "    var baseURL = JSON.parse(\n",
       "        document.getElementById('jupyter-config-data').innerHTML\n",
       "    ).baseUrl.slice(0, -1);\n",
       "}\n",
       "url = baseURL + url;\n",
       "fetch(url).then(function(res) {\n",
       "    if (res.status === 404) {\n",
       "        div.innerHTML = 'Install QIIME 2 Jupyter extension with:<br />' +\n",
       "                        '<code>jupyter server extension enable --py qiime2' +\n",
       "                        ' --sys-prefix</code><br />then restart your server.' +\n",
       "                        '<br /><br />(Interactive output not available on ' +\n",
       "                        'static notebook viewer services like nbviewer.)';\n",
       "    } else if (res.status === 409) {\n",
       "        div.innerHTML = 'Visualization no longer in scope. Re-run this cell' +\n",
       "                        ' to see the visualization.';\n",
       "    } else if (res.ok) {\n",
       "        url = res.url;\n",
       "        div.innerHTML = '<iframe src=\\'' + url + '\\' style=\\'' +\n",
       "                        'width: 100%; height: 700px; border: 0;\\'>' +\n",
       "                        '</iframe><hr />Open in a: <a href=\\'' + url + '\\'' +\n",
       "                        ' target=\\'_blank\\'>new window</a>'\n",
       "    } else {\n",
       "        div.innerHTML = 'Something has gone wrong. Check notebook server for' +\n",
       "                        ' errors.';\n",
       "    }\n",
       "});\n",
       "})(this.parentElement, '/qiime2/redirect?location=/tmp/qiime2/jovyan/data/c56ca9d3-b510-4965-a212-00900c634495')\" src=\"data:image/gif;base64,R0lGODlhAQABAIAAAP///wAAACH5BAEAAAAALAAAAAABAAEAAAICRAEAOw==\" /></div>"
      ],
      "text/plain": [
       "<visualization: Visualization uuid: c56ca9d3-b510-4965-a212-00900c634495>"
      ]
     },
     "execution_count": 48,
     "metadata": {},
     "output_type": "execute_result"
    }
   ],
   "source": [
    "Visualization.load(f\"{data_dir}/taxa-bar-plots.qzv\")"
   ]
  },
  {
   "cell_type": "code",
   "execution_count": 39,
   "id": "ee443a2d-5e91-4e7c-9434-7d6f320e0127",
   "metadata": {
    "execution": {
     "iopub.execute_input": "2025-10-20T14:48:28.695253Z",
     "iopub.status.busy": "2025-10-20T14:48:28.694941Z",
     "iopub.status.idle": "2025-10-20T14:48:29.010025Z",
     "shell.execute_reply": "2025-10-20T14:48:29.009036Z",
     "shell.execute_reply.started": "2025-10-20T14:48:28.695232Z"
    },
    "tags": []
   },
   "outputs": [
    {
     "name": "stdout",
     "output_type": "stream",
     "text": [
      "[11408046.091209] [  pid  ]   uid  tgid total_vm      rss pgtables_bytes swapents oom_score_adj name\n",
      "[11408046.091211] [2416427]  1000 2416427   657392    53786   663552        0           915 jupyterhub-sing\n",
      "[11408046.091213] [2416527]  1000 2416527     1183      933    53248        0           915 sh\n",
      "[11408046.091214] [2416770]  1000 2416770  1044992   385936  3588096        0           915 python\n",
      "[11408046.091215] [2426488]  1000 2426488     1183      955    45056        0           915 sh\n",
      "[11408046.091217] [2438299]  1000 2438299   169223    15406   258048        0           915 python\n",
      "[11408046.091218] [2440239]  1000 2440239  1063612   372006  3473408        0           915 python\n",
      "[11408046.091219] [2449086]  1000 2449086  1895972  1385120 11558912        0           915 qiime\n",
      "[11408046.091220] oom-kill:constraint=CONSTRAINT_MEMCG,nodemask=(null),cpuset=cri-containerd-447ae4416fdcc2020832116d48b5e06c5b92262f88bad85c1f489537d85e5b4f.scope,mems_allowed=0,oom_memcg=/kubepods.slice/kubepods-burstable.slice/kubepods-burstable-pode58f8add_7775_42a6_8b63_2d723974792f.slice/cri-containerd-447ae4416fdcc2020832116d48b5e06c5b92262f88bad85c1f489537d85e5b4f.scope,task_memcg=/kubepods.slice/kubepods-burstable.slice/kubepods-burstable-pode58f8add_7775_42a6_8b63_2d723974792f.slice/cri-containerd-447ae4416fdcc2020832116d48b5e06c5b92262f88bad85c1f489537d85e5b4f.scope,task=qiime,pid=2449086,uid=1000\n",
      "[11408046.091280] Memory cgroup out of memory: Killed process 2449086 (qiime) total-vm:7583888kB, anon-rss:5370456kB, file-rss:170024kB, shmem-rss:0kB, UID:1000 pgtables:11288kB oom_score_adj:915\n"
     ]
    }
   ],
   "source": [
    "! dmesg | tail -n 10"
   ]
  },
  {
   "cell_type": "markdown",
   "id": "25a32d74-6190-47e0-9082-e0ac1b7154c4",
   "metadata": {},
   "source": [
    "## Diversity"
   ]
  },
  {
   "cell_type": "markdown",
   "id": "3570f16e-98c9-464e-b9bc-097976ebfbc0",
   "metadata": {},
   "source": [
    "Trying to use bootstraping, from the feature table i choose 25000 as a sequencing depth to keep as many samples as possible.  \n",
    "Retained 3.650.000 (39.27%) observations in 146 (97.33%) samples at the specified sampling depth.  \n",
    "Used the following [tutorial](https://q2-boots.readthedocs.io/en/latest/tutorial.html#W1pe7ekZpn)."
   ]
  },
  {
   "cell_type": "code",
   "execution_count": 56,
   "id": "bee840cd-45a3-4cd9-98d5-bcccb3fec618",
   "metadata": {
    "execution": {
     "iopub.execute_input": "2025-10-20T15:58:31.420796Z",
     "iopub.status.busy": "2025-10-20T15:58:31.420195Z",
     "iopub.status.idle": "2025-10-20T16:04:07.579803Z",
     "shell.execute_reply": "2025-10-20T16:04:07.578969Z",
     "shell.execute_reply.started": "2025-10-20T15:58:31.420769Z"
    },
    "tags": []
   },
   "outputs": [
    {
     "name": "stdout",
     "output_type": "stream",
     "text": [
      "/opt/conda/lib/python3.10/site-packages/unifrac/__init__.py:9: UserWarning: pkg_resources is deprecated as an API. See https://setuptools.pypa.io/en/latest/pkg_resources.html. The pkg_resources package is slated for removal as early as 2025-11-30. Refrain from using this package or pin to Setuptools<81.\n",
      "  import pkg_resources\n",
      "\u001b[32mSaved Collection[FeatureTable[Frequency]] to: projectData/boots-kmer-diversity/resampled_tables\u001b[0m\n",
      "\u001b[32mSaved Collection[FeatureTable[Frequency]] to: projectData/boots-kmer-diversity/kmer_tables\u001b[0m\n",
      "\u001b[32mSaved Collection[SampleData[AlphaDiversity]] to: projectData/boots-kmer-diversity/alpha_diversities\u001b[0m\n",
      "\u001b[32mSaved Collection[DistanceMatrix] to: projectData/boots-kmer-diversity/distance_matrices\u001b[0m\n",
      "\u001b[32mSaved Collection[PCoAResults] to: projectData/boots-kmer-diversity/pcoas\u001b[0m\n",
      "\u001b[32mSaved Visualization to: projectData/boots-kmer-diversity/scatter_plot.qzv\u001b[0m\n",
      "\u001b[0m\u001b[?25h"
     ]
    }
   ],
   "source": [
    "! qiime boots kmer-diversity \\\n",
    "  --i-table $data_dir/dada2_table.qza \\\n",
    "  --i-sequences $data_dir/dada2_rep_set.qza \\\n",
    "  --m-metadata-file $data_dir/fungut_metadata.tsv \\\n",
    "  --p-sampling-depth 25000 \\\n",
    "  --p-n 20 \\\n",
    "  --p-replacement \\\n",
    "  --p-alpha-average-method median \\\n",
    "  --p-beta-average-method medoid \\\n",
    "  --output-dir $data_dir/boots-kmer-diversity"
   ]
  },
  {
   "cell_type": "code",
   "execution_count": 57,
   "id": "d5e23344-8ea4-46b7-95a1-1575e7e02abf",
   "metadata": {
    "execution": {
     "iopub.execute_input": "2025-10-20T16:04:07.581475Z",
     "iopub.status.busy": "2025-10-20T16:04:07.581222Z",
     "iopub.status.idle": "2025-10-20T16:04:07.883729Z",
     "shell.execute_reply": "2025-10-20T16:04:07.882766Z",
     "shell.execute_reply.started": "2025-10-20T16:04:07.581454Z"
    },
    "tags": []
   },
   "outputs": [
    {
     "name": "stdout",
     "output_type": "stream",
     "text": [
      "[11408046.091209] [  pid  ]   uid  tgid total_vm      rss pgtables_bytes swapents oom_score_adj name\n",
      "[11408046.091211] [2416427]  1000 2416427   657392    53786   663552        0           915 jupyterhub-sing\n",
      "[11408046.091213] [2416527]  1000 2416527     1183      933    53248        0           915 sh\n",
      "[11408046.091214] [2416770]  1000 2416770  1044992   385936  3588096        0           915 python\n",
      "[11408046.091215] [2426488]  1000 2426488     1183      955    45056        0           915 sh\n",
      "[11408046.091217] [2438299]  1000 2438299   169223    15406   258048        0           915 python\n",
      "[11408046.091218] [2440239]  1000 2440239  1063612   372006  3473408        0           915 python\n",
      "[11408046.091219] [2449086]  1000 2449086  1895972  1385120 11558912        0           915 qiime\n",
      "[11408046.091220] oom-kill:constraint=CONSTRAINT_MEMCG,nodemask=(null),cpuset=cri-containerd-447ae4416fdcc2020832116d48b5e06c5b92262f88bad85c1f489537d85e5b4f.scope,mems_allowed=0,oom_memcg=/kubepods.slice/kubepods-burstable.slice/kubepods-burstable-pode58f8add_7775_42a6_8b63_2d723974792f.slice/cri-containerd-447ae4416fdcc2020832116d48b5e06c5b92262f88bad85c1f489537d85e5b4f.scope,task_memcg=/kubepods.slice/kubepods-burstable.slice/kubepods-burstable-pode58f8add_7775_42a6_8b63_2d723974792f.slice/cri-containerd-447ae4416fdcc2020832116d48b5e06c5b92262f88bad85c1f489537d85e5b4f.scope,task=qiime,pid=2449086,uid=1000\n",
      "[11408046.091280] Memory cgroup out of memory: Killed process 2449086 (qiime) total-vm:7583888kB, anon-rss:5370456kB, file-rss:170024kB, shmem-rss:0kB, UID:1000 pgtables:11288kB oom_score_adj:915\n"
     ]
    }
   ],
   "source": [
    "! dmesg | tail -n 10"
   ]
  },
  {
   "cell_type": "code",
   "execution_count": 59,
   "id": "0cdd05ce-940e-4f0a-af88-5fb879d705d9",
   "metadata": {
    "execution": {
     "iopub.execute_input": "2025-10-20T16:04:18.255295Z",
     "iopub.status.busy": "2025-10-20T16:04:18.254548Z",
     "iopub.status.idle": "2025-10-20T16:04:18.447742Z",
     "shell.execute_reply": "2025-10-20T16:04:18.447174Z",
     "shell.execute_reply.started": "2025-10-20T16:04:18.255269Z"
    },
    "tags": []
   },
   "outputs": [
    {
     "data": {
      "text/html": [
       "<div><img onload=\"(function(div, url){\n",
       "if (typeof require !== 'undefined') {\n",
       "    var baseURL = require.toUrl('').split('/').slice(0, -2).join('/');\n",
       "} else {\n",
       "    var baseURL = JSON.parse(\n",
       "        document.getElementById('jupyter-config-data').innerHTML\n",
       "    ).baseUrl.slice(0, -1);\n",
       "}\n",
       "url = baseURL + url;\n",
       "fetch(url).then(function(res) {\n",
       "    if (res.status === 404) {\n",
       "        div.innerHTML = 'Install QIIME 2 Jupyter extension with:<br />' +\n",
       "                        '<code>jupyter server extension enable --py qiime2' +\n",
       "                        ' --sys-prefix</code><br />then restart your server.' +\n",
       "                        '<br /><br />(Interactive output not available on ' +\n",
       "                        'static notebook viewer services like nbviewer.)';\n",
       "    } else if (res.status === 409) {\n",
       "        div.innerHTML = 'Visualization no longer in scope. Re-run this cell' +\n",
       "                        ' to see the visualization.';\n",
       "    } else if (res.ok) {\n",
       "        url = res.url;\n",
       "        div.innerHTML = '<iframe src=\\'' + url + '\\' style=\\'' +\n",
       "                        'width: 100%; height: 700px; border: 0;\\'>' +\n",
       "                        '</iframe><hr />Open in a: <a href=\\'' + url + '\\'' +\n",
       "                        ' target=\\'_blank\\'>new window</a>'\n",
       "    } else {\n",
       "        div.innerHTML = 'Something has gone wrong. Check notebook server for' +\n",
       "                        ' errors.';\n",
       "    }\n",
       "});\n",
       "})(this.parentElement, '/qiime2/redirect?location=/tmp/qiime2/jovyan/data/d1ac12ba-0e72-4fb2-bf36-aa28177d40a9')\" src=\"data:image/gif;base64,R0lGODlhAQABAIAAAP///wAAACH5BAEAAAAALAAAAAABAAEAAAICRAEAOw==\" /></div>"
      ],
      "text/plain": [
       "<visualization: Visualization uuid: d1ac12ba-0e72-4fb2-bf36-aa28177d40a9>"
      ]
     },
     "execution_count": 59,
     "metadata": {},
     "output_type": "execute_result"
    }
   ],
   "source": [
    "Visualization.load(f\"{data_dir}/boots-kmer-diversity/scatter_plot.qzv\")"
   ]
  },
  {
   "cell_type": "code",
   "execution_count": 74,
   "id": "dfe455c8-3458-4a19-beee-9ac42f2893fc",
   "metadata": {
    "execution": {
     "iopub.execute_input": "2025-10-20T16:22:01.552442Z",
     "iopub.status.busy": "2025-10-20T16:22:01.552003Z",
     "iopub.status.idle": "2025-10-20T16:22:45.525823Z",
     "shell.execute_reply": "2025-10-20T16:22:45.524948Z",
     "shell.execute_reply.started": "2025-10-20T16:22:01.552406Z"
    },
    "tags": []
   },
   "outputs": [
    {
     "name": "stdout",
     "output_type": "stream",
     "text": [
      "/opt/conda/lib/python3.10/site-packages/unifrac/__init__.py:9: UserWarning: pkg_resources is deprecated as an API. See https://setuptools.pypa.io/en/latest/pkg_resources.html. The pkg_resources package is slated for removal as early as 2025-11-30. Refrain from using this package or pin to Setuptools<81.\n",
      "  import pkg_resources\n",
      "\u001b[32mSaved Visualization to: projectData/boots-kmer-diversity/alpha_group_significance.qzv\u001b[0m\n",
      "\u001b[0m\u001b[?25h"
     ]
    }
   ],
   "source": [
    "! qiime diversity alpha-group-significance \\\n",
    "  --i-alpha-diversity $data_dir/boots-kmer-diversity/alpha_diversities/shannon.qza \\\n",
    "  --m-metadata-file $data_dir/fungut_metadata.tsv \\\n",
    "  --o-visualization $data_dir/boots-kmer-diversity/alpha_group_significance.qzv"
   ]
  },
  {
   "cell_type": "code",
   "execution_count": 4,
   "id": "24ab1a24-1e8a-433f-adaa-d8e5a43a2fde",
   "metadata": {
    "execution": {
     "iopub.execute_input": "2025-10-20T20:27:56.676612Z",
     "iopub.status.busy": "2025-10-20T20:27:56.676174Z",
     "iopub.status.idle": "2025-10-20T20:27:56.865256Z",
     "shell.execute_reply": "2025-10-20T20:27:56.864094Z",
     "shell.execute_reply.started": "2025-10-20T20:27:56.676558Z"
    },
    "tags": []
   },
   "outputs": [
    {
     "data": {
      "text/html": [
       "<div><img onload=\"(function(div, url){\n",
       "if (typeof require !== 'undefined') {\n",
       "    var baseURL = require.toUrl('').split('/').slice(0, -2).join('/');\n",
       "} else {\n",
       "    var baseURL = JSON.parse(\n",
       "        document.getElementById('jupyter-config-data').innerHTML\n",
       "    ).baseUrl.slice(0, -1);\n",
       "}\n",
       "url = baseURL + url;\n",
       "fetch(url).then(function(res) {\n",
       "    if (res.status === 404) {\n",
       "        div.innerHTML = 'Install QIIME 2 Jupyter extension with:<br />' +\n",
       "                        '<code>jupyter server extension enable --py qiime2' +\n",
       "                        ' --sys-prefix</code><br />then restart your server.' +\n",
       "                        '<br /><br />(Interactive output not available on ' +\n",
       "                        'static notebook viewer services like nbviewer.)';\n",
       "    } else if (res.status === 409) {\n",
       "        div.innerHTML = 'Visualization no longer in scope. Re-run this cell' +\n",
       "                        ' to see the visualization.';\n",
       "    } else if (res.ok) {\n",
       "        url = res.url;\n",
       "        div.innerHTML = '<iframe src=\\'' + url + '\\' style=\\'' +\n",
       "                        'width: 100%; height: 700px; border: 0;\\'>' +\n",
       "                        '</iframe><hr />Open in a: <a href=\\'' + url + '\\'' +\n",
       "                        ' target=\\'_blank\\'>new window</a>'\n",
       "    } else {\n",
       "        div.innerHTML = 'Something has gone wrong. Check notebook server for' +\n",
       "                        ' errors.';\n",
       "    }\n",
       "});\n",
       "})(this.parentElement, '/qiime2/redirect?location=/tmp/qiime2/jovyan/data/e8e44685-35be-45c9-b303-f8adbba35793')\" src=\"data:image/gif;base64,R0lGODlhAQABAIAAAP///wAAACH5BAEAAAAALAAAAAABAAEAAAICRAEAOw==\" /></div>"
      ],
      "text/plain": [
       "<visualization: Visualization uuid: e8e44685-35be-45c9-b303-f8adbba35793>"
      ]
     },
     "execution_count": 4,
     "metadata": {},
     "output_type": "execute_result"
    }
   ],
   "source": [
    "Visualization.load(f\"{data_dir}/boots-kmer-diversity/alpha_group_significance.qzv\")"
   ]
  },
  {
   "cell_type": "markdown",
   "id": "c9560cd6-353a-4cdf-90a1-1b1f6b58725a",
   "metadata": {},
   "source": [
    "## Run this section on the Euler cluster?"
   ]
  },
  {
   "cell_type": "code",
   "execution_count": 32,
   "id": "dfb9975a-6875-4563-a632-bdc9596b24cc",
   "metadata": {
    "execution": {
     "iopub.execute_input": "2025-10-12T16:29:13.146070Z",
     "iopub.status.busy": "2025-10-12T16:29:13.145142Z",
     "iopub.status.idle": "2025-10-12T16:30:27.740709Z",
     "shell.execute_reply": "2025-10-12T16:30:27.740063Z",
     "shell.execute_reply.started": "2025-10-12T16:29:13.146009Z"
    },
    "tags": []
   },
   "outputs": [
    {
     "name": "stdout",
     "output_type": "stream",
     "text": [
      "/opt/conda/lib/python3.10/site-packages/unifrac/__init__.py:9: UserWarning: pkg_resources is deprecated as an API. See https://setuptools.pypa.io/en/latest/pkg_resources.html. The pkg_resources package is slated for removal as early as 2025-11-30. Refrain from using this package or pin to Setuptools<81.\n",
      "  import pkg_resources\n"
     ]
    }
   ],
   "source": [
    "! qiime feature-classifier fit-classifier-naive-bayes \\\n",
    "    --i-reference-reads $data_dir/uniteDB/sequences-filtered.qza \\\n",
    "    --i-reference-taxonomy $data_dir/uniteDB/taxonomy-no-SH.qza \\\n",
    "    --o-classifier $data_dir/uniteDB/classifier.qza"
   ]
  },
  {
   "cell_type": "code",
   "execution_count": 33,
   "id": "33dd85a7-390a-40f1-bfa0-cb71521a5ed2",
   "metadata": {
    "execution": {
     "iopub.execute_input": "2025-10-12T16:34:03.280764Z",
     "iopub.status.busy": "2025-10-12T16:34:03.280136Z",
     "iopub.status.idle": "2025-10-12T16:34:03.535192Z",
     "shell.execute_reply": "2025-10-12T16:34:03.534451Z",
     "shell.execute_reply.started": "2025-10-12T16:34:03.280732Z"
    },
    "tags": []
   },
   "outputs": [
    {
     "name": "stdout",
     "output_type": "stream",
     "text": [
      "[10723128.869724] [3709537]  1000 3709537     1183      974    45056        0           915 sh\n",
      "[10723128.869725] [3709794]  1000 3709794   169224    15393   266240        0           915 python\n",
      "[10723128.869726] [3709797]  1000 3709797   169223    15371   266240        0           915 python\n",
      "[10723128.869728] [3709798]  1000 3709798   169223    15357   262144        0           915 python\n",
      "[10723128.869729] [3709799]  1000 3709799   169223    15396   258048        0           915 python\n",
      "[10723128.869731] [3712446]  1000 3712446   169224    15306   258048        0           915 python\n",
      "[10723128.869732] [3715101]  1000 3715101   696983    56100   708608        0           915 python\n",
      "[10723128.869734] [3725878]  1000 3725878  7475133  1965888 36417536        0           915 qiime\n",
      "[10723128.869735] oom-kill:constraint=CONSTRAINT_MEMCG,nodemask=(null),cpuset=cri-containerd-8cd9082aca204a00ee90156efa874dfd7a2567521ebd06edda79bf43455606d4.scope,mems_allowed=0,oom_memcg=/kubepods.slice/kubepods-burstable.slice/kubepods-burstable-pod8e79f0ca_0fd8_439c_b7e4_03b76706c3bb.slice/cri-containerd-8cd9082aca204a00ee90156efa874dfd7a2567521ebd06edda79bf43455606d4.scope,task_memcg=/kubepods.slice/kubepods-burstable.slice/kubepods-burstable-pod8e79f0ca_0fd8_439c_b7e4_03b76706c3bb.slice/cri-containerd-8cd9082aca204a00ee90156efa874dfd7a2567521ebd06edda79bf43455606d4.scope,task=qiime,pid=3725878,uid=1000\n",
      "[10723128.869797] Memory cgroup out of memory: Killed process 3725878 (qiime) total-vm:29900532kB, anon-rss:7693168kB, file-rss:170384kB, shmem-rss:0kB, UID:1000 pgtables:35564kB oom_score_adj:915\n"
     ]
    }
   ],
   "source": [
    "! dmesg | tail -n 10"
   ]
  },
  {
   "cell_type": "code",
   "execution_count": 30,
   "id": "23f7a69a-5156-4868-b5e9-d168db8991c6",
   "metadata": {
    "execution": {
     "iopub.execute_input": "2025-10-12T16:24:27.270938Z",
     "iopub.status.busy": "2025-10-12T16:24:27.270619Z",
     "iopub.status.idle": "2025-10-12T16:25:44.215830Z",
     "shell.execute_reply": "2025-10-12T16:25:44.215191Z",
     "shell.execute_reply.started": "2025-10-12T16:24:27.270912Z"
    },
    "tags": []
   },
   "outputs": [
    {
     "name": "stdout",
     "output_type": "stream",
     "text": [
      "/opt/conda/lib/python3.10/site-packages/unifrac/__init__.py:9: UserWarning: pkg_resources is deprecated as an API. See https://setuptools.pypa.io/en/latest/pkg_resources.html. The pkg_resources package is slated for removal as early as 2025-11-30. Refrain from using this package or pin to Setuptools<81.\n",
      "  import pkg_resources\n"
     ]
    }
   ],
   "source": [
    "! qiime rescript evaluate-fit-classifier \\\n",
    "    --i-sequences $data_dir/uniteDB/sequences-filtered.qza   \\\n",
    "    --i-taxonomy $data_dir/uniteDB/taxonomy-no-SH.qza \\\n",
    "    --p-n-jobs 2 \\\n",
    "    --o-classifier $data_dir/uniteDB/classifier.qza \\\n",
    "    --o-evaluation $data_dir/uniteDB/classifier-evaluation.qzv \\\n",
    "    --o-observed-taxonomy $data_dir/uniteDB/predicted-taxonomy.qza"
   ]
  },
  {
   "cell_type": "code",
   "execution_count": 27,
   "id": "9eb9a094-a0f0-4eee-961e-1d4e4b2e2da4",
   "metadata": {
    "execution": {
     "iopub.execute_input": "2025-10-12T16:18:49.810279Z",
     "iopub.status.busy": "2025-10-12T16:18:49.809952Z",
     "iopub.status.idle": "2025-10-12T16:19:20.213640Z",
     "shell.execute_reply": "2025-10-12T16:19:20.212985Z",
     "shell.execute_reply.started": "2025-10-12T16:18:49.810255Z"
    },
    "tags": []
   },
   "outputs": [
    {
     "name": "stdout",
     "output_type": "stream",
     "text": [
      "/opt/conda/lib/python3.10/site-packages/unifrac/__init__.py:9: UserWarning: pkg_resources is deprecated as an API. See https://setuptools.pypa.io/en/latest/pkg_resources.html. The pkg_resources package is slated for removal as early as 2025-11-30. Refrain from using this package or pin to Setuptools<81.\n",
      "  import pkg_resources\n",
      "Usage: \u001b[94mqiime rescript evaluate-taxonomy\u001b[0m [OPTIONS]\n",
      "\n",
      "  Compute summary statistics on taxonomy artifact(s) and visualize as\n",
      "  interactive lineplots. Summary statistics include the number of unique\n",
      "  labels, taxonomic entropy, and the number of features that are\n",
      "  (un)classified at each taxonomic level. This action is useful for both\n",
      "  reference taxonomies and classification results. The x-axis in these plots\n",
      "  represents the taxonomic levels present in the input taxonomies so are\n",
      "  labeled numerically instead of by rank, but typically for 7-level taxonomies\n",
      "  these will represent: 1 = domain/kingdom, 2 = phylum, 3 = class, 4 = order,\n",
      "  5 = family, 6 = genus, 7 = species.\n",
      "\n",
      "\u001b[1mInputs\u001b[0m:\n",
      "  \u001b[94m\u001b[4m--i-taxonomies\u001b[0m ARTIFACTS... \u001b[32mList[FeatureData[Taxonomy]]\u001b[0m\n",
      "                          One or more taxonomies to evaluate.       \u001b[35m[required]\u001b[0m\n",
      "\u001b[1mParameters\u001b[0m:\n",
      "  \u001b[94m--p-labels\u001b[0m TEXT...      List of labels to use for labeling evaluation\n",
      "    \u001b[32mList[Str]\u001b[0m             results in the resulting visualization. Inputs are\n",
      "                          labeled with labels in the order that each is input.\n",
      "                          If there are fewer labels than inputs (or no\n",
      "                          labels), unnamed inputs are labeled numerically in\n",
      "                          sequential order. Extra labels are ignored.\n",
      "                                                                    \u001b[35m[optional]\u001b[0m\n",
      "  \u001b[94m--p-rank-handle-regex\u001b[0m TEXT\n",
      "                          Regular expression indicating which taxonomic rank\n",
      "                          a label belongs to; this handle is stripped from the\n",
      "                          label prior to operating on the taxonomy. The net\n",
      "                          effect is that ambiguous or empty levels can be\n",
      "                          removed prior to comparison, enabling selection of\n",
      "                          taxonomies with more complete taxonomic information.\n",
      "                          For example, \"^[dkpcofgs]__\" will recognize\n",
      "                          greengenes or silva rank handles.         \u001b[35m[optional]\u001b[0m\n",
      "\u001b[1mOutputs\u001b[0m:\n",
      "  \u001b[94m\u001b[4m--o-taxonomy-stats\u001b[0m VISUALIZATION\n",
      "                                                                    \u001b[35m[required]\u001b[0m\n",
      "\u001b[1mMiscellaneous\u001b[0m:\n",
      "  \u001b[94m--output-dir\u001b[0m PATH       Output unspecified results to a directory\n",
      "  \u001b[94m--verbose\u001b[0m / \u001b[94m--quiet\u001b[0m     Display verbose output to stdout and/or stderr\n",
      "                          during execution of this action. Or silence output\n",
      "                          if execution is successful (silence is golden).\n",
      "  \u001b[94m--recycle-pool\u001b[0m TEXT     Use a cache pool for pipeline resumption. QIIME 2\n",
      "                          will cache your results in this pool for reuse by\n",
      "                          future invocations. These pool are retained until\n",
      "                          deleted by the user. If not provided, QIIME 2 will\n",
      "                          create a pool which is automatically reused by\n",
      "                          invocations of the same action and removed if the\n",
      "                          action is successful. Note: these pools are local to\n",
      "                          the cache you are using.\n",
      "  \u001b[94m--no-recycle\u001b[0m            Do not recycle results from a previous failed\n",
      "                          pipeline run or save the results from this run for\n",
      "                          future recycling.\n",
      "  \u001b[94m--parallel\u001b[0m              Execute your action in parallel. This flag will use\n",
      "                          your default parallel config.\n",
      "  \u001b[94m--parallel-config\u001b[0m FILE  Execute your action in parallel using a config at\n",
      "                          the indicated path.\n",
      "  \u001b[94m--example-data\u001b[0m PATH     Write example data and exit.\n",
      "  \u001b[94m--citations\u001b[0m             Show citations and exit.\n",
      "  \u001b[94m--use-cache\u001b[0m DIRECTORY   Specify the cache to be used for the intermediate\n",
      "                          work of this action. If not provided, the default\n",
      "                          cache under $TMP/qiime2/<uname> will be used.\n",
      "                          IMPORTANT FOR HPC USERS: If you are on an HPC system\n",
      "                          and are using parallel execution it is important to\n",
      "                          set this to a location that is globally accessible\n",
      "                          to all nodes in the cluster.\n",
      "  \u001b[94m--help\u001b[0m                  Show this message and exit.\n",
      "\n",
      "\u001b[33m                    There was a problem with the command:                     \u001b[0m\n",
      "\u001b[31m\u001b[1m (1/1) Invalid value for '--i-taxonomies': projectData/uniteDB/predicted-\n",
      "  taxonomy.qza does not exist.\u001b[0m\n",
      "\u001b[0m\u001b[?25h"
     ]
    }
   ],
   "source": [
    "! qiime rescript evaluate-taxonomy \\\n",
    "  --i-taxonomies $data_dir/uniteDB/taxonomy-no-SH.qza $data_dir/uniteDB/predicted-taxonomy.qza \\\n",
    "  --p-labels ref-taxonomy predicted-taxonomy \\\n",
    "  --o-taxonomy-stats $data_dir/uniteDB/both-taxonomy-evaluation.qzv"
   ]
  },
  {
   "cell_type": "code",
   "execution_count": null,
   "id": "a54365f6-609f-41df-80e4-8bf8ad38ed23",
   "metadata": {},
   "outputs": [],
   "source": []
  }
 ],
 "metadata": {
  "kernelspec": {
   "display_name": "QIIME 2",
   "language": "python",
   "name": "python3"
  },
  "language_info": {
   "codemirror_mode": {
    "name": "ipython",
    "version": 3
   },
   "file_extension": ".py",
   "mimetype": "text/x-python",
   "name": "python",
   "nbconvert_exporter": "python",
   "pygments_lexer": "ipython3",
   "version": "3.10.14"
  }
 },
 "nbformat": 4,
 "nbformat_minor": 5
}
