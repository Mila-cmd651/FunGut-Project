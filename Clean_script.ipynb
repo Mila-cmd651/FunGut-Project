{
 "cells": [
  {
   "cell_type": "markdown",
   "id": "d55ed08a-cff6-4b2e-80aa-60e7314ac0d3",
   "metadata": {
    "tags": []
   },
   "source": [
    "# 1 Setup"
   ]
  },
  {
   "cell_type": "code",
   "execution_count": null,
   "id": "a412627b-175b-485d-8a1f-a90e81fcbd37",
   "metadata": {},
   "outputs": [],
   "source": []
  }
 ],
 "metadata": {
  "kernelspec": {
   "display_name": "QIIME 2",
   "language": "python",
   "name": "python3"
  },
  "language_info": {
   "codemirror_mode": {
    "name": "ipython",
    "version": 3
   },
   "file_extension": ".py",
   "mimetype": "text/x-python",
   "name": "python",
   "nbconvert_exporter": "python",
   "pygments_lexer": "ipython3",
   "version": "3.10.14"
  }
 },
 "nbformat": 4,
 "nbformat_minor": 5
}
