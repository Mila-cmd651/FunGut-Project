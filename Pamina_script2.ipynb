{
 "cells": [
  {
   "cell_type": "markdown",
   "id": "990a6669-9ae6-4133-af15-7d465043cabe",
   "metadata": {},
   "source": [
    "# Setup + downloading data\n",
    "\n"
   ]
  },
  {
   "cell_type": "code",
   "execution_count": 1,
   "id": "3ad10e01-1dca-4b52-bb79-0b5fae7614aa",
   "metadata": {
    "execution": {
     "iopub.execute_input": "2025-10-19T19:04:44.886915Z",
     "iopub.status.busy": "2025-10-19T19:04:44.885916Z",
     "iopub.status.idle": "2025-10-19T19:04:46.657224Z",
     "shell.execute_reply": "2025-10-19T19:04:46.656431Z",
     "shell.execute_reply.started": "2025-10-19T19:04:44.886880Z"
    },
    "tags": []
   },
   "outputs": [],
   "source": [
    "import os\n",
    "import pandas as pd\n",
    "from qiime2 import Visualization\n",
    "import matplotlib.pyplot as plt\n",
    "\n",
    "%matplotlib inline"
   ]
  },
  {
   "cell_type": "code",
   "execution_count": 2,
   "id": "5b361690-7370-4825-a13d-8965dd32a5d6",
   "metadata": {
    "execution": {
     "iopub.execute_input": "2025-10-19T19:04:47.827297Z",
     "iopub.status.busy": "2025-10-19T19:04:47.825800Z",
     "iopub.status.idle": "2025-10-19T19:04:47.832389Z",
     "shell.execute_reply": "2025-10-19T19:04:47.831829Z",
     "shell.execute_reply.started": "2025-10-19T19:04:47.827255Z"
    },
    "tags": []
   },
   "outputs": [
    {
     "data": {
      "text/plain": [
       "'project_data'"
      ]
     },
     "execution_count": 2,
     "metadata": {},
     "output_type": "execute_result"
    }
   ],
   "source": [
    "data_dir = \"project_data\"\n",
    "os.makedirs(data_dir, exist_ok=True)\n",
    "data_dir"
   ]
  },
  {
   "cell_type": "code",
   "execution_count": 3,
   "id": "58e39ab1-91e4-482e-b3a4-3a37e94d8726",
   "metadata": {
    "execution": {
     "iopub.execute_input": "2025-10-19T19:04:50.385255Z",
     "iopub.status.busy": "2025-10-19T19:04:50.384167Z",
     "iopub.status.idle": "2025-10-19T19:04:50.420579Z",
     "shell.execute_reply": "2025-10-19T19:04:50.419759Z",
     "shell.execute_reply.started": "2025-10-19T19:04:50.385221Z"
    },
    "tags": []
   },
   "outputs": [
    {
     "name": "stdout",
     "output_type": "stream",
     "text": [
      "ITS1_sequences.qza already exists – skipping download.\n",
      "sample_metadata.tsv already exists – skipping download.\n",
      "total 683M\n",
      "-rw-r--r-- 1 jovyan jovyan 680M Sep 27 19:51 ITS1_sequences.qza\n",
      "-rw-r--r-- 1 jovyan jovyan  83K Oct  8 11:04 dada2_rep_set.qza\n",
      "-rw-r--r-- 1 jovyan jovyan 326K Oct  8 11:11 dada2_rep_set.qzv\n",
      "-rw-r--r-- 1 jovyan jovyan  54K Oct  8 11:04 dada2_stats.qza\n",
      "-rw-r--r-- 1 jovyan jovyan 1.3M Oct  8 11:10 dada2_stats.qzv\n",
      "-rw-r--r-- 1 jovyan jovyan  92K Oct  8 11:04 dada2_table.qza\n",
      "-rw-r--r-- 1 jovyan jovyan 486K Oct  8 11:11 dada2_table.qzv\n",
      "-rw-r--r-- 1 jovyan jovyan 333K Oct  8 10:55 demux_seqs.qzv\n",
      "-rw-r--r-- 1 jovyan jovyan  19K Sep 27 20:12 sample_metadata.tsv\n",
      "drwxr-xr-x 2 jovyan jovyan 4.0K Oct 12 03:51 unite_train\n"
     ]
    }
   ],
   "source": [
    "%%bash -s \"$data_dir\"\n",
    "set -e\n",
    "mkdir -p \"$1\"\n",
    "cd \"$1\"\n",
    "\n",
    "if [ ! -f ITS1_sequences.qza ]; then\n",
    "    echo \"Downloading ITS1_sequences.qza …\"\n",
    "    wget -q -O ITS1_sequences.qza \\\n",
    "        \"https://polybox.ethz.ch/index.php/s/uV06vmm96ZzB5eM/download\"\n",
    "else\n",
    "    echo \"ITS1_sequences.qza already exists – skipping download.\"\n",
    "fi\n",
    "\n",
    "if [ ! -f sample_metadata.tsv ]; then\n",
    "    echo \"Downloading sample_metadata.tsv …\"\n",
    "    wget -q -O sample_metadata.tsv \\\n",
    "        \"https://polybox.ethz.ch/index.php/s/CA76kKFC9FApqpR/download\"\n",
    "else\n",
    "    echo \"sample_metadata.tsv already exists – skipping download.\"\n",
    "fi\n",
    "\n",
    "ls -lh"
   ]
  },
  {
   "cell_type": "markdown",
   "id": "bf7b734f-92ca-496a-a56b-05764d998c80",
   "metadata": {},
   "source": [
    "# Meta data analysis"
   ]
  },
  {
   "cell_type": "code",
   "execution_count": 18,
   "id": "0b3728ed-bc09-4219-b589-043a0f488a71",
   "metadata": {
    "execution": {
     "iopub.execute_input": "2025-09-27T18:13:04.225877Z",
     "iopub.status.busy": "2025-09-27T18:13:04.225323Z",
     "iopub.status.idle": "2025-09-27T18:13:04.241196Z",
     "shell.execute_reply": "2025-09-27T18:13:04.240598Z",
     "shell.execute_reply.started": "2025-09-27T18:13:04.225817Z"
    },
    "tags": []
   },
   "outputs": [
    {
     "data": {
      "text/html": [
       "<div>\n",
       "<style scoped>\n",
       "    .dataframe tbody tr th:only-of-type {\n",
       "        vertical-align: middle;\n",
       "    }\n",
       "\n",
       "    .dataframe tbody tr th {\n",
       "        vertical-align: top;\n",
       "    }\n",
       "\n",
       "    .dataframe thead th {\n",
       "        text-align: right;\n",
       "    }\n",
       "</style>\n",
       "<table border=\"1\" class=\"dataframe\">\n",
       "  <thead>\n",
       "    <tr style=\"text-align: right;\">\n",
       "      <th></th>\n",
       "      <th>country_sample</th>\n",
       "      <th>state_sample</th>\n",
       "      <th>latitude_sample</th>\n",
       "      <th>longitude_sample</th>\n",
       "      <th>sex_sample</th>\n",
       "      <th>age_years_sample</th>\n",
       "      <th>height_cm_sample</th>\n",
       "      <th>weight_kg_sample</th>\n",
       "      <th>bmi_sample</th>\n",
       "      <th>diet_type_sample</th>\n",
       "      <th>ibd_sample</th>\n",
       "      <th>gluten_sample</th>\n",
       "    </tr>\n",
       "    <tr>\n",
       "      <th>ID</th>\n",
       "      <th></th>\n",
       "      <th></th>\n",
       "      <th></th>\n",
       "      <th></th>\n",
       "      <th></th>\n",
       "      <th></th>\n",
       "      <th></th>\n",
       "      <th></th>\n",
       "      <th></th>\n",
       "      <th></th>\n",
       "      <th></th>\n",
       "      <th></th>\n",
       "    </tr>\n",
       "  </thead>\n",
       "  <tbody>\n",
       "    <tr>\n",
       "      <th>ERR5327266</th>\n",
       "      <td>USA</td>\n",
       "      <td>VA</td>\n",
       "      <td>38.9</td>\n",
       "      <td>-77.1</td>\n",
       "      <td>female</td>\n",
       "      <td>28.0</td>\n",
       "      <td>175.0</td>\n",
       "      <td>61.0</td>\n",
       "      <td>19.94</td>\n",
       "      <td>Omnivore</td>\n",
       "      <td>I do not have this condition</td>\n",
       "      <td>I do not eat gluten because it makes me feel bad</td>\n",
       "    </tr>\n",
       "    <tr>\n",
       "      <th>ERR5327615</th>\n",
       "      <td>United Kingdom</td>\n",
       "      <td>Not provided</td>\n",
       "      <td>51.8</td>\n",
       "      <td>-1.3</td>\n",
       "      <td>female</td>\n",
       "      <td>53.0</td>\n",
       "      <td>176.0</td>\n",
       "      <td>64.0</td>\n",
       "      <td>20.66</td>\n",
       "      <td>Omnivore</td>\n",
       "      <td>I do not have this condition</td>\n",
       "      <td>No</td>\n",
       "    </tr>\n",
       "    <tr>\n",
       "      <th>ERR5327471</th>\n",
       "      <td>United Kingdom</td>\n",
       "      <td>Not provided</td>\n",
       "      <td>50.5</td>\n",
       "      <td>-3.8</td>\n",
       "      <td>male</td>\n",
       "      <td>77.0</td>\n",
       "      <td>177.0</td>\n",
       "      <td>71.0</td>\n",
       "      <td>22.67</td>\n",
       "      <td>Vegetarian</td>\n",
       "      <td>I do not have this condition</td>\n",
       "      <td>Not provided</td>\n",
       "    </tr>\n",
       "    <tr>\n",
       "      <th>ERR5327344</th>\n",
       "      <td>Australia</td>\n",
       "      <td>QLD</td>\n",
       "      <td>-27.6</td>\n",
       "      <td>152.9</td>\n",
       "      <td>female</td>\n",
       "      <td>46.0</td>\n",
       "      <td>152.0</td>\n",
       "      <td>66.0</td>\n",
       "      <td>28.42</td>\n",
       "      <td>Omnivore</td>\n",
       "      <td>I do not have this condition</td>\n",
       "      <td>No</td>\n",
       "    </tr>\n",
       "    <tr>\n",
       "      <th>ERR5327493</th>\n",
       "      <td>United Kingdom</td>\n",
       "      <td>Not provided</td>\n",
       "      <td>51.5</td>\n",
       "      <td>-0.6</td>\n",
       "      <td>male</td>\n",
       "      <td>46.0</td>\n",
       "      <td>175.0</td>\n",
       "      <td>68.0</td>\n",
       "      <td>22.15</td>\n",
       "      <td>Omnivore</td>\n",
       "      <td>I do not have this condition</td>\n",
       "      <td>No</td>\n",
       "    </tr>\n",
       "  </tbody>\n",
       "</table>\n",
       "</div>"
      ],
      "text/plain": [
       "            country_sample  state_sample latitude_sample longitude_sample  \\\n",
       "ID                                                                          \n",
       "ERR5327266             USA            VA            38.9            -77.1   \n",
       "ERR5327615  United Kingdom  Not provided            51.8             -1.3   \n",
       "ERR5327471  United Kingdom  Not provided            50.5             -3.8   \n",
       "ERR5327344       Australia           QLD           -27.6            152.9   \n",
       "ERR5327493  United Kingdom  Not provided            51.5             -0.6   \n",
       "\n",
       "           sex_sample age_years_sample height_cm_sample weight_kg_sample  \\\n",
       "ID                                                                         \n",
       "ERR5327266     female             28.0            175.0             61.0   \n",
       "ERR5327615     female             53.0            176.0             64.0   \n",
       "ERR5327471       male             77.0            177.0             71.0   \n",
       "ERR5327344     female             46.0            152.0             66.0   \n",
       "ERR5327493       male             46.0            175.0             68.0   \n",
       "\n",
       "           bmi_sample diet_type_sample                    ibd_sample  \\\n",
       "ID                                                                     \n",
       "ERR5327266      19.94         Omnivore  I do not have this condition   \n",
       "ERR5327615      20.66         Omnivore  I do not have this condition   \n",
       "ERR5327471      22.67       Vegetarian  I do not have this condition   \n",
       "ERR5327344      28.42         Omnivore  I do not have this condition   \n",
       "ERR5327493      22.15         Omnivore  I do not have this condition   \n",
       "\n",
       "                                               gluten_sample  \n",
       "ID                                                            \n",
       "ERR5327266  I do not eat gluten because it makes me feel bad  \n",
       "ERR5327615                                                No  \n",
       "ERR5327471                                      Not provided  \n",
       "ERR5327344                                                No  \n",
       "ERR5327493                                                No  "
      ]
     },
     "execution_count": 18,
     "metadata": {},
     "output_type": "execute_result"
    }
   ],
   "source": [
    "metadata_df = pd.read_csv(f'{data_dir}/sample_metadata.tsv', sep='\\t', index_col=0)\n",
    "metadata_df.sample(5)"
   ]
  },
  {
   "cell_type": "code",
   "execution_count": 19,
   "id": "ee8fb383-984a-4838-960f-8ac2c1b6549d",
   "metadata": {
    "execution": {
     "iopub.execute_input": "2025-09-27T18:14:36.554718Z",
     "iopub.status.busy": "2025-09-27T18:14:36.553967Z",
     "iopub.status.idle": "2025-09-27T18:14:36.577719Z",
     "shell.execute_reply": "2025-09-27T18:14:36.576901Z",
     "shell.execute_reply.started": "2025-09-27T18:14:36.554690Z"
    },
    "tags": []
   },
   "outputs": [
    {
     "data": {
      "text/html": [
       "<div>\n",
       "<style scoped>\n",
       "    .dataframe tbody tr th:only-of-type {\n",
       "        vertical-align: middle;\n",
       "    }\n",
       "\n",
       "    .dataframe tbody tr th {\n",
       "        vertical-align: top;\n",
       "    }\n",
       "\n",
       "    .dataframe thead th {\n",
       "        text-align: right;\n",
       "    }\n",
       "</style>\n",
       "<table border=\"1\" class=\"dataframe\">\n",
       "  <thead>\n",
       "    <tr style=\"text-align: right;\">\n",
       "      <th></th>\n",
       "      <th>country_sample</th>\n",
       "      <th>state_sample</th>\n",
       "      <th>latitude_sample</th>\n",
       "      <th>longitude_sample</th>\n",
       "      <th>sex_sample</th>\n",
       "      <th>age_years_sample</th>\n",
       "      <th>height_cm_sample</th>\n",
       "      <th>weight_kg_sample</th>\n",
       "      <th>bmi_sample</th>\n",
       "      <th>diet_type_sample</th>\n",
       "      <th>ibd_sample</th>\n",
       "      <th>gluten_sample</th>\n",
       "    </tr>\n",
       "  </thead>\n",
       "  <tbody>\n",
       "    <tr>\n",
       "      <th>count</th>\n",
       "      <td>150</td>\n",
       "      <td>150</td>\n",
       "      <td>150</td>\n",
       "      <td>150</td>\n",
       "      <td>150</td>\n",
       "      <td>150</td>\n",
       "      <td>150</td>\n",
       "      <td>150</td>\n",
       "      <td>150</td>\n",
       "      <td>150</td>\n",
       "      <td>150</td>\n",
       "      <td>150</td>\n",
       "    </tr>\n",
       "    <tr>\n",
       "      <th>unique</th>\n",
       "      <td>8</td>\n",
       "      <td>30</td>\n",
       "      <td>86</td>\n",
       "      <td>81</td>\n",
       "      <td>4</td>\n",
       "      <td>64</td>\n",
       "      <td>47</td>\n",
       "      <td>70</td>\n",
       "      <td>135</td>\n",
       "      <td>6</td>\n",
       "      <td>4</td>\n",
       "      <td>5</td>\n",
       "    </tr>\n",
       "    <tr>\n",
       "      <th>top</th>\n",
       "      <td>United Kingdom</td>\n",
       "      <td>Not provided</td>\n",
       "      <td>51.5</td>\n",
       "      <td>145.0</td>\n",
       "      <td>male</td>\n",
       "      <td>55.0</td>\n",
       "      <td>180.0</td>\n",
       "      <td>63.0</td>\n",
       "      <td>Not provided</td>\n",
       "      <td>Omnivore</td>\n",
       "      <td>I do not have this condition</td>\n",
       "      <td>No</td>\n",
       "    </tr>\n",
       "    <tr>\n",
       "      <th>freq</th>\n",
       "      <td>54</td>\n",
       "      <td>58</td>\n",
       "      <td>14</td>\n",
       "      <td>5</td>\n",
       "      <td>79</td>\n",
       "      <td>6</td>\n",
       "      <td>15</td>\n",
       "      <td>8</td>\n",
       "      <td>3</td>\n",
       "      <td>118</td>\n",
       "      <td>130</td>\n",
       "      <td>113</td>\n",
       "    </tr>\n",
       "  </tbody>\n",
       "</table>\n",
       "</div>"
      ],
      "text/plain": [
       "        country_sample  state_sample latitude_sample longitude_sample  \\\n",
       "count              150           150             150              150   \n",
       "unique               8            30              86               81   \n",
       "top     United Kingdom  Not provided            51.5            145.0   \n",
       "freq                54            58              14                5   \n",
       "\n",
       "       sex_sample age_years_sample height_cm_sample weight_kg_sample  \\\n",
       "count         150              150              150              150   \n",
       "unique          4               64               47               70   \n",
       "top          male             55.0            180.0             63.0   \n",
       "freq           79                6               15                8   \n",
       "\n",
       "          bmi_sample diet_type_sample                    ibd_sample  \\\n",
       "count            150              150                           150   \n",
       "unique           135                6                             4   \n",
       "top     Not provided         Omnivore  I do not have this condition   \n",
       "freq               3              118                           130   \n",
       "\n",
       "       gluten_sample  \n",
       "count            150  \n",
       "unique             5  \n",
       "top               No  \n",
       "freq             113  "
      ]
     },
     "execution_count": 19,
     "metadata": {},
     "output_type": "execute_result"
    }
   ],
   "source": [
    "metadata_df.describe()"
   ]
  },
  {
   "cell_type": "code",
   "execution_count": 20,
   "id": "9fc235f3-f4b0-4cde-9b00-6e4db8f46e0e",
   "metadata": {
    "execution": {
     "iopub.execute_input": "2025-09-27T18:14:58.822979Z",
     "iopub.status.busy": "2025-09-27T18:14:58.822057Z",
     "iopub.status.idle": "2025-09-27T18:14:59.110896Z",
     "shell.execute_reply": "2025-09-27T18:14:59.110348Z",
     "shell.execute_reply.started": "2025-09-27T18:14:58.822955Z"
    },
    "tags": []
   },
   "outputs": [
    {
     "data": {
      "text/plain": [
       "<Axes: title={'center': 'Sex ratio'}, xlabel='sex_sample'>"
      ]
     },
     "execution_count": 20,
     "metadata": {},
     "output_type": "execute_result"
    },
    {
     "data": {
      "image/png": "[encoded data removed]",
      "text/plain": [
       "<Figure size 640x480 with 1 Axes>"
      ]
     },
     "metadata": {},
     "output_type": "display_data"
    }
   ],
   "source": [
    "metadata_df['sex_sample'].value_counts().plot(kind='bar', title='Sex ratio')"
   ]
  },
  {
   "cell_type": "code",
   "execution_count": 23,
   "id": "bfc1dd5b-c55e-4ca1-b17e-bc43518b4f78",
   "metadata": {
    "execution": {
     "iopub.execute_input": "2025-09-27T18:17:57.562860Z",
     "iopub.status.busy": "2025-09-27T18:17:57.562537Z",
     "iopub.status.idle": "2025-09-27T18:17:57.569156Z",
     "shell.execute_reply": "2025-09-27T18:17:57.568410Z",
     "shell.execute_reply.started": "2025-09-27T18:17:57.562836Z"
    },
    "tags": []
   },
   "outputs": [],
   "source": [
    "# coerce several columns to numeric\n",
    "num_cols = ['age_years_sample','height_cm_sample','weight_kg_sample',\n",
    "            'bmi_sample','latitude_sample','longitude_sample']\n",
    "metadata_df[num_cols] = (metadata_df[num_cols]\n",
    "                         .replace('Not provided', pd.NA)\n",
    "                         .apply(pd.to_numeric, errors='coerce'))"
   ]
  },
  {
   "cell_type": "code",
   "execution_count": 24,
   "id": "b513d32f-d3fe-46df-99a3-91fe574e8354",
   "metadata": {
    "execution": {
     "iopub.execute_input": "2025-09-27T18:18:02.081397Z",
     "iopub.status.busy": "2025-09-27T18:18:02.080505Z",
     "iopub.status.idle": "2025-09-27T18:18:02.088143Z",
     "shell.execute_reply": "2025-09-27T18:18:02.087562Z",
     "shell.execute_reply.started": "2025-09-27T18:18:02.081350Z"
    },
    "tags": []
   },
   "outputs": [
    {
     "data": {
      "text/plain": [
       "country_sample\n",
       "Not provided      28.110000\n",
       "USA               24.672500\n",
       "United Kingdom    24.519444\n",
       "New Zealand       24.363333\n",
       "Australia         23.197619\n",
       "Germany           22.630000\n",
       "Isle of Man       21.970000\n",
       "Sweden            19.140000\n",
       "Name: bmi_sample, dtype: float64"
      ]
     },
     "execution_count": 24,
     "metadata": {},
     "output_type": "execute_result"
    }
   ],
   "source": [
    "(mean_bmi_by_country :=\n",
    "    metadata_df.groupby('country_sample')['bmi_sample']\n",
    "               .mean()\n",
    "               .sort_values(ascending=False))\n",
    "\n",
    "mean_bmi_by_country"
   ]
  },
  {
   "cell_type": "markdown",
   "id": "97bb3a82-aa4b-4b55-b29f-d00b7ee5436e",
   "metadata": {},
   "source": [
    "# Sequence import & summary"
   ]
  },
  {
   "cell_type": "code",
   "execution_count": 10,
   "id": "b908614f-2abd-4977-ab53-e1dad55f61f3",
   "metadata": {
    "execution": {
     "iopub.execute_input": "2025-10-08T08:54:12.825598Z",
     "iopub.status.busy": "2025-10-08T08:54:12.825071Z",
     "iopub.status.idle": "2025-10-08T08:54:12.828337Z",
     "shell.execute_reply": "2025-10-08T08:54:12.827853Z",
     "shell.execute_reply.started": "2025-10-08T08:54:12.825573Z"
    },
    "tags": []
   },
   "outputs": [],
   "source": [
    "seqs_qza = f'{data_dir}/ITS1_sequences.qza'"
   ]
  },
  {
   "cell_type": "code",
   "execution_count": 11,
   "id": "7fc01a66-cf1e-497a-97de-7ea2498c45c6",
   "metadata": {
    "execution": {
     "iopub.execute_input": "2025-10-08T08:54:14.424398Z",
     "iopub.status.busy": "2025-10-08T08:54:14.423632Z",
     "iopub.status.idle": "2025-10-08T08:54:16.128868Z",
     "shell.execute_reply": "2025-10-08T08:54:16.128042Z",
     "shell.execute_reply.started": "2025-10-08T08:54:14.424360Z"
    },
    "tags": []
   },
   "outputs": [
    {
     "name": "stdout",
     "output_type": "stream",
     "text": [
      "\u001b[32mUUID\u001b[0m:        3638611d-1767-413b-9390-70ee3d78e4ff\n",
      "\u001b[32mType\u001b[0m:        SampleData[SequencesWithQuality]\n",
      "\u001b[32mData format\u001b[0m: SingleLanePerSampleSingleEndFastqDirFmt\n"
     ]
    }
   ],
   "source": [
    "!qiime tools peek {seqs_qza}"
   ]
  },
  {
   "cell_type": "code",
   "execution_count": 12,
   "id": "52537bff-9cb9-4396-a458-5de5f68a6bed",
   "metadata": {
    "execution": {
     "iopub.execute_input": "2025-10-08T08:54:18.413348Z",
     "iopub.status.busy": "2025-10-08T08:54:18.413018Z",
     "iopub.status.idle": "2025-10-08T08:55:45.579408Z",
     "shell.execute_reply": "2025-10-08T08:55:45.578755Z",
     "shell.execute_reply.started": "2025-10-08T08:54:18.413323Z"
    },
    "tags": []
   },
   "outputs": [
    {
     "name": "stdout",
     "output_type": "stream",
     "text": [
      "/opt/conda/lib/python3.10/site-packages/unifrac/__init__.py:9: UserWarning: pkg_resources is deprecated as an API. See https://setuptools.pypa.io/en/latest/pkg_resources.html. The pkg_resources package is slated for removal as early as 2025-11-30. Refrain from using this package or pin to Setuptools<81.\n",
      "  import pkg_resources\n",
      "\u001b[32mSaved Visualization to: project_data/demux_seqs.qzv\u001b[0m\n",
      "\u001b[0m\u001b[?25h"
     ]
    },
    {
     "data": {
      "text/html": [
       "<div><img onload=\"(function(div, url){\n",
       "if (typeof require !== 'undefined') {\n",
       "    var baseURL = require.toUrl('').split('/').slice(0, -2).join('/');\n",
       "} else {\n",
       "    var baseURL = JSON.parse(\n",
       "        document.getElementById('jupyter-config-data').innerHTML\n",
       "    ).baseUrl.slice(0, -1);\n",
       "}\n",
       "url = baseURL + url;\n",
       "fetch(url).then(function(res) {\n",
       "    if (res.status === 404) {\n",
       "        div.innerHTML = 'Install QIIME 2 Jupyter extension with:<br />' +\n",
       "                        '<code>jupyter server extension enable --py qiime2' +\n",
       "                        ' --sys-prefix</code><br />then restart your server.' +\n",
       "                        '<br /><br />(Interactive output not available on ' +\n",
       "                        'static notebook viewer services like nbviewer.)';\n",
       "    } else if (res.status === 409) {\n",
       "        div.innerHTML = 'Visualization no longer in scope. Re-run this cell' +\n",
       "                        ' to see the visualization.';\n",
       "    } else if (res.ok) {\n",
       "        url = res.url;\n",
       "        div.innerHTML = '<iframe src=\\'' + url + '\\' style=\\'' +\n",
       "                        'width: 100%; height: 700px; border: 0;\\'>' +\n",
       "                        '</iframe><hr />Open in a: <a href=\\'' + url + '\\'' +\n",
       "                        ' target=\\'_blank\\'>new window</a>'\n",
       "    } else {\n",
       "        div.innerHTML = 'Something has gone wrong. Check notebook server for' +\n",
       "                        ' errors.';\n",
       "    }\n",
       "});\n",
       "})(this.parentElement, '/qiime2/redirect?location=/tmp/qiime2/jovyan/data/97109369-2c96-4a3e-a593-4002f62d973c')\" src=\"data:image/gif;base64,R0lGODlhAQABAIAAAP///wAAACH5BAEAAAAALAAAAAABAAEAAAICRAEAOw==\" /></div>"
      ],
      "text/plain": [
       "<visualization: Visualization uuid: 97109369-2c96-4a3e-a593-4002f62d973c>"
      ]
     },
     "execution_count": 12,
     "metadata": {},
     "output_type": "execute_result"
    }
   ],
   "source": [
    "!qiime demux summarize \\\n",
    "  --i-data {seqs_qza} \\\n",
    "  --o-visualization {data_dir}/demux_seqs.qzv"
   ]
  },
  {
   "cell_type": "code",
   "execution_count": null,
   "id": "8589e224-dbd7-4d3a-a561-47ba44da7ec2",
   "metadata": {},
   "outputs": [],
   "source": [
    "Visualization.load(f\"{data_dir}/demux_seqs.qzv\")"
   ]
  },
  {
   "cell_type": "markdown",
   "id": "0c819bec-b1a8-41d6-ac6a-ae2b97d80c35",
   "metadata": {},
   "source": [
    "# Feature table construction"
   ]
  },
  {
   "cell_type": "code",
   "execution_count": 15,
   "id": "83954944-448b-4f5d-90a8-ceb02f69882d",
   "metadata": {
    "execution": {
     "iopub.execute_input": "2025-10-08T08:56:48.864999Z",
     "iopub.status.busy": "2025-10-08T08:56:48.864487Z",
     "iopub.status.idle": "2025-10-08T08:56:50.634262Z",
     "shell.execute_reply": "2025-10-08T08:56:50.633427Z",
     "shell.execute_reply.started": "2025-10-08T08:56:48.864972Z"
    },
    "tags": []
   },
   "outputs": [
    {
     "name": "stdout",
     "output_type": "stream",
     "text": [
      "Usage: \u001b[94mqiime dada2 denoise-single\u001b[0m [OPTIONS]\n",
      "\n",
      "  This method denoises single-end sequences, dereplicates them, and filters\n",
      "  chimeras.\n",
      "\n",
      "\u001b[1mInputs\u001b[0m:\n",
      "  \u001b[94m\u001b[4m--i-demultiplexed-seqs\u001b[0m ARTIFACT \u001b[32mSampleData[SequencesWithQuality |\u001b[0m\n",
      "    \u001b[32mPairedEndSequencesWithQuality]\u001b[0m\n",
      "                          The single-end demultiplexed sequences to be\n",
      "                          denoised.                                 \u001b[35m[required]\u001b[0m\n",
      "\u001b[1mParameters\u001b[0m:\n",
      "  \u001b[94m\u001b[4m--p-trunc-len\u001b[0m INTEGER   Position at which sequences should be truncated due\n",
      "                          to decrease in quality. This truncates the 3' end of\n",
      "                          the of the input sequences, which will be the bases\n",
      "                          that were sequenced in the last cycles. Reads that\n",
      "                          are shorter than this value will be discarded. If 0\n",
      "                          is provided, no truncation or length filtering will\n",
      "                          be performed                              \u001b[35m[required]\u001b[0m\n",
      "  \u001b[94m--p-trim-left\u001b[0m INTEGER   Position at which sequences should be trimmed due\n",
      "                          to low quality. This trims the 5' end of the of the\n",
      "                          input sequences, which will be the bases that were\n",
      "                          sequenced in the first cycles.          \u001b[35m[default: 0]\u001b[0m\n",
      "  \u001b[94m--p-max-ee\u001b[0m NUMBER       Reads with number of expected errors higher than\n",
      "                          this value will be discarded.         \u001b[35m[default: 2.0]\u001b[0m\n",
      "  \u001b[94m--p-trunc-q\u001b[0m INTEGER     Reads are truncated at the first instance of a\n",
      "                          quality score less than or equal to this value. If\n",
      "                          the resulting read is then shorter than `\u001b[4mtrunc-len\u001b[0m`,\n",
      "                          it is discarded.                        \u001b[35m[default: 2]\u001b[0m\n",
      "  \u001b[94m--p-pooling-method\u001b[0m TEXT \u001b[32mChoices('independent', 'pseudo')\u001b[0m\n",
      "                          The method used to pool samples for denoising.\n",
      "                          \"independent\": Samples are denoised independently.\n",
      "                          \"pseudo\": The pseudo-pooling method is used to\n",
      "                          approximate pooling of samples. In short, samples\n",
      "                          are denoised independently once, ASVs detected in at\n",
      "                          least 2 samples are recorded, and samples are\n",
      "                          denoised independently a second time, but this time\n",
      "                          with prior knowledge of the recorded ASVs and thus\n",
      "                          higher sensitivity to those ASVs.\n",
      "                                                      \u001b[35m[default: 'independent']\u001b[0m\n",
      "  \u001b[94m--p-chimera-method\u001b[0m TEXT \u001b[32mChoices('consensus', 'none')\u001b[0m\n",
      "                          The method used to remove chimeras. \"none\": No\n",
      "                          chimera removal is performed. \"consensus\": Chimeras\n",
      "                          are detected in samples individually, and sequences\n",
      "                          found chimeric in a sufficient fraction of samples\n",
      "                          are removed.                  \u001b[35m[default: 'consensus']\u001b[0m\n",
      "  \u001b[94m--p-min-fold-parent-over-abundance\u001b[0m NUMBER\n",
      "                          The minimum abundance of potential parents of a\n",
      "                          sequence being tested as chimeric, expressed as a\n",
      "                          fold-change versus the abundance of the sequence\n",
      "                          being tested. Values should be greater than or equal\n",
      "                          to 1 (i.e. parents should be more abundant than the\n",
      "                          sequence being tested). This parameter has no effect\n",
      "                          if \u001b[4mchimera-method\u001b[0m is \"none\".          \u001b[35m[default: 1.0]\u001b[0m\n",
      "  \u001b[94m--p-allow-one-off\u001b[0m / \u001b[94m--p-no-allow-one-off\u001b[0m\n",
      "                          Bimeras that are one-off from exact are also\n",
      "                          identified if the `\u001b[4mallow-one-off\u001b[0m` argument is\n",
      "                          True.If True, a sequence will be identified as\n",
      "                          bimera if it is one mismatch or indel away from an\n",
      "                          exact bimera.                       \u001b[35m[default: False]\u001b[0m\n",
      "  \u001b[94m--p-n-threads\u001b[0m NTHREADS  The number of threads to use for multithreaded\n",
      "                          processing. If 0 is provided, all available cores\n",
      "                          will be used.                           \u001b[35m[default: 1]\u001b[0m\n",
      "  \u001b[94m--p-n-reads-learn\u001b[0m INTEGER\n",
      "                          The number of reads to use when training the error\n",
      "                          model. Smaller numbers will result in a shorter run\n",
      "                          time but a less reliable error model.\n",
      "                                                            \u001b[35m[default: 1000000]\u001b[0m\n",
      "  \u001b[94m--p-hashed-feature-ids\u001b[0m / \u001b[94m--p-no-hashed-feature-ids\u001b[0m\n",
      "                          If true, the feature ids in the resulting table\n",
      "                          will be presented as hashes of the sequences\n",
      "                          defining each feature. The hash will always be the\n",
      "                          same for the same sequence so this allows feature\n",
      "                          tables to be merged across runs of this method. You\n",
      "                          should only merge tables if the exact same\n",
      "                          parameters are used for each run.    \u001b[35m[default: True]\u001b[0m\n",
      "  \u001b[94m--p-retain-all-samples\u001b[0m / \u001b[94m--p-no-retain-all-samples\u001b[0m\n",
      "                          If True all samples input to dada2 will be retained\n",
      "                          in the output of dada2, if false samples with zero\n",
      "                          total frequency are removed from the table.\n",
      "                                                               \u001b[35m[default: True]\u001b[0m\n",
      "\u001b[1mOutputs\u001b[0m:\n",
      "  \u001b[94m\u001b[4m--o-table\u001b[0m ARTIFACT \u001b[32mFeatureTable[Frequency]\u001b[0m\n",
      "                          The resulting feature table.              \u001b[35m[required]\u001b[0m\n",
      "  \u001b[94m\u001b[4m--o-representative-sequences\u001b[0m ARTIFACT \u001b[32mFeatureData[Sequence]\u001b[0m\n",
      "                          The resulting feature sequences. Each feature in\n",
      "                          the feature table will be represented by exactly one\n",
      "                          sequence.                                 \u001b[35m[required]\u001b[0m\n",
      "  \u001b[94m\u001b[4m--o-denoising-stats\u001b[0m ARTIFACT \u001b[32mSampleData[DADA2Stats]\u001b[0m\n",
      "                                                                    \u001b[35m[required]\u001b[0m\n",
      "\u001b[1mMiscellaneous\u001b[0m:\n",
      "  \u001b[94m--output-dir\u001b[0m PATH       Output unspecified results to a directory\n",
      "  \u001b[94m--verbose\u001b[0m / \u001b[94m--quiet\u001b[0m     Display verbose output to stdout and/or stderr\n",
      "                          during execution of this action. Or silence output\n",
      "                          if execution is successful (silence is golden).\n",
      "  \u001b[94m--example-data\u001b[0m PATH     Write example data and exit.\n",
      "  \u001b[94m--citations\u001b[0m             Show citations and exit.\n",
      "  \u001b[94m--use-cache\u001b[0m DIRECTORY   Specify the cache to be used for the intermediate\n",
      "                          work of this action. If not provided, the default\n",
      "                          cache under $TMP/qiime2/<uname> will be used.\n",
      "                          IMPORTANT FOR HPC USERS: If you are on an HPC system\n",
      "                          and are using parallel execution it is important to\n",
      "                          set this to a location that is globally accessible\n",
      "                          to all nodes in the cluster.\n",
      "  \u001b[94m--help\u001b[0m                  Show this message and exit.\n",
      "\n",
      "\u001b[1mExamples\u001b[0m:\n",
      "  # ### example: denoise single\n",
      "  qiime dada2 denoise-single \\\n",
      "    --i-demultiplexed-seqs demux-single.qza \\\n",
      "    --p-trim-left 0 \\\n",
      "    --p-trunc-len 120 \\\n",
      "    --o-representative-sequences representative-sequences.qza \\\n",
      "    --o-table table.qza \\\n",
      "    --o-denoising-stats denoising-stats.qza\n",
      "  \n",
      "\n",
      "\u001b[33m                  There were some problems with the command:                  \u001b[0m\n",
      "\u001b[31m\u001b[1m (1/6) Missing option '--i-demultiplexed-seqs'.\u001b[0m\n",
      "\u001b[31m\u001b[1m (2/6) Missing option '--p-trunc-len'.\u001b[0m\n",
      "\u001b[31m\u001b[1m (3/6) Missing option '--o-table'. (\"--output-dir\" may also be used)\u001b[0m\n",
      "\u001b[31m\u001b[1m (4/6) Missing option '--o-representative-sequences'. (\"--output-dir\" may also\n",
      "  be used)\u001b[0m\n",
      "\u001b[31m\u001b[1m (5/6) Missing option '--o-denoising-stats'. (\"--output-dir\" may also be used)\u001b[0m\n",
      "\u001b[31m\u001b[1m (6/6) Got unexpected extra argument (help)\u001b[0m\n"
     ]
    }
   ],
   "source": [
    "! qiime dada2 denoise-single help"
   ]
  },
  {
   "cell_type": "code",
   "execution_count": 19,
   "id": "b49b7b7f-651e-44b0-86a9-638aa75fe255",
   "metadata": {
    "execution": {
     "iopub.execute_input": "2025-10-08T08:57:52.900370Z",
     "iopub.status.busy": "2025-10-08T08:57:52.900049Z",
     "iopub.status.idle": "2025-10-08T09:04:50.669273Z",
     "shell.execute_reply": "2025-10-08T09:04:50.667867Z",
     "shell.execute_reply.started": "2025-10-08T08:57:52.900344Z"
    },
    "tags": []
   },
   "outputs": [
    {
     "name": "stdout",
     "output_type": "stream",
     "text": [
      "/opt/conda/lib/python3.10/site-packages/unifrac/__init__.py:9: UserWarning: pkg_resources is deprecated as an API. See https://setuptools.pypa.io/en/latest/pkg_resources.html. The pkg_resources package is slated for removal as early as 2025-11-30. Refrain from using this package or pin to Setuptools<81.\n",
      "  import pkg_resources\n",
      "\u001b[32mSaved FeatureTable[Frequency] to: project_data/dada2_table.qza\u001b[0m\n",
      "\u001b[32mSaved FeatureData[Sequence] to: project_data/dada2_rep_set.qza\u001b[0m\n",
      "\u001b[32mSaved SampleData[DADA2Stats] to: project_data/dada2_stats.qza\u001b[0m\n",
      "\u001b[0m\u001b[?25h"
     ]
    }
   ],
   "source": [
    "! qiime dada2 denoise-single \\\n",
    "  --i-demultiplexed-seqs project_data/ITS1_sequences.qza \\\n",
    "  --p-trunc-len 130 \\\n",
    "  --p-n-threads 3 \\\n",
    "  --p-max-ee 4 \\\n",
    "  --p-min-fold-parent-over-abundance 4 \\\n",
    "  --o-table project_data/dada2_table.qza \\\n",
    "  --o-representative-sequences project_data/dada2_rep_set.qza \\\n",
    "  --o-denoising-stats project_data/dada2_stats.qza"
   ]
  },
  {
   "cell_type": "markdown",
   "id": "fa3275e6-eef2-4b99-863c-9a29a2b152a3",
   "metadata": {},
   "source": [
    "### Denoising - Amplicon Sequence Variants"
   ]
  },
  {
   "cell_type": "code",
   "execution_count": 19,
   "id": "97ed70b2-8288-4a3d-85bb-e8f9e098e916",
   "metadata": {
    "execution": {
     "iopub.execute_input": "2025-10-19T20:22:56.304243Z",
     "iopub.status.busy": "2025-10-19T20:22:56.303617Z",
     "iopub.status.idle": "2025-10-19T20:24:39.346066Z",
     "shell.execute_reply": "2025-10-19T20:24:39.345188Z",
     "shell.execute_reply.started": "2025-10-19T20:22:56.304214Z"
    },
    "tags": []
   },
   "outputs": [
    {
     "name": "stdout",
     "output_type": "stream",
     "text": [
      "/opt/conda/lib/python3.10/site-packages/unifrac/__init__.py:9: UserWarning: pkg_resources is deprecated as an API. See https://setuptools.pypa.io/en/latest/pkg_resources.html. The pkg_resources package is slated for removal as early as 2025-11-30. Refrain from using this package or pin to Setuptools<81.\n",
      "  import pkg_resources\n",
      "\u001b[32mSaved Visualization to: project_data/dada2_stats.qzv\u001b[0m\n",
      "\u001b[0m\u001b[?25h/opt/conda/lib/python3.10/site-packages/unifrac/__init__.py:9: UserWarning: pkg_resources is deprecated as an API. See https://setuptools.pypa.io/en/latest/pkg_resources.html. The pkg_resources package is slated for removal as early as 2025-11-30. Refrain from using this package or pin to Setuptools<81.\n",
      "  import pkg_resources\n",
      "\u001b[32mSaved Visualization to: project_data/dada2_rep_set.qzv\u001b[0m\n",
      "\u001b[0m\u001b[?25h/opt/conda/lib/python3.10/site-packages/unifrac/__init__.py:9: UserWarning: pkg_resources is deprecated as an API. See https://setuptools.pypa.io/en/latest/pkg_resources.html. The pkg_resources package is slated for removal as early as 2025-11-30. Refrain from using this package or pin to Setuptools<81.\n",
      "  import pkg_resources\n",
      "\u001b[32mSaved Visualization to: project_data/dada2_table.qzv\u001b[0m\n",
      "\u001b[0m\u001b[?25h"
     ]
    }
   ],
   "source": [
    "! qiime metadata tabulate \\\n",
    "  --m-input-file project_data/dada2_stats.qza \\\n",
    "  --o-visualization project_data/dada2_stats.qzv\n",
    "\n",
    "! qiime feature-table tabulate-seqs \\\n",
    "  --i-data project_data/dada2_rep_set.qza \\\n",
    "  --o-visualization project_data/dada2_rep_set.qzv\n",
    "\n",
    "! qiime feature-table summarize \\\n",
    "  --i-table project_data/dada2_table.qza \\\n",
    "  --m-sample-metadata-file project_data/sample_metadata.tsv \\\n",
    "  --o-visualization project_data/dada2_table.qzv"
   ]
  },
  {
   "cell_type": "code",
   "execution_count": 17,
   "id": "e44d9094-230b-481e-9b2c-8c5f1b24afe9",
   "metadata": {
    "execution": {
     "iopub.execute_input": "2025-10-19T20:16:43.831345Z",
     "iopub.status.busy": "2025-10-19T20:16:43.830747Z",
     "iopub.status.idle": "2025-10-19T20:16:43.887079Z",
     "shell.execute_reply": "2025-10-19T20:16:43.886496Z",
     "shell.execute_reply.started": "2025-10-19T20:16:43.831321Z"
    },
    "tags": []
   },
   "outputs": [
    {
     "data": {
      "text/html": [
       "<div><img onload=\"(function(div, url){\n",
       "if (typeof require !== 'undefined') {\n",
       "    var baseURL = require.toUrl('').split('/').slice(0, -2).join('/');\n",
       "} else {\n",
       "    var baseURL = JSON.parse(\n",
       "        document.getElementById('jupyter-config-data').innerHTML\n",
       "    ).baseUrl.slice(0, -1);\n",
       "}\n",
       "url = baseURL + url;\n",
       "fetch(url).then(function(res) {\n",
       "    if (res.status === 404) {\n",
       "        div.innerHTML = 'Install QIIME 2 Jupyter extension with:<br />' +\n",
       "                        '<code>jupyter server extension enable --py qiime2' +\n",
       "                        ' --sys-prefix</code><br />then restart your server.' +\n",
       "                        '<br /><br />(Interactive output not available on ' +\n",
       "                        'static notebook viewer services like nbviewer.)';\n",
       "    } else if (res.status === 409) {\n",
       "        div.innerHTML = 'Visualization no longer in scope. Re-run this cell' +\n",
       "                        ' to see the visualization.';\n",
       "    } else if (res.ok) {\n",
       "        url = res.url;\n",
       "        div.innerHTML = '<iframe src=\\'' + url + '\\' style=\\'' +\n",
       "                        'width: 100%; height: 700px; border: 0;\\'>' +\n",
       "                        '</iframe><hr />Open in a: <a href=\\'' + url + '\\'' +\n",
       "                        ' target=\\'_blank\\'>new window</a>'\n",
       "    } else {\n",
       "        div.innerHTML = 'Something has gone wrong. Check notebook server for' +\n",
       "                        ' errors.';\n",
       "    }\n",
       "});\n",
       "})(this.parentElement, '/qiime2/redirect?location=/tmp/qiime2/jovyan/data/0139812f-cc6b-4e2a-838a-e46aca2b997b')\" src=\"data:image/gif;base64,R0lGODlhAQABAIAAAP///wAAACH5BAEAAAAALAAAAAABAAEAAAICRAEAOw==\" /></div>"
      ],
      "text/plain": [
       "<visualization: Visualization uuid: 0139812f-cc6b-4e2a-838a-e46aca2b997b>"
      ]
     },
     "execution_count": 17,
     "metadata": {},
     "output_type": "execute_result"
    }
   ],
   "source": [
    "Visualization.load(\"project_data/dada2_table.qzv\")"
   ]
  },
  {
   "cell_type": "code",
   "execution_count": 22,
   "id": "69932ca5-7e32-4fab-8ddf-9ff10f60f6bb",
   "metadata": {
    "execution": {
     "iopub.execute_input": "2025-10-08T09:11:47.788581Z",
     "iopub.status.busy": "2025-10-08T09:11:47.787910Z",
     "iopub.status.idle": "2025-10-08T09:11:47.834392Z",
     "shell.execute_reply": "2025-10-08T09:11:47.833482Z",
     "shell.execute_reply.started": "2025-10-08T09:11:47.788559Z"
    },
    "tags": []
   },
   "outputs": [
    {
     "data": {
      "text/html": [
       "<div><img onload=\"(function(div, url){\n",
       "if (typeof require !== 'undefined') {\n",
       "    var baseURL = require.toUrl('').split('/').slice(0, -2).join('/');\n",
       "} else {\n",
       "    var baseURL = JSON.parse(\n",
       "        document.getElementById('jupyter-config-data').innerHTML\n",
       "    ).baseUrl.slice(0, -1);\n",
       "}\n",
       "url = baseURL + url;\n",
       "fetch(url).then(function(res) {\n",
       "    if (res.status === 404) {\n",
       "        div.innerHTML = 'Install QIIME 2 Jupyter extension with:<br />' +\n",
       "                        '<code>jupyter server extension enable --py qiime2' +\n",
       "                        ' --sys-prefix</code><br />then restart your server.' +\n",
       "                        '<br /><br />(Interactive output not available on ' +\n",
       "                        'static notebook viewer services like nbviewer.)';\n",
       "    } else if (res.status === 409) {\n",
       "        div.innerHTML = 'Visualization no longer in scope. Re-run this cell' +\n",
       "                        ' to see the visualization.';\n",
       "    } else if (res.ok) {\n",
       "        url = res.url;\n",
       "        div.innerHTML = '<iframe src=\\'' + url + '\\' style=\\'' +\n",
       "                        'width: 100%; height: 700px; border: 0;\\'>' +\n",
       "                        '</iframe><hr />Open in a: <a href=\\'' + url + '\\'' +\n",
       "                        ' target=\\'_blank\\'>new window</a>'\n",
       "    } else {\n",
       "        div.innerHTML = 'Something has gone wrong. Check notebook server for' +\n",
       "                        ' errors.';\n",
       "    }\n",
       "});\n",
       "})(this.parentElement, '/qiime2/redirect?location=/tmp/qiime2/jovyan/data/9bfbfd4e-21c0-4d7b-a8a0-f19c29c7d483')\" src=\"data:image/gif;base64,R0lGODlhAQABAIAAAP///wAAACH5BAEAAAAALAAAAAABAAEAAAICRAEAOw==\" /></div>"
      ],
      "text/plain": [
       "<visualization: Visualization uuid: 9bfbfd4e-21c0-4d7b-a8a0-f19c29c7d483>"
      ]
     },
     "execution_count": 22,
     "metadata": {},
     "output_type": "execute_result"
    }
   ],
   "source": [
    "Visualization.load(\"project_data/dada2_stats.qzv\")"
   ]
  },
  {
   "cell_type": "markdown",
   "id": "d3f8f12e-0a37-4d32-b653-1f1fe5c8fb2a",
   "metadata": {},
   "source": [
    "# Taxonomy"
   ]
  },
  {
   "cell_type": "markdown",
   "id": "287bd951-7bfa-4d61-a0f5-bae262082fe0",
   "metadata": {},
   "source": [
    "### Reference Database Construction"
   ]
  },
  {
   "cell_type": "code",
   "execution_count": 4,
   "id": "7b0fdf4f-ecd2-4ccf-a757-af310409b1c5",
   "metadata": {
    "execution": {
     "iopub.execute_input": "2025-10-19T19:08:33.619632Z",
     "iopub.status.busy": "2025-10-19T19:08:33.619009Z",
     "iopub.status.idle": "2025-10-19T19:08:33.871658Z",
     "shell.execute_reply": "2025-10-19T19:08:33.870599Z",
     "shell.execute_reply.started": "2025-10-19T19:08:33.619607Z"
    },
    "tags": []
   },
   "outputs": [],
   "source": [
    "mkdir -p project_data/unite_train"
   ]
  },
  {
   "cell_type": "code",
   "execution_count": 5,
   "id": "cfdb4cb9-fbfb-4fb7-90ad-609155e05bda",
   "metadata": {
    "execution": {
     "iopub.execute_input": "2025-10-19T19:08:35.761151Z",
     "iopub.status.busy": "2025-10-19T19:08:35.760379Z",
     "iopub.status.idle": "2025-10-19T19:10:15.939023Z",
     "shell.execute_reply": "2025-10-19T19:10:15.938084Z",
     "shell.execute_reply.started": "2025-10-19T19:08:35.761115Z"
    },
    "tags": []
   },
   "outputs": [
    {
     "name": "stdout",
     "output_type": "stream",
     "text": [
      "/opt/conda/lib/python3.10/site-packages/unifrac/__init__.py:9: UserWarning: pkg_resources is deprecated as an API. See https://setuptools.pypa.io/en/latest/pkg_resources.html. The pkg_resources package is slated for removal as early as 2025-11-30. Refrain from using this package or pin to Setuptools<81.\n",
      "  import pkg_resources\n",
      "\u001b[32mSaved FeatureData[Taxonomy] to: project_data/unite_train/unite_raw_tax.qza\u001b[0m\n",
      "\u001b[32mSaved FeatureData[Sequence] to: project_data/unite_train/unite_raw_seqs.qza\u001b[0m\n",
      "\u001b[0m\u001b[?25h"
     ]
    }
   ],
   "source": [
    "# Download UNITE data\n",
    "! qiime rescript get-unite-data \\\n",
    "  --p-version 2025-02-19 \\\n",
    "  --o-sequences project_data/unite_train/unite_raw_seqs.qza \\\n",
    "  --o-taxonomy project_data/unite_train/unite_raw_tax.qza"
   ]
  },
  {
   "cell_type": "markdown",
   "id": "14954d3b-f2ef-481e-bdfb-d2bb485b9c3c",
   "metadata": {},
   "source": [
    "### Database Curation"
   ]
  },
  {
   "cell_type": "code",
   "execution_count": 7,
   "id": "f750bfee-4271-44e6-be84-3908288a9f4d",
   "metadata": {
    "execution": {
     "iopub.execute_input": "2025-10-19T19:37:44.998907Z",
     "iopub.status.busy": "2025-10-19T19:37:44.997943Z",
     "iopub.status.idle": "2025-10-19T19:39:29.404147Z",
     "shell.execute_reply": "2025-10-19T19:39:29.403515Z",
     "shell.execute_reply.started": "2025-10-19T19:37:44.998867Z"
    },
    "tags": []
   },
   "outputs": [
    {
     "name": "stdout",
     "output_type": "stream",
     "text": [
      "/opt/conda/lib/python3.10/site-packages/unifrac/__init__.py:9: UserWarning: pkg_resources is deprecated as an API. See https://setuptools.pypa.io/en/latest/pkg_resources.html. The pkg_resources package is slated for removal as early as 2025-11-30. Refrain from using this package or pin to Setuptools<81.\n",
      "  import pkg_resources\n",
      "\u001b[32mSaved FeatureData[Sequence] to: project_data/unite_train/sequences-filtered.qza\u001b[0m\n",
      "\u001b[0m\u001b[?25h"
     ]
    }
   ],
   "source": [
    "# remove placeholders\n",
    "! qiime taxa filter-seqs \\\n",
    "  --i-sequences project_data/unite_train/unite_raw_seqs.qza \\\n",
    "  --i-taxonomy project_data/unite_train/unite_raw_tax.qza \\\n",
    "  --p-exclude Fungi_sp,mycota_sp,mycetes_sp \\\n",
    "  --o-filtered-sequences project_data/unite_train/sequences-filtered.qza"
   ]
  },
  {
   "cell_type": "code",
   "execution_count": 8,
   "id": "8b612503-2c64-46ff-9bd4-00118698aae1",
   "metadata": {
    "execution": {
     "iopub.execute_input": "2025-10-19T19:41:03.349491Z",
     "iopub.status.busy": "2025-10-19T19:41:03.348908Z",
     "iopub.status.idle": "2025-10-19T19:41:42.452748Z",
     "shell.execute_reply": "2025-10-19T19:41:42.452036Z",
     "shell.execute_reply.started": "2025-10-19T19:41:03.349449Z"
    },
    "tags": []
   },
   "outputs": [
    {
     "name": "stdout",
     "output_type": "stream",
     "text": [
      "/opt/conda/lib/python3.10/site-packages/unifrac/__init__.py:9: UserWarning: pkg_resources is deprecated as an API. See https://setuptools.pypa.io/en/latest/pkg_resources.html. The pkg_resources package is slated for removal as early as 2025-11-30. Refrain from using this package or pin to Setuptools<81.\n",
      "  import pkg_resources\n",
      "\u001b[32mSaved FeatureData[Taxonomy] to: project_data/unite_train/taxonomy-no-SH.qza\u001b[0m\n",
      "\u001b[0m\u001b[?25h"
     ]
    }
   ],
   "source": [
    "# strip SH codes in taxonomy\n",
    "! qiime rescript edit-taxonomy \\\n",
    "  --i-taxonomy project_data/unite_train/unite_raw_tax.qza \\\n",
    "  --p-search-strings 'SH;__' \\\n",
    "  --p-replacement-strings '' \\\n",
    "  --p-use-regex \\\n",
    "  --o-edited-taxonomy project_data/unite_train/taxonomy-no-SH.qza"
   ]
  },
  {
   "cell_type": "code",
   "execution_count": 9,
   "id": "e717dcd8-a82d-4b34-9788-8dfbf73ca43e",
   "metadata": {
    "execution": {
     "iopub.execute_input": "2025-10-19T19:43:22.342474Z",
     "iopub.status.busy": "2025-10-19T19:43:22.341818Z",
     "iopub.status.idle": "2025-10-19T19:50:17.228853Z",
     "shell.execute_reply": "2025-10-19T19:50:17.228314Z",
     "shell.execute_reply.started": "2025-10-19T19:43:22.342441Z"
    },
    "tags": []
   },
   "outputs": [
    {
     "name": "stdout",
     "output_type": "stream",
     "text": [
      "/opt/conda/lib/python3.10/site-packages/unifrac/__init__.py:9: UserWarning: pkg_resources is deprecated as an API. See https://setuptools.pypa.io/en/latest/pkg_resources.html. The pkg_resources package is slated for removal as early as 2025-11-30. Refrain from using this package or pin to Setuptools<81.\n",
      "  import pkg_resources\n",
      "\u001b[32mSaved FeatureData[Sequence] to: project_data/unite_train/sequences-eukaryote-ITS1.qza\u001b[0m\n",
      "\u001b[0m\u001b[?25h"
     ]
    }
   ],
   "source": [
    "# extract ITS1\n",
    "! qiime feature-classifier extract-reads \\\n",
    "  --i-sequences project_data/unite_train/sequences-filtered.qza \\\n",
    "  --p-f-primer 'CTTGGTCATTTAGAGGAAGTAA' \\\n",
    "  --p-r-primer 'GCTGCGTTCTTCATCGATGC' \\\n",
    "  --p-trunc-len 0 \\\n",
    "  --o-reads project_data/unite_train/sequences-eukaryote-ITS1.qza"
   ]
  },
  {
   "cell_type": "code",
   "execution_count": 10,
   "id": "1e14957f-e975-4758-a026-4982cf9739be",
   "metadata": {
    "execution": {
     "iopub.execute_input": "2025-10-19T19:50:22.998107Z",
     "iopub.status.busy": "2025-10-19T19:50:22.997782Z",
     "iopub.status.idle": "2025-10-19T19:51:23.649665Z",
     "shell.execute_reply": "2025-10-19T19:51:23.648946Z",
     "shell.execute_reply.started": "2025-10-19T19:50:22.998080Z"
    },
    "tags": []
   },
   "outputs": [
    {
     "name": "stdout",
     "output_type": "stream",
     "text": [
      "/opt/conda/lib/python3.10/site-packages/unifrac/__init__.py:9: UserWarning: pkg_resources is deprecated as an API. See https://setuptools.pypa.io/en/latest/pkg_resources.html. The pkg_resources package is slated for removal as early as 2025-11-30. Refrain from using this package or pin to Setuptools<81.\n",
      "  import pkg_resources\n",
      "\u001b[32mSaved FeatureData[Sequence] to: project_data/unite_train/derep-seqs-ITS1.qza\u001b[0m\n",
      "\u001b[32mSaved FeatureData[Taxonomy] to: project_data/unite_train/derep-tax-ITS1.qza\u001b[0m\n",
      "\u001b[0m\u001b[?25h"
     ]
    }
   ],
   "source": [
    "# dereplicate\n",
    "! qiime rescript dereplicate \\\n",
    "  --i-sequences project_data/unite_train/sequences-eukaryote-ITS1.qza \\\n",
    "  --i-taxa project_data/unite_train/taxonomy-no-SH.qza \\\n",
    "  --p-perc-identity 0.99 \\\n",
    "  --o-dereplicated-sequences project_data/unite_train/derep-seqs-ITS1.qza \\\n",
    "  --o-dereplicated-taxa project_data/unite_train/derep-tax-ITS1.qza"
   ]
  },
  {
   "cell_type": "markdown",
   "id": "9c66b66a-70a1-4916-b001-fb21d13fc7c1",
   "metadata": {},
   "source": [
    "### Train Classifier"
   ]
  },
  {
   "cell_type": "code",
   "execution_count": 11,
   "id": "15c85fb7-a1e9-4fcd-bdb3-f85c45fdfa06",
   "metadata": {
    "execution": {
     "iopub.execute_input": "2025-10-19T19:51:59.567472Z",
     "iopub.status.busy": "2025-10-19T19:51:59.566667Z",
     "iopub.status.idle": "2025-10-19T19:53:59.372099Z",
     "shell.execute_reply": "2025-10-19T19:53:59.370898Z",
     "shell.execute_reply.started": "2025-10-19T19:51:59.567440Z"
    },
    "tags": []
   },
   "outputs": [
    {
     "name": "stdout",
     "output_type": "stream",
     "text": [
      "/opt/conda/lib/python3.10/site-packages/unifrac/__init__.py:9: UserWarning: pkg_resources is deprecated as an API. See https://setuptools.pypa.io/en/latest/pkg_resources.html. The pkg_resources package is slated for removal as early as 2025-11-30. Refrain from using this package or pin to Setuptools<81.\n",
      "  import pkg_resources\n",
      "\u001b[32mSaved TaxonomicClassifier to: project_data/unite_train/classifier-ITS1-eukaryote.qza\u001b[0m\n",
      "\u001b[0m\u001b[?25h"
     ]
    }
   ],
   "source": [
    "# train classifier\n",
    "! qiime feature-classifier fit-classifier-naive-bayes \\\n",
    "  --i-reference-reads project_data/unite_train/derep-seqs-ITS1.qza \\\n",
    "  --i-reference-taxonomy project_data/unite_train/derep-tax-ITS1.qza \\\n",
    "  --o-classifier project_data/unite_train/classifier-ITS1-eukaryote.qza"
   ]
  },
  {
   "cell_type": "code",
   "execution_count": 12,
   "id": "e92e2083-462a-4736-b664-9bb3e976b247",
   "metadata": {
    "execution": {
     "iopub.execute_input": "2025-10-19T19:54:23.664642Z",
     "iopub.status.busy": "2025-10-19T19:54:23.664276Z",
     "iopub.status.idle": "2025-10-19T19:55:15.092172Z",
     "shell.execute_reply": "2025-10-19T19:55:15.091391Z",
     "shell.execute_reply.started": "2025-10-19T19:54:23.664614Z"
    },
    "tags": []
   },
   "outputs": [
    {
     "name": "stdout",
     "output_type": "stream",
     "text": [
      "/opt/conda/lib/python3.10/site-packages/unifrac/__init__.py:9: UserWarning: pkg_resources is deprecated as an API. See https://setuptools.pypa.io/en/latest/pkg_resources.html. The pkg_resources package is slated for removal as early as 2025-11-30. Refrain from using this package or pin to Setuptools<81.\n",
      "  import pkg_resources\n",
      "\u001b[32mSaved FeatureData[Taxonomy] to: project_data/taxonomy.qza\u001b[0m\n",
      "\u001b[0m\u001b[?25h"
     ]
    }
   ],
   "source": [
    "# assign taxonomy to your ASVs (DADA2 output)\n",
    "! qiime feature-classifier classify-sklearn \\\n",
    "  --i-classifier project_data/unite_train/classifier-ITS1-eukaryote.qza \\\n",
    "  --i-reads project_data/dada2_rep_set.qza \\\n",
    "  --o-classification project_data/taxonomy.qza"
   ]
  },
  {
   "cell_type": "markdown",
   "id": "2500c157-3a86-406e-88e2-2a4798937815",
   "metadata": {},
   "source": [
    "### Visualisation"
   ]
  },
  {
   "cell_type": "code",
   "execution_count": 13,
   "id": "f6e5f098-6592-4f0a-839e-f95119dddb29",
   "metadata": {
    "execution": {
     "iopub.execute_input": "2025-10-19T19:55:28.823024Z",
     "iopub.status.busy": "2025-10-19T19:55:28.822360Z",
     "iopub.status.idle": "2025-10-19T19:56:08.070907Z",
     "shell.execute_reply": "2025-10-19T19:56:08.069444Z",
     "shell.execute_reply.started": "2025-10-19T19:55:28.822952Z"
    },
    "tags": []
   },
   "outputs": [
    {
     "name": "stdout",
     "output_type": "stream",
     "text": [
      "/opt/conda/lib/python3.10/site-packages/unifrac/__init__.py:9: UserWarning: pkg_resources is deprecated as an API. See https://setuptools.pypa.io/en/latest/pkg_resources.html. The pkg_resources package is slated for removal as early as 2025-11-30. Refrain from using this package or pin to Setuptools<81.\n",
      "  import pkg_resources\n",
      "\u001b[32mSaved Visualization to: project_data/taxonomy.qzv\u001b[0m\n",
      "\u001b[0m\u001b[?25h"
     ]
    }
   ],
   "source": [
    "# inspect taxonomy\n",
    "! qiime metadata tabulate \\\n",
    "  --m-input-file project_data/taxonomy.qza \\\n",
    "  --o-visualization project_data/taxonomy.qzv"
   ]
  },
  {
   "cell_type": "code",
   "execution_count": 14,
   "id": "e56ab6ad-be92-404c-a91c-4d90e17f8463",
   "metadata": {
    "execution": {
     "iopub.execute_input": "2025-10-19T19:56:11.532209Z",
     "iopub.status.busy": "2025-10-19T19:56:11.531409Z",
     "iopub.status.idle": "2025-10-19T19:56:11.591075Z",
     "shell.execute_reply": "2025-10-19T19:56:11.590540Z",
     "shell.execute_reply.started": "2025-10-19T19:56:11.532178Z"
    },
    "tags": []
   },
   "outputs": [
    {
     "data": {
      "text/html": [
       "<div><img onload=\"(function(div, url){\n",
       "if (typeof require !== 'undefined') {\n",
       "    var baseURL = require.toUrl('').split('/').slice(0, -2).join('/');\n",
       "} else {\n",
       "    var baseURL = JSON.parse(\n",
       "        document.getElementById('jupyter-config-data').innerHTML\n",
       "    ).baseUrl.slice(0, -1);\n",
       "}\n",
       "url = baseURL + url;\n",
       "fetch(url).then(function(res) {\n",
       "    if (res.status === 404) {\n",
       "        div.innerHTML = 'Install QIIME 2 Jupyter extension with:<br />' +\n",
       "                        '<code>jupyter server extension enable --py qiime2' +\n",
       "                        ' --sys-prefix</code><br />then restart your server.' +\n",
       "                        '<br /><br />(Interactive output not available on ' +\n",
       "                        'static notebook viewer services like nbviewer.)';\n",
       "    } else if (res.status === 409) {\n",
       "        div.innerHTML = 'Visualization no longer in scope. Re-run this cell' +\n",
       "                        ' to see the visualization.';\n",
       "    } else if (res.ok) {\n",
       "        url = res.url;\n",
       "        div.innerHTML = '<iframe src=\\'' + url + '\\' style=\\'' +\n",
       "                        'width: 100%; height: 700px; border: 0;\\'>' +\n",
       "                        '</iframe><hr />Open in a: <a href=\\'' + url + '\\'' +\n",
       "                        ' target=\\'_blank\\'>new window</a>'\n",
       "    } else {\n",
       "        div.innerHTML = 'Something has gone wrong. Check notebook server for' +\n",
       "                        ' errors.';\n",
       "    }\n",
       "});\n",
       "})(this.parentElement, '/qiime2/redirect?location=/tmp/qiime2/jovyan/data/93a65ff1-21a6-43d9-a980-62a62a645c49')\" src=\"data:image/gif;base64,R0lGODlhAQABAIAAAP///wAAACH5BAEAAAAALAAAAAABAAEAAAICRAEAOw==\" /></div>"
      ],
      "text/plain": [
       "<visualization: Visualization uuid: 93a65ff1-21a6-43d9-a980-62a62a645c49>"
      ]
     },
     "execution_count": 14,
     "metadata": {},
     "output_type": "execute_result"
    }
   ],
   "source": [
    "Visualization.load(f\"{data_dir}/taxonomy.qzv\")"
   ]
  },
  {
   "cell_type": "code",
   "execution_count": 15,
   "id": "b201ccbc-da7e-41a6-9ee4-048e0c237058",
   "metadata": {
    "execution": {
     "iopub.execute_input": "2025-10-19T19:57:37.544884Z",
     "iopub.status.busy": "2025-10-19T19:57:37.543954Z",
     "iopub.status.idle": "2025-10-19T19:58:15.903985Z",
     "shell.execute_reply": "2025-10-19T19:58:15.903001Z",
     "shell.execute_reply.started": "2025-10-19T19:57:37.544856Z"
    },
    "tags": []
   },
   "outputs": [
    {
     "name": "stdout",
     "output_type": "stream",
     "text": [
      "/opt/conda/lib/python3.10/site-packages/unifrac/__init__.py:9: UserWarning: pkg_resources is deprecated as an API. See https://setuptools.pypa.io/en/latest/pkg_resources.html. The pkg_resources package is slated for removal as early as 2025-11-30. Refrain from using this package or pin to Setuptools<81.\n",
      "  import pkg_resources\n",
      "\u001b[32mSaved Visualization to: project_data/taxa-bar-plots.qzv\u001b[0m\n",
      "\u001b[0m\u001b[?25h"
     ]
    }
   ],
   "source": [
    "# taxa barplot\n",
    "! qiime taxa barplot \\\n",
    "  --i-table project_data/dada2_table.qza \\\n",
    "  --i-taxonomy project_data/taxonomy.qza \\\n",
    "  --m-metadata-file project_data/sample_metadata.tsv \\\n",
    "  --o-visualization project_data/taxa-bar-plots.qzv"
   ]
  },
  {
   "cell_type": "code",
   "execution_count": 16,
   "id": "1616df94-c464-437e-bf3b-8832a6e66598",
   "metadata": {
    "execution": {
     "iopub.execute_input": "2025-10-19T19:58:18.150797Z",
     "iopub.status.busy": "2025-10-19T19:58:18.149970Z",
     "iopub.status.idle": "2025-10-19T19:58:18.211585Z",
     "shell.execute_reply": "2025-10-19T19:58:18.210986Z",
     "shell.execute_reply.started": "2025-10-19T19:58:18.150757Z"
    },
    "tags": []
   },
   "outputs": [
    {
     "data": {
      "text/html": [
       "<div><img onload=\"(function(div, url){\n",
       "if (typeof require !== 'undefined') {\n",
       "    var baseURL = require.toUrl('').split('/').slice(0, -2).join('/');\n",
       "} else {\n",
       "    var baseURL = JSON.parse(\n",
       "        document.getElementById('jupyter-config-data').innerHTML\n",
       "    ).baseUrl.slice(0, -1);\n",
       "}\n",
       "url = baseURL + url;\n",
       "fetch(url).then(function(res) {\n",
       "    if (res.status === 404) {\n",
       "        div.innerHTML = 'Install QIIME 2 Jupyter extension with:<br />' +\n",
       "                        '<code>jupyter server extension enable --py qiime2' +\n",
       "                        ' --sys-prefix</code><br />then restart your server.' +\n",
       "                        '<br /><br />(Interactive output not available on ' +\n",
       "                        'static notebook viewer services like nbviewer.)';\n",
       "    } else if (res.status === 409) {\n",
       "        div.innerHTML = 'Visualization no longer in scope. Re-run this cell' +\n",
       "                        ' to see the visualization.';\n",
       "    } else if (res.ok) {\n",
       "        url = res.url;\n",
       "        div.innerHTML = '<iframe src=\\'' + url + '\\' style=\\'' +\n",
       "                        'width: 100%; height: 700px; border: 0;\\'>' +\n",
       "                        '</iframe><hr />Open in a: <a href=\\'' + url + '\\'' +\n",
       "                        ' target=\\'_blank\\'>new window</a>'\n",
       "    } else {\n",
       "        div.innerHTML = 'Something has gone wrong. Check notebook server for' +\n",
       "                        ' errors.';\n",
       "    }\n",
       "});\n",
       "})(this.parentElement, '/qiime2/redirect?location=/tmp/qiime2/jovyan/data/60def598-ec44-46e2-8200-cdcdd9d75708')\" src=\"data:image/gif;base64,R0lGODlhAQABAIAAAP///wAAACH5BAEAAAAALAAAAAABAAEAAAICRAEAOw==\" /></div>"
      ],
      "text/plain": [
       "<visualization: Visualization uuid: 60def598-ec44-46e2-8200-cdcdd9d75708>"
      ]
     },
     "execution_count": 16,
     "metadata": {},
     "output_type": "execute_result"
    }
   ],
   "source": [
    "Visualization.load(f\"{data_dir}/taxa-bar-plots.qzv\")"
   ]
  },
  {
   "cell_type": "markdown",
   "id": "c6711792-4a6e-40aa-af04-5465992c70e6",
   "metadata": {},
   "source": [
    "# Alpha rarefaction"
   ]
  },
  {
   "cell_type": "code",
   "execution_count": 21,
   "id": "70fb25b2-6cac-4fb4-8831-1efd1d5db999",
   "metadata": {
    "execution": {
     "iopub.execute_input": "2025-10-19T20:25:37.125460Z",
     "iopub.status.busy": "2025-10-19T20:25:37.124889Z",
     "iopub.status.idle": "2025-10-19T20:28:41.675575Z",
     "shell.execute_reply": "2025-10-19T20:28:41.674079Z",
     "shell.execute_reply.started": "2025-10-19T20:25:37.125432Z"
    },
    "tags": []
   },
   "outputs": [
    {
     "name": "stdout",
     "output_type": "stream",
     "text": [
      "/opt/conda/lib/python3.10/site-packages/unifrac/__init__.py:9: UserWarning: pkg_resources is deprecated as an API. See https://setuptools.pypa.io/en/latest/pkg_resources.html. The pkg_resources package is slated for removal as early as 2025-11-30. Refrain from using this package or pin to Setuptools<81.\n",
      "  import pkg_resources\n",
      "\u001b[32mSaved Visualization to: project_data/alpha-rarefaction.qzv\u001b[0m\n",
      "\u001b[0m\u001b[?25h"
     ]
    }
   ],
   "source": [
    "! qiime diversity alpha-rarefaction \\\n",
    "    --i-table project_data/dada2_table.qza \\\n",
    "    --p-max-depth 10000 \\\n",
    "    --m-metadata-file project_data/sample_metadata.tsv \\\n",
    "    --o-visualization project_data/alpha-rarefaction.qzv"
   ]
  },
  {
   "cell_type": "code",
   "execution_count": 22,
   "id": "cb175808-5aa8-4d0a-aa0e-2cf21208f1eb",
   "metadata": {
    "execution": {
     "iopub.execute_input": "2025-10-19T20:29:02.783259Z",
     "iopub.status.busy": "2025-10-19T20:29:02.782560Z",
     "iopub.status.idle": "2025-10-19T20:29:02.822389Z",
     "shell.execute_reply": "2025-10-19T20:29:02.821471Z",
     "shell.execute_reply.started": "2025-10-19T20:29:02.783226Z"
    },
    "tags": []
   },
   "outputs": [
    {
     "data": {
      "text/html": [
       "<div><img onload=\"(function(div, url){\n",
       "if (typeof require !== 'undefined') {\n",
       "    var baseURL = require.toUrl('').split('/').slice(0, -2).join('/');\n",
       "} else {\n",
       "    var baseURL = JSON.parse(\n",
       "        document.getElementById('jupyter-config-data').innerHTML\n",
       "    ).baseUrl.slice(0, -1);\n",
       "}\n",
       "url = baseURL + url;\n",
       "fetch(url).then(function(res) {\n",
       "    if (res.status === 404) {\n",
       "        div.innerHTML = 'Install QIIME 2 Jupyter extension with:<br />' +\n",
       "                        '<code>jupyter server extension enable --py qiime2' +\n",
       "                        ' --sys-prefix</code><br />then restart your server.' +\n",
       "                        '<br /><br />(Interactive output not available on ' +\n",
       "                        'static notebook viewer services like nbviewer.)';\n",
       "    } else if (res.status === 409) {\n",
       "        div.innerHTML = 'Visualization no longer in scope. Re-run this cell' +\n",
       "                        ' to see the visualization.';\n",
       "    } else if (res.ok) {\n",
       "        url = res.url;\n",
       "        div.innerHTML = '<iframe src=\\'' + url + '\\' style=\\'' +\n",
       "                        'width: 100%; height: 700px; border: 0;\\'>' +\n",
       "                        '</iframe><hr />Open in a: <a href=\\'' + url + '\\'' +\n",
       "                        ' target=\\'_blank\\'>new window</a>'\n",
       "    } else {\n",
       "        div.innerHTML = 'Something has gone wrong. Check notebook server for' +\n",
       "                        ' errors.';\n",
       "    }\n",
       "});\n",
       "})(this.parentElement, '/qiime2/redirect?location=/tmp/qiime2/jovyan/data/e61a0130-4f57-4ad7-8534-6976a5c79d8d')\" src=\"data:image/gif;base64,R0lGODlhAQABAIAAAP///wAAACH5BAEAAAAALAAAAAABAAEAAAICRAEAOw==\" /></div>"
      ],
      "text/plain": [
       "<visualization: Visualization uuid: e61a0130-4f57-4ad7-8534-6976a5c79d8d>"
      ]
     },
     "execution_count": 22,
     "metadata": {},
     "output_type": "execute_result"
    }
   ],
   "source": [
    "Visualization.load(f\"{data_dir}/alpha-rarefaction.qzv\")"
   ]
  },
  {
   "cell_type": "code",
   "execution_count": 23,
   "id": "8a59a6dd-d56d-4f1e-b467-fafd92b4e256",
   "metadata": {
    "execution": {
     "iopub.execute_input": "2025-10-19T20:29:43.477875Z",
     "iopub.status.busy": "2025-10-19T20:29:43.477196Z",
     "iopub.status.idle": "2025-10-19T20:30:24.149180Z",
     "shell.execute_reply": "2025-10-19T20:30:24.148442Z",
     "shell.execute_reply.started": "2025-10-19T20:29:43.477850Z"
    },
    "tags": []
   },
   "outputs": [
    {
     "name": "stdout",
     "output_type": "stream",
     "text": [
      "/opt/conda/lib/python3.10/site-packages/unifrac/__init__.py:9: UserWarning: pkg_resources is deprecated as an API. See https://setuptools.pypa.io/en/latest/pkg_resources.html. The pkg_resources package is slated for removal as early as 2025-11-30. Refrain from using this package or pin to Setuptools<81.\n",
      "  import pkg_resources\n",
      "\u001b[32mSaved FeatureTable[Frequency] to: project_data/core-metrics/rarefied_table.qza\u001b[0m\n",
      "\u001b[32mSaved SampleData[AlphaDiversity] to: project_data/core-metrics/observed_features_vector.qza\u001b[0m\n",
      "\u001b[32mSaved SampleData[AlphaDiversity] to: project_data/core-metrics/shannon_vector.qza\u001b[0m\n",
      "\u001b[32mSaved SampleData[AlphaDiversity] to: project_data/core-metrics/evenness_vector.qza\u001b[0m\n",
      "\u001b[32mSaved DistanceMatrix to: project_data/core-metrics/jaccard_distance_matrix.qza\u001b[0m\n",
      "\u001b[32mSaved DistanceMatrix to: project_data/core-metrics/bray_curtis_distance_matrix.qza\u001b[0m\n",
      "\u001b[32mSaved PCoAResults to: project_data/core-metrics/jaccard_pcoa_results.qza\u001b[0m\n",
      "\u001b[32mSaved PCoAResults to: project_data/core-metrics/bray_curtis_pcoa_results.qza\u001b[0m\n",
      "\u001b[32mSaved Visualization to: project_data/core-metrics/jaccard_emperor.qzv\u001b[0m\n",
      "\u001b[32mSaved Visualization to: project_data/core-metrics/bray_curtis_emperor.qzv\u001b[0m\n",
      "\u001b[0m\u001b[?25h"
     ]
    }
   ],
   "source": [
    "! qiime diversity core-metrics \\\n",
    "  --i-table project_data/dada2_table.qza \\\n",
    "  --p-sampling-depth 1500 \\\n",
    "  --m-metadata-file project_data/sample_metadata.tsv \\\n",
    "  --output-dir project_data/core-metrics"
   ]
  },
  {
   "cell_type": "markdown",
   "id": "844ab24f-5bcc-43ac-bf7c-66c7e6f0149b",
   "metadata": {},
   "source": [
    "### Statistical Testing"
   ]
  },
  {
   "cell_type": "code",
   "execution_count": 24,
   "id": "21733d23-1952-417d-a623-87fe4a3a04b1",
   "metadata": {
    "execution": {
     "iopub.execute_input": "2025-10-19T20:30:45.293816Z",
     "iopub.status.busy": "2025-10-19T20:30:45.293334Z",
     "iopub.status.idle": "2025-10-19T20:31:32.444589Z",
     "shell.execute_reply": "2025-10-19T20:31:32.443999Z",
     "shell.execute_reply.started": "2025-10-19T20:30:45.293766Z"
    },
    "tags": []
   },
   "outputs": [
    {
     "name": "stdout",
     "output_type": "stream",
     "text": [
      "/opt/conda/lib/python3.10/site-packages/unifrac/__init__.py:9: UserWarning: pkg_resources is deprecated as an API. See https://setuptools.pypa.io/en/latest/pkg_resources.html. The pkg_resources package is slated for removal as early as 2025-11-30. Refrain from using this package or pin to Setuptools<81.\n",
      "  import pkg_resources\n",
      "\u001b[32mSaved Visualization to: project_data/core-metrics/shannon-group-significance.qzv\u001b[0m\n",
      "\u001b[0m\u001b[?25h"
     ]
    }
   ],
   "source": [
    "! qiime diversity alpha-group-significance \\\n",
    "  --i-alpha-diversity project_data/core-metrics/shannon_vector.qza \\\n",
    "  --m-metadata-file project_data/sample_metadata.tsv \\\n",
    "  --o-visualization project_data/core-metrics/shannon-group-significance.qzv"
   ]
  },
  {
   "cell_type": "code",
   "execution_count": 26,
   "id": "77ea0517-4795-4257-b558-e4e230f178dd",
   "metadata": {
    "execution": {
     "iopub.execute_input": "2025-10-19T20:32:26.487677Z",
     "iopub.status.busy": "2025-10-19T20:32:26.486920Z",
     "iopub.status.idle": "2025-10-19T20:32:26.528300Z",
     "shell.execute_reply": "2025-10-19T20:32:26.527665Z",
     "shell.execute_reply.started": "2025-10-19T20:32:26.487653Z"
    },
    "tags": []
   },
   "outputs": [
    {
     "data": {
      "text/html": [
       "<div><img onload=\"(function(div, url){\n",
       "if (typeof require !== 'undefined') {\n",
       "    var baseURL = require.toUrl('').split('/').slice(0, -2).join('/');\n",
       "} else {\n",
       "    var baseURL = JSON.parse(\n",
       "        document.getElementById('jupyter-config-data').innerHTML\n",
       "    ).baseUrl.slice(0, -1);\n",
       "}\n",
       "url = baseURL + url;\n",
       "fetch(url).then(function(res) {\n",
       "    if (res.status === 404) {\n",
       "        div.innerHTML = 'Install QIIME 2 Jupyter extension with:<br />' +\n",
       "                        '<code>jupyter server extension enable --py qiime2' +\n",
       "                        ' --sys-prefix</code><br />then restart your server.' +\n",
       "                        '<br /><br />(Interactive output not available on ' +\n",
       "                        'static notebook viewer services like nbviewer.)';\n",
       "    } else if (res.status === 409) {\n",
       "        div.innerHTML = 'Visualization no longer in scope. Re-run this cell' +\n",
       "                        ' to see the visualization.';\n",
       "    } else if (res.ok) {\n",
       "        url = res.url;\n",
       "        div.innerHTML = '<iframe src=\\'' + url + '\\' style=\\'' +\n",
       "                        'width: 100%; height: 700px; border: 0;\\'>' +\n",
       "                        '</iframe><hr />Open in a: <a href=\\'' + url + '\\'' +\n",
       "                        ' target=\\'_blank\\'>new window</a>'\n",
       "    } else {\n",
       "        div.innerHTML = 'Something has gone wrong. Check notebook server for' +\n",
       "                        ' errors.';\n",
       "    }\n",
       "});\n",
       "})(this.parentElement, '/qiime2/redirect?location=/tmp/qiime2/jovyan/data/b215ca06-9c06-4e19-b56d-61c759b68c1e')\" src=\"data:image/gif;base64,R0lGODlhAQABAIAAAP///wAAACH5BAEAAAAALAAAAAABAAEAAAICRAEAOw==\" /></div>"
      ],
      "text/plain": [
       "<visualization: Visualization uuid: b215ca06-9c06-4e19-b56d-61c759b68c1e>"
      ]
     },
     "execution_count": 26,
     "metadata": {},
     "output_type": "execute_result"
    }
   ],
   "source": [
    "Visualization.load(f\"{data_dir}/core-metrics/shannon-group-significance.qzv\")"
   ]
  },
  {
   "cell_type": "code",
   "execution_count": 27,
   "id": "4cd173c8-2a95-4a26-a2e0-c91e0558b3f0",
   "metadata": {
    "execution": {
     "iopub.execute_input": "2025-10-19T20:33:34.878190Z",
     "iopub.status.busy": "2025-10-19T20:33:34.877224Z",
     "iopub.status.idle": "2025-10-19T20:34:08.061377Z",
     "shell.execute_reply": "2025-10-19T20:34:08.060836Z",
     "shell.execute_reply.started": "2025-10-19T20:33:34.878155Z"
    },
    "tags": []
   },
   "outputs": [
    {
     "name": "stdout",
     "output_type": "stream",
     "text": [
      "/opt/conda/lib/python3.10/site-packages/unifrac/__init__.py:9: UserWarning: pkg_resources is deprecated as an API. See https://setuptools.pypa.io/en/latest/pkg_resources.html. The pkg_resources package is slated for removal as early as 2025-11-30. Refrain from using this package or pin to Setuptools<81.\n",
      "  import pkg_resources\n",
      "\u001b[31m\u001b[1mPlugin error from diversity:\n",
      "\n",
      "  Metadata contains only non-numeric or empty columns. This visualizer requires at least one numeric metadata column to execute.\n",
      "\n",
      "Debug info has been saved to /tmp/qiime2-q2cli-err-3pwwxucq.log\u001b[0m\n",
      "\u001b[0m\u001b[?25h"
     ]
    }
   ],
   "source": [
    "! qiime diversity alpha-correlation \\\n",
    "  --i-alpha-diversity project_data/core-metrics/shannon_vector.qza \\\n",
    "  --m-metadata-file project_data/sample_metadata.tsv \\\n",
    "  --o-visualization project_data/core-metrics/shannon-group-significance-numeric.qzv"
   ]
  },
  {
   "cell_type": "code",
   "execution_count": null,
   "id": "b314d986-572c-45c5-a607-a3a5105912d0",
   "metadata": {},
   "outputs": [],
   "source": [
    "Visualization.load(f\"{data_dir}/core-metrics/shannon-group-significance-numeric.qzv\")"
   ]
  }
 ],
 "metadata": {
  "kernelspec": {
   "display_name": "QIIME 2",
   "language": "python",
   "name": "python3"
  },
  "language_info": {
   "codemirror_mode": {
    "name": "ipython",
    "version": 3
   },
   "file_extension": ".py",
   "mimetype": "text/x-python",
   "name": "python",
   "nbconvert_exporter": "python",
   "pygments_lexer": "ipython3",
   "version": "3.10.14"
  }
 },
 "nbformat": 4,
 "nbformat_minor": 5
}
