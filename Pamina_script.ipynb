{
 "cells": [
  {
   "cell_type": "markdown",
   "id": "990a6669-9ae6-4133-af15-7d465043cabe",
   "metadata": {},
   "source": [
    "# Setup + downloading data\n",
    "\n"
   ]
  },
  {
   "cell_type": "code",
   "execution_count": 1,
   "id": "3ad10e01-1dca-4b52-bb79-0b5fae7614aa",
   "metadata": {
    "tags": []
   },
   "outputs": [],
   "source": [
    "import os\n",
    "import pandas as pd\n",
    "from qiime2 import Visualization\n",
    "import matplotlib.pyplot as plt\n",
    "\n",
    "%matplotlib inline"
   ]
  },
  {
   "cell_type": "code",
   "execution_count": 2,
   "id": "5b361690-7370-4825-a13d-8965dd32a5d6",
   "metadata": {
    "tags": []
   },
   "outputs": [
    {
     "data": {
      "text/plain": [
       "'project_data'"
      ]
     },
     "execution_count": 2,
     "metadata": {},
     "output_type": "execute_result"
    }
   ],
   "source": [
    "data_dir = \"project_data\"\n",
    "os.makedirs(data_dir, exist_ok=True)\n",
    "data_dir"
   ]
  },
  {
   "cell_type": "code",
   "execution_count": 3,
   "id": "58e39ab1-91e4-482e-b3a4-3a37e94d8726",
   "metadata": {
    "tags": []
   },
   "outputs": [
    {
     "name": "stdout",
     "output_type": "stream",
     "text": [
      "ITS1_sequences.qza already exists – skipping download.\n",
      "sample_metadata.tsv already exists – skipping download.\n",
      "total 683M\n",
      "-rw-r--r-- 1 jovyan jovyan 680M Oct  2 12:07 ITS1_sequences.qza\n",
      "-rw-r--r-- 1 jovyan jovyan  83K Oct  2 12:16 dada2_rep_set.qza\n",
      "-rw-r--r-- 1 jovyan jovyan 325K Oct  2 12:17 dada2_rep_set.qzv\n",
      "-rw-r--r-- 1 jovyan jovyan  54K Oct  2 12:16 dada2_stats.qza\n",
      "-rw-r--r-- 1 jovyan jovyan 1.3M Oct  2 12:16 dada2_stats.qzv\n",
      "-rw-r--r-- 1 jovyan jovyan  92K Oct  2 12:16 dada2_table.qza\n",
      "-rw-r--r-- 1 jovyan jovyan 486K Oct  2 12:17 dada2_table.qzv\n",
      "-rw-r--r-- 1 jovyan jovyan 333K Oct  2 12:09 demux_seqs.qzv\n",
      "-rw-r--r-- 1 jovyan jovyan  19K Oct  2 12:07 sample_metadata.tsv\n"
     ]
    }
   ],
   "source": [
    "%%bash -s \"$data_dir\"\n",
    "set -e\n",
    "mkdir -p \"$1\"\n",
    "cd \"$1\"\n",
    "\n",
    "if [ ! -f ITS1_sequences.qza ]; then\n",
    "    echo \"Downloading ITS1_sequences.qza …\"\n",
    "    wget -q -O ITS1_sequences.qza \\\n",
    "        \"https://polybox.ethz.ch/index.php/s/uV06vmm96ZzB5eM/download\"\n",
    "else\n",
    "    echo \"ITS1_sequences.qza already exists – skipping download.\"\n",
    "fi\n",
    "\n",
    "if [ ! -f sample_metadata.tsv ]; then\n",
    "    echo \"Downloading sample_metadata.tsv …\"\n",
    "    wget -q -O sample_metadata.tsv \\\n",
    "        \"https://polybox.ethz.ch/index.php/s/CA76kKFC9FApqpR/download\"\n",
    "else\n",
    "    echo \"sample_metadata.tsv already exists – skipping download.\"\n",
    "fi\n",
    "\n",
    "ls -lh"
   ]
  },
  {
   "cell_type": "markdown",
   "id": "bf7b734f-92ca-496a-a56b-05764d998c80",
   "metadata": {
    "tags": []
   },
   "source": [
    "# Meta data analysis"
   ]
  },
  {
   "cell_type": "code",
   "execution_count": 4,
   "id": "0b3728ed-bc09-4219-b589-043a0f488a71",
   "metadata": {
    "tags": []
   },
   "outputs": [
    {
     "data": {
      "text/html": [
       "<div>\n",
       "<style scoped>\n",
       "    .dataframe tbody tr th:only-of-type {\n",
       "        vertical-align: middle;\n",
       "    }\n",
       "\n",
       "    .dataframe tbody tr th {\n",
       "        vertical-align: top;\n",
       "    }\n",
       "\n",
       "    .dataframe thead th {\n",
       "        text-align: right;\n",
       "    }\n",
       "</style>\n",
       "<table border=\"1\" class=\"dataframe\">\n",
       "  <thead>\n",
       "    <tr style=\"text-align: right;\">\n",
       "      <th></th>\n",
       "      <th>country_sample</th>\n",
       "      <th>state_sample</th>\n",
       "      <th>latitude_sample</th>\n",
       "      <th>longitude_sample</th>\n",
       "      <th>sex_sample</th>\n",
       "      <th>age_years_sample</th>\n",
       "      <th>height_cm_sample</th>\n",
       "      <th>weight_kg_sample</th>\n",
       "      <th>bmi_sample</th>\n",
       "      <th>diet_type_sample</th>\n",
       "      <th>ibd_sample</th>\n",
       "      <th>gluten_sample</th>\n",
       "    </tr>\n",
       "    <tr>\n",
       "      <th>ID</th>\n",
       "      <th></th>\n",
       "      <th></th>\n",
       "      <th></th>\n",
       "      <th></th>\n",
       "      <th></th>\n",
       "      <th></th>\n",
       "      <th></th>\n",
       "      <th></th>\n",
       "      <th></th>\n",
       "      <th></th>\n",
       "      <th></th>\n",
       "      <th></th>\n",
       "    </tr>\n",
       "  </thead>\n",
       "  <tbody>\n",
       "    <tr>\n",
       "      <th>ERR5327308</th>\n",
       "      <td>Australia</td>\n",
       "      <td>NSW</td>\n",
       "      <td>-33.7</td>\n",
       "      <td>151.2</td>\n",
       "      <td>male</td>\n",
       "      <td>36.0</td>\n",
       "      <td>186.0</td>\n",
       "      <td>85.0</td>\n",
       "      <td>24.57</td>\n",
       "      <td>Omnivore</td>\n",
       "      <td>Self-diagnosed</td>\n",
       "      <td>No</td>\n",
       "    </tr>\n",
       "    <tr>\n",
       "      <th>ERR5327285</th>\n",
       "      <td>Sweden</td>\n",
       "      <td>Stockholms län</td>\n",
       "      <td>59.3</td>\n",
       "      <td>18.0</td>\n",
       "      <td>male</td>\n",
       "      <td>27.0</td>\n",
       "      <td>180.0</td>\n",
       "      <td>62.0</td>\n",
       "      <td>19.14</td>\n",
       "      <td>Omnivore</td>\n",
       "      <td>I do not have this condition</td>\n",
       "      <td>No</td>\n",
       "    </tr>\n",
       "    <tr>\n",
       "      <th>ERR5327586</th>\n",
       "      <td>United Kingdom</td>\n",
       "      <td>Not provided</td>\n",
       "      <td>53.9</td>\n",
       "      <td>-1.6</td>\n",
       "      <td>female</td>\n",
       "      <td>75.0</td>\n",
       "      <td>157.0</td>\n",
       "      <td>57.0</td>\n",
       "      <td>23.05</td>\n",
       "      <td>Vegetarian but eat seafood</td>\n",
       "      <td>I do not have this condition</td>\n",
       "      <td>No</td>\n",
       "    </tr>\n",
       "    <tr>\n",
       "      <th>ERR5327363</th>\n",
       "      <td>Australia</td>\n",
       "      <td>QLD</td>\n",
       "      <td>-27.5</td>\n",
       "      <td>153.1</td>\n",
       "      <td>female</td>\n",
       "      <td>54.0</td>\n",
       "      <td>165.0</td>\n",
       "      <td>68.0</td>\n",
       "      <td>24.98</td>\n",
       "      <td>Omnivore</td>\n",
       "      <td>I do not have this condition</td>\n",
       "      <td>No</td>\n",
       "    </tr>\n",
       "    <tr>\n",
       "      <th>ERR5327506</th>\n",
       "      <td>United Kingdom</td>\n",
       "      <td>Not provided</td>\n",
       "      <td>52.0</td>\n",
       "      <td>-2.1</td>\n",
       "      <td>male</td>\n",
       "      <td>55.0</td>\n",
       "      <td>193.0</td>\n",
       "      <td>94.0</td>\n",
       "      <td>25.32</td>\n",
       "      <td>Omnivore</td>\n",
       "      <td>Not provided</td>\n",
       "      <td>Not provided</td>\n",
       "    </tr>\n",
       "  </tbody>\n",
       "</table>\n",
       "</div>"
      ],
      "text/plain": [
       "            country_sample    state_sample latitude_sample longitude_sample  \\\n",
       "ID                                                                            \n",
       "ERR5327308       Australia             NSW           -33.7            151.2   \n",
       "ERR5327285          Sweden  Stockholms län            59.3             18.0   \n",
       "ERR5327586  United Kingdom    Not provided            53.9             -1.6   \n",
       "ERR5327363       Australia             QLD           -27.5            153.1   \n",
       "ERR5327506  United Kingdom    Not provided            52.0             -2.1   \n",
       "\n",
       "           sex_sample age_years_sample height_cm_sample weight_kg_sample  \\\n",
       "ID                                                                         \n",
       "ERR5327308       male             36.0            186.0             85.0   \n",
       "ERR5327285       male             27.0            180.0             62.0   \n",
       "ERR5327586     female             75.0            157.0             57.0   \n",
       "ERR5327363     female             54.0            165.0             68.0   \n",
       "ERR5327506       male             55.0            193.0             94.0   \n",
       "\n",
       "           bmi_sample            diet_type_sample  \\\n",
       "ID                                                  \n",
       "ERR5327308      24.57                    Omnivore   \n",
       "ERR5327285      19.14                    Omnivore   \n",
       "ERR5327586      23.05  Vegetarian but eat seafood   \n",
       "ERR5327363      24.98                    Omnivore   \n",
       "ERR5327506      25.32                    Omnivore   \n",
       "\n",
       "                              ibd_sample gluten_sample  \n",
       "ID                                                      \n",
       "ERR5327308                Self-diagnosed            No  \n",
       "ERR5327285  I do not have this condition            No  \n",
       "ERR5327586  I do not have this condition            No  \n",
       "ERR5327363  I do not have this condition            No  \n",
       "ERR5327506                  Not provided  Not provided  "
      ]
     },
     "execution_count": 4,
     "metadata": {},
     "output_type": "execute_result"
    }
   ],
   "source": [
    "metadata_df = pd.read_csv(f'{data_dir}/sample_metadata.tsv', sep='\\t', index_col=0)\n",
    "metadata_df.sample(5)"
   ]
  },
  {
   "cell_type": "code",
   "execution_count": 5,
   "id": "ee8fb383-984a-4838-960f-8ac2c1b6549d",
   "metadata": {
    "tags": []
   },
   "outputs": [
    {
     "data": {
      "text/html": [
       "<div>\n",
       "<style scoped>\n",
       "    .dataframe tbody tr th:only-of-type {\n",
       "        vertical-align: middle;\n",
       "    }\n",
       "\n",
       "    .dataframe tbody tr th {\n",
       "        vertical-align: top;\n",
       "    }\n",
       "\n",
       "    .dataframe thead th {\n",
       "        text-align: right;\n",
       "    }\n",
       "</style>\n",
       "<table border=\"1\" class=\"dataframe\">\n",
       "  <thead>\n",
       "    <tr style=\"text-align: right;\">\n",
       "      <th></th>\n",
       "      <th>country_sample</th>\n",
       "      <th>state_sample</th>\n",
       "      <th>latitude_sample</th>\n",
       "      <th>longitude_sample</th>\n",
       "      <th>sex_sample</th>\n",
       "      <th>age_years_sample</th>\n",
       "      <th>height_cm_sample</th>\n",
       "      <th>weight_kg_sample</th>\n",
       "      <th>bmi_sample</th>\n",
       "      <th>diet_type_sample</th>\n",
       "      <th>ibd_sample</th>\n",
       "      <th>gluten_sample</th>\n",
       "    </tr>\n",
       "  </thead>\n",
       "  <tbody>\n",
       "    <tr>\n",
       "      <th>count</th>\n",
       "      <td>150</td>\n",
       "      <td>150</td>\n",
       "      <td>150</td>\n",
       "      <td>150</td>\n",
       "      <td>150</td>\n",
       "      <td>150</td>\n",
       "      <td>150</td>\n",
       "      <td>150</td>\n",
       "      <td>150</td>\n",
       "      <td>150</td>\n",
       "      <td>150</td>\n",
       "      <td>150</td>\n",
       "    </tr>\n",
       "    <tr>\n",
       "      <th>unique</th>\n",
       "      <td>8</td>\n",
       "      <td>30</td>\n",
       "      <td>86</td>\n",
       "      <td>81</td>\n",
       "      <td>4</td>\n",
       "      <td>64</td>\n",
       "      <td>47</td>\n",
       "      <td>70</td>\n",
       "      <td>135</td>\n",
       "      <td>6</td>\n",
       "      <td>4</td>\n",
       "      <td>5</td>\n",
       "    </tr>\n",
       "    <tr>\n",
       "      <th>top</th>\n",
       "      <td>United Kingdom</td>\n",
       "      <td>Not provided</td>\n",
       "      <td>51.5</td>\n",
       "      <td>145.0</td>\n",
       "      <td>male</td>\n",
       "      <td>55.0</td>\n",
       "      <td>180.0</td>\n",
       "      <td>63.0</td>\n",
       "      <td>Not provided</td>\n",
       "      <td>Omnivore</td>\n",
       "      <td>I do not have this condition</td>\n",
       "      <td>No</td>\n",
       "    </tr>\n",
       "    <tr>\n",
       "      <th>freq</th>\n",
       "      <td>54</td>\n",
       "      <td>58</td>\n",
       "      <td>14</td>\n",
       "      <td>5</td>\n",
       "      <td>79</td>\n",
       "      <td>6</td>\n",
       "      <td>15</td>\n",
       "      <td>8</td>\n",
       "      <td>3</td>\n",
       "      <td>118</td>\n",
       "      <td>130</td>\n",
       "      <td>113</td>\n",
       "    </tr>\n",
       "  </tbody>\n",
       "</table>\n",
       "</div>"
      ],
      "text/plain": [
       "        country_sample  state_sample latitude_sample longitude_sample  \\\n",
       "count              150           150             150              150   \n",
       "unique               8            30              86               81   \n",
       "top     United Kingdom  Not provided            51.5            145.0   \n",
       "freq                54            58              14                5   \n",
       "\n",
       "       sex_sample age_years_sample height_cm_sample weight_kg_sample  \\\n",
       "count         150              150              150              150   \n",
       "unique          4               64               47               70   \n",
       "top          male             55.0            180.0             63.0   \n",
       "freq           79                6               15                8   \n",
       "\n",
       "          bmi_sample diet_type_sample                    ibd_sample  \\\n",
       "count            150              150                           150   \n",
       "unique           135                6                             4   \n",
       "top     Not provided         Omnivore  I do not have this condition   \n",
       "freq               3              118                           130   \n",
       "\n",
       "       gluten_sample  \n",
       "count            150  \n",
       "unique             5  \n",
       "top               No  \n",
       "freq             113  "
      ]
     },
     "execution_count": 5,
     "metadata": {},
     "output_type": "execute_result"
    }
   ],
   "source": [
    "metadata_df.describe()"
   ]
  },
  {
   "cell_type": "code",
   "execution_count": 6,
   "id": "9fc235f3-f4b0-4cde-9b00-6e4db8f46e0e",
   "metadata": {
    "tags": []
   },
   "outputs": [
    {
     "data": {
      "text/plain": [
       "<Axes: title={'center': 'Sex ratio'}, xlabel='sex_sample'>"
      ]
     },
     "execution_count": 6,
     "metadata": {},
     "output_type": "execute_result"
    },
    {
     "data": {
      "image/png": "[encoded data removed]",
      "text/plain": [
       "<Figure size 640x480 with 1 Axes>"
      ]
     },
     "metadata": {},
     "output_type": "display_data"
    }
   ],
   "source": [
    "metadata_df['sex_sample'].value_counts().plot(kind='bar', title='Sex ratio')"
   ]
  },
  {
   "cell_type": "code",
   "execution_count": 7,
   "id": "bfc1dd5b-c55e-4ca1-b17e-bc43518b4f78",
   "metadata": {
    "tags": []
   },
   "outputs": [],
   "source": [
    "# coerce several columns to numeric\n",
    "num_cols = ['age_years_sample','height_cm_sample','weight_kg_sample',\n",
    "            'bmi_sample','latitude_sample','longitude_sample']\n",
    "metadata_df[num_cols] = (metadata_df[num_cols]\n",
    "                         .replace('Not provided', pd.NA)\n",
    "                         .apply(pd.to_numeric, errors='coerce'))"
   ]
  },
  {
   "cell_type": "code",
   "execution_count": 8,
   "id": "b513d32f-d3fe-46df-99a3-91fe574e8354",
   "metadata": {
    "tags": []
   },
   "outputs": [
    {
     "data": {
      "text/plain": [
       "country_sample\n",
       "Not provided      28.110000\n",
       "USA               24.672500\n",
       "United Kingdom    24.519444\n",
       "New Zealand       24.363333\n",
       "Australia         23.197619\n",
       "Germany           22.630000\n",
       "Isle of Man       21.970000\n",
       "Sweden            19.140000\n",
       "Name: bmi_sample, dtype: float64"
      ]
     },
     "execution_count": 8,
     "metadata": {},
     "output_type": "execute_result"
    }
   ],
   "source": [
    "(mean_bmi_by_country :=\n",
    "    metadata_df.groupby('country_sample')['bmi_sample']\n",
    "               .mean()\n",
    "               .sort_values(ascending=False))\n",
    "\n",
    "mean_bmi_by_country"
   ]
  },
  {
   "cell_type": "markdown",
   "id": "97bb3a82-aa4b-4b55-b29f-d00b7ee5436e",
   "metadata": {},
   "source": [
    "# Sequence import & summary"
   ]
  },
  {
   "cell_type": "code",
   "execution_count": 9,
   "id": "b908614f-2abd-4977-ab53-e1dad55f61f3",
   "metadata": {
    "tags": []
   },
   "outputs": [],
   "source": [
    "seqs_qza = f'{data_dir}/ITS1_sequences.qza'"
   ]
  },
  {
   "cell_type": "code",
   "execution_count": 10,
   "id": "7fc01a66-cf1e-497a-97de-7ea2498c45c6",
   "metadata": {
    "tags": []
   },
   "outputs": [
    {
     "name": "stdout",
     "output_type": "stream",
     "text": [
      "\u001b[32mUUID\u001b[0m:        3638611d-1767-413b-9390-70ee3d78e4ff\n",
      "\u001b[32mType\u001b[0m:        SampleData[SequencesWithQuality]\n",
      "\u001b[32mData format\u001b[0m: SingleLanePerSampleSingleEndFastqDirFmt\n"
     ]
    }
   ],
   "source": [
    "!qiime tools peek {seqs_qza}"
   ]
  },
  {
   "cell_type": "code",
   "execution_count": 11,
   "id": "52537bff-9cb9-4396-a458-5de5f68a6bed",
   "metadata": {
    "collapsed": true,
    "jupyter": {
     "outputs_hidden": true
    },
    "tags": []
   },
   "outputs": [
    {
     "name": "stdout",
     "output_type": "stream",
     "text": [
      "/opt/conda/lib/python3.10/site-packages/unifrac/__init__.py:9: UserWarning: pkg_resources is deprecated as an API. See https://setuptools.pypa.io/en/latest/pkg_resources.html. The pkg_resources package is slated for removal as early as 2025-11-30. Refrain from using this package or pin to Setuptools<81.\n",
      "  import pkg_resources\n",
      "\u001b[32mSaved Visualization to: project_data/demux_seqs.qzv\u001b[0m\n",
      "\u001b[0m\u001b[?25h"
     ]
    },
    {
     "data": {
      "text/html": [
       "<div><img onload=\"(function(div, url){\n",
       "if (typeof require !== 'undefined') {\n",
       "    var baseURL = require.toUrl('').split('/').slice(0, -2).join('/');\n",
       "} else {\n",
       "    var baseURL = JSON.parse(\n",
       "        document.getElementById('jupyter-config-data').innerHTML\n",
       "    ).baseUrl.slice(0, -1);\n",
       "}\n",
       "url = baseURL + url;\n",
       "fetch(url).then(function(res) {\n",
       "    if (res.status === 404) {\n",
       "        div.innerHTML = 'Install QIIME 2 Jupyter extension with:<br />' +\n",
       "                        '<code>jupyter server extension enable --py qiime2' +\n",
       "                        ' --sys-prefix</code><br />then restart your server.' +\n",
       "                        '<br /><br />(Interactive output not available on ' +\n",
       "                        'static notebook viewer services like nbviewer.)';\n",
       "    } else if (res.status === 409) {\n",
       "        div.innerHTML = 'Visualization no longer in scope. Re-run this cell' +\n",
       "                        ' to see the visualization.';\n",
       "    } else if (res.ok) {\n",
       "        url = res.url;\n",
       "        div.innerHTML = '<iframe src=\\'' + url + '\\' style=\\'' +\n",
       "                        'width: 100%; height: 700px; border: 0;\\'>' +\n",
       "                        '</iframe><hr />Open in a: <a href=\\'' + url + '\\'' +\n",
       "                        ' target=\\'_blank\\'>new window</a>'\n",
       "    } else {\n",
       "        div.innerHTML = 'Something has gone wrong. Check notebook server for' +\n",
       "                        ' errors.';\n",
       "    }\n",
       "});\n",
       "})(this.parentElement, '/qiime2/redirect?location=/tmp/qiime2/jovyan/data/24194e71-164b-4013-9412-b390aed10234')\" src=\"data:image/gif;base64,R0lGODlhAQABAIAAAP///wAAACH5BAEAAAAALAAAAAABAAEAAAICRAEAOw==\" /></div>"
      ],
      "text/plain": [
       "<visualization: Visualization uuid: 24194e71-164b-4013-9412-b390aed10234>"
      ]
     },
     "execution_count": 11,
     "metadata": {},
     "output_type": "execute_result"
    }
   ],
   "source": [
    "!qiime demux summarize \\\n",
    "  --i-data {seqs_qza} \\\n",
    "  --o-visualization {data_dir}/demux_seqs.qzv\n",
    "\n",
    "Visualization.load(f\"{data_dir}/demux_seqs.qzv\")"
   ]
  },
  {
   "cell_type": "markdown",
   "id": "0c819bec-b1a8-41d6-ac6a-ae2b97d80c35",
   "metadata": {},
   "source": [
    "# Feature table construction"
   ]
  },
  {
   "cell_type": "code",
   "execution_count": 12,
   "id": "b49b7b7f-651e-44b0-86a9-638aa75fe255",
   "metadata": {
    "tags": []
   },
   "outputs": [
    {
     "name": "stdout",
     "output_type": "stream",
     "text": [
      "/opt/conda/lib/python3.10/site-packages/unifrac/__init__.py:9: UserWarning: pkg_resources is deprecated as an API. See https://setuptools.pypa.io/en/latest/pkg_resources.html. The pkg_resources package is slated for removal as early as 2025-11-30. Refrain from using this package or pin to Setuptools<81.\n",
      "  import pkg_resources\n",
      "\u001b[32mSaved FeatureTable[Frequency] to: project_data/dada2_table.qza\u001b[0m\n",
      "\u001b[32mSaved FeatureData[Sequence] to: project_data/dada2_rep_set.qza\u001b[0m\n",
      "\u001b[32mSaved SampleData[DADA2Stats] to: project_data/dada2_stats.qza\u001b[0m\n",
      "\u001b[0m\u001b[?25h"
     ]
    }
   ],
   "source": [
    "! qiime dada2 denoise-single \\\n",
    "  --i-demultiplexed-seqs project_data/ITS1_sequences.qza \\\n",
    "  --p-trunc-len 130 \\\n",
    "  --p-n-threads 3 \\\n",
    "  --o-table project_data/dada2_table.qza \\\n",
    "  --o-representative-sequences project_data/dada2_rep_set.qza \\\n",
    "  --o-denoising-stats project_data/dada2_stats.qza"
   ]
  },
  {
   "cell_type": "markdown",
   "id": "fa3275e6-eef2-4b99-863c-9a29a2b152a3",
   "metadata": {},
   "source": [
    "### Denoising - Amplicon Sequence Variants"
   ]
  },
  {
   "cell_type": "code",
   "execution_count": 13,
   "id": "97ed70b2-8288-4a3d-85bb-e8f9e098e916",
   "metadata": {
    "tags": []
   },
   "outputs": [
    {
     "name": "stdout",
     "output_type": "stream",
     "text": [
      "/opt/conda/lib/python3.10/site-packages/unifrac/__init__.py:9: UserWarning: pkg_resources is deprecated as an API. See https://setuptools.pypa.io/en/latest/pkg_resources.html. The pkg_resources package is slated for removal as early as 2025-11-30. Refrain from using this package or pin to Setuptools<81.\n",
      "  import pkg_resources\n",
      "\u001b[32mSaved Visualization to: project_data/dada2_stats.qzv\u001b[0m\n",
      "\u001b[0m\u001b[?25h/opt/conda/lib/python3.10/site-packages/unifrac/__init__.py:9: UserWarning: pkg_resources is deprecated as an API. See https://setuptools.pypa.io/en/latest/pkg_resources.html. The pkg_resources package is slated for removal as early as 2025-11-30. Refrain from using this package or pin to Setuptools<81.\n",
      "  import pkg_resources\n",
      "\u001b[32mSaved Visualization to: project_data/dada2_rep_set.qzv\u001b[0m\n",
      "\u001b[0m\u001b[?25h/opt/conda/lib/python3.10/site-packages/unifrac/__init__.py:9: UserWarning: pkg_resources is deprecated as an API. See https://setuptools.pypa.io/en/latest/pkg_resources.html. The pkg_resources package is slated for removal as early as 2025-11-30. Refrain from using this package or pin to Setuptools<81.\n",
      "  import pkg_resources\n",
      "\u001b[32mSaved Visualization to: project_data/dada2_table.qzv\u001b[0m\n",
      "\u001b[0m\u001b[?25h"
     ]
    }
   ],
   "source": [
    "! qiime metadata tabulate \\\n",
    "  --m-input-file project_data/dada2_stats.qza \\\n",
    "  --o-visualization project_data/dada2_stats.qzv\n",
    "\n",
    "! qiime feature-table tabulate-seqs \\\n",
    "  --i-data project_data/dada2_rep_set.qza \\\n",
    "  --o-visualization project_data/dada2_rep_set.qzv\n",
    "\n",
    "! qiime feature-table summarize \\\n",
    "  --i-table project_data/dada2_table.qza \\\n",
    "  --m-sample-metadata-file project_data/sample_metadata.tsv \\\n",
    "  --o-visualization project_data/dada2_table.qzv"
   ]
  },
  {
   "cell_type": "code",
   "execution_count": 14,
   "id": "e44d9094-230b-481e-9b2c-8c5f1b24afe9",
   "metadata": {
    "tags": []
   },
   "outputs": [
    {
     "data": {
      "text/html": [
       "<div><img onload=\"(function(div, url){\n",
       "if (typeof require !== 'undefined') {\n",
       "    var baseURL = require.toUrl('').split('/').slice(0, -2).join('/');\n",
       "} else {\n",
       "    var baseURL = JSON.parse(\n",
       "        document.getElementById('jupyter-config-data').innerHTML\n",
       "    ).baseUrl.slice(0, -1);\n",
       "}\n",
       "url = baseURL + url;\n",
       "fetch(url).then(function(res) {\n",
       "    if (res.status === 404) {\n",
       "        div.innerHTML = 'Install QIIME 2 Jupyter extension with:<br />' +\n",
       "                        '<code>jupyter server extension enable --py qiime2' +\n",
       "                        ' --sys-prefix</code><br />then restart your server.' +\n",
       "                        '<br /><br />(Interactive output not available on ' +\n",
       "                        'static notebook viewer services like nbviewer.)';\n",
       "    } else if (res.status === 409) {\n",
       "        div.innerHTML = 'Visualization no longer in scope. Re-run this cell' +\n",
       "                        ' to see the visualization.';\n",
       "    } else if (res.ok) {\n",
       "        url = res.url;\n",
       "        div.innerHTML = '<iframe src=\\'' + url + '\\' style=\\'' +\n",
       "                        'width: 100%; height: 700px; border: 0;\\'>' +\n",
       "                        '</iframe><hr />Open in a: <a href=\\'' + url + '\\'' +\n",
       "                        ' target=\\'_blank\\'>new window</a>'\n",
       "    } else {\n",
       "        div.innerHTML = 'Something has gone wrong. Check notebook server for' +\n",
       "                        ' errors.';\n",
       "    }\n",
       "});\n",
       "})(this.parentElement, '/qiime2/redirect?location=/tmp/qiime2/jovyan/data/a9a1c80d-5114-4ae0-aff1-aa4740b588bf')\" src=\"data:image/gif;base64,R0lGODlhAQABAIAAAP///wAAACH5BAEAAAAALAAAAAABAAEAAAICRAEAOw==\" /></div>"
      ],
      "text/plain": [
       "<visualization: Visualization uuid: a9a1c80d-5114-4ae0-aff1-aa4740b588bf>"
      ]
     },
     "execution_count": 14,
     "metadata": {},
     "output_type": "execute_result"
    }
   ],
   "source": [
    "Visualization.load(\"project_data/dada2_table.qzv\")"
   ]
  },
  {
   "cell_type": "code",
   "execution_count": 15,
   "id": "69932ca5-7e32-4fab-8ddf-9ff10f60f6bb",
   "metadata": {
    "tags": []
   },
   "outputs": [
    {
     "data": {
      "text/html": [
       "<div><img onload=\"(function(div, url){\n",
       "if (typeof require !== 'undefined') {\n",
       "    var baseURL = require.toUrl('').split('/').slice(0, -2).join('/');\n",
       "} else {\n",
       "    var baseURL = JSON.parse(\n",
       "        document.getElementById('jupyter-config-data').innerHTML\n",
       "    ).baseUrl.slice(0, -1);\n",
       "}\n",
       "url = baseURL + url;\n",
       "fetch(url).then(function(res) {\n",
       "    if (res.status === 404) {\n",
       "        div.innerHTML = 'Install QIIME 2 Jupyter extension with:<br />' +\n",
       "                        '<code>jupyter server extension enable --py qiime2' +\n",
       "                        ' --sys-prefix</code><br />then restart your server.' +\n",
       "                        '<br /><br />(Interactive output not available on ' +\n",
       "                        'static notebook viewer services like nbviewer.)';\n",
       "    } else if (res.status === 409) {\n",
       "        div.innerHTML = 'Visualization no longer in scope. Re-run this cell' +\n",
       "                        ' to see the visualization.';\n",
       "    } else if (res.ok) {\n",
       "        url = res.url;\n",
       "        div.innerHTML = '<iframe src=\\'' + url + '\\' style=\\'' +\n",
       "                        'width: 100%; height: 700px; border: 0;\\'>' +\n",
       "                        '</iframe><hr />Open in a: <a href=\\'' + url + '\\'' +\n",
       "                        ' target=\\'_blank\\'>new window</a>'\n",
       "    } else {\n",
       "        div.innerHTML = 'Something has gone wrong. Check notebook server for' +\n",
       "                        ' errors.';\n",
       "    }\n",
       "});\n",
       "})(this.parentElement, '/qiime2/redirect?location=/tmp/qiime2/jovyan/data/db839dcc-326e-46c4-aa55-1e1d19063372')\" src=\"data:image/gif;base64,R0lGODlhAQABAIAAAP///wAAACH5BAEAAAAALAAAAAABAAEAAAICRAEAOw==\" /></div>"
      ],
      "text/plain": [
       "<visualization: Visualization uuid: db839dcc-326e-46c4-aa55-1e1d19063372>"
      ]
     },
     "execution_count": 15,
     "metadata": {},
     "output_type": "execute_result"
    }
   ],
   "source": [
    "Visualization.load(\"project_data/dada2_stats.qzv\")"
   ]
  }
 ],
 "metadata": {
  "kernelspec": {
   "display_name": "QIIME 2",
   "language": "python",
   "name": "python3"
  },
  "language_info": {
   "codemirror_mode": {
    "name": "ipython",
    "version": 3
   },
   "file_extension": ".py",
   "mimetype": "text/x-python",
   "name": "python",
   "nbconvert_exporter": "python",
   "pygments_lexer": "ipython3",
   "version": "3.10.14"
  }
 },
 "nbformat": 4,
 "nbformat_minor": 5
}
