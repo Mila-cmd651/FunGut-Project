{
 "cells": [
  {
   "cell_type": "code",
   "execution_count": 2,
   "id": "86e00803-255d-4ddf-8fcd-33d5829351a1",
   "metadata": {},
   "outputs": [],
   "source": [
    "# importing all required packages at the start of the notebook\n",
    "import IPython\n",
    "import os\n",
    "import pandas as pd\n",
    "import qiime2 as q2\n",
    "from qiime2 import Visualization\n",
    "import matplotlib.pyplot as plt\n",
    "import numpy as np\n",
    "\n",
    "%matplotlib inline"
   ]
  },
  {
   "cell_type": "code",
   "execution_count": 3,
   "id": "8f5faf9a-a44f-467c-9204-3d0a550ba771",
   "metadata": {
    "tags": []
   },
   "outputs": [],
   "source": [
    "data_dir = \"project_data\" #Store the folder's path"
   ]
  },
  {
   "cell_type": "markdown",
   "id": "f50fe115-ce4f-4f46-ae48-7b3c50cd33a6",
   "metadata": {},
   "source": [
    "# 3. Taxonomy classification"
   ]
  },
  {
   "cell_type": "markdown",
   "id": "2762f238-6922-4e31-83a8-82b2921aff4a",
   "metadata": {},
   "source": [
    "## 3.1 Reference database construction\n",
    "\n",
    "First we are going to download the UNITE database using RESCRIPt:"
   ]
  },
  {
   "cell_type": "code",
   "execution_count": 3,
   "id": "35aedd0c-460a-4558-b077-f98bc37a85e5",
   "metadata": {
    "tags": []
   },
   "outputs": [],
   "source": [
    "!mkdir -p $data_dir/uniteDB"
   ]
  },
  {
   "cell_type": "code",
   "execution_count": 4,
   "id": "03e504c6-57c6-4b10-a63b-b72c06d0f0f7",
   "metadata": {
    "tags": []
   },
   "outputs": [
    {
     "name": "stdout",
     "output_type": "stream",
     "text": [
      "/opt/conda/lib/python3.10/site-packages/unifrac/__init__.py:9: UserWarning: pkg_resources is deprecated as an API. See https://setuptools.pypa.io/en/latest/pkg_resources.html. The pkg_resources package is slated for removal as early as 2025-11-30. Refrain from using this package or pin to Setuptools<81.\n",
      "  import pkg_resources\n",
      "\u001b[32mSaved FeatureData[Taxonomy] to: project_data/uniteDB/taxonomy.qza\u001b[0m\n",
      "\u001b[32mSaved FeatureData[Sequence] to: project_data/uniteDB/sequences.qza\u001b[0m\n",
      "\u001b[0m\u001b[?25h"
     ]
    }
   ],
   "source": [
    "!qiime rescript get-unite-data \\\n",
    "    --p-version \"2025-02-19\" \\\n",
    "    --p-taxon-group eukaryotes \\\n",
    "    --p-cluster-id dynamic \\\n",
    "    --p-no-singletons \\\n",
    "    --verbose \\\n",
    "    --o-taxonomy $data_dir/uniteDB/taxonomy.qza \\\n",
    "    --o-sequences $data_dir/uniteDB/sequences.qza"
   ]
  },
  {
   "cell_type": "code",
   "execution_count": 5,
   "id": "3a35e363-3ddb-4ee0-81e8-ffc47c10b2cc",
   "metadata": {
    "tags": []
   },
   "outputs": [
    {
     "name": "stdout",
     "output_type": "stream",
     "text": [
      "total 51M\n",
      "-rwxr-xr-x 1 jovyan jovyan 281K Oct 15 14:37 its-region.qza\n",
      "-rwxr-xr-x 1 jovyan jovyan  39K Oct 15 14:07 sequences-discarded.qza\n",
      "-rwxr-xr-x 1 jovyan jovyan  25M Oct 15 14:07 sequences-filtered.qza\n",
      "-rwxr-xr-x 1 jovyan jovyan  22M Oct 21 11:57 sequences.qza\n",
      "-rwxr-xr-x 1 jovyan jovyan 3.9M Oct 21 11:56 taxonomy.qza\n"
     ]
    }
   ],
   "source": [
    "! ls -lh $data_dir/uniteDB"
   ]
  },
  {
   "cell_type": "code",
   "execution_count": 6,
   "id": "1e1cb1f4-f371-4a77-9193-921be5e36160",
   "metadata": {
    "tags": []
   },
   "outputs": [
    {
     "name": "stdout",
     "output_type": "stream",
     "text": [
      "/opt/conda/lib/python3.10/site-packages/unifrac/__init__.py:9: UserWarning: pkg_resources is deprecated as an API. See https://setuptools.pypa.io/en/latest/pkg_resources.html. The pkg_resources package is slated for removal as early as 2025-11-30. Refrain from using this package or pin to Setuptools<81.\n",
      "  import pkg_resources\n",
      "\u001b[32mSaved FeatureData[Sequence] to: project_data/uniteDB/sequences-filtered.qza\u001b[0m\n",
      "\u001b[32mSaved FeatureData[Sequence] to: project_data/uniteDB/sequences-discarded.qza\u001b[0m\n",
      "\u001b[0m\u001b[?25h"
     ]
    }
   ],
   "source": [
    "!qiime rescript filter-seqs-length \\\n",
    "  --i-sequences $data_dir/uniteDB/sequences.qza \\\n",
    "  --p-global-min 100 \\\n",
    "  --o-filtered-seqs $data_dir/uniteDB/sequences-filtered.qza \\\n",
    "  --o-discarded-seqs $data_dir/uniteDB/sequences-discarded.qza"
   ]
  },
  {
   "cell_type": "code",
   "execution_count": 8,
   "id": "3ebab164-3f7f-47df-b0f5-071fc2a16cd2",
   "metadata": {
    "tags": []
   },
   "outputs": [
    {
     "name": "stdout",
     "output_type": "stream",
     "text": [
      "/opt/conda/lib/python3.10/site-packages/unifrac/__init__.py:9: UserWarning: pkg_resources is deprecated as an API. See https://setuptools.pypa.io/en/latest/pkg_resources.html. The pkg_resources package is slated for removal as early as 2025-11-30. Refrain from using this package or pin to Setuptools<81.\n",
      "  import pkg_resources\n",
      "\u001b[32mSaved FeatureData[Sequence] to: project_data/uniteDB/sequences-filtered-its1.qza\u001b[0m\n",
      "\u001b[0m\u001b[?25h"
     ]
    }
   ],
   "source": [
    "!qiime feature-classifier extract-reads \\\n",
    "  --i-sequences $data_dir/uniteDB/sequences-filtered.qza \\\n",
    "  --p-f-primer \"CTTGGTCATTTAGAGGAAGTAA\" \\\n",
    "  --p-r-primer \"GCATCGATGAAGAACGCAGC\" \\\n",
    "  --p-read-orientation \"forward\" \\\n",
    "  --o-reads $data_dir/uniteDB/sequences-filtered-its1.qza"
   ]
  },
  {
   "cell_type": "markdown",
   "id": "58aeaa24-b35e-4573-87ce-fd663b7032d5",
   "metadata": {},
   "source": [
    "## 3.2 Training taxonomy classifier"
   ]
  },
  {
   "cell_type": "code",
   "execution_count": 13,
   "id": "2a0b3b20-ec80-4911-afa4-fd12a701267c",
   "metadata": {
    "tags": []
   },
   "outputs": [
    {
     "name": "stdout",
     "output_type": "stream",
     "text": [
      "/opt/conda/lib/python3.10/site-packages/unifrac/__init__.py:9: UserWarning: pkg_resources is deprecated as an API. See https://setuptools.pypa.io/en/latest/pkg_resources.html. The pkg_resources package is slated for removal as early as 2025-11-30. Refrain from using this package or pin to Setuptools<81.\n",
      "  import pkg_resources\n",
      "\u001b[32mSaved TaxonomicClassifier to: project_data/uniteDB/classifier.qza\u001b[0m\n",
      "\u001b[0m\u001b[?25h"
     ]
    }
   ],
   "source": [
    "! qiime feature-classifier fit-classifier-naive-bayes \\\n",
    "    --i-reference-reads $data_dir/uniteDB/sequences-filtered-its1.qza \\\n",
    "    --i-reference-taxonomy $data_dir/uniteDB/taxonomy.qza \\\n",
    "    --o-classifier $data_dir/uniteDB/classifier.qza"
   ]
  },
  {
   "cell_type": "markdown",
   "id": "9781f363-81c5-483c-80b1-9cb06993cbdb",
   "metadata": {},
   "source": [
    "To evaluate the classifier"
   ]
  },
  {
   "cell_type": "markdown",
   "id": "7e1814bf-aea8-4616-8391-db63b2f7d023",
   "metadata": {},
   "source": [
    "## 3.3 Taxonomy assignment"
   ]
  },
  {
   "cell_type": "code",
   "execution_count": 14,
   "id": "aaa631b5-37bd-4d6c-bd40-2ebf4137634b",
   "metadata": {
    "tags": []
   },
   "outputs": [
    {
     "name": "stdout",
     "output_type": "stream",
     "text": [
      "/opt/conda/lib/python3.10/site-packages/unifrac/__init__.py:9: UserWarning: pkg_resources is deprecated as an API. See https://setuptools.pypa.io/en/latest/pkg_resources.html. The pkg_resources package is slated for removal as early as 2025-11-30. Refrain from using this package or pin to Setuptools<81.\n",
      "  import pkg_resources\n",
      "\u001b[32mSaved FeatureData[Taxonomy] to: project_data/taxonomy.qza\u001b[0m\n",
      "\u001b[0m\u001b[?25h"
     ]
    }
   ],
   "source": [
    "! qiime feature-classifier classify-sklearn \\\n",
    "    --i-classifier $data_dir/uniteDB/classifier.qza \\\n",
    "    --i-reads $data_dir/dada2_rep_set.qza \\\n",
    "    --o-classification $data_dir/taxonomy.qza"
   ]
  },
  {
   "cell_type": "code",
   "execution_count": 6,
   "id": "862ef88c-2cbc-4d77-9b4d-1ed0982514e3",
   "metadata": {
    "tags": []
   },
   "outputs": [
    {
     "name": "stdout",
     "output_type": "stream",
     "text": [
      "/opt/conda/lib/python3.10/site-packages/unifrac/__init__.py:9: UserWarning: pkg_resources is deprecated as an API. See https://setuptools.pypa.io/en/latest/pkg_resources.html. The pkg_resources package is slated for removal as early as 2025-11-30. Refrain from using this package or pin to Setuptools<81.\n",
      "  import pkg_resources\n",
      "\u001b[32mSaved FeatureData[Taxonomy] to: project_data/taxonomy_trimmed.qza\u001b[0m\n",
      "\u001b[0m\u001b[?25h"
     ]
    }
   ],
   "source": [
    "# Same but with trimmed\n",
    "\n",
    "! qiime feature-classifier classify-sklearn \\\n",
    "    --i-classifier $data_dir/uniteDB/classifier.qza \\\n",
    "    --i-reads $data_dir/dada2_trimmed_rep_set.qza \\\n",
    "    --o-classification $data_dir/taxonomy_trimmed.qza"
   ]
  },
  {
   "cell_type": "code",
   "execution_count": 15,
   "id": "b1f4160a-cf16-47d8-9a4a-b33b85ed6f9a",
   "metadata": {
    "tags": []
   },
   "outputs": [
    {
     "name": "stdout",
     "output_type": "stream",
     "text": [
      "/opt/conda/lib/python3.10/site-packages/unifrac/__init__.py:9: UserWarning: pkg_resources is deprecated as an API. See https://setuptools.pypa.io/en/latest/pkg_resources.html. The pkg_resources package is slated for removal as early as 2025-11-30. Refrain from using this package or pin to Setuptools<81.\n",
      "  import pkg_resources\n",
      "\u001b[32mSaved Visualization to: project_data/taxonomy.qzv\u001b[0m\n",
      "\u001b[0m\u001b[?25h"
     ]
    }
   ],
   "source": [
    "! qiime metadata tabulate \\\n",
    "    --m-input-file $data_dir/taxonomy.qza \\\n",
    "    --o-visualization $data_dir/taxonomy.qzv"
   ]
  },
  {
   "cell_type": "code",
   "execution_count": 7,
   "id": "b2451149-4558-4cc6-bf50-43c9a9cef9f4",
   "metadata": {
    "tags": []
   },
   "outputs": [
    {
     "name": "stdout",
     "output_type": "stream",
     "text": [
      "/opt/conda/lib/python3.10/site-packages/unifrac/__init__.py:9: UserWarning: pkg_resources is deprecated as an API. See https://setuptools.pypa.io/en/latest/pkg_resources.html. The pkg_resources package is slated for removal as early as 2025-11-30. Refrain from using this package or pin to Setuptools<81.\n",
      "  import pkg_resources\n",
      "\u001b[32mSaved Visualization to: project_data/taxonomy_trimmed.qzv\u001b[0m\n",
      "\u001b[0m\u001b[?25h"
     ]
    }
   ],
   "source": [
    "# Same but with trimmed\n",
    "! qiime metadata tabulate \\\n",
    "    --m-input-file $data_dir/taxonomy_trimmed.qza \\\n",
    "    --o-visualization $data_dir/taxonomy_trimmed.qzv"
   ]
  },
  {
   "cell_type": "code",
   "execution_count": 4,
   "id": "5a8327de-12bc-4ede-8555-f6a0d77b0181",
   "metadata": {
    "tags": []
   },
   "outputs": [
    {
     "data": {
      "text/html": [
       "<div><img onload=\"(function(div, url){\n",
       "if (typeof require !== 'undefined') {\n",
       "    var baseURL = require.toUrl('').split('/').slice(0, -2).join('/');\n",
       "} else {\n",
       "    var baseURL = JSON.parse(\n",
       "        document.getElementById('jupyter-config-data').innerHTML\n",
       "    ).baseUrl.slice(0, -1);\n",
       "}\n",
       "url = baseURL + url;\n",
       "fetch(url).then(function(res) {\n",
       "    if (res.status === 404) {\n",
       "        div.innerHTML = 'Install QIIME 2 Jupyter extension with:<br />' +\n",
       "                        '<code>jupyter server extension enable --py qiime2' +\n",
       "                        ' --sys-prefix</code><br />then restart your server.' +\n",
       "                        '<br /><br />(Interactive output not available on ' +\n",
       "                        'static notebook viewer services like nbviewer.)';\n",
       "    } else if (res.status === 409) {\n",
       "        div.innerHTML = 'Visualization no longer in scope. Re-run this cell' +\n",
       "                        ' to see the visualization.';\n",
       "    } else if (res.ok) {\n",
       "        url = res.url;\n",
       "        div.innerHTML = '<iframe src=\\'' + url + '\\' style=\\'' +\n",
       "                        'width: 100%; height: 700px; border: 0;\\'>' +\n",
       "                        '</iframe><hr />Open in a: <a href=\\'' + url + '\\'' +\n",
       "                        ' target=\\'_blank\\'>new window</a>'\n",
       "    } else {\n",
       "        div.innerHTML = 'Something has gone wrong. Check notebook server for' +\n",
       "                        ' errors.';\n",
       "    }\n",
       "});\n",
       "})(this.parentElement, '/qiime2/redirect?location=/tmp/qiime2/jovyan/data/0d9c2f32-e793-4f06-976f-8bce78b262e4')\" src=\"data:image/gif;base64,R0lGODlhAQABAIAAAP///wAAACH5BAEAAAAALAAAAAABAAEAAAICRAEAOw==\" /></div>"
      ],
      "text/plain": [
       "<visualization: Visualization uuid: 0d9c2f32-e793-4f06-976f-8bce78b262e4>"
      ]
     },
     "execution_count": 4,
     "metadata": {},
     "output_type": "execute_result"
    }
   ],
   "source": [
    "Visualization.load(f\"{data_dir}/taxonomy.qzv\")"
   ]
  },
  {
   "cell_type": "code",
   "execution_count": 8,
   "id": "63881c2f-e736-48a5-a737-fd45e912c3c3",
   "metadata": {
    "tags": []
   },
   "outputs": [
    {
     "data": {
      "text/html": [
       "<div><img onload=\"(function(div, url){\n",
       "if (typeof require !== 'undefined') {\n",
       "    var baseURL = require.toUrl('').split('/').slice(0, -2).join('/');\n",
       "} else {\n",
       "    var baseURL = JSON.parse(\n",
       "        document.getElementById('jupyter-config-data').innerHTML\n",
       "    ).baseUrl.slice(0, -1);\n",
       "}\n",
       "url = baseURL + url;\n",
       "fetch(url).then(function(res) {\n",
       "    if (res.status === 404) {\n",
       "        div.innerHTML = 'Install QIIME 2 Jupyter extension with:<br />' +\n",
       "                        '<code>jupyter server extension enable --py qiime2' +\n",
       "                        ' --sys-prefix</code><br />then restart your server.' +\n",
       "                        '<br /><br />(Interactive output not available on ' +\n",
       "                        'static notebook viewer services like nbviewer.)';\n",
       "    } else if (res.status === 409) {\n",
       "        div.innerHTML = 'Visualization no longer in scope. Re-run this cell' +\n",
       "                        ' to see the visualization.';\n",
       "    } else if (res.ok) {\n",
       "        url = res.url;\n",
       "        div.innerHTML = '<iframe src=\\'' + url + '\\' style=\\'' +\n",
       "                        'width: 100%; height: 700px; border: 0;\\'>' +\n",
       "                        '</iframe><hr />Open in a: <a href=\\'' + url + '\\'' +\n",
       "                        ' target=\\'_blank\\'>new window</a>'\n",
       "    } else {\n",
       "        div.innerHTML = 'Something has gone wrong. Check notebook server for' +\n",
       "                        ' errors.';\n",
       "    }\n",
       "});\n",
       "})(this.parentElement, '/qiime2/redirect?location=/tmp/qiime2/jovyan/data/7d63fedf-7324-4e02-9172-f299197b2e3d')\" src=\"data:image/gif;base64,R0lGODlhAQABAIAAAP///wAAACH5BAEAAAAALAAAAAABAAEAAAICRAEAOw==\" /></div>"
      ],
      "text/plain": [
       "<visualization: Visualization uuid: 7d63fedf-7324-4e02-9172-f299197b2e3d>"
      ]
     },
     "execution_count": 8,
     "metadata": {},
     "output_type": "execute_result"
    }
   ],
   "source": [
    "#Same but with trimmed\n",
    "\n",
    "Visualization.load(f\"{data_dir}/taxonomy_trimmed.qzv\")"
   ]
  },
  {
   "cell_type": "code",
   "execution_count": 12,
   "id": "73bedb71-1da8-4d65-acd7-5f53f8893dca",
   "metadata": {},
   "outputs": [
    {
     "ename": "IndentationError",
     "evalue": "unexpected indent (2697389468.py, line 2)",
     "output_type": "error",
     "traceback": [
      "\u001b[0;36m  Cell \u001b[0;32mIn[12], line 2\u001b[0;36m\u001b[0m\n\u001b[0;31m    --o-filtered-table $data_dir/dada2_table_filtered.qza\u001b[0m\n\u001b[0m    ^\u001b[0m\n\u001b[0;31mIndentationError\u001b[0m\u001b[0;31m:\u001b[0m unexpected indent\n"
     ]
    }
   ],
   "source": [
    "! qiime taxa filter-table \\\n",
    "    --i-table $data_dir/dada2_table.qza \\\n",
    "    --i-taxonomy $data_dir/taxonomy.qza \\\n",
    "    --p-include c__ \\ #can be modified according to the classification level you want\n",
    "    --o-filtered-table $data_dir/dada2_table_filtered.qza\n",
    "\n",
    "! qiime taxa filter-seqs \\\n",
    "    --i-sequences $data_dir/dada2_rep_set.qza \\\n",
    "    --i-taxonomy $data_dir/taxonomy.qza \\\n",
    "    --p-include c__ \\\n",
    "    --o-filtered-sequences $data_dir/dada2_rep_set_filtered.qza"
   ]
  },
  {
   "cell_type": "code",
   "execution_count": null,
   "id": "6d0b21f9-dcc3-43ae-822b-0665d1a3160a",
   "metadata": {},
   "outputs": [],
   "source": []
  }
 ],
 "metadata": {
  "kernelspec": {
   "display_name": "QIIME 2",
   "language": "python",
   "name": "python3"
  },
  "language_info": {
   "codemirror_mode": {
    "name": "ipython",
    "version": 3
   },
   "file_extension": ".py",
   "mimetype": "text/x-python",
   "name": "python",
   "nbconvert_exporter": "python",
   "pygments_lexer": "ipython3",
   "version": "3.10.14"
  }
 },
 "nbformat": 4,
 "nbformat_minor": 5
}
