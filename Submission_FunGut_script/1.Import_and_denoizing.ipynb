{
 "cells": [
  {
   "cell_type": "markdown",
   "id": "395639d6-bc44-43fb-bf6c-c7f0ec62d902",
   "metadata": {},
   "source": [
    "# 1.Import packages"
   ]
  },
  {
   "cell_type": "code",
   "execution_count": 7,
   "id": "cee4acf3-5a98-4a39-9044-85098e904945",
   "metadata": {
    "execution": {
     "iopub.execute_input": "2025-10-22T09:15:56.697016Z",
     "iopub.status.busy": "2025-10-22T09:15:56.696533Z",
     "iopub.status.idle": "2025-10-22T09:15:58.220244Z",
     "shell.execute_reply": "2025-10-22T09:15:58.219200Z",
     "shell.execute_reply.started": "2025-10-22T09:15:56.696980Z"
    },
    "tags": []
   },
   "outputs": [],
   "source": [
    "# Importing all required packages at the start of the notebook\n",
    "import IPython\n",
    "\n",
    "from qiime2 import Visualization\n",
    "\n",
    "import qiime2 as q2\n",
    "import pandas as pd\n",
    "import matplotlib.pyplot as plt\n",
    "\n",
    "%matplotlib inline"
   ]
  },
  {
   "cell_type": "markdown",
   "id": "5fa654dc-7906-4970-bb3f-b0130f81857d",
   "metadata": {},
   "source": [
    "# 2.Import the data"
   ]
  },
  {
   "cell_type": "code",
   "execution_count": 3,
   "id": "f81e6b63-d81b-4d69-9ad6-9976e336e10c",
   "metadata": {
    "execution": {
     "iopub.execute_input": "2025-10-22T09:09:23.915962Z",
     "iopub.status.busy": "2025-10-22T09:09:23.915669Z",
     "iopub.status.idle": "2025-10-22T09:09:24.159134Z",
     "shell.execute_reply": "2025-10-22T09:09:24.158129Z",
     "shell.execute_reply.started": "2025-10-22T09:09:23.915937Z"
    },
    "tags": []
   },
   "outputs": [],
   "source": [
    "# Location of the projects data\n",
    "!mkdir -p \"Project_data\"\n",
    "data_dir = \"Project_data/Import_and_Denoizing\""
   ]
  },
  {
   "cell_type": "code",
   "execution_count": 4,
   "id": "fb97a0e9-834e-402b-a164-9771f6f66fca",
   "metadata": {
    "execution": {
     "iopub.execute_input": "2025-10-22T09:09:33.154843Z",
     "iopub.status.busy": "2025-10-22T09:09:33.153987Z",
     "iopub.status.idle": "2025-10-22T09:09:36.034083Z",
     "shell.execute_reply": "2025-10-22T09:09:36.033397Z",
     "shell.execute_reply.started": "2025-10-22T09:09:33.154812Z"
    },
    "tags": []
   },
   "outputs": [
    {
     "name": "stderr",
     "output_type": "stream",
     "text": [
      "--2025-10-22 11:09:33--  https://polybox.ethz.ch/index.php/s/uV06vmm96ZzB5eM/download/fungut_forward_reads.qza\n",
      "Resolving polybox.ethz.ch (polybox.ethz.ch)... 129.132.71.243\n",
      "Connecting to polybox.ethz.ch (polybox.ethz.ch)|129.132.71.243|:443... connected.\n",
      "HTTP request sent, awaiting response... 200 OK\n",
      "Length: 712595535 (680M) [application/octet-stream]\n",
      "Saving to: ‘Project_data/Import_and_Denoizing/fungut_forward_reads.qza’\n",
      "\n",
      "     0K ........ ........ ........ ........  4%  356M 2s\n",
      " 32768K ........ ........ ........ ........  9%  376M 2s\n",
      " 65536K ........ ........ ........ ........ 14%  375M 2s\n",
      " 98304K ........ ........ ........ ........ 18%  266M 2s\n",
      "131072K ........ ........ ........ ........ 23%  571M 1s\n",
      "163840K ........ ........ ........ ........ 28%  224M 1s\n",
      "196608K ........ ........ ........ ........ 32%  427M 1s\n",
      "229376K ........ ........ ........ ........ 37%  487M 1s\n",
      "262144K ........ ........ ........ ........ 42%  422M 1s\n",
      "294912K ........ ........ ........ ........ 47%  307M 1s\n",
      "327680K ........ ........ ........ ........ 51%  388M 1s\n",
      "360448K ........ ........ ........ ........ 56%  339M 1s\n",
      "393216K ........ ........ ........ ........ 61%  397M 1s\n",
      "425984K ........ ........ ........ ........ 65%  331M 1s\n",
      "458752K ........ ........ ........ ........ 70%  568M 1s\n",
      "491520K ........ ........ ........ ........ 75%  567M 0s\n",
      "524288K ........ ........ ........ ........ 80%  521M 0s\n",
      "557056K ........ ........ ........ ........ 84%  455M 0s\n",
      "589824K ........ ........ ........ ........ 89%  278M 0s\n",
      "622592K ........ ........ ........ ........ 94%  545M 0s\n",
      "655360K ........ ........ ........ ........ 98%  558M 0s\n",
      "688128K .......                            100%  462M=1.7s\n",
      "\n",
      "2025-10-22 11:09:35 (389 MB/s) - ‘Project_data/Import_and_Denoizing/fungut_forward_reads.qza’ saved [712595535/712595535]\n",
      "\n",
      "--2025-10-22 11:09:35--  https://polybox.ethz.ch/index.php/s/CA76kKFC9FApqpR/download/fungut_metadata.tsv\n",
      "Resolving polybox.ethz.ch (polybox.ethz.ch)... 129.132.71.243\n",
      "Connecting to polybox.ethz.ch (polybox.ethz.ch)|129.132.71.243|:443... connected.\n",
      "HTTP request sent, awaiting response... 200 OK\n",
      "Length: 18798 (18K) [application/octet-stream]\n",
      "Saving to: ‘Project_data/Import_and_Denoizing/fungut_metadata.tsv’\n",
      "\n",
      "     0K                                    100% 1.94M=0.009s\n",
      "\n",
      "2025-10-22 11:09:36 (1.94 MB/s) - ‘Project_data/Import_and_Denoizing/fungut_metadata.tsv’ saved [18798/18798]\n",
      "\n"
     ]
    }
   ],
   "source": [
    "%%bash -s $data_dir\n",
    "mkdir -p \"$1\"\n",
    "\n",
    "wget -nc --progress=dot:giga -P \"$1\" https://polybox.ethz.ch/index.php/s/uV06vmm96ZzB5eM/download/fungut_forward_reads.qza\n",
    "wget -nc --progress=dot:giga -P \"$1\" https://polybox.ethz.ch/index.php/s/CA76kKFC9FApqpR/download/fungut_metadata.tsv\n",
    "\n",
    "chmod -R +rxw \"$1\""
   ]
  },
  {
   "cell_type": "markdown",
   "id": "d8d2ece0-d4c1-4568-bcc5-fc81140ea8c7",
   "metadata": {},
   "source": [
    "# 3.Feature table construction"
   ]
  },
  {
   "cell_type": "code",
   "execution_count": null,
   "id": "7d048a8d-2a65-410c-bc32-6f451ca4115b",
   "metadata": {
    "execution": {
     "iopub.execute_input": "2025-10-22T09:51:47.562672Z",
     "iopub.status.busy": "2025-10-22T09:51:47.562348Z"
    },
    "tags": []
   },
   "outputs": [
    {
     "name": "stdout",
     "output_type": "stream",
     "text": [
      "/opt/conda/lib/python3.10/site-packages/unifrac/__init__.py:9: UserWarning: pkg_resources is deprecated as an API. See https://setuptools.pypa.io/en/latest/pkg_resources.html. The pkg_resources package is slated for removal as early as 2025-11-30. Refrain from using this package or pin to Setuptools<81.\n",
      "  import pkg_resources\n"
     ]
    }
   ],
   "source": [
    "# Visual summary of the data\n",
    "! qiime demux summarize \\\n",
    "    --i-data $data_dir/fungut_forward_reads.qza \\\n",
    "    --o-visualization $data_dir/fungut_forward_reads_demux_seqs.qzv"
   ]
  },
  {
   "cell_type": "code",
   "execution_count": null,
   "id": "77a8d190-fe04-48ac-8d35-3b9f8dbf5ab1",
   "metadata": {
    "tags": []
   },
   "outputs": [],
   "source": [
    "Visualization.load(f\"{data_dir}/fungut_forward_reads_demux_seqs.qzv\")"
   ]
  },
  {
   "cell_type": "markdown",
   "id": "d786de67-b5c7-47ae-931c-2c8bf19006b7",
   "metadata": {},
   "source": [
    "Reasoning why lenght was choosen"
   ]
  },
  {
   "cell_type": "markdown",
   "id": "da004e0d-ec67-45d9-a551-0ace063aeb44",
   "metadata": {},
   "source": [
    "# Denoising - Amplicon Sequence Variants"
   ]
  },
  {
   "cell_type": "code",
   "execution_count": null,
   "id": "9b1d8522-8831-4274-8737-625845030b4a",
   "metadata": {
    "tags": []
   },
   "outputs": [],
   "source": [
    "! qiime dada2 denoise-single \\\n",
    "    --i-demultiplexed-seqs $data_dir/fungut_forward_reads.qza \\\n",
    "    --p-trunc-len 135 \\\n",
    "    --p-n-threads 3 \\\n",
    "    --p-max-ee 4 \\\n",
    "    --p-min-fold-parent-over-abundance 4 \\\n",
    "    --o-table $data_dir/dada2_table.qza \\\n",
    "    --o-representative-sequences $data_dir/dada2_rep_set.qza \\\n",
    "    --o-denoising-stats $data_dir/dada2_stats.qza"
   ]
  },
  {
   "cell_type": "code",
   "execution_count": null,
   "id": "4fa4376c-8364-4f8a-bd32-3c5627ef9a68",
   "metadata": {
    "tags": []
   },
   "outputs": [],
   "source": [
    "! qiime metadata tabulate \\\n",
    "  --m-input-file $data_dir/dada2_stats.qza \\\n",
    "  --o-visualization $data_dir/dada2_stats.qzv\n",
    "\n",
    "! qiime feature-table tabulate-seqs \\\n",
    "  --i-data $data_dir/dada2_rep_set.qza \\\n",
    "  --o-visualization $data_dir/dada2_rep_set.qzv\n",
    "\n",
    "! qiime feature-table summarize \\\n",
    "  --i-table $data_dir/dada2_table.qza \\\n",
    "  --m-sample-metadata-file $data_dir/fungut_metadata.tsv \\\n",
    "  --o-visualization $data_dir/dada2_table.qzv"
   ]
  },
  {
   "cell_type": "code",
   "execution_count": null,
   "id": "a05042c8-d68a-4d0d-86ff-f90197ffd0a9",
   "metadata": {
    "tags": []
   },
   "outputs": [],
   "source": [
    "Visualization.load(f\"{data_dir}/dada2_stats.qzv\")"
   ]
  },
  {
   "cell_type": "code",
   "execution_count": null,
   "id": "c8e1997b-360d-4cba-b4ab-cd359737664d",
   "metadata": {
    "tags": []
   },
   "outputs": [],
   "source": [
    "Visualization.load(f\"{data_dir}/dada2_rep_set.qzv\")"
   ]
  },
  {
   "cell_type": "code",
   "execution_count": null,
   "id": "0b78c7b9-759f-4430-ac74-c1c5afd0daec",
   "metadata": {
    "tags": []
   },
   "outputs": [],
   "source": [
    "Visualization.load(f\"{data_dir}/dada2_table.qzv\")"
   ]
  },
  {
   "cell_type": "code",
   "execution_count": null,
   "id": "fe955db6-c6ef-48bb-9369-000849380c7a",
   "metadata": {},
   "outputs": [],
   "source": []
  }
 ],
 "metadata": {
  "kernelspec": {
   "display_name": "QIIME 2",
   "language": "python",
   "name": "python3"
  },
  "language_info": {
   "codemirror_mode": {
    "name": "ipython",
    "version": 3
   },
   "file_extension": ".py",
   "mimetype": "text/x-python",
   "name": "python",
   "nbconvert_exporter": "python",
   "pygments_lexer": "ipython3",
   "version": "3.10.14"
  }
 },
 "nbformat": 4,
 "nbformat_minor": 5
}
