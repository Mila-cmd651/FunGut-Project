{
 "cells": [
  {
   "cell_type": "markdown",
   "id": "395639d6-bc44-43fb-bf6c-c7f0ec62d902",
   "metadata": {},
   "source": [
    "# Import packages"
   ]
  },
  {
   "cell_type": "code",
   "execution_count": 1,
   "id": "cee4acf3-5a98-4a39-9044-85098e904945",
   "metadata": {
    "tags": []
   },
   "outputs": [],
   "source": [
    "# Importing all required packages at the start of the notebook\n",
    "import IPython\n",
    "\n",
    "from qiime2 import Visualization\n",
    "\n",
    "import qiime2 as q2\n",
    "import pandas as pd\n",
    "import matplotlib.pyplot as plt\n",
    "\n",
    "%matplotlib inline"
   ]
  },
  {
   "cell_type": "markdown",
   "id": "5fa654dc-7906-4970-bb3f-b0130f81857d",
   "metadata": {},
   "source": [
    "# Import the data"
   ]
  },
  {
   "cell_type": "code",
   "execution_count": null,
   "id": "53752cd6-bb80-4179-8d85-4ca58a2f22c9",
   "metadata": {},
   "outputs": [],
   "source": []
  },
  {
   "cell_type": "code",
   "execution_count": 2,
   "id": "f81e6b63-d81b-4d69-9ad6-9976e336e10c",
   "metadata": {
    "tags": []
   },
   "outputs": [],
   "source": [
    "# Location of the projects data\n",
    "\n",
    "data_dir = \"Project_data\"\n",
    "!mkdir -p data_dir"
   ]
  },
  {
   "cell_type": "code",
   "execution_count": 4,
   "id": "fb97a0e9-834e-402b-a164-9771f6f66fca",
   "metadata": {
    "tags": []
   },
   "outputs": [
    {
     "name": "stderr",
     "output_type": "stream",
     "text": [
      "--2025-10-22 11:01:49--  https://polybox.ethz.ch/index.php/s/uV06vmm96ZzB5eM/download/fungut_forward_reads.qza\n",
      "Resolving polybox.ethz.ch (polybox.ethz.ch)... 129.132.71.243\n",
      "Connecting to polybox.ethz.ch (polybox.ethz.ch)|129.132.71.243|:443... connected.\n",
      "HTTP request sent, awaiting response... 200 OK\n",
      "Length: 712595535 (680M) [application/octet-stream]\n",
      "Saving to: ‘Project_data/Import_and_Denoizing/fungut_forward_reads.qza’\n",
      "\n",
      "     0K ........ ........ ........ ........  4%  137M 5s\n",
      " 32768K ........ ........ ........ ........  9%  157M 4s\n",
      " 65536K ........ ........ ........ ........ 14%  180M 4s\n",
      " 98304K ........ ........ ........ ........ 18%  169M 3s\n",
      "131072K ........ ........ ........ ........ 23%  198M 3s\n",
      "163840K ........ ........ ........ ........ 28%  133M 3s\n",
      "196608K ........ ........ ........ ........ 32%  131M 3s\n",
      "229376K ........ ........ ........ ........ 37%  158M 3s\n",
      "262144K ........ ........ ........ ........ 42%  158M 3s\n",
      "294912K ........ ........ ........ ........ 47%  152M 2s\n",
      "327680K ........ ........ ........ ........ 51%  120M 2s\n",
      "360448K ........ ........ ........ ........ 56%  149M 2s\n",
      "393216K ........ ........ ........ ........ 61%  155M 2s\n",
      "425984K ........ ........ ........ ........ 65%  148M 2s\n",
      "458752K ........ ........ ........ ........ 70%  167M 1s\n",
      "491520K ........ ........ ........ ........ 75%  320M 1s\n",
      "524288K ........ ........ ........ ........ 80%  293M 1s\n",
      "557056K ........ ........ ........ ........ 84%  136M 1s\n",
      "589824K ........ ........ ........ ........ 89%  127M 0s\n",
      "622592K ........ ........ ........ ........ 94%  116M 0s\n",
      "655360K ........ ........ ........ ........ 98%  177M 0s\n",
      "688128K .......                            100% 96.6M=4.4s\n",
      "\n",
      "2025-10-22 11:01:55 (155 MB/s) - ‘Project_data/Import_and_Denoizing/fungut_forward_reads.qza’ saved [712595535/712595535]\n",
      "\n",
      "--2025-10-22 11:01:55--  https://polybox.ethz.ch/index.php/s/CA76kKFC9FApqpR/download/fungut_metadata.tsv\n",
      "Resolving polybox.ethz.ch (polybox.ethz.ch)... 129.132.71.243\n",
      "Connecting to polybox.ethz.ch (polybox.ethz.ch)|129.132.71.243|:443... connected.\n",
      "HTTP request sent, awaiting response... 200 OK\n",
      "Length: 18798 (18K) [application/octet-stream]\n",
      "Saving to: ‘Project_data/Import_and_Denoizing/fungut_metadata.tsv’\n",
      "\n",
      "     0K                                    100%  237M=0s\n",
      "\n",
      "2025-10-22 11:01:55 (237 MB/s) - ‘Project_data/Import_and_Denoizing/fungut_metadata.tsv’ saved [18798/18798]\n",
      "\n"
     ]
    }
   ],
   "source": [
    "%%bash -s $data_dir/Import_and_Denoizing\n",
    "mkdir -p \"$1\"\n",
    "\n",
    "wget -nc --progress=dot:giga -P \"$1\" https://polybox.ethz.ch/index.php/s/uV06vmm96ZzB5eM/download/fungut_forward_reads.qza\n",
    "wget -nc --progress=dot:giga -P \"$1\" https://polybox.ethz.ch/index.php/s/CA76kKFC9FApqpR/download/fungut_metadata.tsv\n",
    "\n",
    "chmod -R +rxw \"$1\""
   ]
  },
  {
   "cell_type": "code",
   "execution_count": null,
   "id": "1e1bb40e-6e8f-4327-8014-0e1fbe3479e9",
   "metadata": {},
   "outputs": [],
   "source": []
  }
 ],
 "metadata": {
  "kernelspec": {
   "display_name": "QIIME 2",
   "language": "python",
   "name": "python3"
  },
  "language_info": {
   "codemirror_mode": {
    "name": "ipython",
    "version": 3
   },
   "file_extension": ".py",
   "mimetype": "text/x-python",
   "name": "python",
   "nbconvert_exporter": "python",
   "pygments_lexer": "ipython3",
   "version": "3.10.14"
  }
 },
 "nbformat": 4,
 "nbformat_minor": 5
}
