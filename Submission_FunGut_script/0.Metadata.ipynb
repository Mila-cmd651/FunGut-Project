{
 "cells": [
  {
   "cell_type": "markdown",
   "id": "02c9afec-29a1-4aad-b17b-9ccaf3ee969e",
   "metadata": {
    "tags": []
   },
   "source": [
    "# 1.Download and import packages"
   ]
  },
  {
   "cell_type": "code",
   "execution_count": null,
   "id": "b45496d9-5ecb-4dfc-b55c-226312e03de9",
   "metadata": {},
   "outputs": [],
   "source": []
  },
  {
   "cell_type": "code",
   "execution_count": 27,
   "id": "239cef62-d99f-4724-9053-084970157e3c",
   "metadata": {
    "tags": []
   },
   "outputs": [],
   "source": [
    "import pandas as pd\n",
    "import os\n",
    "import matplotlib.pyplot as plt\n",
    "import seaborn as sns\n",
    "%matplotlib inline"
   ]
  },
  {
   "cell_type": "markdown",
   "id": "b06c8360-1a0e-48a3-99d6-8f7bb7c62e95",
   "metadata": {},
   "source": [
    "# 2.Import the data"
   ]
  },
  {
   "cell_type": "code",
   "execution_count": 13,
   "id": "e4cfc5e4-0d17-47fd-9077-30233c746ab9",
   "metadata": {
    "tags": []
   },
   "outputs": [],
   "source": [
    "!mkdir -p \"Project_data\"\n",
    "data_dir = \"Project_data/Metadata\""
   ]
  },
  {
   "cell_type": "code",
   "execution_count": 4,
   "id": "a01fc878-09f7-43b1-ab59-70e072284bfa",
   "metadata": {
    "tags": []
   },
   "outputs": [
    {
     "name": "stderr",
     "output_type": "stream",
     "text": [
      "--2025-10-29 11:16:56--  https://polybox.ethz.ch/index.php/s/CA76kKFC9FApqpR/download/fungut_metadata.tsv\n",
      "Resolving polybox.ethz.ch (polybox.ethz.ch)... 129.132.71.243\n",
      "Connecting to polybox.ethz.ch (polybox.ethz.ch)|129.132.71.243|:443... connected.\n",
      "HTTP request sent, awaiting response... 200 OK\n",
      "Length: 18798 (18K) [application/octet-stream]\n",
      "Saving to: ‘Project_data/Metadata/fungut_metadata.tsv’\n",
      "\n",
      "     0K                                    100% 3.81M=0.005s\n",
      "\n",
      "2025-10-29 11:16:56 (3.81 MB/s) - ‘Project_data/Metadata/fungut_metadata.tsv’ saved [18798/18798]\n",
      "\n"
     ]
    }
   ],
   "source": [
    "%%bash -s $data_dir\n",
    "mkdir -p \"$1\"\n",
    "\n",
    "wget -nc --progress=dot:giga -P \"$1\" https://polybox.ethz.ch/index.php/s/CA76kKFC9FApqpR/download/fungut_metadata.tsv\n",
    "\n",
    "chmod -R +rxw \"$1\""
   ]
  },
  {
   "cell_type": "markdown",
   "id": "fb0046a8-6b80-46db-abd3-4d129595de05",
   "metadata": {},
   "source": [
    "# 3.Analysis and modifications in the metadata"
   ]
  },
  {
   "cell_type": "markdown",
   "id": "fe0d5b90-2f30-43f5-8502-50806ec906e2",
   "metadata": {},
   "source": [
    "In this section, we explored our sample metadata to better understand the dataset and address some of the questions from the FunGut guidelines. We also made a few modifications to the metadata, such as renaming certain columns and converting continuous variables into categorical bins."
   ]
  },
  {
   "cell_type": "code",
   "execution_count": 14,
   "id": "366fa927-1ccd-4f0b-83a8-bb640fdc0254",
   "metadata": {
    "tags": []
   },
   "outputs": [
    {
     "data": {
      "text/plain": [
       "'/home/jovyan/assignments/FunGut-Project/Submission_FunGut_script'"
      ]
     },
     "execution_count": 14,
     "metadata": {},
     "output_type": "execute_result"
    }
   ],
   "source": [
    "os.getcwd() #Get the working directory"
   ]
  },
  {
   "cell_type": "code",
   "execution_count": 19,
   "id": "ed788b6c-9a11-4d41-bfcf-a7bdbd8e688e",
   "metadata": {
    "tags": []
   },
   "outputs": [
    {
     "data": {
      "text/html": [
       "<div>\n",
       "<style scoped>\n",
       "    .dataframe tbody tr th:only-of-type {\n",
       "        vertical-align: middle;\n",
       "    }\n",
       "\n",
       "    .dataframe tbody tr th {\n",
       "        vertical-align: top;\n",
       "    }\n",
       "\n",
       "    .dataframe thead th {\n",
       "        text-align: right;\n",
       "    }\n",
       "</style>\n",
       "<table border=\"1\" class=\"dataframe\">\n",
       "  <thead>\n",
       "    <tr style=\"text-align: right;\">\n",
       "      <th></th>\n",
       "      <th>ID</th>\n",
       "      <th>country_sample</th>\n",
       "      <th>state_sample</th>\n",
       "      <th>latitude_sample</th>\n",
       "      <th>longitude_sample</th>\n",
       "      <th>sex_sample</th>\n",
       "      <th>age_years_sample</th>\n",
       "      <th>height_cm_sample</th>\n",
       "      <th>weight_kg_sample</th>\n",
       "      <th>bmi_sample</th>\n",
       "      <th>diet_type_sample</th>\n",
       "      <th>ibd_sample</th>\n",
       "      <th>gluten_sample</th>\n",
       "    </tr>\n",
       "  </thead>\n",
       "  <tbody>\n",
       "    <tr>\n",
       "      <th>0</th>\n",
       "      <td>ERR5327198</td>\n",
       "      <td>USA</td>\n",
       "      <td>TN</td>\n",
       "      <td>36.1</td>\n",
       "      <td>-86.8</td>\n",
       "      <td>female</td>\n",
       "      <td>67.0</td>\n",
       "      <td>152.0</td>\n",
       "      <td>41.0</td>\n",
       "      <td>17.75</td>\n",
       "      <td>Omnivore</td>\n",
       "      <td>I do not have this condition</td>\n",
       "      <td>No</td>\n",
       "    </tr>\n",
       "    <tr>\n",
       "      <th>1</th>\n",
       "      <td>ERR5327199</td>\n",
       "      <td>USA</td>\n",
       "      <td>DC</td>\n",
       "      <td>38.9</td>\n",
       "      <td>-77.1</td>\n",
       "      <td>male</td>\n",
       "      <td>55.0</td>\n",
       "      <td>182.0</td>\n",
       "      <td>79.0</td>\n",
       "      <td>23.73</td>\n",
       "      <td>Omnivore</td>\n",
       "      <td>I do not have this condition</td>\n",
       "      <td>I was diagnosed with gluten allergy (anti-glut...</td>\n",
       "    </tr>\n",
       "    <tr>\n",
       "      <th>2</th>\n",
       "      <td>ERR5327266</td>\n",
       "      <td>USA</td>\n",
       "      <td>VA</td>\n",
       "      <td>38.9</td>\n",
       "      <td>-77.1</td>\n",
       "      <td>female</td>\n",
       "      <td>28.0</td>\n",
       "      <td>175.0</td>\n",
       "      <td>61.0</td>\n",
       "      <td>19.94</td>\n",
       "      <td>Omnivore</td>\n",
       "      <td>I do not have this condition</td>\n",
       "      <td>I do not eat gluten because it makes me feel bad</td>\n",
       "    </tr>\n",
       "    <tr>\n",
       "      <th>3</th>\n",
       "      <td>ERR5327282</td>\n",
       "      <td>United Kingdom</td>\n",
       "      <td>NaN</td>\n",
       "      <td>51.6</td>\n",
       "      <td>-0.2</td>\n",
       "      <td>female</td>\n",
       "      <td>26.0</td>\n",
       "      <td>166.0</td>\n",
       "      <td>60.0</td>\n",
       "      <td>21.77</td>\n",
       "      <td>Omnivore</td>\n",
       "      <td>I do not have this condition</td>\n",
       "      <td>No</td>\n",
       "    </tr>\n",
       "    <tr>\n",
       "      <th>4</th>\n",
       "      <td>ERR5327284</td>\n",
       "      <td>United Kingdom</td>\n",
       "      <td>NaN</td>\n",
       "      <td>51.5</td>\n",
       "      <td>-0.2</td>\n",
       "      <td>female</td>\n",
       "      <td>25.0</td>\n",
       "      <td>173.0</td>\n",
       "      <td>59.0</td>\n",
       "      <td>20.01</td>\n",
       "      <td>Vegetarian but eat seafood</td>\n",
       "      <td>I do not have this condition</td>\n",
       "      <td>No</td>\n",
       "    </tr>\n",
       "  </tbody>\n",
       "</table>\n",
       "</div>"
      ],
      "text/plain": [
       "           ID  country_sample state_sample  latitude_sample  longitude_sample  \\\n",
       "0  ERR5327198             USA           TN             36.1             -86.8   \n",
       "1  ERR5327199             USA           DC             38.9             -77.1   \n",
       "2  ERR5327266             USA           VA             38.9             -77.1   \n",
       "3  ERR5327282  United Kingdom          NaN             51.6              -0.2   \n",
       "4  ERR5327284  United Kingdom          NaN             51.5              -0.2   \n",
       "\n",
       "  sex_sample  age_years_sample  height_cm_sample  weight_kg_sample  \\\n",
       "0     female              67.0             152.0              41.0   \n",
       "1       male              55.0             182.0              79.0   \n",
       "2     female              28.0             175.0              61.0   \n",
       "3     female              26.0             166.0              60.0   \n",
       "4     female              25.0             173.0              59.0   \n",
       "\n",
       "   bmi_sample            diet_type_sample                    ibd_sample  \\\n",
       "0       17.75                    Omnivore  I do not have this condition   \n",
       "1       23.73                    Omnivore  I do not have this condition   \n",
       "2       19.94                    Omnivore  I do not have this condition   \n",
       "3       21.77                    Omnivore  I do not have this condition   \n",
       "4       20.01  Vegetarian but eat seafood  I do not have this condition   \n",
       "\n",
       "                                       gluten_sample  \n",
       "0                                                 No  \n",
       "1  I was diagnosed with gluten allergy (anti-glut...  \n",
       "2   I do not eat gluten because it makes me feel bad  \n",
       "3                                                 No  \n",
       "4                                                 No  "
      ]
     },
     "execution_count": 19,
     "metadata": {},
     "output_type": "execute_result"
    }
   ],
   "source": [
    "sample_metadata = pd.read_csv(f\"{data_dir}/fungut_metadata.tsv\", sep=\"\\t\", na_values=[\"Not provided\"])\n",
    "sample_metadata.head()"
   ]
  },
  {
   "cell_type": "code",
   "execution_count": 17,
   "id": "b230ad48-507c-45e5-b03f-9b30a19d950a",
   "metadata": {
    "tags": []
   },
   "outputs": [
    {
     "data": {
      "text/plain": [
       "ID                   object\n",
       "country_sample       object\n",
       "state_sample         object\n",
       "latitude_sample     float64\n",
       "longitude_sample    float64\n",
       "sex_sample           object\n",
       "age_years_sample    float64\n",
       "height_cm_sample    float64\n",
       "weight_kg_sample    float64\n",
       "bmi_sample          float64\n",
       "diet_type_sample     object\n",
       "ibd_sample           object\n",
       "gluten_sample        object\n",
       "dtype: object"
      ]
     },
     "execution_count": 17,
     "metadata": {},
     "output_type": "execute_result"
    }
   ],
   "source": [
    "sample_metadata.dtypes"
   ]
  },
  {
   "cell_type": "markdown",
   "id": "9a61cf1f-c3b2-4c19-ab2a-30e1158362fb",
   "metadata": {},
   "source": [
    "## Sex ratio"
   ]
  },
  {
   "cell_type": "code",
   "execution_count": 31,
   "id": "f63a0cbe-5f46-46da-9e01-7ce43738d5d9",
   "metadata": {},
   "outputs": [
    {
     "data": {
      "image/png": "[encoded data removed]",
      "text/plain": [
       "<Figure size 640x480 with 1 Axes>"
      ]
     },
     "metadata": {},
     "output_type": "display_data"
    }
   ],
   "source": [
    "sns.countplot(data=sample_metadata, x='sex_sample', color=\"firebrick\", edgecolor=\"black\")\n",
    "plt.xlabel('Sex')\n",
    "plt.ylabel('Number of Samples')\n",
    "plt.title('Number of samples per sex category')\n",
    "plt.show()"
   ]
  },
  {
   "cell_type": "markdown",
   "id": "915e5567-29fb-4a2a-9489-161819152cb0",
   "metadata": {},
   "source": [
    "## Distribution of age and binning into age categories"
   ]
  },
  {
   "cell_type": "code",
   "execution_count": 32,
   "id": "c4948554-3a7c-4838-a55f-18ec273410ce",
   "metadata": {
    "tags": []
   },
   "outputs": [
    {
     "name": "stderr",
     "output_type": "stream",
     "text": [
      "/opt/conda/lib/python3.10/site-packages/seaborn/_oldcore.py:1119: FutureWarning: use_inf_as_na option is deprecated and will be removed in a future version. Convert inf values to NaN before operating instead.\n",
      "  with pd.option_context('mode.use_inf_as_na', True):\n"
     ]
    },
    {
     "data": {
      "image/png": "[encoded data removed]",
      "text/plain": [
       "<Figure size 640x480 with 1 Axes>"
      ]
     },
     "metadata": {},
     "output_type": "display_data"
    }
   ],
   "source": [
    "sns.histplot(data=sample_metadata, x=\"age_years_sample\", bins=20, color=\"firebrick\", edgecolor=\"black\")\n",
    "plt.xlabel(\"Age\")\n",
    "plt.ylabel(\"Frequency\")\n",
    "plt.title(\"Age Distribution\")\n",
    "plt.show()"
   ]
  },
  {
   "cell_type": "code",
   "execution_count": 35,
   "id": "8faf30cd-204b-4fb2-9ff5-a56b76340c82",
   "metadata": {
    "tags": []
   },
   "outputs": [
    {
     "name": "stdout",
     "output_type": "stream",
     "text": [
      "82.0\n",
      "2.0\n"
     ]
    }
   ],
   "source": [
    "print(sample_metadata[\"age_years_sample\"].max())\n",
    "print(sample_metadata[\"age_years_sample\"].min())"
   ]
  },
  {
   "cell_type": "code",
   "execution_count": 36,
   "id": "f96d12d5-2281-482a-83a9-643bd48d250b",
   "metadata": {
    "tags": []
   },
   "outputs": [
    {
     "data": {
      "text/plain": [
       "[2, 12, 22, 32, 42, 52, 62, 72, 82]"
      ]
     },
     "execution_count": 36,
     "metadata": {},
     "output_type": "execute_result"
    }
   ],
   "source": [
    "#Creating age bins\n",
    "bins_age = range(2, 92, 10)\n",
    "list(bins_age)"
   ]
  },
  {
   "cell_type": "code",
   "execution_count": 39,
   "id": "c6932563-d8b9-45f8-88a0-c3dd47ada0b9",
   "metadata": {
    "tags": []
   },
   "outputs": [
    {
     "data": {
      "text/plain": [
       "['2-12', '12-22', '22-32', '32-42', '42-52', '52-62', '62-72', '72-82']"
      ]
     },
     "execution_count": 39,
     "metadata": {},
     "output_type": "execute_result"
    }
   ],
   "source": [
    "#Creating labels for the bins\n",
    "labels_bins_age = [f\"{i}-{i+10}\" for i in range(2, 82, 10)]\n",
    "labels_bins_age"
   ]
  },
  {
   "cell_type": "code",
   "execution_count": 40,
   "id": "1ce3e563-55a2-4793-8d65-1af8832eddb0",
   "metadata": {
    "tags": []
   },
   "outputs": [],
   "source": [
    "#Distributing the ages of our sample metadata into the right bins in a new column\n",
    "sample_metadata[\"age_range\"] = pd.cut(\n",
    "    sample_metadata[\"age_years_sample\"],\n",
    "    bins=bins_age,\n",
    "    labels=labels_bins_age,\n",
    "    right=True,\n",
    "    include_lowest=True\n",
    ")"
   ]
  },
  {
   "cell_type": "code",
   "execution_count": 41,
   "id": "a9a31ea2-4ab5-4a6b-8562-8e79acae1280",
   "metadata": {
    "tags": []
   },
   "outputs": [
    {
     "data": {
      "text/html": [
       "<div>\n",
       "<style scoped>\n",
       "    .dataframe tbody tr th:only-of-type {\n",
       "        vertical-align: middle;\n",
       "    }\n",
       "\n",
       "    .dataframe tbody tr th {\n",
       "        vertical-align: top;\n",
       "    }\n",
       "\n",
       "    .dataframe thead th {\n",
       "        text-align: right;\n",
       "    }\n",
       "</style>\n",
       "<table border=\"1\" class=\"dataframe\">\n",
       "  <thead>\n",
       "    <tr style=\"text-align: right;\">\n",
       "      <th></th>\n",
       "      <th>ID</th>\n",
       "      <th>country_sample</th>\n",
       "      <th>state_sample</th>\n",
       "      <th>latitude_sample</th>\n",
       "      <th>longitude_sample</th>\n",
       "      <th>sex_sample</th>\n",
       "      <th>age_years_sample</th>\n",
       "      <th>height_cm_sample</th>\n",
       "      <th>weight_kg_sample</th>\n",
       "      <th>bmi_sample</th>\n",
       "      <th>diet_type_sample</th>\n",
       "      <th>ibd_sample</th>\n",
       "      <th>gluten_sample</th>\n",
       "      <th>age_range</th>\n",
       "    </tr>\n",
       "  </thead>\n",
       "  <tbody>\n",
       "    <tr>\n",
       "      <th>0</th>\n",
       "      <td>ERR5327198</td>\n",
       "      <td>USA</td>\n",
       "      <td>TN</td>\n",
       "      <td>36.1</td>\n",
       "      <td>-86.8</td>\n",
       "      <td>female</td>\n",
       "      <td>67.0</td>\n",
       "      <td>152.0</td>\n",
       "      <td>41.0</td>\n",
       "      <td>17.75</td>\n",
       "      <td>Omnivore</td>\n",
       "      <td>I do not have this condition</td>\n",
       "      <td>No</td>\n",
       "      <td>62-72</td>\n",
       "    </tr>\n",
       "  </tbody>\n",
       "</table>\n",
       "</div>"
      ],
      "text/plain": [
       "           ID country_sample state_sample  latitude_sample  longitude_sample  \\\n",
       "0  ERR5327198            USA           TN             36.1             -86.8   \n",
       "\n",
       "  sex_sample  age_years_sample  height_cm_sample  weight_kg_sample  \\\n",
       "0     female              67.0             152.0              41.0   \n",
       "\n",
       "   bmi_sample diet_type_sample                    ibd_sample gluten_sample  \\\n",
       "0       17.75         Omnivore  I do not have this condition            No   \n",
       "\n",
       "  age_range  \n",
       "0     62-72  "
      ]
     },
     "execution_count": 41,
     "metadata": {},
     "output_type": "execute_result"
    }
   ],
   "source": [
    "#Checking that the column appeared\n",
    "sample_metadata.head(n=1)"
   ]
  },
  {
   "cell_type": "code",
   "execution_count": 42,
   "id": "af74b181-6d40-4694-8965-12dc4226e5e0",
   "metadata": {
    "tags": []
   },
   "outputs": [
    {
     "name": "stderr",
     "output_type": "stream",
     "text": [
      "/opt/conda/lib/python3.10/site-packages/seaborn/categorical.py:641: FutureWarning: The default of observed=False is deprecated and will be changed to True in a future version of pandas. Pass observed=False to retain current behavior or observed=True to adopt the future default and silence this warning.\n",
      "  grouped_vals = vals.groupby(grouper)\n"
     ]
    },
    {
     "data": {
      "image/png": "[encoded data removed]",
      "text/plain": [
       "<Figure size 640x480 with 1 Axes>"
      ]
     },
     "metadata": {},
     "output_type": "display_data"
    }
   ],
   "source": [
    "sns.countplot(data=sample_metadata, x='age_range', order=labels_bins_age, color=\"firebrick\")\n",
    "plt.xlabel('Age Range')\n",
    "plt.ylabel('Number of Samples')\n",
    "plt.title('Number of Samples per Age Range')\n",
    "plt.show()"
   ]
  },
  {
   "cell_type": "markdown",
   "id": "b325b61f-b5d4-4a09-b02c-207c55380b2a",
   "metadata": {},
   "source": [
    "## Distribution of height and weight, binning of bmi indexes"
   ]
  },
  {
   "cell_type": "code",
   "execution_count": null,
   "id": "357164ad-27ed-4ad2-95a7-fffdd31b69b4",
   "metadata": {},
   "outputs": [],
   "source": []
  }
 ],
 "metadata": {
  "kernelspec": {
   "display_name": "QIIME 2",
   "language": "python",
   "name": "python3"
  },
  "language_info": {
   "codemirror_mode": {
    "name": "ipython",
    "version": 3
   },
   "file_extension": ".py",
   "mimetype": "text/x-python",
   "name": "python",
   "nbconvert_exporter": "python",
   "pygments_lexer": "ipython3",
   "version": "3.10.14"
  }
 },
 "nbformat": 4,
 "nbformat_minor": 5
}
