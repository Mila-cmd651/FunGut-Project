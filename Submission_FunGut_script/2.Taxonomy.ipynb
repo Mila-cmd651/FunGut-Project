{
 "cells": [
  {
   "cell_type": "code",
   "execution_count": 1,
   "id": "c6c38572-9225-4850-802d-1de7c2a63d42",
   "metadata": {
    "tags": []
   },
   "outputs": [],
   "source": [
    "# Location\n",
    "data_dir = \"Project_data/Taxonomy\""
   ]
  },
  {
   "cell_type": "code",
   "execution_count": null,
   "id": "8ca4c0bb-4362-4089-85e0-8086600f2f42",
   "metadata": {},
   "outputs": [],
   "source": []
  },
  {
   "cell_type": "code",
   "execution_count": null,
   "id": "0e13957c-fac6-4787-9145-c4d8bbba813a",
   "metadata": {},
   "outputs": [],
   "source": []
  }
 ],
 "metadata": {
  "kernelspec": {
   "display_name": "QIIME 2",
   "language": "python",
   "name": "python3"
  },
  "language_info": {
   "codemirror_mode": {
    "name": "ipython",
    "version": 3
   },
   "file_extension": ".py",
   "mimetype": "text/x-python",
   "name": "python",
   "nbconvert_exporter": "python",
   "pygments_lexer": "ipython3",
   "version": "3.10.14"
  }
 },
 "nbformat": 4,
 "nbformat_minor": 5
}
