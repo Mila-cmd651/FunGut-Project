{
 "cells": [
  {
   "cell_type": "markdown",
   "id": "466bdd71-27ac-496b-925b-f6e185e61da0",
   "metadata": {},
   "source": [
    "# 0 Setup"
   ]
  },
  {
   "cell_type": "code",
   "execution_count": 1,
   "id": "978853b0-02fc-4a97-b07a-bbf9dd06aab8",
   "metadata": {
    "tags": []
   },
   "outputs": [],
   "source": [
    "# importing all required packages at the start of the notebook\n",
    "import IPython\n",
    "import os\n",
    "import pandas as pd\n",
    "import qiime2 as q2\n",
    "from qiime2 import Visualization\n",
    "import matplotlib.pyplot as plt\n",
    "import numpy as np\n",
    "\n",
    "%matplotlib inline"
   ]
  },
  {
   "cell_type": "code",
   "execution_count": 2,
   "id": "6a5c69b1-c8d3-482a-af7d-04ee265507c2",
   "metadata": {
    "tags": []
   },
   "outputs": [
    {
     "data": {
      "text/plain": [
       "'/home/jovyan/assignments/FunGut-Project'"
      ]
     },
     "execution_count": 2,
     "metadata": {},
     "output_type": "execute_result"
    }
   ],
   "source": [
    "os.getcwd() #Get the working directory"
   ]
  },
  {
   "cell_type": "code",
   "execution_count": 3,
   "id": "7df0410c-3e05-4014-ad63-08a4170907a7",
   "metadata": {
    "tags": []
   },
   "outputs": [],
   "source": [
    "data_dir = \"project_data\" #Store the folder's path"
   ]
  },
  {
   "cell_type": "markdown",
   "id": "dab1c9af-03e1-4fe7-b97d-49d3a0322c14",
   "metadata": {},
   "source": [
    "# 1 Importing the data"
   ]
  },
  {
   "cell_type": "code",
   "execution_count": 7,
   "id": "994e9dcd-4424-4fdf-adef-932213706c7a",
   "metadata": {
    "tags": []
   },
   "outputs": [
    {
     "name": "stderr",
     "output_type": "stream",
     "text": [
      "File ‘project_data/fungut_forward_reads.qza’ already there; not retrieving.\n",
      "\n",
      "File ‘project_data/fungut_metadata.tsv’ already there; not retrieving.\n",
      "\n"
     ]
    }
   ],
   "source": [
    "%%bash -s $data_dir\n",
    "mkdir -p \"$1\"\n",
    "\n",
    "wget -nc --progress=dot:giga -P \"$1\" https://polybox.ethz.ch/index.php/s/uV06vmm96ZzB5eM/download/fungut_forward_reads.qza\n",
    "wget -nc --progress=dot:giga -P \"$1\" https://polybox.ethz.ch/index.php/s/CA76kKFC9FApqpR/download/fungut_metadata.tsv\n",
    "\n",
    "chmod -R +rxw \"$1\""
   ]
  },
  {
   "cell_type": "code",
   "execution_count": 9,
   "id": "736be89f-0d51-4aef-be4e-4629b1c41509",
   "metadata": {
    "tags": []
   },
   "outputs": [
    {
     "name": "stdout",
     "output_type": "stream",
     "text": [
      "File exists? True True\n"
     ]
    }
   ],
   "source": [
    "# To check that our files are in the right place:\n",
    "qza_file = f\"{data_dir}/fungut_forward_reads.qza\" #Store the sequences file\n",
    "tsv_file = f\"{data_dir}/fungut_metadata.tsv\" #Store the sample metadata file\n",
    "print(\"File exists?\", os.path.exists(qza_file), os.path.exists(tsv_file))"
   ]
  },
  {
   "cell_type": "markdown",
   "id": "313893d4-1b64-4e17-a4fe-1504efe06465",
   "metadata": {},
   "source": [
    "# 2 Feature table construction"
   ]
  },
  {
   "cell_type": "markdown",
   "id": "663f601a-811f-44de-9189-1e3d6ec05591",
   "metadata": {},
   "source": [
    "## 2.1 First overview of our sample and quality score assessment "
   ]
  },
  {
   "cell_type": "code",
   "execution_count": 12,
   "id": "048edf79-8a4d-456d-93db-4eb7ba3a93fd",
   "metadata": {
    "tags": []
   },
   "outputs": [
    {
     "name": "stdout",
     "output_type": "stream",
     "text": [
      "/opt/conda/lib/python3.10/site-packages/unifrac/__init__.py:9: UserWarning: pkg_resources is deprecated as an API. See https://setuptools.pypa.io/en/latest/pkg_resources.html. The pkg_resources package is slated for removal as early as 2025-11-30. Refrain from using this package or pin to Setuptools<81.\n",
      "  import pkg_resources\n",
      "\u001b[32mSaved Visualization to: project_data/demux-summary.qzv\u001b[0m\n",
      "\u001b[0m\u001b[?25h"
     ]
    }
   ],
   "source": [
    "!qiime demux summarize \\\n",
    "  --i-data $data_dir/fungut_forward_reads.qza \\\n",
    "  --o-visualization $data_dir/demux-summary.qzv"
   ]
  },
  {
   "cell_type": "code",
   "execution_count": 5,
   "id": "2d0e5dc3-bc0a-467c-b9ed-a115891766ac",
   "metadata": {
    "tags": []
   },
   "outputs": [
    {
     "data": {
      "text/html": [
       "<div><img onload=\"(function(div, url){\n",
       "if (typeof require !== 'undefined') {\n",
       "    var baseURL = require.toUrl('').split('/').slice(0, -2).join('/');\n",
       "} else {\n",
       "    var baseURL = JSON.parse(\n",
       "        document.getElementById('jupyter-config-data').innerHTML\n",
       "    ).baseUrl.slice(0, -1);\n",
       "}\n",
       "url = baseURL + url;\n",
       "fetch(url).then(function(res) {\n",
       "    if (res.status === 404) {\n",
       "        div.innerHTML = 'Install QIIME 2 Jupyter extension with:<br />' +\n",
       "                        '<code>jupyter server extension enable --py qiime2' +\n",
       "                        ' --sys-prefix</code><br />then restart your server.' +\n",
       "                        '<br /><br />(Interactive output not available on ' +\n",
       "                        'static notebook viewer services like nbviewer.)';\n",
       "    } else if (res.status === 409) {\n",
       "        div.innerHTML = 'Visualization no longer in scope. Re-run this cell' +\n",
       "                        ' to see the visualization.';\n",
       "    } else if (res.ok) {\n",
       "        url = res.url;\n",
       "        div.innerHTML = '<iframe src=\\'' + url + '\\' style=\\'' +\n",
       "                        'width: 100%; height: 700px; border: 0;\\'>' +\n",
       "                        '</iframe><hr />Open in a: <a href=\\'' + url + '\\'' +\n",
       "                        ' target=\\'_blank\\'>new window</a>'\n",
       "    } else {\n",
       "        div.innerHTML = 'Something has gone wrong. Check notebook server for' +\n",
       "                        ' errors.';\n",
       "    }\n",
       "});\n",
       "})(this.parentElement, '/qiime2/redirect?location=/tmp/qiime2/jovyan/data/e1dc45d5-1a96-457c-a372-eda44cd9f4dd')\" src=\"data:image/gif;base64,R0lGODlhAQABAIAAAP///wAAACH5BAEAAAAALAAAAAABAAEAAAICRAEAOw==\" /></div>"
      ],
      "text/plain": [
       "<visualization: Visualization uuid: e1dc45d5-1a96-457c-a372-eda44cd9f4dd>"
      ]
     },
     "execution_count": 5,
     "metadata": {},
     "output_type": "execute_result"
    }
   ],
   "source": [
    "Visualization.load(f\"{data_dir}/demux-summary.qzv\")"
   ]
  },
  {
   "cell_type": "markdown",
   "id": "f5570e08-5126-4084-8a53-b265b1e3d1c9",
   "metadata": {},
   "source": [
    "The mean length of our reads is 151 nts. We can see that the quality of our reads stays quite high, even at the end of the sequences (mean quality score ~38 at the position 151)."
   ]
  },
  {
   "cell_type": "code",
   "execution_count": 10,
   "id": "743cc555-fb39-4b31-b344-d2de157bc064",
   "metadata": {
    "tags": []
   },
   "outputs": [
    {
     "name": "stdout",
     "output_type": "stream",
     "text": [
      "/opt/conda/lib/python3.10/site-packages/unifrac/__init__.py:9: UserWarning: pkg_resources is deprecated as an API. See https://setuptools.pypa.io/en/latest/pkg_resources.html. The pkg_resources package is slated for removal as early as 2025-11-30. Refrain from using this package or pin to Setuptools<81.\n",
      "  import pkg_resources\n",
      "\u001b[32mSaved SampleData[SequencesWithQuality] to: project_data/fungut_forward_reads_trimmed.qza\u001b[0m\n",
      "\u001b[0m\u001b[?25h"
     ]
    }
   ],
   "source": [
    "!qiime cutadapt trim-single \\\n",
    "  --i-demultiplexed-sequences $data_dir/fungut_forward_reads.qza \\\n",
    "  --p-front \"CTTGGTCATTTAGAGGAAGTAA\" \\\n",
    "  --p-adapter \"GCATCGATGAAGAACGCAGC\" \\\n",
    "  --p-error-rate 0.1 \\\n",
    "  --p-minimum-length 50 \\\n",
    "  --o-trimmed-sequences $data_dir/fungut_forward_reads_trimmed.qza"
   ]
  },
  {
   "cell_type": "code",
   "execution_count": 12,
   "id": "42023d56-9037-4ed9-b169-d4f0e452eeed",
   "metadata": {
    "collapsed": true,
    "jupyter": {
     "outputs_hidden": true,
     "source_hidden": true
    },
    "tags": []
   },
   "outputs": [
    {
     "name": "stdout",
     "output_type": "stream",
     "text": [
      "/opt/conda/lib/python3.10/site-packages/unifrac/__init__.py:9: UserWarning: pkg_resources is deprecated as an API. See https://setuptools.pypa.io/en/latest/pkg_resources.html. The pkg_resources package is slated for removal as early as 2025-11-30. Refrain from using this package or pin to Setuptools<81.\n",
      "  import pkg_resources\n",
      "\u001b[32mSaved Visualization to: project_data/demux-summary_trimmed.qzv\u001b[0m\n",
      "\u001b[0m\u001b[?25h"
     ]
    }
   ],
   "source": [
    "!qiime demux summarize \\\n",
    "  --i-data $data_dir/fungut_forward_reads_trimmed.qza \\\n",
    "  --o-visualization $data_dir/demux-summary_trimmed.qzv"
   ]
  },
  {
   "cell_type": "code",
   "execution_count": 4,
   "id": "b124b5f8-4d12-4942-a4e4-af21623b41e6",
   "metadata": {
    "tags": []
   },
   "outputs": [
    {
     "data": {
      "text/html": [
       "<div><img onload=\"(function(div, url){\n",
       "if (typeof require !== 'undefined') {\n",
       "    var baseURL = require.toUrl('').split('/').slice(0, -2).join('/');\n",
       "} else {\n",
       "    var baseURL = JSON.parse(\n",
       "        document.getElementById('jupyter-config-data').innerHTML\n",
       "    ).baseUrl.slice(0, -1);\n",
       "}\n",
       "url = baseURL + url;\n",
       "fetch(url).then(function(res) {\n",
       "    if (res.status === 404) {\n",
       "        div.innerHTML = 'Install QIIME 2 Jupyter extension with:<br />' +\n",
       "                        '<code>jupyter server extension enable --py qiime2' +\n",
       "                        ' --sys-prefix</code><br />then restart your server.' +\n",
       "                        '<br /><br />(Interactive output not available on ' +\n",
       "                        'static notebook viewer services like nbviewer.)';\n",
       "    } else if (res.status === 409) {\n",
       "        div.innerHTML = 'Visualization no longer in scope. Re-run this cell' +\n",
       "                        ' to see the visualization.';\n",
       "    } else if (res.ok) {\n",
       "        url = res.url;\n",
       "        div.innerHTML = '<iframe src=\\'' + url + '\\' style=\\'' +\n",
       "                        'width: 100%; height: 700px; border: 0;\\'>' +\n",
       "                        '</iframe><hr />Open in a: <a href=\\'' + url + '\\'' +\n",
       "                        ' target=\\'_blank\\'>new window</a>'\n",
       "    } else {\n",
       "        div.innerHTML = 'Something has gone wrong. Check notebook server for' +\n",
       "                        ' errors.';\n",
       "    }\n",
       "});\n",
       "})(this.parentElement, '/qiime2/redirect?location=/tmp/qiime2/jovyan/data/37563b24-1abb-4588-90d0-04629b9f702f')\" src=\"data:image/gif;base64,R0lGODlhAQABAIAAAP///wAAACH5BAEAAAAALAAAAAABAAEAAAICRAEAOw==\" /></div>"
      ],
      "text/plain": [
       "<visualization: Visualization uuid: 37563b24-1abb-4588-90d0-04629b9f702f>"
      ]
     },
     "execution_count": 4,
     "metadata": {},
     "output_type": "execute_result"
    }
   ],
   "source": [
    "Visualization.load(f\"{data_dir}/demux-summary_trimmed.qzv\")"
   ]
  },
  {
   "cell_type": "markdown",
   "id": "d8edada2-fe3d-4c17-b742-6133feef582b",
   "metadata": {},
   "source": [
    "## 2.2 Denoizing and creation of ASVs"
   ]
  },
  {
   "cell_type": "code",
   "execution_count": 23,
   "id": "69086c4e-fcc8-478a-8023-fbe2b12c67a9",
   "metadata": {
    "tags": []
   },
   "outputs": [
    {
     "name": "stdout",
     "output_type": "stream",
     "text": [
      "/opt/conda/lib/python3.10/site-packages/unifrac/__init__.py:9: UserWarning: pkg_resources is deprecated as an API. See https://setuptools.pypa.io/en/latest/pkg_resources.html. The pkg_resources package is slated for removal as early as 2025-11-30. Refrain from using this package or pin to Setuptools<81.\n",
      "  import pkg_resources\n",
      "\u001b[32mSaved FeatureTable[Frequency] to: project_data/dada2_table_no_trunc.qza\u001b[0m\n",
      "\u001b[32mSaved FeatureData[Sequence] to: project_data/dada2_rep_set_no_trunc.qza\u001b[0m\n",
      "\u001b[32mSaved SampleData[DADA2Stats] to: project_data/dada2_stats_no_trunc.qza\u001b[0m\n",
      "\u001b[0m\u001b[?25h"
     ]
    }
   ],
   "source": [
    "! qiime dada2 denoise-single \\\n",
    "    --i-demultiplexed-seqs $data_dir/fungut_forward_reads.qza \\\n",
    "    --p-trunc-len 0 \\\n",
    "    --p-n-threads 3 \\\n",
    "    --p-max-ee 4 \\\n",
    "    --p-min-fold-parent-over-abundance 4 \\\n",
    "    --o-table $data_dir/dada2_table_no_trunc.qza \\\n",
    "    --o-representative-sequences $data_dir/dada2_rep_set_no_trunc.qza \\\n",
    "    --o-denoising-stats $data_dir/dada2_stats_no_trunc.qza"
   ]
  },
  {
   "cell_type": "code",
   "execution_count": 8,
   "id": "c7b8cfbb-6282-4b70-94c5-526fb75ec677",
   "metadata": {
    "tags": []
   },
   "outputs": [
    {
     "name": "stdout",
     "output_type": "stream",
     "text": [
      "/opt/conda/lib/python3.10/site-packages/unifrac/__init__.py:9: UserWarning: pkg_resources is deprecated as an API. See https://setuptools.pypa.io/en/latest/pkg_resources.html. The pkg_resources package is slated for removal as early as 2025-11-30. Refrain from using this package or pin to Setuptools<81.\n",
      "  import pkg_resources\n",
      "\u001b[32mSaved FeatureTable[Frequency] to: project_data/dada2_trimmed_table_no_trunc.qza\u001b[0m\n",
      "\u001b[32mSaved FeatureData[Sequence] to: project_data/dada2_trimmed_rep_set_no_trunc.qza\u001b[0m\n",
      "\u001b[32mSaved SampleData[DADA2Stats] to: project_data/dada2_trimmed_stats_no_trunc.qza\u001b[0m\n",
      "\u001b[0m\u001b[?25h"
     ]
    }
   ],
   "source": [
    "# Same thing but with trimmed\n",
    "\n",
    "! qiime dada2 denoise-single \\\n",
    "    --i-demultiplexed-seqs $data_dir/fungut_forward_reads_trimmed.qza \\\n",
    "    --p-trunc-len 0 \\\n",
    "    --p-n-threads 3 \\\n",
    "    --p-max-ee 4 \\\n",
    "    --p-min-fold-parent-over-abundance 4 \\\n",
    "    --o-table $data_dir/dada2_trimmed_table_no_trunc.qza \\\n",
    "    --o-representative-sequences $data_dir/dada2_trimmed_rep_set_no_trunc.qza \\\n",
    "    --o-denoising-stats $data_dir/dada2_trimmed_stats_no_trunc.qza"
   ]
  },
  {
   "cell_type": "markdown",
   "id": "531467c3-47c6-4dba-95cd-9532d1498ad5",
   "metadata": {},
   "source": [
    "First I tried to put 150 nts as trunc-len, but this disgarded too much sequences. I don't want to put the truncating lenght lower, because we will loose a lot of information on the sequences. As ITS have usually very different length, and that the mean quality of our reads was good, I want to keep all of them. However, after denoizing I want to do a step in order to remove the sequences that are too rare and the ones that come up in too few samples, in order to avoid too much noise in further downstream analysis:"
   ]
  },
  {
   "cell_type": "code",
   "execution_count": 24,
   "id": "7498f3d4-1ed2-4eab-a137-0180ef8115aa",
   "metadata": {
    "tags": []
   },
   "outputs": [
    {
     "name": "stdout",
     "output_type": "stream",
     "text": [
      "/opt/conda/lib/python3.10/site-packages/unifrac/__init__.py:9: UserWarning: pkg_resources is deprecated as an API. See https://setuptools.pypa.io/en/latest/pkg_resources.html. The pkg_resources package is slated for removal as early as 2025-11-30. Refrain from using this package or pin to Setuptools<81.\n",
      "  import pkg_resources\n",
      "\u001b[32mSaved FeatureTable[Frequency] to: project_data/dada2_table.qza\u001b[0m\n",
      "\u001b[0m\u001b[?25h"
     ]
    }
   ],
   "source": [
    "! qiime feature-table filter-features \\\n",
    "  --i-table $data_dir/dada2_table_no_trunc.qza \\\n",
    "  --p-min-frequency 5 \\\n",
    "  --p-min-samples 2 \\\n",
    "  --o-filtered-table $data_dir/dada2_table.qza"
   ]
  },
  {
   "cell_type": "code",
   "execution_count": 9,
   "id": "6977355c-071b-448e-82b3-e4e8e99d0c2e",
   "metadata": {
    "tags": []
   },
   "outputs": [
    {
     "name": "stdout",
     "output_type": "stream",
     "text": [
      "/opt/conda/lib/python3.10/site-packages/unifrac/__init__.py:9: UserWarning: pkg_resources is deprecated as an API. See https://setuptools.pypa.io/en/latest/pkg_resources.html. The pkg_resources package is slated for removal as early as 2025-11-30. Refrain from using this package or pin to Setuptools<81.\n",
      "  import pkg_resources\n",
      "\u001b[32mSaved FeatureTable[Frequency] to: project_data/dada2_trimmed_table.qza\u001b[0m\n",
      "\u001b[0m\u001b[?25h"
     ]
    }
   ],
   "source": [
    "# Same thing but with trimmed\n",
    "\n",
    "! qiime feature-table filter-features \\\n",
    "  --i-table $data_dir/dada2_trimmed_table_no_trunc.qza \\\n",
    "  --p-min-frequency 5 \\\n",
    "  --p-min-samples 2 \\\n",
    "  --o-filtered-table $data_dir/dada2_trimmed_table.qza"
   ]
  },
  {
   "cell_type": "markdown",
   "id": "a776a152-5011-4a04-b70c-ff4a08de612b",
   "metadata": {},
   "source": [
    "Now we have filtered all features that have a frequencies smaller than 10% across all samples, as well as features present in only one sample. Now that it's done, I will update the list of sequences so they match."
   ]
  },
  {
   "cell_type": "code",
   "execution_count": 25,
   "id": "b8816cfd-f88b-48e1-a681-a22cdd4077e7",
   "metadata": {
    "tags": []
   },
   "outputs": [
    {
     "name": "stdout",
     "output_type": "stream",
     "text": [
      "/opt/conda/lib/python3.10/site-packages/unifrac/__init__.py:9: UserWarning: pkg_resources is deprecated as an API. See https://setuptools.pypa.io/en/latest/pkg_resources.html. The pkg_resources package is slated for removal as early as 2025-11-30. Refrain from using this package or pin to Setuptools<81.\n",
      "  import pkg_resources\n",
      "\u001b[32mSaved FeatureData[Sequence] to: project_data/dada2_rep_set.qza\u001b[0m\n",
      "\u001b[0m\u001b[?25h"
     ]
    }
   ],
   "source": [
    "! qiime feature-table filter-seqs \\\n",
    "  --i-data $data_dir/dada2_rep_set_no_trunc.qza \\\n",
    "  --i-table $data_dir/dada2_table.qza \\\n",
    "  --o-filtered-data $data_dir/dada2_rep_set.qza"
   ]
  },
  {
   "cell_type": "code",
   "execution_count": 12,
   "id": "74711779-e1f2-4732-bc04-e9f7a952b9d1",
   "metadata": {
    "tags": []
   },
   "outputs": [
    {
     "name": "stdout",
     "output_type": "stream",
     "text": [
      "/opt/conda/lib/python3.10/site-packages/unifrac/__init__.py:9: UserWarning: pkg_resources is deprecated as an API. See https://setuptools.pypa.io/en/latest/pkg_resources.html. The pkg_resources package is slated for removal as early as 2025-11-30. Refrain from using this package or pin to Setuptools<81.\n",
      "  import pkg_resources\n",
      "\u001b[32mSaved FeatureData[Sequence] to: project_data/dada2_trimmed_rep_set.qza\u001b[0m\n",
      "\u001b[0m\u001b[?25h"
     ]
    }
   ],
   "source": [
    "# Same thing but with trimmed\n",
    "\n",
    "! qiime feature-table filter-seqs \\\n",
    "  --i-data $data_dir/dada2_trimmed_rep_set_no_trunc.qza \\\n",
    "  --i-table $data_dir/dada2_trimmed_table.qza \\\n",
    "  --o-filtered-data $data_dir/dada2_trimmed_rep_set.qza"
   ]
  },
  {
   "cell_type": "markdown",
   "id": "63e4ee8c-9ac7-491f-a6c6-3e0028a8483a",
   "metadata": {},
   "source": [
    "Now that our denoizing and filtering is done, we can look at what the result it. Let's start with the denoizing statistics (so here nothing is filtered yet):"
   ]
  },
  {
   "cell_type": "code",
   "execution_count": 26,
   "id": "acf6535b-c332-4909-8832-69dc412249bb",
   "metadata": {
    "tags": []
   },
   "outputs": [
    {
     "name": "stdout",
     "output_type": "stream",
     "text": [
      "/opt/conda/lib/python3.10/site-packages/unifrac/__init__.py:9: UserWarning: pkg_resources is deprecated as an API. See https://setuptools.pypa.io/en/latest/pkg_resources.html. The pkg_resources package is slated for removal as early as 2025-11-30. Refrain from using this package or pin to Setuptools<81.\n",
      "  import pkg_resources\n",
      "\u001b[32mSaved Visualization to: project_data/dada2_stats_no_trunc.qzv\u001b[0m\n",
      "\u001b[0m\u001b[?25h"
     ]
    }
   ],
   "source": [
    "! qiime metadata tabulate \\\n",
    "    --m-input-file $data_dir/dada2_stats_no_trunc.qza \\\n",
    "    --o-visualization $data_dir/dada2_stats_no_trunc.qzv"
   ]
  },
  {
   "cell_type": "code",
   "execution_count": 6,
   "id": "bf866fd0-6f62-45b5-9448-19b5e2c241d5",
   "metadata": {
    "tags": []
   },
   "outputs": [
    {
     "data": {
      "text/html": [
       "<div><img onload=\"(function(div, url){\n",
       "if (typeof require !== 'undefined') {\n",
       "    var baseURL = require.toUrl('').split('/').slice(0, -2).join('/');\n",
       "} else {\n",
       "    var baseURL = JSON.parse(\n",
       "        document.getElementById('jupyter-config-data').innerHTML\n",
       "    ).baseUrl.slice(0, -1);\n",
       "}\n",
       "url = baseURL + url;\n",
       "fetch(url).then(function(res) {\n",
       "    if (res.status === 404) {\n",
       "        div.innerHTML = 'Install QIIME 2 Jupyter extension with:<br />' +\n",
       "                        '<code>jupyter server extension enable --py qiime2' +\n",
       "                        ' --sys-prefix</code><br />then restart your server.' +\n",
       "                        '<br /><br />(Interactive output not available on ' +\n",
       "                        'static notebook viewer services like nbviewer.)';\n",
       "    } else if (res.status === 409) {\n",
       "        div.innerHTML = 'Visualization no longer in scope. Re-run this cell' +\n",
       "                        ' to see the visualization.';\n",
       "    } else if (res.ok) {\n",
       "        url = res.url;\n",
       "        div.innerHTML = '<iframe src=\\'' + url + '\\' style=\\'' +\n",
       "                        'width: 100%; height: 700px; border: 0;\\'>' +\n",
       "                        '</iframe><hr />Open in a: <a href=\\'' + url + '\\'' +\n",
       "                        ' target=\\'_blank\\'>new window</a>'\n",
       "    } else {\n",
       "        div.innerHTML = 'Something has gone wrong. Check notebook server for' +\n",
       "                        ' errors.';\n",
       "    }\n",
       "});\n",
       "})(this.parentElement, '/qiime2/redirect?location=/tmp/qiime2/jovyan/data/ef3b1e72-96b7-46b3-82e5-2fd959e09d0a')\" src=\"data:image/gif;base64,R0lGODlhAQABAIAAAP///wAAACH5BAEAAAAALAAAAAABAAEAAAICRAEAOw==\" /></div>"
      ],
      "text/plain": [
       "<visualization: Visualization uuid: ef3b1e72-96b7-46b3-82e5-2fd959e09d0a>"
      ]
     },
     "execution_count": 6,
     "metadata": {},
     "output_type": "execute_result"
    }
   ],
   "source": [
    "Visualization.load(f\"{data_dir}/dada2_stats_no_trunc.qzv\")"
   ]
  },
  {
   "cell_type": "markdown",
   "id": "38e408c2-cea9-4aae-a8e4-60a80d4a2cd3",
   "metadata": {},
   "source": [
    "Eyeballing it the statistics look good, we don't loose to many sequences.\n",
    "\n",
    "Now we are going to visualize the sequences:"
   ]
  },
  {
   "cell_type": "code",
   "execution_count": 28,
   "id": "dd29c438-54d4-451e-93da-841e47bbea94",
   "metadata": {
    "tags": []
   },
   "outputs": [
    {
     "name": "stdout",
     "output_type": "stream",
     "text": [
      "/opt/conda/lib/python3.10/site-packages/unifrac/__init__.py:9: UserWarning: pkg_resources is deprecated as an API. See https://setuptools.pypa.io/en/latest/pkg_resources.html. The pkg_resources package is slated for removal as early as 2025-11-30. Refrain from using this package or pin to Setuptools<81.\n",
      "  import pkg_resources\n",
      "\u001b[32mSaved Visualization to: project_data/dada2_rep_set.qzv\u001b[0m\n",
      "\u001b[0m\u001b[?25h"
     ]
    }
   ],
   "source": [
    "! qiime feature-table tabulate-seqs \\\n",
    "    --i-data $data_dir/dada2_rep_set.qza \\\n",
    "    --o-visualization $data_dir/dada2_rep_set.qzv"
   ]
  },
  {
   "cell_type": "code",
   "execution_count": 13,
   "id": "a109de02-3d68-463d-af7f-c48eb915e995",
   "metadata": {
    "tags": []
   },
   "outputs": [
    {
     "name": "stdout",
     "output_type": "stream",
     "text": [
      "/opt/conda/lib/python3.10/site-packages/unifrac/__init__.py:9: UserWarning: pkg_resources is deprecated as an API. See https://setuptools.pypa.io/en/latest/pkg_resources.html. The pkg_resources package is slated for removal as early as 2025-11-30. Refrain from using this package or pin to Setuptools<81.\n",
      "  import pkg_resources\n",
      "\u001b[32mSaved Visualization to: project_data/dada2_trimmed_rep_set.qzv\u001b[0m\n",
      "\u001b[0m\u001b[?25h"
     ]
    }
   ],
   "source": [
    "# Same but with trimmed\n",
    "\n",
    "! qiime feature-table tabulate-seqs \\\n",
    "    --i-data $data_dir/dada2_trimmed_rep_set.qza \\\n",
    "    --o-visualization $data_dir/dada2_trimmed_rep_set.qzv"
   ]
  },
  {
   "cell_type": "code",
   "execution_count": 7,
   "id": "35e0192c-3e33-480b-8456-d4b28eb0c32a",
   "metadata": {
    "tags": []
   },
   "outputs": [
    {
     "data": {
      "text/html": [
       "<div><img onload=\"(function(div, url){\n",
       "if (typeof require !== 'undefined') {\n",
       "    var baseURL = require.toUrl('').split('/').slice(0, -2).join('/');\n",
       "} else {\n",
       "    var baseURL = JSON.parse(\n",
       "        document.getElementById('jupyter-config-data').innerHTML\n",
       "    ).baseUrl.slice(0, -1);\n",
       "}\n",
       "url = baseURL + url;\n",
       "fetch(url).then(function(res) {\n",
       "    if (res.status === 404) {\n",
       "        div.innerHTML = 'Install QIIME 2 Jupyter extension with:<br />' +\n",
       "                        '<code>jupyter server extension enable --py qiime2' +\n",
       "                        ' --sys-prefix</code><br />then restart your server.' +\n",
       "                        '<br /><br />(Interactive output not available on ' +\n",
       "                        'static notebook viewer services like nbviewer.)';\n",
       "    } else if (res.status === 409) {\n",
       "        div.innerHTML = 'Visualization no longer in scope. Re-run this cell' +\n",
       "                        ' to see the visualization.';\n",
       "    } else if (res.ok) {\n",
       "        url = res.url;\n",
       "        div.innerHTML = '<iframe src=\\'' + url + '\\' style=\\'' +\n",
       "                        'width: 100%; height: 700px; border: 0;\\'>' +\n",
       "                        '</iframe><hr />Open in a: <a href=\\'' + url + '\\'' +\n",
       "                        ' target=\\'_blank\\'>new window</a>'\n",
       "    } else {\n",
       "        div.innerHTML = 'Something has gone wrong. Check notebook server for' +\n",
       "                        ' errors.';\n",
       "    }\n",
       "});\n",
       "})(this.parentElement, '/qiime2/redirect?location=/tmp/qiime2/jovyan/data/7e308edc-ffc7-4599-991d-e0fed6d52d3f')\" src=\"data:image/gif;base64,R0lGODlhAQABAIAAAP///wAAACH5BAEAAAAALAAAAAABAAEAAAICRAEAOw==\" /></div>"
      ],
      "text/plain": [
       "<visualization: Visualization uuid: 7e308edc-ffc7-4599-991d-e0fed6d52d3f>"
      ]
     },
     "execution_count": 7,
     "metadata": {},
     "output_type": "execute_result"
    }
   ],
   "source": [
    "Visualization.load(f\"{data_dir}/dada2_rep_set.qzv\")"
   ]
  },
  {
   "cell_type": "code",
   "execution_count": 14,
   "id": "f60a60b5-4e7d-4b55-a69a-eec31e252e69",
   "metadata": {
    "tags": []
   },
   "outputs": [
    {
     "data": {
      "text/html": [
       "<div><img onload=\"(function(div, url){\n",
       "if (typeof require !== 'undefined') {\n",
       "    var baseURL = require.toUrl('').split('/').slice(0, -2).join('/');\n",
       "} else {\n",
       "    var baseURL = JSON.parse(\n",
       "        document.getElementById('jupyter-config-data').innerHTML\n",
       "    ).baseUrl.slice(0, -1);\n",
       "}\n",
       "url = baseURL + url;\n",
       "fetch(url).then(function(res) {\n",
       "    if (res.status === 404) {\n",
       "        div.innerHTML = 'Install QIIME 2 Jupyter extension with:<br />' +\n",
       "                        '<code>jupyter server extension enable --py qiime2' +\n",
       "                        ' --sys-prefix</code><br />then restart your server.' +\n",
       "                        '<br /><br />(Interactive output not available on ' +\n",
       "                        'static notebook viewer services like nbviewer.)';\n",
       "    } else if (res.status === 409) {\n",
       "        div.innerHTML = 'Visualization no longer in scope. Re-run this cell' +\n",
       "                        ' to see the visualization.';\n",
       "    } else if (res.ok) {\n",
       "        url = res.url;\n",
       "        div.innerHTML = '<iframe src=\\'' + url + '\\' style=\\'' +\n",
       "                        'width: 100%; height: 700px; border: 0;\\'>' +\n",
       "                        '</iframe><hr />Open in a: <a href=\\'' + url + '\\'' +\n",
       "                        ' target=\\'_blank\\'>new window</a>'\n",
       "    } else {\n",
       "        div.innerHTML = 'Something has gone wrong. Check notebook server for' +\n",
       "                        ' errors.';\n",
       "    }\n",
       "});\n",
       "})(this.parentElement, '/qiime2/redirect?location=/tmp/qiime2/jovyan/data/301c0df3-ce3d-4aa1-8dfc-2fc8ab19915e')\" src=\"data:image/gif;base64,R0lGODlhAQABAIAAAP///wAAACH5BAEAAAAALAAAAAABAAEAAAICRAEAOw==\" /></div>"
      ],
      "text/plain": [
       "<visualization: Visualization uuid: 301c0df3-ce3d-4aa1-8dfc-2fc8ab19915e>"
      ]
     },
     "execution_count": 14,
     "metadata": {},
     "output_type": "execute_result"
    }
   ],
   "source": [
    "# Same but with trimmed\n",
    "\n",
    "Visualization.load(f\"{data_dir}/dada2_trimmed_rep_set.qzv\")"
   ]
  },
  {
   "cell_type": "markdown",
   "id": "3ef63ac6-95d4-46da-9730-c4a3495699b0",
   "metadata": {
    "tags": []
   },
   "source": [
    "We can see that we have 149 unique features (=ASVs) after filtering.\n",
    "\n",
    "Finally, we are going to create a feature table with the information of our sequences and the sample metadata:"
   ]
  },
  {
   "cell_type": "code",
   "execution_count": 33,
   "id": "a63fac1a-4316-4d88-8f93-cf64110027fb",
   "metadata": {
    "tags": []
   },
   "outputs": [
    {
     "name": "stdout",
     "output_type": "stream",
     "text": [
      "dada2_rep_set.qza           dada2_stats_no_trunc.qzv  \u001b[0m\u001b[01;32mfungut_forward_reads.qza\u001b[0m*\n",
      "dada2_rep_set.qzv           dada2_table.qza           \u001b[01;32mfungut_metadata.tsv\u001b[0m*\n",
      "dada2_rep_set_no_trunc.qza  dada2_table_no_trunc.qza\n",
      "dada2_stats_no_trunc.qza    \u001b[01;32mdemux-summary.qzv\u001b[0m*\n"
     ]
    }
   ],
   "source": [
    "ls project_data"
   ]
  },
  {
   "cell_type": "code",
   "execution_count": 34,
   "id": "2a7f5677-ae93-438c-b7a8-1866d3865228",
   "metadata": {
    "tags": []
   },
   "outputs": [
    {
     "name": "stdout",
     "output_type": "stream",
     "text": [
      "/opt/conda/lib/python3.10/site-packages/unifrac/__init__.py:9: UserWarning: pkg_resources is deprecated as an API. See https://setuptools.pypa.io/en/latest/pkg_resources.html. The pkg_resources package is slated for removal as early as 2025-11-30. Refrain from using this package or pin to Setuptools<81.\n",
      "  import pkg_resources\n",
      "\u001b[32mSaved Visualization to: project_data/dada2_table.qzv\u001b[0m\n",
      "\u001b[0m\u001b[?25h"
     ]
    }
   ],
   "source": [
    "! qiime feature-table summarize \\\n",
    "    --i-table $data_dir/dada2_table.qza \\\n",
    "    --m-sample-metadata-file $data_dir/fungut_metadata.tsv \\\n",
    "    --o-visualization $data_dir/dada2_table.qzv"
   ]
  },
  {
   "cell_type": "code",
   "execution_count": 15,
   "id": "d3adae65-0ffc-4da3-aee5-04f84f0dbe88",
   "metadata": {
    "tags": []
   },
   "outputs": [
    {
     "data": {
      "text/html": [
       "<div><img onload=\"(function(div, url){\n",
       "if (typeof require !== 'undefined') {\n",
       "    var baseURL = require.toUrl('').split('/').slice(0, -2).join('/');\n",
       "} else {\n",
       "    var baseURL = JSON.parse(\n",
       "        document.getElementById('jupyter-config-data').innerHTML\n",
       "    ).baseUrl.slice(0, -1);\n",
       "}\n",
       "url = baseURL + url;\n",
       "fetch(url).then(function(res) {\n",
       "    if (res.status === 404) {\n",
       "        div.innerHTML = 'Install QIIME 2 Jupyter extension with:<br />' +\n",
       "                        '<code>jupyter server extension enable --py qiime2' +\n",
       "                        ' --sys-prefix</code><br />then restart your server.' +\n",
       "                        '<br /><br />(Interactive output not available on ' +\n",
       "                        'static notebook viewer services like nbviewer.)';\n",
       "    } else if (res.status === 409) {\n",
       "        div.innerHTML = 'Visualization no longer in scope. Re-run this cell' +\n",
       "                        ' to see the visualization.';\n",
       "    } else if (res.ok) {\n",
       "        url = res.url;\n",
       "        div.innerHTML = '<iframe src=\\'' + url + '\\' style=\\'' +\n",
       "                        'width: 100%; height: 700px; border: 0;\\'>' +\n",
       "                        '</iframe><hr />Open in a: <a href=\\'' + url + '\\'' +\n",
       "                        ' target=\\'_blank\\'>new window</a>'\n",
       "    } else {\n",
       "        div.innerHTML = 'Something has gone wrong. Check notebook server for' +\n",
       "                        ' errors.';\n",
       "    }\n",
       "});\n",
       "})(this.parentElement, '/qiime2/redirect?location=/tmp/qiime2/jovyan/data/9951df15-db7f-42a8-9a9a-0426acab4455')\" src=\"data:image/gif;base64,R0lGODlhAQABAIAAAP///wAAACH5BAEAAAAALAAAAAABAAEAAAICRAEAOw==\" /></div>"
      ],
      "text/plain": [
       "<visualization: Visualization uuid: 9951df15-db7f-42a8-9a9a-0426acab4455>"
      ]
     },
     "execution_count": 15,
     "metadata": {},
     "output_type": "execute_result"
    }
   ],
   "source": [
    "Visualization.load(f\"{data_dir}/dada2_table.qzv\")"
   ]
  },
  {
   "cell_type": "markdown",
   "id": "59d634a6-bc87-4525-94bf-643be434aa24",
   "metadata": {},
   "source": [
    "Bonus: We can compare this table that we just made that contains the information of the filtered features (with >=10% of frequency and presence in >= 2 samples) with a table created with all the sequences prior to filtering:"
   ]
  },
  {
   "cell_type": "code",
   "execution_count": 38,
   "id": "8675e781-08a9-4566-b2ec-93506a813954",
   "metadata": {
    "tags": []
   },
   "outputs": [
    {
     "name": "stdout",
     "output_type": "stream",
     "text": [
      "/opt/conda/lib/python3.10/site-packages/unifrac/__init__.py:9: UserWarning: pkg_resources is deprecated as an API. See https://setuptools.pypa.io/en/latest/pkg_resources.html. The pkg_resources package is slated for removal as early as 2025-11-30. Refrain from using this package or pin to Setuptools<81.\n",
      "  import pkg_resources\n",
      "\u001b[32mSaved Visualization to: project_data/dada2_table_no_trunc.qzv\u001b[0m\n",
      "\u001b[0m\u001b[?25h"
     ]
    }
   ],
   "source": [
    "! qiime feature-table summarize \\\n",
    "    --i-table $data_dir/dada2_table_no_trunc.qza \\\n",
    "    --m-sample-metadata-file $data_dir/fungut_metadata.tsv \\\n",
    "    --o-visualization $data_dir/dada2_table_no_trunc.qzv"
   ]
  },
  {
   "cell_type": "code",
   "execution_count": 39,
   "id": "2d2744a8-11bf-48ca-a91c-010a72629b1a",
   "metadata": {
    "tags": []
   },
   "outputs": [
    {
     "data": {
      "text/html": [
       "<div><img onload=\"(function(div, url){\n",
       "if (typeof require !== 'undefined') {\n",
       "    var baseURL = require.toUrl('').split('/').slice(0, -2).join('/');\n",
       "} else {\n",
       "    var baseURL = JSON.parse(\n",
       "        document.getElementById('jupyter-config-data').innerHTML\n",
       "    ).baseUrl.slice(0, -1);\n",
       "}\n",
       "url = baseURL + url;\n",
       "fetch(url).then(function(res) {\n",
       "    if (res.status === 404) {\n",
       "        div.innerHTML = 'Install QIIME 2 Jupyter extension with:<br />' +\n",
       "                        '<code>jupyter server extension enable --py qiime2' +\n",
       "                        ' --sys-prefix</code><br />then restart your server.' +\n",
       "                        '<br /><br />(Interactive output not available on ' +\n",
       "                        'static notebook viewer services like nbviewer.)';\n",
       "    } else if (res.status === 409) {\n",
       "        div.innerHTML = 'Visualization no longer in scope. Re-run this cell' +\n",
       "                        ' to see the visualization.';\n",
       "    } else if (res.ok) {\n",
       "        url = res.url;\n",
       "        div.innerHTML = '<iframe src=\\'' + url + '\\' style=\\'' +\n",
       "                        'width: 100%; height: 700px; border: 0;\\'>' +\n",
       "                        '</iframe><hr />Open in a: <a href=\\'' + url + '\\'' +\n",
       "                        ' target=\\'_blank\\'>new window</a>'\n",
       "    } else {\n",
       "        div.innerHTML = 'Something has gone wrong. Check notebook server for' +\n",
       "                        ' errors.';\n",
       "    }\n",
       "});\n",
       "})(this.parentElement, '/qiime2/redirect?location=/tmp/qiime2/jovyan/data/5370332e-ceb1-4ad5-a087-691c38e7f87b')\" src=\"data:image/gif;base64,R0lGODlhAQABAIAAAP///wAAACH5BAEAAAAALAAAAAABAAEAAAICRAEAOw==\" /></div>"
      ],
      "text/plain": [
       "<visualization: Visualization uuid: 5370332e-ceb1-4ad5-a087-691c38e7f87b>"
      ]
     },
     "execution_count": 39,
     "metadata": {},
     "output_type": "execute_result"
    }
   ],
   "source": [
    "Visualization.load(f\"{data_dir}/dada2_table_no_trunc.qzv\")"
   ]
  },
  {
   "cell_type": "markdown",
   "id": "e9b646f4-3e43-4495-9321-18e66ccec6e1",
   "metadata": {},
   "source": [
    "Thing is that with my filter I did remove a lot of special features that seemed either to appear in only one sample, or to be at a less than 10% frequency. I don't know how to decide if that's good or not."
   ]
  }
 ],
 "metadata": {
  "kernelspec": {
   "display_name": "QIIME 2",
   "language": "python",
   "name": "python3"
  },
  "language_info": {
   "codemirror_mode": {
    "name": "ipython",
    "version": 3
   },
   "file_extension": ".py",
   "mimetype": "text/x-python",
   "name": "python",
   "nbconvert_exporter": "python",
   "pygments_lexer": "ipython3",
   "version": "3.10.14"
  }
 },
 "nbformat": 4,
 "nbformat_minor": 5
}
