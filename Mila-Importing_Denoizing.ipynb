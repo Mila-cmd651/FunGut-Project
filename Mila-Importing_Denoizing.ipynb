{
 "cells": [
  {
   "cell_type": "markdown",
   "id": "466bdd71-27ac-496b-925b-f6e185e61da0",
   "metadata": {},
   "source": [
    "# 0 Setup"
   ]
  },
  {
   "cell_type": "code",
   "execution_count": 1,
   "id": "978853b0-02fc-4a97-b07a-bbf9dd06aab8",
   "metadata": {
    "tags": []
   },
   "outputs": [],
   "source": [
    "# Importing all required packages at the start of the notebook\n",
    "import IPython\n",
    "\n",
    "from qiime2 import Visualization\n",
    "\n",
    "import qiime2 as q2\n",
    "import pandas as pd\n",
    "import matplotlib.pyplot as plt\n",
    "\n",
    "%matplotlib inline"
   ]
  },
  {
   "cell_type": "code",
   "execution_count": 2,
   "id": "7df0410c-3e05-4014-ad63-08a4170907a7",
   "metadata": {
    "tags": []
   },
   "outputs": [],
   "source": [
    "data_dir = \"project_data\" #Store the folder's path"
   ]
  },
  {
   "cell_type": "markdown",
   "id": "dab1c9af-03e1-4fe7-b97d-49d3a0322c14",
   "metadata": {},
   "source": [
    "# 1 Importing the data"
   ]
  },
  {
   "cell_type": "code",
   "execution_count": 3,
   "id": "994e9dcd-4424-4fdf-adef-932213706c7a",
   "metadata": {
    "tags": []
   },
   "outputs": [
    {
     "name": "stderr",
     "output_type": "stream",
     "text": [
      "File ‘project_data/fungut_forward_reads.qza’ already there; not retrieving.\n",
      "\n",
      "File ‘project_data/fungut_metadata.tsv’ already there; not retrieving.\n",
      "\n"
     ]
    }
   ],
   "source": [
    "%%bash -s $data_dir\n",
    "mkdir -p \"$1\"\n",
    "\n",
    "wget -nc --progress=dot:giga -P \"$1\" https://polybox.ethz.ch/index.php/s/uV06vmm96ZzB5eM/download/fungut_forward_reads.qza\n",
    "wget -nc --progress=dot:giga -P \"$1\" https://polybox.ethz.ch/index.php/s/CA76kKFC9FApqpR/download/fungut_metadata.tsv\n",
    "\n",
    "chmod -R +rxw \"$1\""
   ]
  },
  {
   "cell_type": "code",
   "execution_count": 9,
   "id": "736be89f-0d51-4aef-be4e-4629b1c41509",
   "metadata": {
    "tags": []
   },
   "outputs": [
    {
     "name": "stdout",
     "output_type": "stream",
     "text": [
      "File exists? True True\n"
     ]
    }
   ],
   "source": [
    "# To check that our files are in the right place:\n",
    "qza_file = f\"{data_dir}/fungut_forward_reads.qza\" #Store the sequences file\n",
    "tsv_file = f\"{data_dir}/fungut_metadata.tsv\" #Store the sample metadata file\n",
    "print(\"File exists?\", os.path.exists(qza_file), os.path.exists(tsv_file))"
   ]
  },
  {
   "cell_type": "markdown",
   "id": "313893d4-1b64-4e17-a4fe-1504efe06465",
   "metadata": {},
   "source": [
    "# 2 Feature table construction"
   ]
  },
  {
   "cell_type": "markdown",
   "id": "663f601a-811f-44de-9189-1e3d6ec05591",
   "metadata": {},
   "source": [
    "## 2.1 First overview of our sample and quality score assessment "
   ]
  },
  {
   "cell_type": "code",
   "execution_count": 4,
   "id": "048edf79-8a4d-456d-93db-4eb7ba3a93fd",
   "metadata": {
    "tags": []
   },
   "outputs": [
    {
     "name": "stdout",
     "output_type": "stream",
     "text": [
      "/opt/conda/lib/python3.10/site-packages/unifrac/__init__.py:9: UserWarning: pkg_resources is deprecated as an API. See https://setuptools.pypa.io/en/latest/pkg_resources.html. The pkg_resources package is slated for removal as early as 2025-11-30. Refrain from using this package or pin to Setuptools<81.\n",
      "  import pkg_resources\n",
      "\u001b[32mSaved Visualization to: project_data/fungut_forward_reads_demux_seqs.qzv\u001b[0m\n",
      "\u001b[0m\u001b[?25h"
     ]
    }
   ],
   "source": [
    "# Visual summary of the data\n",
    "! qiime demux summarize \\\n",
    "    --i-data $data_dir/fungut_forward_reads.qza \\\n",
    "    --o-visualization $data_dir/fungut_forward_reads_demux_seqs.qzv"
   ]
  },
  {
   "cell_type": "code",
   "execution_count": 5,
   "id": "2d0e5dc3-bc0a-467c-b9ed-a115891766ac",
   "metadata": {
    "tags": []
   },
   "outputs": [
    {
     "data": {
      "text/html": [
       "<div><img onload=\"(function(div, url){\n",
       "if (typeof require !== 'undefined') {\n",
       "    var baseURL = require.toUrl('').split('/').slice(0, -2).join('/');\n",
       "} else {\n",
       "    var baseURL = JSON.parse(\n",
       "        document.getElementById('jupyter-config-data').innerHTML\n",
       "    ).baseUrl.slice(0, -1);\n",
       "}\n",
       "url = baseURL + url;\n",
       "fetch(url).then(function(res) {\n",
       "    if (res.status === 404) {\n",
       "        div.innerHTML = 'Install QIIME 2 Jupyter extension with:<br />' +\n",
       "                        '<code>jupyter server extension enable --py qiime2' +\n",
       "                        ' --sys-prefix</code><br />then restart your server.' +\n",
       "                        '<br /><br />(Interactive output not available on ' +\n",
       "                        'static notebook viewer services like nbviewer.)';\n",
       "    } else if (res.status === 409) {\n",
       "        div.innerHTML = 'Visualization no longer in scope. Re-run this cell' +\n",
       "                        ' to see the visualization.';\n",
       "    } else if (res.ok) {\n",
       "        url = res.url;\n",
       "        div.innerHTML = '<iframe src=\\'' + url + '\\' style=\\'' +\n",
       "                        'width: 100%; height: 700px; border: 0;\\'>' +\n",
       "                        '</iframe><hr />Open in a: <a href=\\'' + url + '\\'' +\n",
       "                        ' target=\\'_blank\\'>new window</a>'\n",
       "    } else {\n",
       "        div.innerHTML = 'Something has gone wrong. Check notebook server for' +\n",
       "                        ' errors.';\n",
       "    }\n",
       "});\n",
       "})(this.parentElement, '/qiime2/redirect?location=/tmp/qiime2/jovyan/data/982abfbf-4d47-45b7-8012-20c466d46987')\" src=\"data:image/gif;base64,R0lGODlhAQABAIAAAP///wAAACH5BAEAAAAALAAAAAABAAEAAAICRAEAOw==\" /></div>"
      ],
      "text/plain": [
       "<visualization: Visualization uuid: 982abfbf-4d47-45b7-8012-20c466d46987>"
      ]
     },
     "execution_count": 5,
     "metadata": {},
     "output_type": "execute_result"
    }
   ],
   "source": [
    "Visualization.load(f\"{data_dir}/fungut_forward_reads_demux_seqs.qzv\")"
   ]
  },
  {
   "cell_type": "markdown",
   "id": "d8edada2-fe3d-4c17-b742-6133feef582b",
   "metadata": {},
   "source": [
    "## 2.2 Denoizing and creation of ASVs"
   ]
  },
  {
   "cell_type": "code",
   "execution_count": 6,
   "id": "69086c4e-fcc8-478a-8023-fbe2b12c67a9",
   "metadata": {
    "tags": []
   },
   "outputs": [
    {
     "name": "stdout",
     "output_type": "stream",
     "text": [
      "/opt/conda/lib/python3.10/site-packages/unifrac/__init__.py:9: UserWarning: pkg_resources is deprecated as an API. See https://setuptools.pypa.io/en/latest/pkg_resources.html. The pkg_resources package is slated for removal as early as 2025-11-30. Refrain from using this package or pin to Setuptools<81.\n",
      "  import pkg_resources\n",
      "\u001b[32mSaved FeatureTable[Frequency] to: project_data/dada2_table.qza\u001b[0m\n",
      "\u001b[32mSaved FeatureData[Sequence] to: project_data/dada2_rep_set.qza\u001b[0m\n",
      "\u001b[32mSaved SampleData[DADA2Stats] to: project_data/dada2_stats.qza\u001b[0m\n",
      "\u001b[0m\u001b[?25h"
     ]
    }
   ],
   "source": [
    "! qiime dada2 denoise-single \\\n",
    "    --i-demultiplexed-seqs $data_dir/fungut_forward_reads.qza \\\n",
    "    --p-trunc-len 135 \\\n",
    "    --p-n-threads 3 \\\n",
    "    --p-max-ee 4 \\\n",
    "    --p-min-fold-parent-over-abundance 4 \\\n",
    "    --o-table $data_dir/dada2_table.qza \\\n",
    "    --o-representative-sequences $data_dir/dada2_rep_set.qza \\\n",
    "    --o-denoising-stats $data_dir/dada2_stats.qza"
   ]
  },
  {
   "cell_type": "code",
   "execution_count": 7,
   "id": "7e73fe16-58d2-4680-9fe5-777d64e8e918",
   "metadata": {
    "tags": []
   },
   "outputs": [
    {
     "name": "stdout",
     "output_type": "stream",
     "text": [
      "/opt/conda/lib/python3.10/site-packages/unifrac/__init__.py:9: UserWarning: pkg_resources is deprecated as an API. See https://setuptools.pypa.io/en/latest/pkg_resources.html. The pkg_resources package is slated for removal as early as 2025-11-30. Refrain from using this package or pin to Setuptools<81.\n",
      "  import pkg_resources\n",
      "\u001b[32mSaved Visualization to: project_data/dada2_stats.qzv\u001b[0m\n",
      "\u001b[0m\u001b[?25h/opt/conda/lib/python3.10/site-packages/unifrac/__init__.py:9: UserWarning: pkg_resources is deprecated as an API. See https://setuptools.pypa.io/en/latest/pkg_resources.html. The pkg_resources package is slated for removal as early as 2025-11-30. Refrain from using this package or pin to Setuptools<81.\n",
      "  import pkg_resources\n",
      "\u001b[32mSaved Visualization to: project_data/dada2_rep_set.qzv\u001b[0m\n",
      "\u001b[0m\u001b[?25h/opt/conda/lib/python3.10/site-packages/unifrac/__init__.py:9: UserWarning: pkg_resources is deprecated as an API. See https://setuptools.pypa.io/en/latest/pkg_resources.html. The pkg_resources package is slated for removal as early as 2025-11-30. Refrain from using this package or pin to Setuptools<81.\n",
      "  import pkg_resources\n",
      "\u001b[32mSaved Visualization to: project_data/dada2_table.qzv\u001b[0m\n",
      "\u001b[0m\u001b[?25h"
     ]
    }
   ],
   "source": [
    "! qiime metadata tabulate \\\n",
    "  --m-input-file $data_dir/dada2_stats.qza \\\n",
    "  --o-visualization $data_dir/dada2_stats.qzv\n",
    "\n",
    "! qiime feature-table tabulate-seqs \\\n",
    "  --i-data $data_dir/dada2_rep_set.qza \\\n",
    "  --o-visualization $data_dir/dada2_rep_set.qzv\n",
    "\n",
    "! qiime feature-table summarize \\\n",
    "  --i-table $data_dir/dada2_table.qza \\\n",
    "  --m-sample-metadata-file $data_dir/fungut_metadata.tsv \\\n",
    "  --o-visualization $data_dir/dada2_table.qzv"
   ]
  },
  {
   "cell_type": "code",
   "execution_count": 8,
   "id": "5757c6cc-3d21-4492-822d-dd5f62445096",
   "metadata": {
    "tags": []
   },
   "outputs": [
    {
     "data": {
      "text/html": [
       "<div><img onload=\"(function(div, url){\n",
       "if (typeof require !== 'undefined') {\n",
       "    var baseURL = require.toUrl('').split('/').slice(0, -2).join('/');\n",
       "} else {\n",
       "    var baseURL = JSON.parse(\n",
       "        document.getElementById('jupyter-config-data').innerHTML\n",
       "    ).baseUrl.slice(0, -1);\n",
       "}\n",
       "url = baseURL + url;\n",
       "fetch(url).then(function(res) {\n",
       "    if (res.status === 404) {\n",
       "        div.innerHTML = 'Install QIIME 2 Jupyter extension with:<br />' +\n",
       "                        '<code>jupyter server extension enable --py qiime2' +\n",
       "                        ' --sys-prefix</code><br />then restart your server.' +\n",
       "                        '<br /><br />(Interactive output not available on ' +\n",
       "                        'static notebook viewer services like nbviewer.)';\n",
       "    } else if (res.status === 409) {\n",
       "        div.innerHTML = 'Visualization no longer in scope. Re-run this cell' +\n",
       "                        ' to see the visualization.';\n",
       "    } else if (res.ok) {\n",
       "        url = res.url;\n",
       "        div.innerHTML = '<iframe src=\\'' + url + '\\' style=\\'' +\n",
       "                        'width: 100%; height: 700px; border: 0;\\'>' +\n",
       "                        '</iframe><hr />Open in a: <a href=\\'' + url + '\\'' +\n",
       "                        ' target=\\'_blank\\'>new window</a>'\n",
       "    } else {\n",
       "        div.innerHTML = 'Something has gone wrong. Check notebook server for' +\n",
       "                        ' errors.';\n",
       "    }\n",
       "});\n",
       "})(this.parentElement, '/qiime2/redirect?location=/tmp/qiime2/jovyan/data/6b7e26c8-954b-4d0f-be51-e6c81fd9bbf9')\" src=\"data:image/gif;base64,R0lGODlhAQABAIAAAP///wAAACH5BAEAAAAALAAAAAABAAEAAAICRAEAOw==\" /></div>"
      ],
      "text/plain": [
       "<visualization: Visualization uuid: 6b7e26c8-954b-4d0f-be51-e6c81fd9bbf9>"
      ]
     },
     "execution_count": 8,
     "metadata": {},
     "output_type": "execute_result"
    }
   ],
   "source": [
    "Visualization.load(f\"{data_dir}/dada2_stats.qzv\")"
   ]
  },
  {
   "cell_type": "code",
   "execution_count": 9,
   "id": "36cfa3ea-cf70-4f2b-be2b-707279d1b8d7",
   "metadata": {
    "tags": []
   },
   "outputs": [
    {
     "data": {
      "text/html": [
       "<div><img onload=\"(function(div, url){\n",
       "if (typeof require !== 'undefined') {\n",
       "    var baseURL = require.toUrl('').split('/').slice(0, -2).join('/');\n",
       "} else {\n",
       "    var baseURL = JSON.parse(\n",
       "        document.getElementById('jupyter-config-data').innerHTML\n",
       "    ).baseUrl.slice(0, -1);\n",
       "}\n",
       "url = baseURL + url;\n",
       "fetch(url).then(function(res) {\n",
       "    if (res.status === 404) {\n",
       "        div.innerHTML = 'Install QIIME 2 Jupyter extension with:<br />' +\n",
       "                        '<code>jupyter server extension enable --py qiime2' +\n",
       "                        ' --sys-prefix</code><br />then restart your server.' +\n",
       "                        '<br /><br />(Interactive output not available on ' +\n",
       "                        'static notebook viewer services like nbviewer.)';\n",
       "    } else if (res.status === 409) {\n",
       "        div.innerHTML = 'Visualization no longer in scope. Re-run this cell' +\n",
       "                        ' to see the visualization.';\n",
       "    } else if (res.ok) {\n",
       "        url = res.url;\n",
       "        div.innerHTML = '<iframe src=\\'' + url + '\\' style=\\'' +\n",
       "                        'width: 100%; height: 700px; border: 0;\\'>' +\n",
       "                        '</iframe><hr />Open in a: <a href=\\'' + url + '\\'' +\n",
       "                        ' target=\\'_blank\\'>new window</a>'\n",
       "    } else {\n",
       "        div.innerHTML = 'Something has gone wrong. Check notebook server for' +\n",
       "                        ' errors.';\n",
       "    }\n",
       "});\n",
       "})(this.parentElement, '/qiime2/redirect?location=/tmp/qiime2/jovyan/data/9d0d13de-5372-4acc-8003-73d13fbd7168')\" src=\"data:image/gif;base64,R0lGODlhAQABAIAAAP///wAAACH5BAEAAAAALAAAAAABAAEAAAICRAEAOw==\" /></div>"
      ],
      "text/plain": [
       "<visualization: Visualization uuid: 9d0d13de-5372-4acc-8003-73d13fbd7168>"
      ]
     },
     "execution_count": 9,
     "metadata": {},
     "output_type": "execute_result"
    }
   ],
   "source": [
    "Visualization.load(f\"{data_dir}/dada2_rep_set.qzv\")"
   ]
  },
  {
   "cell_type": "code",
   "execution_count": 10,
   "id": "01b76c66-db16-40c8-a3b7-73801e5e9c01",
   "metadata": {
    "tags": []
   },
   "outputs": [
    {
     "data": {
      "text/html": [
       "<div><img onload=\"(function(div, url){\n",
       "if (typeof require !== 'undefined') {\n",
       "    var baseURL = require.toUrl('').split('/').slice(0, -2).join('/');\n",
       "} else {\n",
       "    var baseURL = JSON.parse(\n",
       "        document.getElementById('jupyter-config-data').innerHTML\n",
       "    ).baseUrl.slice(0, -1);\n",
       "}\n",
       "url = baseURL + url;\n",
       "fetch(url).then(function(res) {\n",
       "    if (res.status === 404) {\n",
       "        div.innerHTML = 'Install QIIME 2 Jupyter extension with:<br />' +\n",
       "                        '<code>jupyter server extension enable --py qiime2' +\n",
       "                        ' --sys-prefix</code><br />then restart your server.' +\n",
       "                        '<br /><br />(Interactive output not available on ' +\n",
       "                        'static notebook viewer services like nbviewer.)';\n",
       "    } else if (res.status === 409) {\n",
       "        div.innerHTML = 'Visualization no longer in scope. Re-run this cell' +\n",
       "                        ' to see the visualization.';\n",
       "    } else if (res.ok) {\n",
       "        url = res.url;\n",
       "        div.innerHTML = '<iframe src=\\'' + url + '\\' style=\\'' +\n",
       "                        'width: 100%; height: 700px; border: 0;\\'>' +\n",
       "                        '</iframe><hr />Open in a: <a href=\\'' + url + '\\'' +\n",
       "                        ' target=\\'_blank\\'>new window</a>'\n",
       "    } else {\n",
       "        div.innerHTML = 'Something has gone wrong. Check notebook server for' +\n",
       "                        ' errors.';\n",
       "    }\n",
       "});\n",
       "})(this.parentElement, '/qiime2/redirect?location=/tmp/qiime2/jovyan/data/ebab64f3-14c3-480c-b390-68b3ae783731')\" src=\"data:image/gif;base64,R0lGODlhAQABAIAAAP///wAAACH5BAEAAAAALAAAAAABAAEAAAICRAEAOw==\" /></div>"
      ],
      "text/plain": [
       "<visualization: Visualization uuid: ebab64f3-14c3-480c-b390-68b3ae783731>"
      ]
     },
     "execution_count": 10,
     "metadata": {},
     "output_type": "execute_result"
    }
   ],
   "source": [
    "Visualization.load(f\"{data_dir}/dada2_table.qzv\")"
   ]
  }
 ],
 "metadata": {
  "kernelspec": {
   "display_name": "QIIME 2",
   "language": "python",
   "name": "python3"
  },
  "language_info": {
   "codemirror_mode": {
    "name": "ipython",
    "version": 3
   },
   "file_extension": ".py",
   "mimetype": "text/x-python",
   "name": "python",
   "nbconvert_exporter": "python",
   "pygments_lexer": "ipython3",
   "version": "3.10.14"
  }
 },
 "nbformat": 4,
 "nbformat_minor": 5
}
